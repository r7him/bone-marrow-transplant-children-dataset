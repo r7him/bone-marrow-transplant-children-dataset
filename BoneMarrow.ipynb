{
  "nbformat": 4,
  "nbformat_minor": 0,
  "metadata": {
    "colab": {
      "name": "BoneMarrow.ipynb",
      "provenance": [],
      "collapsed_sections": []
    },
    "kernelspec": {
      "name": "python3",
      "display_name": "Python 3"
    },
    "language_info": {
      "name": "python"
    }
  },
  "cells": [
    {
      "cell_type": "markdown",
      "metadata": {
        "id": "THRoZODP1-v0"
      },
      "source": [
        "\n",
        "\n",
        "> Indented block\n",
        "\n",
        "\n",
        "\n",
        " \n",
        "\n",
        "   \n",
        "   \n",
        "\n",
        "\n",
        "\n",
        "\n",
        "\n",
        "\n",
        "\n"
      ]
    },
    {
      "cell_type": "markdown",
      "metadata": {
        "id": "99BMCMNmJ5Ze"
      },
      "source": [
        "Bone marrow transplant: children Data Set\n",
        "Abstract: The data set describes pediatric patients with several hematologic diseases, who were subject to the unmanipulated allogeneic unrelated donor hematopoietic stem cell transplantation.\n",
        "\t\n",
        "\n",
        "*   Data Set Characteristics:  Multivariate\n",
        "\n",
        "*   Number of Instances:187\n",
        "\n",
        "*   Area:Life\n",
        "\n",
        "*   Attribute Characteristics:Integer, Real\n",
        "*   Number of Attributes:39\n",
        "\n",
        "\n",
        "*   Date Donated:2020-04-21\n",
        "\n",
        "\n",
        "*   Associated Tasks:Classification, Regression\n",
        "\n",
        "\n",
        "*   Missing Values:Yes\n",
        "\n",
        "Link: [Bone marrow transplant: children Data Set](https://archive.ics.uci.edu/ml/datasets/Bone+marrow+transplant%3A+children)\n",
        "\n",
        "Data Set Information:\n",
        "\n",
        "The data set describes pediatric patients with several hematologic diseases: malignant disorders (i.a. acute lymphoblastic leukemia, acute myelogenous leukemia, chronic myelogenous leukemia, myelodysplastic syndrome) and nonmalignant cases (i.a. severe aplastic anemia, Fanconi anemia, with X-linked adrenoleukodystrophy). All patients were subject to the unmanipulated allogeneic unrelated donor hematopoietic stem cell transplantation.\n",
        "\n",
        "The motivation of the study was to identify the most important factors influencing the success or failure of the transplantation procedure. In particular, the aim was to verify the hypothesis that increased dosage of CD34+ cells / kg extends overall survival time without simultaneous occurrence of undesirable events affecting patients' quality of life (KawÅ‚ak et al., 2010).\n",
        "\n",
        "The data set has been used in our work concerning survival rules (WrÃ³bel et al., 2017) and user-guided rule induction (Sikora et al., 2019). The authors of the research on stem cell transplantation (KawÅ‚ak et al., 2010) who inspired our study also contributed to the set.\n"
      ]
    },
    {
      "cell_type": "markdown",
      "metadata": {
        "id": "13QdddHJ19qJ"
      },
      "source": [
        ""
      ]
    },
    {
      "cell_type": "code",
      "metadata": {
        "id": "ZfTeTIMytlAV"
      },
      "source": [
        "#####Important Libraries\n",
        "import numpy as np\n",
        "import pandas as pd\n",
        "import matplotlib.pyplot as plt\n",
        "import seaborn as sns\n",
        "import plotly.express as px"
      ],
      "execution_count": null,
      "outputs": []
    },
    {
      "cell_type": "markdown",
      "metadata": {
        "id": "V6kqp4hDLuDT"
      },
      "source": [
        "*Importing* Dataset & Data preprocessing"
      ]
    },
    {
      "cell_type": "markdown",
      "metadata": {
        "id": "liby2ubN17Bx"
      },
      "source": [
        ""
      ]
    },
    {
      "cell_type": "code",
      "metadata": {
        "colab": {
          "base_uri": "https://localhost:8080/",
          "height": 226
        },
        "id": "0W5lXtERuNiK",
        "outputId": "035b2a73-9b5d-4423-9917-f93bfc2f7056"
      },
      "source": [
        "#Importing Dataset\n",
        "df = pd.read_csv('/content/drive/MyDrive/Bone Marrow/bone-marrow.csv')\n",
        "df.head()"
      ],
      "execution_count": null,
      "outputs": [
        {
          "output_type": "execute_result",
          "data": {
            "text/html": [
              "<div>\n",
              "<style scoped>\n",
              "    .dataframe tbody tr th:only-of-type {\n",
              "        vertical-align: middle;\n",
              "    }\n",
              "\n",
              "    .dataframe tbody tr th {\n",
              "        vertical-align: top;\n",
              "    }\n",
              "\n",
              "    .dataframe thead th {\n",
              "        text-align: right;\n",
              "    }\n",
              "</style>\n",
              "<table border=\"1\" class=\"dataframe\">\n",
              "  <thead>\n",
              "    <tr style=\"text-align: right;\">\n",
              "      <th></th>\n",
              "      <th>id</th>\n",
              "      <th>donor_age</th>\n",
              "      <th>donor_age_below_35</th>\n",
              "      <th>donor_ABO</th>\n",
              "      <th>donor_CMV</th>\n",
              "      <th>recipient_age</th>\n",
              "      <th>recipient_age_below_10</th>\n",
              "      <th>recipient_age_int</th>\n",
              "      <th>recipient_gender</th>\n",
              "      <th>recipient_body_mass</th>\n",
              "      <th>recipient_ABO</th>\n",
              "      <th>recipient_rh</th>\n",
              "      <th>recipient_CMV</th>\n",
              "      <th>disease</th>\n",
              "      <th>disease_group</th>\n",
              "      <th>gender_match</th>\n",
              "      <th>ABO_match</th>\n",
              "      <th>CMV_status</th>\n",
              "      <th>HLA_match</th>\n",
              "      <th>HLA_mismatch</th>\n",
              "      <th>antigen</th>\n",
              "      <th>allel</th>\n",
              "      <th>HLA_group_1</th>\n",
              "      <th>risk_group</th>\n",
              "      <th>stem_cell_source</th>\n",
              "      <th>tx_post_relapse</th>\n",
              "      <th>CD34_x1e6_per_kg</th>\n",
              "      <th>CD3_x1e8_per_kg</th>\n",
              "      <th>CD3_to_CD34_ratio</th>\n",
              "      <th>ANC_recovery</th>\n",
              "      <th>PLT_recovery</th>\n",
              "      <th>acute_GvHD_II_III_IV</th>\n",
              "      <th>acute_GvHD_III_IV</th>\n",
              "      <th>time_to_acute_GvHD_III_IV</th>\n",
              "      <th>extensive_chronic_GvHD</th>\n",
              "      <th>relapse</th>\n",
              "      <th>survival_time</th>\n",
              "      <th>survival_status</th>\n",
              "    </tr>\n",
              "  </thead>\n",
              "  <tbody>\n",
              "    <tr>\n",
              "      <th>0</th>\n",
              "      <td>1</td>\n",
              "      <td>22.830137</td>\n",
              "      <td>yes</td>\n",
              "      <td>A</td>\n",
              "      <td>present</td>\n",
              "      <td>9.6</td>\n",
              "      <td>yes</td>\n",
              "      <td>5_10</td>\n",
              "      <td>male</td>\n",
              "      <td>35.0</td>\n",
              "      <td>A</td>\n",
              "      <td>plus</td>\n",
              "      <td>present</td>\n",
              "      <td>ALL</td>\n",
              "      <td>malignant</td>\n",
              "      <td>other</td>\n",
              "      <td>matched</td>\n",
              "      <td>3</td>\n",
              "      <td>10/10</td>\n",
              "      <td>matched</td>\n",
              "      <td>0</td>\n",
              "      <td>0</td>\n",
              "      <td>matched</td>\n",
              "      <td>high</td>\n",
              "      <td>peripheral_blood</td>\n",
              "      <td>no</td>\n",
              "      <td>7.20</td>\n",
              "      <td>5.38</td>\n",
              "      <td>1.33876</td>\n",
              "      <td>19.0</td>\n",
              "      <td>51.0</td>\n",
              "      <td>yes</td>\n",
              "      <td>yes</td>\n",
              "      <td>32.0</td>\n",
              "      <td>no</td>\n",
              "      <td>no</td>\n",
              "      <td>999.0</td>\n",
              "      <td>0</td>\n",
              "    </tr>\n",
              "    <tr>\n",
              "      <th>1</th>\n",
              "      <td>2</td>\n",
              "      <td>23.342466</td>\n",
              "      <td>yes</td>\n",
              "      <td>B</td>\n",
              "      <td>absent</td>\n",
              "      <td>4.0</td>\n",
              "      <td>yes</td>\n",
              "      <td>0_5</td>\n",
              "      <td>male</td>\n",
              "      <td>20.6</td>\n",
              "      <td>B</td>\n",
              "      <td>plus</td>\n",
              "      <td>absent</td>\n",
              "      <td>ALL</td>\n",
              "      <td>malignant</td>\n",
              "      <td>other</td>\n",
              "      <td>matched</td>\n",
              "      <td>0</td>\n",
              "      <td>10/10</td>\n",
              "      <td>matched</td>\n",
              "      <td>0</td>\n",
              "      <td>0</td>\n",
              "      <td>matched</td>\n",
              "      <td>low</td>\n",
              "      <td>bone_marrow</td>\n",
              "      <td>no</td>\n",
              "      <td>4.50</td>\n",
              "      <td>0.41</td>\n",
              "      <td>11.078295</td>\n",
              "      <td>16.0</td>\n",
              "      <td>37.0</td>\n",
              "      <td>yes</td>\n",
              "      <td>no</td>\n",
              "      <td>1000000.0</td>\n",
              "      <td>no</td>\n",
              "      <td>yes</td>\n",
              "      <td>163.0</td>\n",
              "      <td>1</td>\n",
              "    </tr>\n",
              "    <tr>\n",
              "      <th>2</th>\n",
              "      <td>3</td>\n",
              "      <td>26.394521</td>\n",
              "      <td>yes</td>\n",
              "      <td>B</td>\n",
              "      <td>absent</td>\n",
              "      <td>6.6</td>\n",
              "      <td>yes</td>\n",
              "      <td>5_10</td>\n",
              "      <td>male</td>\n",
              "      <td>23.4</td>\n",
              "      <td>B</td>\n",
              "      <td>plus</td>\n",
              "      <td>present</td>\n",
              "      <td>ALL</td>\n",
              "      <td>malignant</td>\n",
              "      <td>other</td>\n",
              "      <td>matched</td>\n",
              "      <td>2</td>\n",
              "      <td>10/10</td>\n",
              "      <td>matched</td>\n",
              "      <td>0</td>\n",
              "      <td>0</td>\n",
              "      <td>matched</td>\n",
              "      <td>low</td>\n",
              "      <td>bone_marrow</td>\n",
              "      <td>no</td>\n",
              "      <td>7.94</td>\n",
              "      <td>0.42</td>\n",
              "      <td>19.01323</td>\n",
              "      <td>23.0</td>\n",
              "      <td>20.0</td>\n",
              "      <td>yes</td>\n",
              "      <td>no</td>\n",
              "      <td>1000000.0</td>\n",
              "      <td>no</td>\n",
              "      <td>yes</td>\n",
              "      <td>435.0</td>\n",
              "      <td>1</td>\n",
              "    </tr>\n",
              "    <tr>\n",
              "      <th>3</th>\n",
              "      <td>4</td>\n",
              "      <td>39.684932</td>\n",
              "      <td>no</td>\n",
              "      <td>A</td>\n",
              "      <td>present</td>\n",
              "      <td>18.1</td>\n",
              "      <td>no</td>\n",
              "      <td>10_20</td>\n",
              "      <td>female</td>\n",
              "      <td>50.0</td>\n",
              "      <td>AB</td>\n",
              "      <td>plus</td>\n",
              "      <td>absent</td>\n",
              "      <td>AML</td>\n",
              "      <td>malignant</td>\n",
              "      <td>other</td>\n",
              "      <td>mismatched</td>\n",
              "      <td>1</td>\n",
              "      <td>10/10</td>\n",
              "      <td>matched</td>\n",
              "      <td>0</td>\n",
              "      <td>0</td>\n",
              "      <td>matched</td>\n",
              "      <td>low</td>\n",
              "      <td>bone_marrow</td>\n",
              "      <td>no</td>\n",
              "      <td>4.25</td>\n",
              "      <td>0.14</td>\n",
              "      <td>29.481647</td>\n",
              "      <td>23.0</td>\n",
              "      <td>29.0</td>\n",
              "      <td>yes</td>\n",
              "      <td>yes</td>\n",
              "      <td>19.0</td>\n",
              "      <td>?</td>\n",
              "      <td>no</td>\n",
              "      <td>53.0</td>\n",
              "      <td>1</td>\n",
              "    </tr>\n",
              "    <tr>\n",
              "      <th>4</th>\n",
              "      <td>5</td>\n",
              "      <td>33.358904</td>\n",
              "      <td>yes</td>\n",
              "      <td>A</td>\n",
              "      <td>absent</td>\n",
              "      <td>1.3</td>\n",
              "      <td>yes</td>\n",
              "      <td>0_5</td>\n",
              "      <td>female</td>\n",
              "      <td>9.0</td>\n",
              "      <td>AB</td>\n",
              "      <td>minus</td>\n",
              "      <td>present</td>\n",
              "      <td>chronic</td>\n",
              "      <td>malignant</td>\n",
              "      <td>other</td>\n",
              "      <td>mismatched</td>\n",
              "      <td>0</td>\n",
              "      <td>9/10</td>\n",
              "      <td>matched</td>\n",
              "      <td>2</td>\n",
              "      <td>1</td>\n",
              "      <td>one_antigen</td>\n",
              "      <td>high</td>\n",
              "      <td>peripheral_blood</td>\n",
              "      <td>no</td>\n",
              "      <td>51.85</td>\n",
              "      <td>13.05</td>\n",
              "      <td>3.972255</td>\n",
              "      <td>14.0</td>\n",
              "      <td>14.0</td>\n",
              "      <td>no</td>\n",
              "      <td>no</td>\n",
              "      <td>1000000.0</td>\n",
              "      <td>no</td>\n",
              "      <td>no</td>\n",
              "      <td>2043.0</td>\n",
              "      <td>0</td>\n",
              "    </tr>\n",
              "  </tbody>\n",
              "</table>\n",
              "</div>"
            ],
            "text/plain": [
              "   id  donor_age donor_age_below_35  ... relapse survival_time  survival_status\n",
              "0   1  22.830137                yes  ...      no         999.0                0\n",
              "1   2  23.342466                yes  ...     yes         163.0                1\n",
              "2   3  26.394521                yes  ...     yes         435.0                1\n",
              "3   4  39.684932                 no  ...      no          53.0                1\n",
              "4   5  33.358904                yes  ...      no        2043.0                0\n",
              "\n",
              "[5 rows x 38 columns]"
            ]
          },
          "metadata": {},
          "execution_count": 1513
        }
      ]
    },
    {
      "cell_type": "code",
      "metadata": {
        "colab": {
          "base_uri": "https://localhost:8080/"
        },
        "id": "86bNNYtR42no",
        "outputId": "385a87df-b55c-4b5c-f03c-72704cc19677"
      },
      "source": [
        "df.shape"
      ],
      "execution_count": null,
      "outputs": [
        {
          "output_type": "execute_result",
          "data": {
            "text/plain": [
              "(187, 38)"
            ]
          },
          "metadata": {},
          "execution_count": 1514
        }
      ]
    },
    {
      "cell_type": "code",
      "metadata": {
        "colab": {
          "base_uri": "https://localhost:8080/"
        },
        "id": "T_5sq8iJxwLP",
        "outputId": "ab03ee19-f5fd-405e-94ca-2764197a880b"
      },
      "source": [
        "df.dtypes"
      ],
      "execution_count": null,
      "outputs": [
        {
          "output_type": "execute_result",
          "data": {
            "text/plain": [
              "id                             int64\n",
              "donor_age                    float64\n",
              "donor_age_below_35            object\n",
              "donor_ABO                     object\n",
              "donor_CMV                     object\n",
              "recipient_age                float64\n",
              "recipient_age_below_10        object\n",
              "recipient_age_int             object\n",
              "recipient_gender              object\n",
              "recipient_body_mass           object\n",
              "recipient_ABO                 object\n",
              "recipient_rh                  object\n",
              "recipient_CMV                 object\n",
              "disease                       object\n",
              "disease_group                 object\n",
              "gender_match                  object\n",
              "ABO_match                     object\n",
              "CMV_status                    object\n",
              "HLA_match                     object\n",
              "HLA_mismatch                  object\n",
              "antigen                       object\n",
              "allel                         object\n",
              "HLA_group_1                   object\n",
              "risk_group                    object\n",
              "stem_cell_source              object\n",
              "tx_post_relapse               object\n",
              "CD34_x1e6_per_kg             float64\n",
              "CD3_x1e8_per_kg               object\n",
              "CD3_to_CD34_ratio             object\n",
              "ANC_recovery                 float64\n",
              "PLT_recovery                 float64\n",
              "acute_GvHD_II_III_IV          object\n",
              "acute_GvHD_III_IV             object\n",
              "time_to_acute_GvHD_III_IV    float64\n",
              "extensive_chronic_GvHD        object\n",
              "relapse                       object\n",
              "survival_time                float64\n",
              "survival_status                int64\n",
              "dtype: object"
            ]
          },
          "metadata": {},
          "execution_count": 1515
        }
      ]
    },
    {
      "cell_type": "code",
      "metadata": {
        "colab": {
          "base_uri": "https://localhost:8080/"
        },
        "id": "on3c4IBI-vKL",
        "outputId": "218eba4a-6598-42b9-de1e-98af70d471b3"
      },
      "source": [
        "df.columns"
      ],
      "execution_count": null,
      "outputs": [
        {
          "output_type": "execute_result",
          "data": {
            "text/plain": [
              "Index(['id', 'donor_age', 'donor_age_below_35', 'donor_ABO', 'donor_CMV',\n",
              "       'recipient_age', 'recipient_age_below_10', 'recipient_age_int',\n",
              "       'recipient_gender', 'recipient_body_mass', 'recipient_ABO',\n",
              "       'recipient_rh', 'recipient_CMV', 'disease', 'disease_group',\n",
              "       'gender_match', 'ABO_match', 'CMV_status', 'HLA_match', 'HLA_mismatch',\n",
              "       'antigen', 'allel', 'HLA_group_1', 'risk_group', 'stem_cell_source',\n",
              "       'tx_post_relapse', 'CD34_x1e6_per_kg', 'CD3_x1e8_per_kg',\n",
              "       'CD3_to_CD34_ratio', 'ANC_recovery', 'PLT_recovery',\n",
              "       'acute_GvHD_II_III_IV', 'acute_GvHD_III_IV',\n",
              "       'time_to_acute_GvHD_III_IV', 'extensive_chronic_GvHD', 'relapse',\n",
              "       'survival_time', 'survival_status'],\n",
              "      dtype='object')"
            ]
          },
          "metadata": {},
          "execution_count": 1516
        }
      ]
    },
    {
      "cell_type": "markdown",
      "metadata": {
        "id": "87Bw-sOn-fJC"
      },
      "source": [
        "Data Cleaning\n"
      ]
    },
    {
      "cell_type": "code",
      "metadata": {
        "colab": {
          "base_uri": "https://localhost:8080/",
          "height": 300
        },
        "id": "yRB3RkXNxwiG",
        "outputId": "b684a728-74b9-48e7-ecd6-7e4c00ae1127"
      },
      "source": [
        "####A brief of data####\n",
        "df.describe()"
      ],
      "execution_count": null,
      "outputs": [
        {
          "output_type": "execute_result",
          "data": {
            "text/html": [
              "<div>\n",
              "<style scoped>\n",
              "    .dataframe tbody tr th:only-of-type {\n",
              "        vertical-align: middle;\n",
              "    }\n",
              "\n",
              "    .dataframe tbody tr th {\n",
              "        vertical-align: top;\n",
              "    }\n",
              "\n",
              "    .dataframe thead th {\n",
              "        text-align: right;\n",
              "    }\n",
              "</style>\n",
              "<table border=\"1\" class=\"dataframe\">\n",
              "  <thead>\n",
              "    <tr style=\"text-align: right;\">\n",
              "      <th></th>\n",
              "      <th>id</th>\n",
              "      <th>donor_age</th>\n",
              "      <th>recipient_age</th>\n",
              "      <th>CD34_x1e6_per_kg</th>\n",
              "      <th>ANC_recovery</th>\n",
              "      <th>PLT_recovery</th>\n",
              "      <th>time_to_acute_GvHD_III_IV</th>\n",
              "      <th>survival_time</th>\n",
              "      <th>survival_status</th>\n",
              "    </tr>\n",
              "  </thead>\n",
              "  <tbody>\n",
              "    <tr>\n",
              "      <th>count</th>\n",
              "      <td>187.000000</td>\n",
              "      <td>187.000000</td>\n",
              "      <td>187.000000</td>\n",
              "      <td>187.000000</td>\n",
              "      <td>187.000000</td>\n",
              "      <td>187.000000</td>\n",
              "      <td>187.000000</td>\n",
              "      <td>187.000000</td>\n",
              "      <td>187.000000</td>\n",
              "    </tr>\n",
              "    <tr>\n",
              "      <th>mean</th>\n",
              "      <td>94.000000</td>\n",
              "      <td>33.472068</td>\n",
              "      <td>9.931551</td>\n",
              "      <td>11.891781</td>\n",
              "      <td>26752.866310</td>\n",
              "      <td>90937.919786</td>\n",
              "      <td>775408.042781</td>\n",
              "      <td>938.743316</td>\n",
              "      <td>0.454545</td>\n",
              "    </tr>\n",
              "    <tr>\n",
              "      <th>std</th>\n",
              "      <td>54.126395</td>\n",
              "      <td>8.271826</td>\n",
              "      <td>5.305639</td>\n",
              "      <td>9.914386</td>\n",
              "      <td>161747.200525</td>\n",
              "      <td>288242.407688</td>\n",
              "      <td>418425.252689</td>\n",
              "      <td>849.589495</td>\n",
              "      <td>0.499266</td>\n",
              "    </tr>\n",
              "    <tr>\n",
              "      <th>min</th>\n",
              "      <td>1.000000</td>\n",
              "      <td>18.646575</td>\n",
              "      <td>0.600000</td>\n",
              "      <td>0.790000</td>\n",
              "      <td>9.000000</td>\n",
              "      <td>9.000000</td>\n",
              "      <td>10.000000</td>\n",
              "      <td>6.000000</td>\n",
              "      <td>0.000000</td>\n",
              "    </tr>\n",
              "    <tr>\n",
              "      <th>25%</th>\n",
              "      <td>47.500000</td>\n",
              "      <td>27.039726</td>\n",
              "      <td>5.050000</td>\n",
              "      <td>5.350000</td>\n",
              "      <td>13.000000</td>\n",
              "      <td>16.000000</td>\n",
              "      <td>1000000.000000</td>\n",
              "      <td>168.500000</td>\n",
              "      <td>0.000000</td>\n",
              "    </tr>\n",
              "    <tr>\n",
              "      <th>50%</th>\n",
              "      <td>94.000000</td>\n",
              "      <td>33.550685</td>\n",
              "      <td>9.600000</td>\n",
              "      <td>9.720000</td>\n",
              "      <td>15.000000</td>\n",
              "      <td>21.000000</td>\n",
              "      <td>1000000.000000</td>\n",
              "      <td>676.000000</td>\n",
              "      <td>0.000000</td>\n",
              "    </tr>\n",
              "    <tr>\n",
              "      <th>75%</th>\n",
              "      <td>140.500000</td>\n",
              "      <td>40.117808</td>\n",
              "      <td>14.050000</td>\n",
              "      <td>15.415000</td>\n",
              "      <td>17.000000</td>\n",
              "      <td>37.000000</td>\n",
              "      <td>1000000.000000</td>\n",
              "      <td>1604.000000</td>\n",
              "      <td>1.000000</td>\n",
              "    </tr>\n",
              "    <tr>\n",
              "      <th>max</th>\n",
              "      <td>187.000000</td>\n",
              "      <td>55.553425</td>\n",
              "      <td>20.200000</td>\n",
              "      <td>57.780000</td>\n",
              "      <td>1000000.000000</td>\n",
              "      <td>1000000.000000</td>\n",
              "      <td>1000000.000000</td>\n",
              "      <td>3364.000000</td>\n",
              "      <td>1.000000</td>\n",
              "    </tr>\n",
              "  </tbody>\n",
              "</table>\n",
              "</div>"
            ],
            "text/plain": [
              "               id   donor_age  ...  survival_time  survival_status\n",
              "count  187.000000  187.000000  ...     187.000000       187.000000\n",
              "mean    94.000000   33.472068  ...     938.743316         0.454545\n",
              "std     54.126395    8.271826  ...     849.589495         0.499266\n",
              "min      1.000000   18.646575  ...       6.000000         0.000000\n",
              "25%     47.500000   27.039726  ...     168.500000         0.000000\n",
              "50%     94.000000   33.550685  ...     676.000000         0.000000\n",
              "75%    140.500000   40.117808  ...    1604.000000         1.000000\n",
              "max    187.000000   55.553425  ...    3364.000000         1.000000\n",
              "\n",
              "[8 rows x 9 columns]"
            ]
          },
          "metadata": {},
          "execution_count": 1517
        }
      ]
    },
    {
      "cell_type": "code",
      "metadata": {
        "id": "mxNYkjgnDvAp"
      },
      "source": [
        "#selected_feat"
      ],
      "execution_count": null,
      "outputs": []
    },
    {
      "cell_type": "code",
      "metadata": {
        "id": "TbDp-rDZEB6h"
      },
      "source": [
        "#selected_columns"
      ],
      "execution_count": null,
      "outputs": []
    },
    {
      "cell_type": "code",
      "metadata": {
        "colab": {
          "base_uri": "https://localhost:8080/"
        },
        "id": "fesY8QJmEXn7",
        "outputId": "b2a04d88-93d8-41d2-a36c-ffc3a941169b"
      },
      "source": [
        "df.columns"
      ],
      "execution_count": null,
      "outputs": [
        {
          "output_type": "execute_result",
          "data": {
            "text/plain": [
              "Index(['id', 'donor_age', 'donor_age_below_35', 'donor_ABO', 'donor_CMV',\n",
              "       'recipient_age', 'recipient_age_below_10', 'recipient_age_int',\n",
              "       'recipient_gender', 'recipient_body_mass', 'recipient_ABO',\n",
              "       'recipient_rh', 'recipient_CMV', 'disease', 'disease_group',\n",
              "       'gender_match', 'ABO_match', 'CMV_status', 'HLA_match', 'HLA_mismatch',\n",
              "       'antigen', 'allel', 'HLA_group_1', 'risk_group', 'stem_cell_source',\n",
              "       'tx_post_relapse', 'CD34_x1e6_per_kg', 'CD3_x1e8_per_kg',\n",
              "       'CD3_to_CD34_ratio', 'ANC_recovery', 'PLT_recovery',\n",
              "       'acute_GvHD_II_III_IV', 'acute_GvHD_III_IV',\n",
              "       'time_to_acute_GvHD_III_IV', 'extensive_chronic_GvHD', 'relapse',\n",
              "       'survival_time', 'survival_status'],\n",
              "      dtype='object')"
            ]
          },
          "metadata": {},
          "execution_count": 1520
        }
      ]
    },
    {
      "cell_type": "markdown",
      "metadata": {
        "id": "sZ6vxf0u37vj"
      },
      "source": [
        "A brief of whole data"
      ]
    },
    {
      "cell_type": "code",
      "metadata": {
        "id": "F8P2SYBGxwl4"
      },
      "source": [
        "#####Dropping unnecesary column#######\n",
        "#recipient_age_below_10, recipient_age_int, gender_match, HLA_mismatch, antigen, ', 'HLA_group_1', acute_GvHD_II_III_IV, acute_GvHD_III_IV\n",
        "\n",
        "df.drop(['id','recipient_age_below_10','recipient_age_int','gender_match','HLA_mismatch','antigen','acute_GvHD_II_III_IV','acute_GvHD_III_IV'],axis=1, inplace=True)"
      ],
      "execution_count": null,
      "outputs": []
    },
    {
      "cell_type": "code",
      "metadata": {
        "colab": {
          "base_uri": "https://localhost:8080/",
          "height": 444
        },
        "id": "zdAYMi04NLA7",
        "outputId": "00e42eeb-b5e4-4555-8954-4f5039d808cd"
      },
      "source": [
        "df"
      ],
      "execution_count": null,
      "outputs": [
        {
          "output_type": "execute_result",
          "data": {
            "text/html": [
              "<div>\n",
              "<style scoped>\n",
              "    .dataframe tbody tr th:only-of-type {\n",
              "        vertical-align: middle;\n",
              "    }\n",
              "\n",
              "    .dataframe tbody tr th {\n",
              "        vertical-align: top;\n",
              "    }\n",
              "\n",
              "    .dataframe thead th {\n",
              "        text-align: right;\n",
              "    }\n",
              "</style>\n",
              "<table border=\"1\" class=\"dataframe\">\n",
              "  <thead>\n",
              "    <tr style=\"text-align: right;\">\n",
              "      <th></th>\n",
              "      <th>donor_age</th>\n",
              "      <th>donor_age_below_35</th>\n",
              "      <th>donor_ABO</th>\n",
              "      <th>donor_CMV</th>\n",
              "      <th>recipient_age</th>\n",
              "      <th>recipient_gender</th>\n",
              "      <th>recipient_body_mass</th>\n",
              "      <th>recipient_ABO</th>\n",
              "      <th>recipient_rh</th>\n",
              "      <th>recipient_CMV</th>\n",
              "      <th>disease</th>\n",
              "      <th>disease_group</th>\n",
              "      <th>ABO_match</th>\n",
              "      <th>CMV_status</th>\n",
              "      <th>HLA_match</th>\n",
              "      <th>allel</th>\n",
              "      <th>HLA_group_1</th>\n",
              "      <th>risk_group</th>\n",
              "      <th>stem_cell_source</th>\n",
              "      <th>tx_post_relapse</th>\n",
              "      <th>CD34_x1e6_per_kg</th>\n",
              "      <th>CD3_x1e8_per_kg</th>\n",
              "      <th>CD3_to_CD34_ratio</th>\n",
              "      <th>ANC_recovery</th>\n",
              "      <th>PLT_recovery</th>\n",
              "      <th>time_to_acute_GvHD_III_IV</th>\n",
              "      <th>extensive_chronic_GvHD</th>\n",
              "      <th>relapse</th>\n",
              "      <th>survival_time</th>\n",
              "      <th>survival_status</th>\n",
              "    </tr>\n",
              "  </thead>\n",
              "  <tbody>\n",
              "    <tr>\n",
              "      <th>0</th>\n",
              "      <td>22.830137</td>\n",
              "      <td>yes</td>\n",
              "      <td>A</td>\n",
              "      <td>present</td>\n",
              "      <td>9.6</td>\n",
              "      <td>male</td>\n",
              "      <td>35.0</td>\n",
              "      <td>A</td>\n",
              "      <td>plus</td>\n",
              "      <td>present</td>\n",
              "      <td>ALL</td>\n",
              "      <td>malignant</td>\n",
              "      <td>matched</td>\n",
              "      <td>3</td>\n",
              "      <td>10/10</td>\n",
              "      <td>0</td>\n",
              "      <td>matched</td>\n",
              "      <td>high</td>\n",
              "      <td>peripheral_blood</td>\n",
              "      <td>no</td>\n",
              "      <td>7.20</td>\n",
              "      <td>5.38</td>\n",
              "      <td>1.33876</td>\n",
              "      <td>19.0</td>\n",
              "      <td>51.0</td>\n",
              "      <td>32.0</td>\n",
              "      <td>no</td>\n",
              "      <td>no</td>\n",
              "      <td>999.0</td>\n",
              "      <td>0</td>\n",
              "    </tr>\n",
              "    <tr>\n",
              "      <th>1</th>\n",
              "      <td>23.342466</td>\n",
              "      <td>yes</td>\n",
              "      <td>B</td>\n",
              "      <td>absent</td>\n",
              "      <td>4.0</td>\n",
              "      <td>male</td>\n",
              "      <td>20.6</td>\n",
              "      <td>B</td>\n",
              "      <td>plus</td>\n",
              "      <td>absent</td>\n",
              "      <td>ALL</td>\n",
              "      <td>malignant</td>\n",
              "      <td>matched</td>\n",
              "      <td>0</td>\n",
              "      <td>10/10</td>\n",
              "      <td>0</td>\n",
              "      <td>matched</td>\n",
              "      <td>low</td>\n",
              "      <td>bone_marrow</td>\n",
              "      <td>no</td>\n",
              "      <td>4.50</td>\n",
              "      <td>0.41</td>\n",
              "      <td>11.078295</td>\n",
              "      <td>16.0</td>\n",
              "      <td>37.0</td>\n",
              "      <td>1000000.0</td>\n",
              "      <td>no</td>\n",
              "      <td>yes</td>\n",
              "      <td>163.0</td>\n",
              "      <td>1</td>\n",
              "    </tr>\n",
              "    <tr>\n",
              "      <th>2</th>\n",
              "      <td>26.394521</td>\n",
              "      <td>yes</td>\n",
              "      <td>B</td>\n",
              "      <td>absent</td>\n",
              "      <td>6.6</td>\n",
              "      <td>male</td>\n",
              "      <td>23.4</td>\n",
              "      <td>B</td>\n",
              "      <td>plus</td>\n",
              "      <td>present</td>\n",
              "      <td>ALL</td>\n",
              "      <td>malignant</td>\n",
              "      <td>matched</td>\n",
              "      <td>2</td>\n",
              "      <td>10/10</td>\n",
              "      <td>0</td>\n",
              "      <td>matched</td>\n",
              "      <td>low</td>\n",
              "      <td>bone_marrow</td>\n",
              "      <td>no</td>\n",
              "      <td>7.94</td>\n",
              "      <td>0.42</td>\n",
              "      <td>19.01323</td>\n",
              "      <td>23.0</td>\n",
              "      <td>20.0</td>\n",
              "      <td>1000000.0</td>\n",
              "      <td>no</td>\n",
              "      <td>yes</td>\n",
              "      <td>435.0</td>\n",
              "      <td>1</td>\n",
              "    </tr>\n",
              "    <tr>\n",
              "      <th>3</th>\n",
              "      <td>39.684932</td>\n",
              "      <td>no</td>\n",
              "      <td>A</td>\n",
              "      <td>present</td>\n",
              "      <td>18.1</td>\n",
              "      <td>female</td>\n",
              "      <td>50.0</td>\n",
              "      <td>AB</td>\n",
              "      <td>plus</td>\n",
              "      <td>absent</td>\n",
              "      <td>AML</td>\n",
              "      <td>malignant</td>\n",
              "      <td>mismatched</td>\n",
              "      <td>1</td>\n",
              "      <td>10/10</td>\n",
              "      <td>0</td>\n",
              "      <td>matched</td>\n",
              "      <td>low</td>\n",
              "      <td>bone_marrow</td>\n",
              "      <td>no</td>\n",
              "      <td>4.25</td>\n",
              "      <td>0.14</td>\n",
              "      <td>29.481647</td>\n",
              "      <td>23.0</td>\n",
              "      <td>29.0</td>\n",
              "      <td>19.0</td>\n",
              "      <td>?</td>\n",
              "      <td>no</td>\n",
              "      <td>53.0</td>\n",
              "      <td>1</td>\n",
              "    </tr>\n",
              "    <tr>\n",
              "      <th>4</th>\n",
              "      <td>33.358904</td>\n",
              "      <td>yes</td>\n",
              "      <td>A</td>\n",
              "      <td>absent</td>\n",
              "      <td>1.3</td>\n",
              "      <td>female</td>\n",
              "      <td>9.0</td>\n",
              "      <td>AB</td>\n",
              "      <td>minus</td>\n",
              "      <td>present</td>\n",
              "      <td>chronic</td>\n",
              "      <td>malignant</td>\n",
              "      <td>mismatched</td>\n",
              "      <td>0</td>\n",
              "      <td>9/10</td>\n",
              "      <td>1</td>\n",
              "      <td>one_antigen</td>\n",
              "      <td>high</td>\n",
              "      <td>peripheral_blood</td>\n",
              "      <td>no</td>\n",
              "      <td>51.85</td>\n",
              "      <td>13.05</td>\n",
              "      <td>3.972255</td>\n",
              "      <td>14.0</td>\n",
              "      <td>14.0</td>\n",
              "      <td>1000000.0</td>\n",
              "      <td>no</td>\n",
              "      <td>no</td>\n",
              "      <td>2043.0</td>\n",
              "      <td>0</td>\n",
              "    </tr>\n",
              "    <tr>\n",
              "      <th>...</th>\n",
              "      <td>...</td>\n",
              "      <td>...</td>\n",
              "      <td>...</td>\n",
              "      <td>...</td>\n",
              "      <td>...</td>\n",
              "      <td>...</td>\n",
              "      <td>...</td>\n",
              "      <td>...</td>\n",
              "      <td>...</td>\n",
              "      <td>...</td>\n",
              "      <td>...</td>\n",
              "      <td>...</td>\n",
              "      <td>...</td>\n",
              "      <td>...</td>\n",
              "      <td>...</td>\n",
              "      <td>...</td>\n",
              "      <td>...</td>\n",
              "      <td>...</td>\n",
              "      <td>...</td>\n",
              "      <td>...</td>\n",
              "      <td>...</td>\n",
              "      <td>...</td>\n",
              "      <td>...</td>\n",
              "      <td>...</td>\n",
              "      <td>...</td>\n",
              "      <td>...</td>\n",
              "      <td>...</td>\n",
              "      <td>...</td>\n",
              "      <td>...</td>\n",
              "      <td>...</td>\n",
              "    </tr>\n",
              "    <tr>\n",
              "      <th>182</th>\n",
              "      <td>37.575342</td>\n",
              "      <td>no</td>\n",
              "      <td>A</td>\n",
              "      <td>present</td>\n",
              "      <td>12.9</td>\n",
              "      <td>male</td>\n",
              "      <td>44.0</td>\n",
              "      <td>A</td>\n",
              "      <td>minus</td>\n",
              "      <td>present</td>\n",
              "      <td>lymphoma</td>\n",
              "      <td>malignant</td>\n",
              "      <td>matched</td>\n",
              "      <td>3</td>\n",
              "      <td>10/10</td>\n",
              "      <td>0</td>\n",
              "      <td>matched</td>\n",
              "      <td>high</td>\n",
              "      <td>peripheral_blood</td>\n",
              "      <td>yes</td>\n",
              "      <td>11.08</td>\n",
              "      <td>4.39</td>\n",
              "      <td>2.52275</td>\n",
              "      <td>15.0</td>\n",
              "      <td>22.0</td>\n",
              "      <td>16.0</td>\n",
              "      <td>no</td>\n",
              "      <td>yes</td>\n",
              "      <td>385.0</td>\n",
              "      <td>1</td>\n",
              "    </tr>\n",
              "    <tr>\n",
              "      <th>183</th>\n",
              "      <td>22.895890</td>\n",
              "      <td>yes</td>\n",
              "      <td>A</td>\n",
              "      <td>absent</td>\n",
              "      <td>13.9</td>\n",
              "      <td>female</td>\n",
              "      <td>44.5</td>\n",
              "      <td>0</td>\n",
              "      <td>plus</td>\n",
              "      <td>present</td>\n",
              "      <td>AML</td>\n",
              "      <td>malignant</td>\n",
              "      <td>mismatched</td>\n",
              "      <td>2</td>\n",
              "      <td>10/10</td>\n",
              "      <td>0</td>\n",
              "      <td>matched</td>\n",
              "      <td>high</td>\n",
              "      <td>peripheral_blood</td>\n",
              "      <td>no</td>\n",
              "      <td>4.64</td>\n",
              "      <td>4.47</td>\n",
              "      <td>1.038858</td>\n",
              "      <td>12.0</td>\n",
              "      <td>30.0</td>\n",
              "      <td>1000000.0</td>\n",
              "      <td>no</td>\n",
              "      <td>no</td>\n",
              "      <td>634.0</td>\n",
              "      <td>1</td>\n",
              "    </tr>\n",
              "    <tr>\n",
              "      <th>184</th>\n",
              "      <td>27.347945</td>\n",
              "      <td>yes</td>\n",
              "      <td>A</td>\n",
              "      <td>present</td>\n",
              "      <td>10.4</td>\n",
              "      <td>female</td>\n",
              "      <td>33.0</td>\n",
              "      <td>B</td>\n",
              "      <td>plus</td>\n",
              "      <td>present</td>\n",
              "      <td>nonmalignant</td>\n",
              "      <td>nonmalignant</td>\n",
              "      <td>mismatched</td>\n",
              "      <td>3</td>\n",
              "      <td>10/10</td>\n",
              "      <td>0</td>\n",
              "      <td>matched</td>\n",
              "      <td>low</td>\n",
              "      <td>peripheral_blood</td>\n",
              "      <td>no</td>\n",
              "      <td>7.73</td>\n",
              "      <td>4.73</td>\n",
              "      <td>1.635559</td>\n",
              "      <td>16.0</td>\n",
              "      <td>16.0</td>\n",
              "      <td>1000000.0</td>\n",
              "      <td>no</td>\n",
              "      <td>no</td>\n",
              "      <td>1895.0</td>\n",
              "      <td>0</td>\n",
              "    </tr>\n",
              "    <tr>\n",
              "      <th>185</th>\n",
              "      <td>27.780822</td>\n",
              "      <td>yes</td>\n",
              "      <td>A</td>\n",
              "      <td>absent</td>\n",
              "      <td>8.0</td>\n",
              "      <td>male</td>\n",
              "      <td>24.0</td>\n",
              "      <td>0</td>\n",
              "      <td>plus</td>\n",
              "      <td>absent</td>\n",
              "      <td>chronic</td>\n",
              "      <td>malignant</td>\n",
              "      <td>mismatched</td>\n",
              "      <td>0</td>\n",
              "      <td>9/10</td>\n",
              "      <td>1</td>\n",
              "      <td>one_antigen</td>\n",
              "      <td>low</td>\n",
              "      <td>peripheral_blood</td>\n",
              "      <td>no</td>\n",
              "      <td>15.41</td>\n",
              "      <td>1.91</td>\n",
              "      <td>8.07777</td>\n",
              "      <td>13.0</td>\n",
              "      <td>14.0</td>\n",
              "      <td>54.0</td>\n",
              "      <td>yes</td>\n",
              "      <td>no</td>\n",
              "      <td>382.0</td>\n",
              "      <td>1</td>\n",
              "    </tr>\n",
              "    <tr>\n",
              "      <th>186</th>\n",
              "      <td>55.553425</td>\n",
              "      <td>no</td>\n",
              "      <td>A</td>\n",
              "      <td>present</td>\n",
              "      <td>9.5</td>\n",
              "      <td>male</td>\n",
              "      <td>37.0</td>\n",
              "      <td>AB</td>\n",
              "      <td>plus</td>\n",
              "      <td>absent</td>\n",
              "      <td>nonmalignant</td>\n",
              "      <td>nonmalignant</td>\n",
              "      <td>mismatched</td>\n",
              "      <td>1</td>\n",
              "      <td>10/10</td>\n",
              "      <td>?</td>\n",
              "      <td>matched</td>\n",
              "      <td>high</td>\n",
              "      <td>peripheral_blood</td>\n",
              "      <td>yes</td>\n",
              "      <td>9.91</td>\n",
              "      <td>10.45</td>\n",
              "      <td>0.948135</td>\n",
              "      <td>18.0</td>\n",
              "      <td>20.0</td>\n",
              "      <td>1000000.0</td>\n",
              "      <td>no</td>\n",
              "      <td>no</td>\n",
              "      <td>1109.0</td>\n",
              "      <td>0</td>\n",
              "    </tr>\n",
              "  </tbody>\n",
              "</table>\n",
              "<p>187 rows × 30 columns</p>\n",
              "</div>"
            ],
            "text/plain": [
              "     donor_age donor_age_below_35  ... survival_time survival_status\n",
              "0    22.830137                yes  ...         999.0               0\n",
              "1    23.342466                yes  ...         163.0               1\n",
              "2    26.394521                yes  ...         435.0               1\n",
              "3    39.684932                 no  ...          53.0               1\n",
              "4    33.358904                yes  ...        2043.0               0\n",
              "..         ...                ...  ...           ...             ...\n",
              "182  37.575342                 no  ...         385.0               1\n",
              "183  22.895890                yes  ...         634.0               1\n",
              "184  27.347945                yes  ...        1895.0               0\n",
              "185  27.780822                yes  ...         382.0               1\n",
              "186  55.553425                 no  ...        1109.0               0\n",
              "\n",
              "[187 rows x 30 columns]"
            ]
          },
          "metadata": {},
          "execution_count": 1522
        }
      ]
    },
    {
      "cell_type": "markdown",
      "metadata": {
        "id": "dyoyLlZw4A0J"
      },
      "source": [
        "\n",
        "\n",
        "```\n",
        "\n",
        "```\n",
        "\n",
        "**Dropping redundant column  as they are not requiered**"
      ]
    },
    {
      "cell_type": "code",
      "metadata": {
        "colab": {
          "base_uri": "https://localhost:8080/"
        },
        "id": "FAz9VoxAxwpM",
        "outputId": "7ede7207-b48c-42d7-ab32-7b984390b828"
      },
      "source": [
        "#New Dataframe\n",
        "df.shape"
      ],
      "execution_count": null,
      "outputs": [
        {
          "output_type": "execute_result",
          "data": {
            "text/plain": [
              "(187, 30)"
            ]
          },
          "metadata": {},
          "execution_count": 1523
        }
      ]
    },
    {
      "cell_type": "code",
      "metadata": {
        "colab": {
          "base_uri": "https://localhost:8080/"
        },
        "id": "rM3jO6SPvNYT",
        "outputId": "3ff1381c-bf83-4730-8dcb-e4d2afbb8a30"
      },
      "source": [
        "df.nunique()"
      ],
      "execution_count": null,
      "outputs": [
        {
          "output_type": "execute_result",
          "data": {
            "text/plain": [
              "donor_age                    187\n",
              "donor_age_below_35             2\n",
              "donor_ABO                      4\n",
              "donor_CMV                      3\n",
              "recipient_age                125\n",
              "recipient_gender               2\n",
              "recipient_body_mass          131\n",
              "recipient_ABO                  5\n",
              "recipient_rh                   3\n",
              "recipient_CMV                  3\n",
              "disease                        5\n",
              "disease_group                  2\n",
              "ABO_match                      3\n",
              "CMV_status                     5\n",
              "HLA_match                      4\n",
              "allel                          6\n",
              "HLA_group_1                    7\n",
              "risk_group                     2\n",
              "stem_cell_source               2\n",
              "tx_post_relapse                2\n",
              "CD34_x1e6_per_kg             183\n",
              "CD3_x1e8_per_kg              164\n",
              "CD3_to_CD34_ratio            183\n",
              "ANC_recovery                  18\n",
              "PLT_recovery                  50\n",
              "time_to_acute_GvHD_III_IV     28\n",
              "extensive_chronic_GvHD         3\n",
              "relapse                        2\n",
              "survival_time                174\n",
              "survival_status                2\n",
              "dtype: int64"
            ]
          },
          "metadata": {},
          "execution_count": 1524
        }
      ]
    },
    {
      "cell_type": "code",
      "metadata": {
        "colab": {
          "base_uri": "https://localhost:8080/"
        },
        "id": "FcmFu3yIvuko",
        "outputId": "a42c3e95-4e97-4bdf-c18e-ed83f5ec9b57"
      },
      "source": [
        "df['ABO_match'].unique()"
      ],
      "execution_count": null,
      "outputs": [
        {
          "output_type": "execute_result",
          "data": {
            "text/plain": [
              "array(['matched', 'mismatched', '?'], dtype=object)"
            ]
          },
          "metadata": {},
          "execution_count": 1525
        }
      ]
    },
    {
      "cell_type": "markdown",
      "metadata": {
        "id": "8QR0qKFI4PdR"
      },
      "source": [
        "We will remove '?' later"
      ]
    },
    {
      "cell_type": "code",
      "metadata": {
        "colab": {
          "base_uri": "https://localhost:8080/"
        },
        "id": "KN9-VwzCwMWw",
        "outputId": "cff11f81-bd58-4f10-cc40-d23ac0744d1a"
      },
      "source": [
        "df['recipient_ABO'].unique()"
      ],
      "execution_count": null,
      "outputs": [
        {
          "output_type": "execute_result",
          "data": {
            "text/plain": [
              "array(['A', 'B', 'AB', '0', '?'], dtype=object)"
            ]
          },
          "metadata": {},
          "execution_count": 1526
        }
      ]
    },
    {
      "cell_type": "code",
      "metadata": {
        "id": "-rVl7wNNxmiI"
      },
      "source": [
        ""
      ],
      "execution_count": null,
      "outputs": []
    },
    {
      "cell_type": "code",
      "metadata": {
        "id": "LdcKr1LCxwsI"
      },
      "source": [
        "######### Separating Catagorical & Neumerical Column#########\n",
        "def extract_cat_num(df):\n",
        "    cat_col=[col for col in df.columns if df[col].dtype=='object']\n",
        "    num_col=[col for col in df.columns if df[col].dtype!='object']\n",
        "    return cat_col,num_col"
      ],
      "execution_count": null,
      "outputs": []
    },
    {
      "cell_type": "markdown",
      "metadata": {
        "id": "MpCxQu2j4bvD"
      },
      "source": [
        "Separating numerical & categorical data from main dataframe"
      ]
    },
    {
      "cell_type": "code",
      "metadata": {
        "id": "SSDHoMjsxwvL"
      },
      "source": [
        "cat_col,num_col=extract_cat_num(df)"
      ],
      "execution_count": null,
      "outputs": []
    },
    {
      "cell_type": "code",
      "metadata": {
        "colab": {
          "base_uri": "https://localhost:8080/"
        },
        "id": "tfFJafNxxwxn",
        "outputId": "a20e11d2-3039-4568-bd79-69de35aa0e94"
      },
      "source": [
        "cat_col"
      ],
      "execution_count": null,
      "outputs": [
        {
          "output_type": "execute_result",
          "data": {
            "text/plain": [
              "['donor_age_below_35',\n",
              " 'donor_ABO',\n",
              " 'donor_CMV',\n",
              " 'recipient_gender',\n",
              " 'recipient_body_mass',\n",
              " 'recipient_ABO',\n",
              " 'recipient_rh',\n",
              " 'recipient_CMV',\n",
              " 'disease',\n",
              " 'disease_group',\n",
              " 'ABO_match',\n",
              " 'CMV_status',\n",
              " 'HLA_match',\n",
              " 'allel',\n",
              " 'HLA_group_1',\n",
              " 'risk_group',\n",
              " 'stem_cell_source',\n",
              " 'tx_post_relapse',\n",
              " 'CD3_x1e8_per_kg',\n",
              " 'CD3_to_CD34_ratio',\n",
              " 'extensive_chronic_GvHD',\n",
              " 'relapse']"
            ]
          },
          "metadata": {},
          "execution_count": 1529
        }
      ]
    },
    {
      "cell_type": "code",
      "metadata": {
        "colab": {
          "base_uri": "https://localhost:8080/"
        },
        "id": "D-UbrkRIxwz8",
        "outputId": "acec67d2-e069-4dd6-af93-6fe645fef83b"
      },
      "source": [
        "num_col"
      ],
      "execution_count": null,
      "outputs": [
        {
          "output_type": "execute_result",
          "data": {
            "text/plain": [
              "['donor_age',\n",
              " 'recipient_age',\n",
              " 'CD34_x1e6_per_kg',\n",
              " 'ANC_recovery',\n",
              " 'PLT_recovery',\n",
              " 'time_to_acute_GvHD_III_IV',\n",
              " 'survival_time',\n",
              " 'survival_status']"
            ]
          },
          "metadata": {},
          "execution_count": 1530
        }
      ]
    },
    {
      "cell_type": "code",
      "metadata": {
        "colab": {
          "base_uri": "https://localhost:8080/"
        },
        "id": "BSuJ_jBWxw23",
        "outputId": "91211fc3-decd-4342-e279-309cd2b06263"
      },
      "source": [
        "for col in cat_col:\n",
        "    print('{} has {} values '.format(col,df[col].unique()))\n",
        "    print('\\n')"
      ],
      "execution_count": null,
      "outputs": [
        {
          "output_type": "stream",
          "name": "stdout",
          "text": [
            "donor_age_below_35 has ['yes' 'no'] values \n",
            "\n",
            "\n",
            "donor_ABO has ['A' 'B' 'AB' '0'] values \n",
            "\n",
            "\n",
            "donor_CMV has ['present' 'absent' '?'] values \n",
            "\n",
            "\n",
            "recipient_gender has ['male' 'female'] values \n",
            "\n",
            "\n",
            "recipient_body_mass has ['35.0' '20.6' '23.4' '50.0' '9.0' '40.0' '51.0' '56.0' '20.5' '16.5'\n",
            " '10.5' '47.0' '18.1' '42.0' '55.0' '30.0' '97.8' '6.0' '64.0' '62.0'\n",
            " '43.2' '31.0' '39.3' '23.8' '26.8' '6.4' '17.0' '14.3' '38.3' '20.0'\n",
            " '23.0' '15.0' '49.6' '10.0' '11.25' '63.0' '43.5' '48.0' '15.3' '29.0'\n",
            " '41.4' '76.0' '34.1' '60.4' '48.8' '38.5' '28.5' '7.5' '19.5' '8.15'\n",
            " '14.0' '37.0' '13.0' '68.0' '52.0' '61.0' '54.9' '11.9' '49.0' '30.8'\n",
            " '45.5' '46.7' '58.0' '56.5' '16.0' '26.5' '28.0' '26.0' '37.5' '44.3'\n",
            " '43.0' '61.3' '14.1' '34.0' '62.5' '11.2' '72.5' '24.5' '70.0' '?' '22.6'\n",
            " '54.1' '51.1' '24.3' '19.0' '33.0' '17.2' '73.0' '55.2' '18.6' '52.7'\n",
            " '25.2' '19.6' '25.0' '90.0' '26.9' '32.0' '17.6' '65.0' '9.6' '50.6'\n",
            " '60.0' '54.5' '51.3' '12.0' '59.0' '20.8' '42.4' '44.5' '103.4' '71.0'\n",
            " '58.9' '20.9' '17.3' '14.8' '54.6' '35.5' '17.5' '44.1' '40.3' '36.0'\n",
            " '24.0' '25.4' '38.4' '18.3' '18.0' '35.9' '30.5' '50.8' '57.0' '44.0'] values \n",
            "\n",
            "\n",
            "recipient_ABO has ['A' 'B' 'AB' '0' '?'] values \n",
            "\n",
            "\n",
            "recipient_rh has ['plus' 'minus' '?'] values \n",
            "\n",
            "\n",
            "recipient_CMV has ['present' 'absent' '?'] values \n",
            "\n",
            "\n",
            "disease has ['ALL' 'AML' 'chronic' 'nonmalignant' 'lymphoma'] values \n",
            "\n",
            "\n",
            "disease_group has ['malignant' 'nonmalignant'] values \n",
            "\n",
            "\n",
            "ABO_match has ['matched' 'mismatched' '?'] values \n",
            "\n",
            "\n",
            "CMV_status has ['3' '0' '2' '1' '?'] values \n",
            "\n",
            "\n",
            "HLA_match has ['10/10' '9/10' '7/10' '8/10'] values \n",
            "\n",
            "\n",
            "allel has ['0' '1' '3' '2' '4' '?'] values \n",
            "\n",
            "\n",
            "HLA_group_1 has ['matched' 'one_antigen' 'mismatched' 'DRB1_cell' 'one_allel' 'two_diffs'\n",
            " 'three_diffs'] values \n",
            "\n",
            "\n",
            "risk_group has ['high' 'low'] values \n",
            "\n",
            "\n",
            "stem_cell_source has ['peripheral_blood' 'bone_marrow'] values \n",
            "\n",
            "\n",
            "tx_post_relapse has ['no' 'yes'] values \n",
            "\n",
            "\n",
            "CD3_x1e8_per_kg has ['5.38' '0.41' '0.42' '0.14' '13.05' '0.39' '7.39' '?' '6.24' '7.43'\n",
            " '1.49' '6.45' '5.64' '0.85' '3.55' '0.4' '3.42' '16.31' '5.16' '2.22'\n",
            " '5.15' '7.08' '3.54' '0.21' '7.74' '3.3' '3.48' '11.59' '3.17' '4.11'\n",
            " '5.81' '3.6' '1.93' '5.41' '1.74' '8.06' '3.36' '3.94' '8.39' '0.98'\n",
            " '6.54' '5.75' '1.83' '1.71' '0.74' '1.66' '0.73' '0.59' '4.15' '11.85'\n",
            " '8.71' '8.63' '5.24' '7.32' '8.94' '0.13' '12.23' '0.99' '0.29' '0.05'\n",
            " '3.47' '8.75' '16.07' '4.78' '3.38' '4.26' '4.94' '1.24' '0.15' '0.77'\n",
            " '0.84' '5.8' '5.4' '3.7' '2.14' '0.36' '10.06' '3.39' '6.59' '0.09'\n",
            " '5.09' '0.25' '1.68' '7.35' '7.16' '5.27' '4.97' '2.33' '5.83' '7.93'\n",
            " '4.83' '2.84' '13.77' '2.45' '5.07' '3.32' '6.35' '0.2' '2.97' '13.27'\n",
            " '8.03' '4.72' '6.02' '0.04' '4.46' '4.9' '5.11' '10.56' '0.97' '2.4'\n",
            " '1.77' '1.96' '10.14' '15.9' '1.0' '11.49' '3.25' '10.49' '3.19' '6.92'\n",
            " '3.08' '0.17' '0.27' '4.59' '0.47' '8.48' '6.25' '1.03' '1.97' '6.3'\n",
            " '13.01' '0.24' '2.85' '2.75' '7.15' '0.49' '3.75' '1.45' '1.42' '6.42'\n",
            " '2.05' '9.27' '4.09' '7.6' '6.56' '0.37' '11.71' '3.86' '10.61' '4.86'\n",
            " '5.02' '5.65' '2.76' '8.85' '20.02' '6.85' '0.5' '7.81' '5.19' '4.39'\n",
            " '4.47' '4.73' '1.91' '10.45'] values \n",
            "\n",
            "\n",
            "CD3_to_CD34_ratio has ['1.33876' '11.078295' '19.01323' '29.481647' '3.972255' '8.412758'\n",
            " '2.406248' '?' '3.772555' '1.035244' '11.883664' '2.242442' '2.734654'\n",
            " '3.713956' '2.26309' '12.028841' '1.595133' '3.676416' '1.408646'\n",
            " '1.711795' '0.36872' '1.231287' '3.81488' '5.781319' '13.890231'\n",
            " '1.672532' '1.788507' '3.242425' '2.001808' '1.849607' '2.380569'\n",
            " '1.687395' '16.186239' '3.49847' '2.778202' '1.841206' '8.784289'\n",
            " '2.733138' '5.837647' '2.215047' '0.692898' '2.335954' '4.824785'\n",
            " '0.927108' '7.060927' '6.022997' '4.517296' '7.369445' '3.650173'\n",
            " '3.280961' '5.69203' '4.011209' '1.351711' '1.890822' '1.876834'\n",
            " '11.017048' '2.969988' '1.025586' '12.958576' '3.133461' '5.761517'\n",
            " '6.739936' '6.157698' '14.130301' '6.750632' '47.869839' '3.10536'\n",
            " '2.780611' '1.498879' '1.865411' '2.927597' '2.449389' '1.786075'\n",
            " '12.479226' '11.405197' '12.36598' '11.123182' '6.002989' '4.184092'\n",
            " '2.014498' '2.098238' '2.734269' '4.420206' '5.276616' '1.589775'\n",
            " '2.687529' '1.833687' '14.642869' '3.430293' '6.34585' '6.928599'\n",
            " '2.394072' '0.709805' '1.365785' '2.337369' '1.38917' '7.305471'\n",
            " '2.552321' '2.722087' '7.517388' '2.498917' '0.204132' '2.59522'\n",
            " '1.848795' '1.6173' '2.929081' '6.537721' '3.787339' '1.168705'\n",
            " '2.491794' '1.483826' '7.805782' '2.449323' '99.56097' '1.744246'\n",
            " '5.045842' '1.558548' '1.018042' '4.489022' '1.851411' '4.2187'\n",
            " '5.164562' '1.070314' '1.283387' '1.082899' '4.468419' '1.346764'\n",
            " '2.997231' '1.839537' '3.774746' '2.118673' '2.703806' '56.065024'\n",
            " '9.456741' '19.210978' '1.038752' '7.423372' '3.597279' '0.799458'\n",
            " '2.818993' '10.611083' '6.258729' '1.543305' '3.065758' '0.455355'\n",
            " '3.737477' '7.910679' '3.465003' '2.40947' '1.2068' '7.243234' '2.496128'\n",
            " '0.843646' '2.965539' '6.081859' '12.984467' '2.446267' '1.350554'\n",
            " '2.443228' '1.181537' '1.854875' '12.272474' '1.878043' '3.120205'\n",
            " '0.309048' '2.241175' '2.929514' '4.061324' '2.069057' '1.214932'\n",
            " '4.094514' '0.843967' '1.830242' '1.671314' '2.205359' '16.32616'\n",
            " '1.007599' '2.426122' '2.52275' '1.038858' '1.635559' '8.07777'\n",
            " '0.948135'] values \n",
            "\n",
            "\n",
            "extensive_chronic_GvHD has ['no' '?' 'yes'] values \n",
            "\n",
            "\n",
            "relapse has ['no' 'yes'] values \n",
            "\n",
            "\n"
          ]
        }
      ]
    },
    {
      "cell_type": "markdown",
      "metadata": {
        "id": "tfNJTx934_EK"
      },
      "source": [
        "Some neumerical data is in the cat_col. We will add this in num_col"
      ]
    },
    {
      "cell_type": "code",
      "metadata": {
        "id": "Y1qfaMl0K2tM"
      },
      "source": [
        "#coverting data_types\n",
        "def convert_dtype(df,feature):\n",
        "    df[feature] = pd.to_numeric(df[feature],errors='coerce')"
      ],
      "execution_count": null,
      "outputs": []
    },
    {
      "cell_type": "code",
      "metadata": {
        "id": "lx-9lx5oKhrS"
      },
      "source": [
        "features =['CD3_x1e8_per_kg','CD3_to_CD34_ratio','CD3_x1e8_per_kg','recipient_body_mass','CD3_to_CD34_ratio','survival_status']\n",
        "for feature in features:\n",
        "    convert_dtype(df,feature)"
      ],
      "execution_count": null,
      "outputs": []
    },
    {
      "cell_type": "code",
      "metadata": {
        "id": "xPA6UMDYKhoX"
      },
      "source": [
        "###############Again finding cat column and num column to get the exatc info###########\n",
        "def extract_cat_num(df):\n",
        "    cat_col=[col for col in df.columns if df[col].dtype=='object']\n",
        "    num_col=[col for col in df.columns if df[col].dtype!='object']\n",
        "    #num_col=[col for col in df.columns if df[col].dtype=='float64']\n",
        "    return cat_col,num_col\n",
        "cat_col,num_col=extract_cat_num(df)"
      ],
      "execution_count": null,
      "outputs": []
    },
    {
      "cell_type": "markdown",
      "metadata": {
        "id": "NOOqjaDTQqRi"
      },
      "source": [
        ""
      ]
    },
    {
      "cell_type": "code",
      "metadata": {
        "colab": {
          "base_uri": "https://localhost:8080/"
        },
        "id": "Xyd8rJdQQs-3",
        "outputId": "64f9120c-e3e7-495c-9f11-53c85b7ab1ef"
      },
      "source": [
        "cat_col"
      ],
      "execution_count": null,
      "outputs": [
        {
          "output_type": "execute_result",
          "data": {
            "text/plain": [
              "['donor_age_below_35',\n",
              " 'donor_ABO',\n",
              " 'donor_CMV',\n",
              " 'recipient_gender',\n",
              " 'recipient_ABO',\n",
              " 'recipient_rh',\n",
              " 'recipient_CMV',\n",
              " 'disease',\n",
              " 'disease_group',\n",
              " 'ABO_match',\n",
              " 'CMV_status',\n",
              " 'HLA_match',\n",
              " 'allel',\n",
              " 'HLA_group_1',\n",
              " 'risk_group',\n",
              " 'stem_cell_source',\n",
              " 'tx_post_relapse',\n",
              " 'extensive_chronic_GvHD',\n",
              " 'relapse']"
            ]
          },
          "metadata": {},
          "execution_count": 1535
        }
      ]
    },
    {
      "cell_type": "code",
      "metadata": {
        "colab": {
          "base_uri": "https://localhost:8080/"
        },
        "id": "30C9W0bIQbSn",
        "outputId": "922cff7c-e0bc-4004-f77f-9eb1f6c589c3"
      },
      "source": [
        "len(cat_col)"
      ],
      "execution_count": null,
      "outputs": [
        {
          "output_type": "execute_result",
          "data": {
            "text/plain": [
              "19"
            ]
          },
          "metadata": {},
          "execution_count": 1536
        }
      ]
    },
    {
      "cell_type": "code",
      "metadata": {
        "colab": {
          "base_uri": "https://localhost:8080/"
        },
        "id": "wcWstlqDS-Fz",
        "outputId": "8d6253b1-712c-4fa5-e24e-2f866cc8f929"
      },
      "source": [
        "num_col"
      ],
      "execution_count": null,
      "outputs": [
        {
          "output_type": "execute_result",
          "data": {
            "text/plain": [
              "['donor_age',\n",
              " 'recipient_age',\n",
              " 'recipient_body_mass',\n",
              " 'CD34_x1e6_per_kg',\n",
              " 'CD3_x1e8_per_kg',\n",
              " 'CD3_to_CD34_ratio',\n",
              " 'ANC_recovery',\n",
              " 'PLT_recovery',\n",
              " 'time_to_acute_GvHD_III_IV',\n",
              " 'survival_time',\n",
              " 'survival_status']"
            ]
          },
          "metadata": {},
          "execution_count": 1537
        }
      ]
    },
    {
      "cell_type": "code",
      "metadata": {
        "colab": {
          "base_uri": "https://localhost:8080/"
        },
        "id": "Vkx6jlZwTDHi",
        "outputId": "87fec3b9-792f-4da6-ae3b-0263b02429e1"
      },
      "source": [
        "len(num_col)"
      ],
      "execution_count": null,
      "outputs": [
        {
          "output_type": "execute_result",
          "data": {
            "text/plain": [
              "11"
            ]
          },
          "metadata": {},
          "execution_count": 1538
        }
      ]
    },
    {
      "cell_type": "code",
      "metadata": {
        "colab": {
          "base_uri": "https://localhost:8080/"
        },
        "id": "XD6MkN2QKhbG",
        "outputId": "5e2f3b52-5b3e-4e59-ef68-dda7e39c3e8c"
      },
      "source": [
        "for col in cat_col:\n",
        "    print('{} has {} values '.format(col,df[col].unique()))\n",
        "    print('\\n')"
      ],
      "execution_count": null,
      "outputs": [
        {
          "output_type": "stream",
          "name": "stdout",
          "text": [
            "donor_age_below_35 has ['yes' 'no'] values \n",
            "\n",
            "\n",
            "donor_ABO has ['A' 'B' 'AB' '0'] values \n",
            "\n",
            "\n",
            "donor_CMV has ['present' 'absent' '?'] values \n",
            "\n",
            "\n",
            "recipient_gender has ['male' 'female'] values \n",
            "\n",
            "\n",
            "recipient_ABO has ['A' 'B' 'AB' '0' '?'] values \n",
            "\n",
            "\n",
            "recipient_rh has ['plus' 'minus' '?'] values \n",
            "\n",
            "\n",
            "recipient_CMV has ['present' 'absent' '?'] values \n",
            "\n",
            "\n",
            "disease has ['ALL' 'AML' 'chronic' 'nonmalignant' 'lymphoma'] values \n",
            "\n",
            "\n",
            "disease_group has ['malignant' 'nonmalignant'] values \n",
            "\n",
            "\n",
            "ABO_match has ['matched' 'mismatched' '?'] values \n",
            "\n",
            "\n",
            "CMV_status has ['3' '0' '2' '1' '?'] values \n",
            "\n",
            "\n",
            "HLA_match has ['10/10' '9/10' '7/10' '8/10'] values \n",
            "\n",
            "\n",
            "allel has ['0' '1' '3' '2' '4' '?'] values \n",
            "\n",
            "\n",
            "HLA_group_1 has ['matched' 'one_antigen' 'mismatched' 'DRB1_cell' 'one_allel' 'two_diffs'\n",
            " 'three_diffs'] values \n",
            "\n",
            "\n",
            "risk_group has ['high' 'low'] values \n",
            "\n",
            "\n",
            "stem_cell_source has ['peripheral_blood' 'bone_marrow'] values \n",
            "\n",
            "\n",
            "tx_post_relapse has ['no' 'yes'] values \n",
            "\n",
            "\n",
            "extensive_chronic_GvHD has ['no' '?' 'yes'] values \n",
            "\n",
            "\n",
            "relapse has ['no' 'yes'] values \n",
            "\n",
            "\n"
          ]
        }
      ]
    },
    {
      "cell_type": "markdown",
      "metadata": {
        "id": "CuT9XoHa5dST"
      },
      "source": [
        "Now this cat_col has only categorical data"
      ]
    },
    {
      "cell_type": "code",
      "metadata": {
        "colab": {
          "base_uri": "https://localhost:8080/"
        },
        "id": "9mpZ2KQURTw3",
        "outputId": "d94d1258-19e8-4ed7-e599-f4db81156abf"
      },
      "source": [
        "###########Checking NUll values############\n",
        "df.isnull().sum()"
      ],
      "execution_count": null,
      "outputs": [
        {
          "output_type": "execute_result",
          "data": {
            "text/plain": [
              "donor_age                    0\n",
              "donor_age_below_35           0\n",
              "donor_ABO                    0\n",
              "donor_CMV                    0\n",
              "recipient_age                0\n",
              "recipient_gender             0\n",
              "recipient_body_mass          2\n",
              "recipient_ABO                0\n",
              "recipient_rh                 0\n",
              "recipient_CMV                0\n",
              "disease                      0\n",
              "disease_group                0\n",
              "ABO_match                    0\n",
              "CMV_status                   0\n",
              "HLA_match                    0\n",
              "allel                        0\n",
              "HLA_group_1                  0\n",
              "risk_group                   0\n",
              "stem_cell_source             0\n",
              "tx_post_relapse              0\n",
              "CD34_x1e6_per_kg             0\n",
              "CD3_x1e8_per_kg              5\n",
              "CD3_to_CD34_ratio            5\n",
              "ANC_recovery                 0\n",
              "PLT_recovery                 0\n",
              "time_to_acute_GvHD_III_IV    0\n",
              "extensive_chronic_GvHD       0\n",
              "relapse                      0\n",
              "survival_time                0\n",
              "survival_status              0\n",
              "dtype: int64"
            ]
          },
          "metadata": {},
          "execution_count": 1540
        }
      ]
    },
    {
      "cell_type": "code",
      "metadata": {
        "id": "--64edEIKhWb"
      },
      "source": [
        ""
      ],
      "execution_count": null,
      "outputs": []
    },
    {
      "cell_type": "code",
      "metadata": {
        "id": "NLgafeS-KhSw"
      },
      "source": [
        ""
      ],
      "execution_count": null,
      "outputs": []
    },
    {
      "cell_type": "code",
      "metadata": {
        "colab": {
          "base_uri": "https://localhost:8080/"
        },
        "id": "0TAWWMoSKhO5",
        "outputId": "f6b5dc25-dbc9-4bbf-9129-90bd296cde9d"
      },
      "source": [
        "for col in num_col:\n",
        "    print('{} has {} values '.format(col,df[col].unique()))\n",
        "    print('\\n')"
      ],
      "execution_count": null,
      "outputs": [
        {
          "output_type": "stream",
          "name": "stdout",
          "text": [
            "donor_age has [22.830137 23.342466 26.394521 39.684932 33.358904 27.391781 34.520548\n",
            " 21.435616 32.641096 28.783562 29.731507 36.8      40.863014 30.60274\n",
            " 30.676712 41.164384 40.232877 40.821918 43.375342 31.745205 43.578082\n",
            " 42.380822 31.545205 24.780822 30.50411  20.605479 40.969863 39.983562\n",
            " 33.052055 39.172603 24.731507 24.353425 39.024658 23.446575 39.380822\n",
            " 20.961644 49.860274 43.517808 40.536986 21.4      34.273973 20.471233\n",
            " 44.380822 20.358904 31.526027 38.761644 28.805479 36.868493 29.772603\n",
            " 28.821918 30.287671 33.120548 39.641096 39.632877 34.169863 31.194521\n",
            " 30.389041 24.367123 37.287671 30.2      35.087671 29.161644 44.413699\n",
            " 55.40274  43.715068 45.915068 22.643836 47.112329 26.221918 24.476712\n",
            " 35.287671 31.671233 26.731507 39.643836 41.542466 42.268493 41.443836\n",
            " 29.964384 21.263014 21.756164 29.980822 22.112329 37.       33.550685\n",
            " 35.630137 40.052055 33.791781 32.372603 25.210959 28.276712 40.386301\n",
            " 21.972603 30.835616 22.408219 52.476712 21.128767 19.446575 30.156164\n",
            " 49.205479 41.873973 27.676712 40.339726 40.183562 33.915068 25.715068\n",
            " 28.709589 30.594521 35.764384 42.049315 39.249315 38.827397 22.528767\n",
            " 28.268493 28.723288 37.254795 35.79726  26.663014 43.065753 21.405479\n",
            " 25.284932 33.643836 33.857534 24.284932 51.991781 29.158904 36.435616\n",
            " 37.380822 22.493151 47.369863 40.317808 42.739726 22.863014 40.912329\n",
            " 35.627397 22.430137 34.005479 34.624658 46.00274  38.2      51.005479\n",
            " 36.789041 43.745205 43.126027 46.545205 30.279452 39.627397 20.394521\n",
            " 25.772603 40.391781 39.       23.09589  43.30411  19.663014 35.430137\n",
            " 25.506849 29.619178 45.136986 19.506849 40.419178 30.972603 29.306849\n",
            " 30.421918 24.575342 41.627397 23.578082 29.126027 22.257534 18.646575\n",
            " 24.180822 35.890411 29.928767 35.443836 28.073973 41.476712 40.947945\n",
            " 36.690411 42.416438 34.167123 37.060274 30.024658 30.854795 37.632877\n",
            " 37.575342 22.89589  27.347945 27.780822 55.553425] values \n",
            "\n",
            "\n",
            "recipient_age has [ 9.6  4.   6.6 18.1  1.3  8.9 14.4 18.2  7.9  4.7  1.9 13.4  5.1 11.5\n",
            " 17.8 13.5 17.9  0.6 17.7 14.7  9.7 13.9 10.9  6.7  8.5  0.7  2.8  8.4\n",
            "  8.6  4.6  3.1  1.7  1.6 16.6  2.2  2.1 13.3 13.8  4.1  9.9 11.4 11.3\n",
            " 12.1 15.1  8.3  6.9  4.9  5.   6.5  1.8  3.4  2.3 12.6  4.5 15.6 18.4\n",
            " 14.  14.2 12.7  3.9 14.8 12.2 11.8  3.8  7.4  5.5  9.2 14.6 14.1 15.5\n",
            " 11.2 20.2  8.2 15.4  7.6  9.4 15.3  7.2  5.7  6.1  3.2 18.3  9.5 17.3\n",
            " 16.5  7.7 18.7  5.6  9.   5.4  7.3  8.1  7.1 17.5 16.7 20.1 11.6  2.\n",
            " 17.4 16.  18.8 18.9  3.3  5.2  6.  17.   6.8 13.7 13.  10.  12.9  3.\n",
            "  6.4  4.2  4.4 12.5  3.6  2.9 16.1  4.3  8.8  7.5  4.8 10.4  8. ] values \n",
            "\n",
            "\n",
            "recipient_body_mass has [ 35.    20.6   23.4   50.     9.    40.    51.    56.    20.5   16.5\n",
            "  10.5   47.    18.1   42.    55.    30.    97.8    6.    64.    62.\n",
            "  43.2   31.    39.3   23.8   26.8    6.4   17.    14.3   38.3   20.\n",
            "  23.    15.    49.6   10.    11.25  63.    43.5   48.    15.3   29.\n",
            "  41.4   76.    34.1   60.4   48.8   38.5   28.5    7.5   19.5    8.15\n",
            "  14.    37.    13.    68.    52.    61.    54.9   11.9   49.    30.8\n",
            "  45.5   46.7   58.    56.5   16.    26.5   28.    26.    37.5   44.3\n",
            "  43.    61.3   14.1   34.    62.5   11.2   72.5   24.5   70.      nan\n",
            "  22.6   54.1   51.1   24.3   19.    33.    17.2   73.    55.2   18.6\n",
            "  52.7   25.2   19.6   25.    90.    26.9   32.    17.6   65.     9.6\n",
            "  50.6   60.    54.5   51.3   12.    59.    20.8   42.4   44.5  103.4\n",
            "  71.    58.9   20.9   17.3   14.8   54.6   35.5   17.5   44.1   40.3\n",
            "  36.    24.    25.4   38.4   18.3   18.    35.9   30.5   50.8   57.\n",
            "  44.  ] values \n",
            "\n",
            "\n",
            "CD34_x1e6_per_kg has [ 7.2    4.5    7.94   4.25  51.85   3.27  17.78   6.41  23.54   7.69\n",
            " 17.66  14.46  15.42   3.14   8.03   4.79   5.45  20.72  22.97   8.84\n",
            "  0.82   6.34  27.    20.45   2.87  12.95   5.91  11.27  23.21   5.86\n",
            "  9.78   9.81   6.45  12.58   5.37   9.97  15.28  22.02  19.59   8.73\n",
            "  5.81   2.29  31.57   5.33  12.94  10.3    3.35  12.2    2.68   1.93\n",
            "  2.26  16.65  16.02  16.46  16.2   57.78  21.74   9.17   1.7   38.32\n",
            " 20.44   6.66   0.79   1.85   1.99   2.34  10.78  24.34  24.09   8.91\n",
            "  9.89  10.44   8.82   3.65  14.12   1.91   8.58  43.96   3.53  11.68\n",
            " 11.34   7.91  10.12   9.47   1.9   16.     1.38   9.11  12.09   1.31\n",
            " 17.45   1.58  34.1   11.65  17.59   5.08  17.12   6.9   17.02  14.87\n",
            " 21.59   9.28  36.34   7.1    2.81   6.36   9.38  18.59   1.28  11.26\n",
            " 15.51  20.     7.    17.3   14.74   4.27   7.78  24.7    7.97  10.75\n",
            "  4.37   4.44   7.45  10.14  10.85  20.41   6.28   4.49  15.47   9.73\n",
            " 19.3   12.04  14.66   8.34   2.88   1.64   5.25   4.77   3.5   44.\n",
            "  6.78  17.61  10.96  12.36   9.72   6.55   2.25  48.63   1.88   9.86\n",
            "  6.62   8.63   9.37   1.22   4.22  39.07   3.16   5.01  12.52  10.\n",
            "  8.98  12.17   4.54  21.99  12.03   3.28  10.89  15.12  32.73  10.38\n",
            "  6.87  11.283  7.47  36.65  11.45  14.43   8.11   7.87  11.08   4.64\n",
            "  7.73  15.41   9.91 ] values \n",
            "\n",
            "\n",
            "CD3_x1e8_per_kg has [ 5.38  0.41  0.42  0.14 13.05  0.39  7.39   nan  6.24  7.43  1.49  6.45\n",
            "  5.64  0.85  3.55  0.4   3.42 16.31  5.16  2.22  5.15  7.08  3.54  0.21\n",
            "  7.74  3.3   3.48 11.59  3.17  4.11  5.81  3.6   1.93  5.41  1.74  8.06\n",
            "  3.36  3.94  8.39  0.98  6.54  5.75  1.83  1.71  0.74  1.66  0.73  0.59\n",
            "  4.15 11.85  8.71  8.63  5.24  7.32  8.94  0.13 12.23  0.99  0.29  0.05\n",
            "  3.47  8.75 16.07  4.78  3.38  4.26  4.94  1.24  0.15  0.77  0.84  5.8\n",
            "  5.4   3.7   2.14  0.36 10.06  3.39  6.59  0.09  5.09  0.25  1.68  7.35\n",
            "  7.16  5.27  4.97  2.33  5.83  7.93  4.83  2.84 13.77  2.45  5.07  3.32\n",
            "  6.35  0.2   2.97 13.27  8.03  4.72  6.02  0.04  4.46  4.9   5.11 10.56\n",
            "  0.97  2.4   1.77  1.96 10.14 15.9   1.   11.49  3.25 10.49  3.19  6.92\n",
            "  3.08  0.17  0.27  4.59  0.47  8.48  6.25  1.03  1.97  6.3  13.01  0.24\n",
            "  2.85  2.75  7.15  0.49  3.75  1.45  1.42  6.42  2.05  9.27  4.09  7.6\n",
            "  6.56  0.37 11.71  3.86 10.61  4.86  5.02  5.65  2.76  8.85 20.02  6.85\n",
            "  0.5   7.81  5.19  4.39  4.47  4.73  1.91 10.45] values \n",
            "\n",
            "\n",
            "CD3_to_CD34_ratio has [ 1.33876  11.078295 19.01323  29.481647  3.972255  8.412758  2.406248\n",
            "       nan  3.772555  1.035244 11.883664  2.242442  2.734654  3.713956\n",
            "  2.26309  12.028841  1.595133  3.676416  1.408646  1.711795  0.36872\n",
            "  1.231287  3.81488   5.781319 13.890231  1.672532  1.788507  3.242425\n",
            "  2.001808  1.849607  2.380569  1.687395 16.186239  3.49847   2.778202\n",
            "  1.841206  8.784289  2.733138  5.837647  2.215047  0.692898  2.335954\n",
            "  4.824785  0.927108  7.060927  6.022997  4.517296  7.369445  3.650173\n",
            "  3.280961  5.69203   4.011209  1.351711  1.890822  1.876834 11.017048\n",
            "  2.969988  1.025586 12.958576  3.133461  5.761517  6.739936  6.157698\n",
            " 14.130301  6.750632 47.869839  3.10536   2.780611  1.498879  1.865411\n",
            "  2.927597  2.449389  1.786075 12.479226 11.405197 12.36598  11.123182\n",
            "  6.002989  4.184092  2.014498  2.098238  2.734269  4.420206  5.276616\n",
            "  1.589775  2.687529  1.833687 14.642869  3.430293  6.34585   6.928599\n",
            "  2.394072  0.709805  1.365785  2.337369  1.38917   7.305471  2.552321\n",
            "  2.722087  7.517388  2.498917  0.204132  2.59522   1.848795  1.6173\n",
            "  2.929081  6.537721  3.787339  1.168705  2.491794  1.483826  7.805782\n",
            "  2.449323 99.56097   1.744246  5.045842  1.558548  1.018042  4.489022\n",
            "  1.851411  4.2187    5.164562  1.070314  1.283387  1.082899  4.468419\n",
            "  1.346764  2.997231  1.839537  3.774746  2.118673  2.703806 56.065024\n",
            "  9.456741 19.210978  1.038752  7.423372  3.597279  0.799458  2.818993\n",
            " 10.611083  6.258729  1.543305  3.065758  0.455355  3.737477  7.910679\n",
            "  3.465003  2.40947   1.2068    7.243234  2.496128  0.843646  2.965539\n",
            "  6.081859 12.984467  2.446267  1.350554  2.443228  1.181537  1.854875\n",
            " 12.272474  1.878043  3.120205  0.309048  2.241175  2.929514  4.061324\n",
            "  2.069057  1.214932  4.094514  0.843967  1.830242  1.671314  2.205359\n",
            " 16.32616   1.007599  2.426122  2.52275   1.038858  1.635559  8.07777\n",
            "  0.948135] values \n",
            "\n",
            "\n",
            "ANC_recovery has [1.9e+01 1.6e+01 2.3e+01 1.4e+01 1.7e+01 2.2e+01 1.5e+01 1.2e+01 1.1e+01\n",
            " 2.0e+01 1.3e+01 2.4e+01 2.6e+01 1.8e+01 2.1e+01 1.0e+06 9.0e+00 1.0e+01] values \n",
            "\n",
            "\n",
            "PLT_recovery has [5.10e+01 3.70e+01 2.00e+01 2.90e+01 1.40e+01 7.00e+01 5.80e+01 1.70e+01\n",
            " 1.30e+01 1.60e+01 4.80e+01 1.90e+01 2.30e+01 7.40e+01 2.50e+01 3.00e+01\n",
            " 1.80e+01 2.70e+01 1.10e+01 8.80e+01 1.00e+06 6.60e+01 1.12e+02 2.40e+01\n",
            " 1.50e+01 2.85e+02 7.20e+01 1.07e+02 2.10e+01 1.20e+01 1.00e+01 7.90e+01\n",
            " 3.20e+01 1.19e+02 2.20e+01 4.70e+01 1.70e+02 4.40e+01 5.60e+01 1.11e+02\n",
            " 2.60e+01 1.89e+02 4.20e+01 9.10e+01 4.60e+01 3.30e+01 9.00e+00 2.80e+01\n",
            " 2.47e+02 1.00e+02] values \n",
            "\n",
            "\n",
            "time_to_acute_GvHD_III_IV has [3.2e+01 1.0e+06 1.9e+01 1.8e+01 2.2e+01 2.1e+01 1.6e+01 2.0e+01 3.6e+01\n",
            " 1.4e+01 1.5e+01 6.2e+01 4.9e+01 2.4e+01 1.1e+01 2.6e+01 9.9e+01 5.8e+01\n",
            " 1.0e+02 5.5e+01 3.3e+01 3.4e+01 4.2e+01 2.7e+01 1.0e+01 5.1e+01 1.7e+01\n",
            " 5.4e+01] values \n",
            "\n",
            "\n",
            "survival_time has [ 999.  163.  435.   53. 2043. 2800.   41.   45.  671.  676.  599. 2503.\n",
            "  964.  335. 1432. 3288.   58. 1615.  704.  884.  115.  330. 2231.  149.\n",
            " 2105.  914. 1522.   35. 1041.  576.  531.   96. 1084. 2293.  321.  111.\n",
            " 1690.  452. 1376.   28. 2118.   60. 1327.  150. 1006. 1754. 2354. 1000.\n",
            "  942. 2926. 1346. 1424. 2036. 1958. 1791.  137.   11. 2279.  261.  181.\n",
            " 1949.   19. 1838.   55.  224.  606.  306. 1728. 1587.  445. 1243.   66.\n",
            " 1937.  102.  113. 1397.  849.  200.   26.  403. 1018. 2699.  767.  580.\n",
            "  202. 1195.  136.  385.  161.  824. 1257. 1280.   67.  191.  130. 2286.\n",
            "  510.   56.  745.  534.  454.   68.  511.  274. 1593.  472. 1138. 1839.\n",
            "   57.  672. 2117.  236. 1679.  718.   48. 2153.  117. 1781.  290. 2112.\n",
            " 1301.  108.  196. 1188.   10. 1171. 2525. 1025.  182.  996.   15.   42.\n",
            " 2337. 1385.  766. 2932. 2761.  214.  494.  754.   59.   64. 1214. 1895.\n",
            "   90.  246. 2317. 2461.  413. 1741. 3364.  353. 1074. 1692.  174.  433.\n",
            "  421. 1308. 2483. 1297.  397.  458.  147.   31. 2208. 2373. 1185. 1985.\n",
            " 1873. 1627.    6.  634.  382. 1109.] values \n",
            "\n",
            "\n",
            "survival_status has [0 1] values \n",
            "\n",
            "\n"
          ]
        }
      ]
    },
    {
      "cell_type": "markdown",
      "metadata": {
        "id": "-zWqXgQb5vsM"
      },
      "source": [
        "This rows num_col has some 'nan' values"
      ]
    },
    {
      "cell_type": "code",
      "metadata": {
        "colab": {
          "base_uri": "https://localhost:8080/",
          "height": 226
        },
        "id": "FqE6VRGCLZW6",
        "outputId": "639bd6c3-08fa-42b6-fde4-e1903ab17bfa"
      },
      "source": [
        "df[df['CD3_to_CD34_ratio'].isnull()]"
      ],
      "execution_count": null,
      "outputs": [
        {
          "output_type": "execute_result",
          "data": {
            "text/html": [
              "<div>\n",
              "<style scoped>\n",
              "    .dataframe tbody tr th:only-of-type {\n",
              "        vertical-align: middle;\n",
              "    }\n",
              "\n",
              "    .dataframe tbody tr th {\n",
              "        vertical-align: top;\n",
              "    }\n",
              "\n",
              "    .dataframe thead th {\n",
              "        text-align: right;\n",
              "    }\n",
              "</style>\n",
              "<table border=\"1\" class=\"dataframe\">\n",
              "  <thead>\n",
              "    <tr style=\"text-align: right;\">\n",
              "      <th></th>\n",
              "      <th>donor_age</th>\n",
              "      <th>donor_age_below_35</th>\n",
              "      <th>donor_ABO</th>\n",
              "      <th>donor_CMV</th>\n",
              "      <th>recipient_age</th>\n",
              "      <th>recipient_gender</th>\n",
              "      <th>recipient_body_mass</th>\n",
              "      <th>recipient_ABO</th>\n",
              "      <th>recipient_rh</th>\n",
              "      <th>recipient_CMV</th>\n",
              "      <th>disease</th>\n",
              "      <th>disease_group</th>\n",
              "      <th>ABO_match</th>\n",
              "      <th>CMV_status</th>\n",
              "      <th>HLA_match</th>\n",
              "      <th>allel</th>\n",
              "      <th>HLA_group_1</th>\n",
              "      <th>risk_group</th>\n",
              "      <th>stem_cell_source</th>\n",
              "      <th>tx_post_relapse</th>\n",
              "      <th>CD34_x1e6_per_kg</th>\n",
              "      <th>CD3_x1e8_per_kg</th>\n",
              "      <th>CD3_to_CD34_ratio</th>\n",
              "      <th>ANC_recovery</th>\n",
              "      <th>PLT_recovery</th>\n",
              "      <th>time_to_acute_GvHD_III_IV</th>\n",
              "      <th>extensive_chronic_GvHD</th>\n",
              "      <th>relapse</th>\n",
              "      <th>survival_time</th>\n",
              "      <th>survival_status</th>\n",
              "    </tr>\n",
              "  </thead>\n",
              "  <tbody>\n",
              "    <tr>\n",
              "      <th>7</th>\n",
              "      <td>21.435616</td>\n",
              "      <td>yes</td>\n",
              "      <td>0</td>\n",
              "      <td>present</td>\n",
              "      <td>18.2</td>\n",
              "      <td>male</td>\n",
              "      <td>56.0</td>\n",
              "      <td>A</td>\n",
              "      <td>plus</td>\n",
              "      <td>absent</td>\n",
              "      <td>nonmalignant</td>\n",
              "      <td>nonmalignant</td>\n",
              "      <td>mismatched</td>\n",
              "      <td>1</td>\n",
              "      <td>7/10</td>\n",
              "      <td>3</td>\n",
              "      <td>mismatched</td>\n",
              "      <td>low</td>\n",
              "      <td>bone_marrow</td>\n",
              "      <td>no</td>\n",
              "      <td>6.41</td>\n",
              "      <td>NaN</td>\n",
              "      <td>NaN</td>\n",
              "      <td>22.0</td>\n",
              "      <td>58.0</td>\n",
              "      <td>22.0</td>\n",
              "      <td>?</td>\n",
              "      <td>no</td>\n",
              "      <td>45.0</td>\n",
              "      <td>1</td>\n",
              "    </tr>\n",
              "    <tr>\n",
              "      <th>81</th>\n",
              "      <td>22.112329</td>\n",
              "      <td>yes</td>\n",
              "      <td>A</td>\n",
              "      <td>absent</td>\n",
              "      <td>14.6</td>\n",
              "      <td>male</td>\n",
              "      <td>37.5</td>\n",
              "      <td>B</td>\n",
              "      <td>minus</td>\n",
              "      <td>present</td>\n",
              "      <td>lymphoma</td>\n",
              "      <td>malignant</td>\n",
              "      <td>mismatched</td>\n",
              "      <td>2</td>\n",
              "      <td>10/10</td>\n",
              "      <td>0</td>\n",
              "      <td>matched</td>\n",
              "      <td>low</td>\n",
              "      <td>peripheral_blood</td>\n",
              "      <td>no</td>\n",
              "      <td>7.91</td>\n",
              "      <td>NaN</td>\n",
              "      <td>NaN</td>\n",
              "      <td>1000000.0</td>\n",
              "      <td>1000000.0</td>\n",
              "      <td>1000000.0</td>\n",
              "      <td>?</td>\n",
              "      <td>no</td>\n",
              "      <td>26.0</td>\n",
              "      <td>1</td>\n",
              "    </tr>\n",
              "    <tr>\n",
              "      <th>86</th>\n",
              "      <td>33.791781</td>\n",
              "      <td>yes</td>\n",
              "      <td>B</td>\n",
              "      <td>absent</td>\n",
              "      <td>11.2</td>\n",
              "      <td>male</td>\n",
              "      <td>34.0</td>\n",
              "      <td>A</td>\n",
              "      <td>plus</td>\n",
              "      <td>absent</td>\n",
              "      <td>chronic</td>\n",
              "      <td>malignant</td>\n",
              "      <td>mismatched</td>\n",
              "      <td>0</td>\n",
              "      <td>10/10</td>\n",
              "      <td>0</td>\n",
              "      <td>matched</td>\n",
              "      <td>low</td>\n",
              "      <td>bone_marrow</td>\n",
              "      <td>no</td>\n",
              "      <td>1.38</td>\n",
              "      <td>NaN</td>\n",
              "      <td>NaN</td>\n",
              "      <td>22.0</td>\n",
              "      <td>56.0</td>\n",
              "      <td>1000000.0</td>\n",
              "      <td>no</td>\n",
              "      <td>no</td>\n",
              "      <td>2699.0</td>\n",
              "      <td>0</td>\n",
              "    </tr>\n",
              "    <tr>\n",
              "      <th>92</th>\n",
              "      <td>30.835616</td>\n",
              "      <td>yes</td>\n",
              "      <td>0</td>\n",
              "      <td>absent</td>\n",
              "      <td>5.0</td>\n",
              "      <td>female</td>\n",
              "      <td>NaN</td>\n",
              "      <td>0</td>\n",
              "      <td>plus</td>\n",
              "      <td>absent</td>\n",
              "      <td>ALL</td>\n",
              "      <td>malignant</td>\n",
              "      <td>matched</td>\n",
              "      <td>0</td>\n",
              "      <td>9/10</td>\n",
              "      <td>1</td>\n",
              "      <td>one_antigen</td>\n",
              "      <td>low</td>\n",
              "      <td>peripheral_blood</td>\n",
              "      <td>no</td>\n",
              "      <td>34.10</td>\n",
              "      <td>NaN</td>\n",
              "      <td>NaN</td>\n",
              "      <td>9.0</td>\n",
              "      <td>10.0</td>\n",
              "      <td>1000000.0</td>\n",
              "      <td>yes</td>\n",
              "      <td>no</td>\n",
              "      <td>385.0</td>\n",
              "      <td>1</td>\n",
              "    </tr>\n",
              "    <tr>\n",
              "      <th>102</th>\n",
              "      <td>40.183562</td>\n",
              "      <td>no</td>\n",
              "      <td>0</td>\n",
              "      <td>absent</td>\n",
              "      <td>18.3</td>\n",
              "      <td>female</td>\n",
              "      <td>NaN</td>\n",
              "      <td>0</td>\n",
              "      <td>plus</td>\n",
              "      <td>present</td>\n",
              "      <td>ALL</td>\n",
              "      <td>malignant</td>\n",
              "      <td>matched</td>\n",
              "      <td>2</td>\n",
              "      <td>9/10</td>\n",
              "      <td>1</td>\n",
              "      <td>one_antigen</td>\n",
              "      <td>high</td>\n",
              "      <td>peripheral_blood</td>\n",
              "      <td>no</td>\n",
              "      <td>9.28</td>\n",
              "      <td>NaN</td>\n",
              "      <td>NaN</td>\n",
              "      <td>13.0</td>\n",
              "      <td>27.0</td>\n",
              "      <td>1000000.0</td>\n",
              "      <td>?</td>\n",
              "      <td>no</td>\n",
              "      <td>56.0</td>\n",
              "      <td>1</td>\n",
              "    </tr>\n",
              "  </tbody>\n",
              "</table>\n",
              "</div>"
            ],
            "text/plain": [
              "     donor_age donor_age_below_35  ... survival_time survival_status\n",
              "7    21.435616                yes  ...          45.0               1\n",
              "81   22.112329                yes  ...          26.0               1\n",
              "86   33.791781                yes  ...        2699.0               0\n",
              "92   30.835616                yes  ...         385.0               1\n",
              "102  40.183562                 no  ...          56.0               1\n",
              "\n",
              "[5 rows x 30 columns]"
            ]
          },
          "metadata": {},
          "execution_count": 1542
        }
      ]
    },
    {
      "cell_type": "markdown",
      "metadata": {
        "id": "HMBQRLC25_hU"
      },
      "source": [
        "List of null in this dataframe"
      ]
    },
    {
      "cell_type": "code",
      "metadata": {
        "id": "LnVttzT0LZT0"
      },
      "source": [
        ""
      ],
      "execution_count": null,
      "outputs": []
    },
    {
      "cell_type": "code",
      "metadata": {
        "id": "u-umLtsILZQ_"
      },
      "source": [
        ""
      ],
      "execution_count": null,
      "outputs": []
    },
    {
      "cell_type": "code",
      "metadata": {
        "colab": {
          "base_uri": "https://localhost:8080/"
        },
        "id": "QSKFDKxsLZOE",
        "outputId": "8e568366-c479-4161-d78b-5439d76fd7f8"
      },
      "source": [
        "df[df['CD3_to_CD34_ratio'].isnull()].index"
      ],
      "execution_count": null,
      "outputs": [
        {
          "output_type": "execute_result",
          "data": {
            "text/plain": [
              "Int64Index([7, 81, 86, 92, 102], dtype='int64')"
            ]
          },
          "metadata": {},
          "execution_count": 1543
        }
      ]
    },
    {
      "cell_type": "code",
      "metadata": {
        "colab": {
          "base_uri": "https://localhost:8080/"
        },
        "id": "OrFRCO6jLZKo",
        "outputId": "14746998-27b1-4ea9-fa0a-5d30e1529eed"
      },
      "source": [
        "df.info()"
      ],
      "execution_count": null,
      "outputs": [
        {
          "output_type": "stream",
          "name": "stdout",
          "text": [
            "<class 'pandas.core.frame.DataFrame'>\n",
            "RangeIndex: 187 entries, 0 to 186\n",
            "Data columns (total 30 columns):\n",
            " #   Column                     Non-Null Count  Dtype  \n",
            "---  ------                     --------------  -----  \n",
            " 0   donor_age                  187 non-null    float64\n",
            " 1   donor_age_below_35         187 non-null    object \n",
            " 2   donor_ABO                  187 non-null    object \n",
            " 3   donor_CMV                  187 non-null    object \n",
            " 4   recipient_age              187 non-null    float64\n",
            " 5   recipient_gender           187 non-null    object \n",
            " 6   recipient_body_mass        185 non-null    float64\n",
            " 7   recipient_ABO              187 non-null    object \n",
            " 8   recipient_rh               187 non-null    object \n",
            " 9   recipient_CMV              187 non-null    object \n",
            " 10  disease                    187 non-null    object \n",
            " 11  disease_group              187 non-null    object \n",
            " 12  ABO_match                  187 non-null    object \n",
            " 13  CMV_status                 187 non-null    object \n",
            " 14  HLA_match                  187 non-null    object \n",
            " 15  allel                      187 non-null    object \n",
            " 16  HLA_group_1                187 non-null    object \n",
            " 17  risk_group                 187 non-null    object \n",
            " 18  stem_cell_source           187 non-null    object \n",
            " 19  tx_post_relapse            187 non-null    object \n",
            " 20  CD34_x1e6_per_kg           187 non-null    float64\n",
            " 21  CD3_x1e8_per_kg            182 non-null    float64\n",
            " 22  CD3_to_CD34_ratio          182 non-null    float64\n",
            " 23  ANC_recovery               187 non-null    float64\n",
            " 24  PLT_recovery               187 non-null    float64\n",
            " 25  time_to_acute_GvHD_III_IV  187 non-null    float64\n",
            " 26  extensive_chronic_GvHD     187 non-null    object \n",
            " 27  relapse                    187 non-null    object \n",
            " 28  survival_time              187 non-null    float64\n",
            " 29  survival_status            187 non-null    int64  \n",
            "dtypes: float64(10), int64(1), object(19)\n",
            "memory usage: 44.0+ KB\n"
          ]
        }
      ]
    },
    {
      "cell_type": "code",
      "metadata": {
        "colab": {
          "base_uri": "https://localhost:8080/",
          "height": 926
        },
        "id": "fXYph8gRFaYf",
        "outputId": "785576d5-54c9-4655-b9d3-6c7232b63027"
      },
      "source": [
        "##########Ploting Data##########\n",
        "plt.figure(figsize=(30,20))\n",
        "\n",
        "for i, feature in enumerate(num_col):\n",
        "    plt.subplot(5,3,i+1)\n",
        "    df[feature].hist()\n",
        "    plt.title(feature)"
      ],
      "execution_count": null,
      "outputs": [
        {
          "output_type": "display_data",
          "data": {
            "image/png": "[encoded data removed]",
            "text/plain": [
              "<Figure size 2160x1440 with 11 Axes>"
            ]
          },
          "metadata": {
            "needs_background": "light"
          }
        }
      ]
    },
    {
      "cell_type": "code",
      "metadata": {
        "id": "6dyzAS7svBUo"
      },
      "source": [
        ""
      ],
      "execution_count": null,
      "outputs": []
    },
    {
      "cell_type": "code",
      "metadata": {
        "colab": {
          "base_uri": "https://localhost:8080/"
        },
        "id": "MLSc-WNsFv5f",
        "outputId": "a448004c-a2c2-4388-e42d-01230a63932b"
      },
      "source": [
        "len(cat_col)"
      ],
      "execution_count": null,
      "outputs": [
        {
          "output_type": "execute_result",
          "data": {
            "text/plain": [
              "19"
            ]
          },
          "metadata": {},
          "execution_count": 1546
        }
      ]
    },
    {
      "cell_type": "code",
      "metadata": {
        "id": "_2DttSywFv8y",
        "colab": {
          "base_uri": "https://localhost:8080/",
          "height": 297
        },
        "outputId": "38243167-05f2-46a8-9195-e132c62e3493"
      },
      "source": [
        "sns.countplot(df['recipient_gender'])"
      ],
      "execution_count": null,
      "outputs": [
        {
          "output_type": "execute_result",
          "data": {
            "text/plain": [
              "<matplotlib.axes._subplots.AxesSubplot at 0x7f005acf0390>"
            ]
          },
          "metadata": {},
          "execution_count": 1547
        },
        {
          "output_type": "display_data",
          "data": {
            "image/png": "[encoded data removed]",
            "text/plain": [
              "<Figure size 432x288 with 1 Axes>"
            ]
          },
          "metadata": {
            "needs_background": "light"
          }
        }
      ]
    },
    {
      "cell_type": "code",
      "metadata": {
        "colab": {
          "base_uri": "https://localhost:8080/",
          "height": 298
        },
        "id": "xC1rv8cCFwBV",
        "outputId": "94a719f2-d8ac-42ee-ce22-96fe4591940e"
      },
      "source": [
        "sns.countplot(df['stem_cell_source'])"
      ],
      "execution_count": null,
      "outputs": [
        {
          "output_type": "execute_result",
          "data": {
            "text/plain": [
              "<matplotlib.axes._subplots.AxesSubplot at 0x7f0060904ad0>"
            ]
          },
          "metadata": {},
          "execution_count": 1548
        },
        {
          "output_type": "display_data",
          "data": {
            "image/png": "[encoded data removed]",
            "text/plain": [
              "<Figure size 432x288 with 1 Axes>"
            ]
          },
          "metadata": {
            "needs_background": "light"
          }
        }
      ]
    },
    {
      "cell_type": "code",
      "metadata": {
        "colab": {
          "base_uri": "https://localhost:8080/",
          "height": 394
        },
        "id": "tksEpG5bGL25",
        "outputId": "56a1c635-a4bc-47f5-9555-5e0caa1cf6c7"
      },
      "source": [
        "df.corr()\n"
      ],
      "execution_count": null,
      "outputs": [
        {
          "output_type": "execute_result",
          "data": {
            "text/html": [
              "<div>\n",
              "<style scoped>\n",
              "    .dataframe tbody tr th:only-of-type {\n",
              "        vertical-align: middle;\n",
              "    }\n",
              "\n",
              "    .dataframe tbody tr th {\n",
              "        vertical-align: top;\n",
              "    }\n",
              "\n",
              "    .dataframe thead th {\n",
              "        text-align: right;\n",
              "    }\n",
              "</style>\n",
              "<table border=\"1\" class=\"dataframe\">\n",
              "  <thead>\n",
              "    <tr style=\"text-align: right;\">\n",
              "      <th></th>\n",
              "      <th>donor_age</th>\n",
              "      <th>recipient_age</th>\n",
              "      <th>recipient_body_mass</th>\n",
              "      <th>CD34_x1e6_per_kg</th>\n",
              "      <th>CD3_x1e8_per_kg</th>\n",
              "      <th>CD3_to_CD34_ratio</th>\n",
              "      <th>ANC_recovery</th>\n",
              "      <th>PLT_recovery</th>\n",
              "      <th>time_to_acute_GvHD_III_IV</th>\n",
              "      <th>survival_time</th>\n",
              "      <th>survival_status</th>\n",
              "    </tr>\n",
              "  </thead>\n",
              "  <tbody>\n",
              "    <tr>\n",
              "      <th>donor_age</th>\n",
              "      <td>1.000000</td>\n",
              "      <td>0.094282</td>\n",
              "      <td>0.106707</td>\n",
              "      <td>0.072530</td>\n",
              "      <td>0.023555</td>\n",
              "      <td>0.144919</td>\n",
              "      <td>-0.005872</td>\n",
              "      <td>-0.056949</td>\n",
              "      <td>0.016548</td>\n",
              "      <td>0.005603</td>\n",
              "      <td>0.060384</td>\n",
              "    </tr>\n",
              "    <tr>\n",
              "      <th>recipient_age</th>\n",
              "      <td>0.094282</td>\n",
              "      <td>1.000000</td>\n",
              "      <td>0.897538</td>\n",
              "      <td>-0.454347</td>\n",
              "      <td>-0.430737</td>\n",
              "      <td>0.053913</td>\n",
              "      <td>0.114914</td>\n",
              "      <td>0.101815</td>\n",
              "      <td>0.136641</td>\n",
              "      <td>-0.137583</td>\n",
              "      <td>0.203406</td>\n",
              "    </tr>\n",
              "    <tr>\n",
              "      <th>recipient_body_mass</th>\n",
              "      <td>0.106707</td>\n",
              "      <td>0.897538</td>\n",
              "      <td>1.000000</td>\n",
              "      <td>-0.465137</td>\n",
              "      <td>-0.453562</td>\n",
              "      <td>0.061390</td>\n",
              "      <td>0.126368</td>\n",
              "      <td>0.120668</td>\n",
              "      <td>0.132369</td>\n",
              "      <td>-0.145298</td>\n",
              "      <td>0.238110</td>\n",
              "    </tr>\n",
              "    <tr>\n",
              "      <th>CD34_x1e6_per_kg</th>\n",
              "      <td>0.072530</td>\n",
              "      <td>-0.454347</td>\n",
              "      <td>-0.465137</td>\n",
              "      <td>1.000000</td>\n",
              "      <td>0.583284</td>\n",
              "      <td>-0.130573</td>\n",
              "      <td>-0.086835</td>\n",
              "      <td>-0.180256</td>\n",
              "      <td>0.010245</td>\n",
              "      <td>0.139313</td>\n",
              "      <td>-0.146653</td>\n",
              "    </tr>\n",
              "    <tr>\n",
              "      <th>CD3_x1e8_per_kg</th>\n",
              "      <td>0.023555</td>\n",
              "      <td>-0.430737</td>\n",
              "      <td>-0.453562</td>\n",
              "      <td>0.583284</td>\n",
              "      <td>1.000000</td>\n",
              "      <td>-0.370918</td>\n",
              "      <td>-0.099749</td>\n",
              "      <td>-0.113199</td>\n",
              "      <td>-0.035355</td>\n",
              "      <td>0.060991</td>\n",
              "      <td>-0.232331</td>\n",
              "    </tr>\n",
              "    <tr>\n",
              "      <th>CD3_to_CD34_ratio</th>\n",
              "      <td>0.144919</td>\n",
              "      <td>0.053913</td>\n",
              "      <td>0.061390</td>\n",
              "      <td>-0.130573</td>\n",
              "      <td>-0.370918</td>\n",
              "      <td>1.000000</td>\n",
              "      <td>0.024662</td>\n",
              "      <td>-0.010890</td>\n",
              "      <td>0.030236</td>\n",
              "      <td>0.044016</td>\n",
              "      <td>0.089868</td>\n",
              "    </tr>\n",
              "    <tr>\n",
              "      <th>ANC_recovery</th>\n",
              "      <td>-0.005872</td>\n",
              "      <td>0.114914</td>\n",
              "      <td>0.126368</td>\n",
              "      <td>-0.086835</td>\n",
              "      <td>-0.099749</td>\n",
              "      <td>0.024662</td>\n",
              "      <td>1.000000</td>\n",
              "      <td>0.524145</td>\n",
              "      <td>0.089205</td>\n",
              "      <td>-0.180974</td>\n",
              "      <td>0.181569</td>\n",
              "    </tr>\n",
              "    <tr>\n",
              "      <th>PLT_recovery</th>\n",
              "      <td>-0.056949</td>\n",
              "      <td>0.101815</td>\n",
              "      <td>0.120668</td>\n",
              "      <td>-0.180256</td>\n",
              "      <td>-0.113199</td>\n",
              "      <td>-0.010890</td>\n",
              "      <td>0.524145</td>\n",
              "      <td>1.000000</td>\n",
              "      <td>-0.052677</td>\n",
              "      <td>-0.325751</td>\n",
              "      <td>0.346395</td>\n",
              "    </tr>\n",
              "    <tr>\n",
              "      <th>time_to_acute_GvHD_III_IV</th>\n",
              "      <td>0.016548</td>\n",
              "      <td>0.136641</td>\n",
              "      <td>0.132369</td>\n",
              "      <td>0.010245</td>\n",
              "      <td>-0.035355</td>\n",
              "      <td>0.030236</td>\n",
              "      <td>0.089205</td>\n",
              "      <td>-0.052677</td>\n",
              "      <td>1.000000</td>\n",
              "      <td>0.131168</td>\n",
              "      <td>-0.100601</td>\n",
              "    </tr>\n",
              "    <tr>\n",
              "      <th>survival_time</th>\n",
              "      <td>0.005603</td>\n",
              "      <td>-0.137583</td>\n",
              "      <td>-0.145298</td>\n",
              "      <td>0.139313</td>\n",
              "      <td>0.060991</td>\n",
              "      <td>0.044016</td>\n",
              "      <td>-0.180974</td>\n",
              "      <td>-0.325751</td>\n",
              "      <td>0.131168</td>\n",
              "      <td>1.000000</td>\n",
              "      <td>-0.761462</td>\n",
              "    </tr>\n",
              "    <tr>\n",
              "      <th>survival_status</th>\n",
              "      <td>0.060384</td>\n",
              "      <td>0.203406</td>\n",
              "      <td>0.238110</td>\n",
              "      <td>-0.146653</td>\n",
              "      <td>-0.232331</td>\n",
              "      <td>0.089868</td>\n",
              "      <td>0.181569</td>\n",
              "      <td>0.346395</td>\n",
              "      <td>-0.100601</td>\n",
              "      <td>-0.761462</td>\n",
              "      <td>1.000000</td>\n",
              "    </tr>\n",
              "  </tbody>\n",
              "</table>\n",
              "</div>"
            ],
            "text/plain": [
              "                           donor_age  ...  survival_status\n",
              "donor_age                   1.000000  ...         0.060384\n",
              "recipient_age               0.094282  ...         0.203406\n",
              "recipient_body_mass         0.106707  ...         0.238110\n",
              "CD34_x1e6_per_kg            0.072530  ...        -0.146653\n",
              "CD3_x1e8_per_kg             0.023555  ...        -0.232331\n",
              "CD3_to_CD34_ratio           0.144919  ...         0.089868\n",
              "ANC_recovery               -0.005872  ...         0.181569\n",
              "PLT_recovery               -0.056949  ...         0.346395\n",
              "time_to_acute_GvHD_III_IV   0.016548  ...        -0.100601\n",
              "survival_time               0.005603  ...        -0.761462\n",
              "survival_status             0.060384  ...         1.000000\n",
              "\n",
              "[11 rows x 11 columns]"
            ]
          },
          "metadata": {},
          "execution_count": 1549
        }
      ]
    },
    {
      "cell_type": "code",
      "metadata": {
        "colab": {
          "base_uri": "https://localhost:8080/",
          "height": 626
        },
        "id": "WudQSmqQGL53",
        "outputId": "b04bcbfd-9866-46f7-e24d-da4a95e37c1e"
      },
      "source": [
        "########## Correlation shows which is correalted with which column############\n",
        "plt.figure(figsize=(10,8))\n",
        "df.corr()\n",
        "sns.heatmap(df.corr(),annot=True)"
      ],
      "execution_count": null,
      "outputs": [
        {
          "output_type": "execute_result",
          "data": {
            "text/plain": [
              "<matplotlib.axes._subplots.AxesSubplot at 0x7f005e33b710>"
            ]
          },
          "metadata": {},
          "execution_count": 1550
        },
        {
          "output_type": "display_data",
          "data": {
            "image/png": "[encoded data removed]",
            "text/plain": [
              "<Figure size 720x576 with 2 Axes>"
            ]
          },
          "metadata": {
            "needs_background": "light"
          }
        }
      ]
    },
    {
      "cell_type": "code",
      "metadata": {
        "colab": {
          "base_uri": "https://localhost:8080/",
          "height": 386
        },
        "id": "AVVjW79q8cQb",
        "outputId": "0c70c160-7026-4e6e-82ce-61560911de9e"
      },
      "source": [
        "\n",
        "sns.lmplot(x='donor_age', y='recipient_age', data=df)"
      ],
      "execution_count": null,
      "outputs": [
        {
          "output_type": "execute_result",
          "data": {
            "text/plain": [
              "<seaborn.axisgrid.FacetGrid at 0x7f005e3717d0>"
            ]
          },
          "metadata": {},
          "execution_count": 1551
        },
        {
          "output_type": "display_data",
          "data": {
            "image/png": "[encoded data removed]",
            "text/plain": [
              "<Figure size 360x360 with 1 Axes>"
            ]
          },
          "metadata": {
            "needs_background": "light"
          }
        }
      ]
    },
    {
      "cell_type": "code",
      "metadata": {
        "id": "9LNV5Wr9zP0l",
        "colab": {
          "base_uri": "https://localhost:8080/",
          "height": 387
        },
        "outputId": "39477932-a2e1-4a32-da6a-b876913cfdec"
      },
      "source": [
        "sns.relplot(x='donor_age',y='recipient_age', hue = 'stem_cell_source',data=df)"
      ],
      "execution_count": null,
      "outputs": [
        {
          "output_type": "execute_result",
          "data": {
            "text/plain": [
              "<seaborn.axisgrid.FacetGrid at 0x7f005f9d1c50>"
            ]
          },
          "metadata": {},
          "execution_count": 1552
        },
        {
          "output_type": "display_data",
          "data": {
            "image/png": "[encoded data removed]",
            "text/plain": [
              "<Figure size 479.75x360 with 1 Axes>"
            ]
          },
          "metadata": {
            "needs_background": "light"
          }
        }
      ]
    },
    {
      "cell_type": "code",
      "metadata": {
        "colab": {
          "base_uri": "https://localhost:8080/",
          "height": 387
        },
        "id": "uo4uWTZNsxXU",
        "outputId": "4ab5eae0-cfbd-4674-cd9f-207dbaa4d22b"
      },
      "source": [
        "sns.relplot(x='survival_time',y='recipient_age', hue = 'recipient_gender',data=df)"
      ],
      "execution_count": null,
      "outputs": [
        {
          "output_type": "execute_result",
          "data": {
            "text/plain": [
              "<seaborn.axisgrid.FacetGrid at 0x7f005f2ba150>"
            ]
          },
          "metadata": {},
          "execution_count": 1553
        },
        {
          "output_type": "display_data",
          "data": {
            "image/png": "[encoded data removed]",
            "text/plain": [
              "<Figure size 452.375x360 with 1 Axes>"
            ]
          },
          "metadata": {
            "needs_background": "light"
          }
        }
      ]
    },
    {
      "cell_type": "code",
      "metadata": {
        "id": "kp66OWYO2DZ0",
        "colab": {
          "base_uri": "https://localhost:8080/",
          "height": 297
        },
        "outputId": "2bb0d8ab-95b7-4906-8a0f-a386463ba3a1"
      },
      "source": [
        "sns.distplot(df['recipient_age'])"
      ],
      "execution_count": null,
      "outputs": [
        {
          "output_type": "execute_result",
          "data": {
            "text/plain": [
              "<matplotlib.axes._subplots.AxesSubplot at 0x7f006be53fd0>"
            ]
          },
          "metadata": {},
          "execution_count": 1554
        },
        {
          "output_type": "display_data",
          "data": {
            "image/png": "[encoded data removed]",
            "text/plain": [
              "<Figure size 432x288 with 1 Axes>"
            ]
          },
          "metadata": {
            "needs_background": "light"
          }
        }
      ]
    },
    {
      "cell_type": "code",
      "metadata": {
        "id": "9F8VaTwiGL9A",
        "colab": {
          "base_uri": "https://localhost:8080/",
          "height": 542
        },
        "outputId": "f5d0d2b2-356b-401c-ad82-69f3274c8c20"
      },
      "source": [
        "px.violin(df,y= 'recipient_age',x ='disease_group')"
      ],
      "execution_count": null,
      "outputs": [
        {
          "output_type": "display_data",
          "data": {
            "text/html": [
              "<html>\n",
              "<head><meta charset=\"utf-8\" /></head>\n",
              "<body>\n",
              "    <div>\n",
              "            <script src=\"https://cdnjs.cloudflare.com/ajax/libs/mathjax/2.7.5/MathJax.js?config=TeX-AMS-MML_SVG\"></script><script type=\"text/javascript\">if (window.MathJax) {MathJax.Hub.Config({SVG: {font: \"STIX-Web\"}});}</script>\n",
              "                <script type=\"text/javascript\">window.PlotlyConfig = {MathJaxConfig: 'local'};</script>\n",
              "        <script src=\"https://cdn.plot.ly/plotly-latest.min.js\"></script>    \n",
              "            <div id=\"bba8b2f0-bfcc-48cf-88e4-09a902ed2d5f\" class=\"plotly-graph-div\" style=\"height:525px; width:100%;\"></div>\n",
              "            <script type=\"text/javascript\">\n",
              "                \n",
              "                    window.PLOTLYENV=window.PLOTLYENV || {};\n",
              "                    \n",
              "                if (document.getElementById(\"bba8b2f0-bfcc-48cf-88e4-09a902ed2d5f\")) {\n",
              "                    Plotly.newPlot(\n",
              "                        'bba8b2f0-bfcc-48cf-88e4-09a902ed2d5f',\n",
              "                        [{\"alignmentgroup\": \"True\", \"box\": {\"visible\": false}, \"hoverlabel\": {\"namelength\": 0}, \"hovertemplate\": \"disease_group=%{x}<br>recipient_age=%{y}\", \"legendgroup\": \"\", \"marker\": {\"color\": \"#636efa\"}, \"name\": \"\", \"offsetgroup\": \"\", \"orientation\": \"v\", \"scalegroup\": \"True\", \"showlegend\": false, \"type\": \"violin\", \"x\": [\"malignant\", \"malignant\", \"malignant\", \"malignant\", \"malignant\", \"malignant\", \"malignant\", \"nonmalignant\", \"nonmalignant\", \"nonmalignant\", \"malignant\", \"malignant\", \"malignant\", \"malignant\", \"malignant\", \"malignant\", \"malignant\", \"malignant\", \"malignant\", \"malignant\", \"malignant\", \"nonmalignant\", \"malignant\", \"nonmalignant\", \"malignant\", \"nonmalignant\", \"nonmalignant\", \"malignant\", \"malignant\", \"malignant\", \"malignant\", \"malignant\", \"malignant\", \"nonmalignant\", \"malignant\", \"malignant\", \"nonmalignant\", \"malignant\", \"malignant\", \"malignant\", \"malignant\", \"malignant\", \"malignant\", \"nonmalignant\", \"malignant\", \"malignant\", \"malignant\", \"nonmalignant\", \"malignant\", \"malignant\", \"malignant\", \"malignant\", \"nonmalignant\", \"nonmalignant\", \"nonmalignant\", \"nonmalignant\", \"nonmalignant\", \"malignant\", \"nonmalignant\", \"malignant\", \"malignant\", \"nonmalignant\", \"malignant\", \"malignant\", \"malignant\", \"malignant\", \"malignant\", \"malignant\", \"nonmalignant\", \"malignant\", \"malignant\", \"malignant\", \"nonmalignant\", \"malignant\", \"malignant\", \"malignant\", \"malignant\", \"malignant\", \"malignant\", \"malignant\", \"malignant\", \"malignant\", \"malignant\", \"malignant\", \"malignant\", \"nonmalignant\", \"malignant\", \"malignant\", \"malignant\", \"malignant\", \"nonmalignant\", \"malignant\", \"malignant\", \"nonmalignant\", \"malignant\", \"malignant\", \"malignant\", \"malignant\", \"malignant\", \"malignant\", \"malignant\", \"nonmalignant\", \"malignant\", \"malignant\", \"malignant\", \"malignant\", \"malignant\", \"malignant\", \"malignant\", \"nonmalignant\", \"malignant\", \"malignant\", \"malignant\", \"malignant\", \"malignant\", \"nonmalignant\", \"malignant\", \"malignant\", \"malignant\", \"nonmalignant\", \"malignant\", \"malignant\", \"malignant\", \"malignant\", \"malignant\", \"malignant\", \"malignant\", \"malignant\", \"malignant\", \"malignant\", \"malignant\", \"nonmalignant\", \"malignant\", \"malignant\", \"malignant\", \"malignant\", \"malignant\", \"malignant\", \"malignant\", \"malignant\", \"malignant\", \"malignant\", \"malignant\", \"malignant\", \"malignant\", \"malignant\", \"malignant\", \"malignant\", \"malignant\", \"malignant\", \"malignant\", \"malignant\", \"malignant\", \"malignant\", \"malignant\", \"malignant\", \"malignant\", \"malignant\", \"malignant\", \"malignant\", \"malignant\", \"malignant\", \"malignant\", \"malignant\", \"malignant\", \"malignant\", \"nonmalignant\", \"malignant\", \"malignant\", \"malignant\", \"malignant\", \"malignant\", \"malignant\", \"malignant\", \"malignant\", \"malignant\", \"nonmalignant\", \"malignant\", \"malignant\", \"malignant\", \"malignant\", \"malignant\", \"malignant\", \"malignant\", \"nonmalignant\", \"malignant\", \"nonmalignant\"], \"x0\": \" \", \"xaxis\": \"x\", \"y\": [9.6, 4.0, 6.6, 18.1, 1.3, 8.9, 14.4, 18.2, 7.9, 4.7, 1.9, 13.4, 5.1, 11.5, 17.8, 13.5, 17.9, 4.7, 0.6, 17.7, 14.7, 9.7, 13.9, 10.9, 6.7, 8.5, 0.7, 4.7, 2.8, 8.4, 8.6, 4.6, 3.1, 10.9, 1.7, 1.6, 16.6, 2.2, 2.1, 13.3, 13.8, 3.1, 4.1, 9.9, 11.4, 13.4, 11.3, 12.1, 8.5, 15.1, 8.3, 6.9, 4.9, 5.0, 6.5, 1.8, 3.4, 2.3, 7.9, 2.8, 12.6, 4.5, 15.6, 18.4, 14.0, 14.2, 12.7, 11.5, 3.9, 14.8, 12.2, 11.8, 11.3, 13.5, 13.5, 17.8, 3.8, 6.5, 7.4, 5.5, 9.2, 14.6, 14.1, 12.1, 15.5, 3.9, 11.2, 20.2, 1.7, 18.2, 8.2, 15.4, 5.0, 7.6, 9.4, 14.0, 15.3, 7.2, 5.7, 6.1, 11.5, 3.2, 18.3, 9.5, 17.3, 3.1, 16.5, 7.7, 18.7, 5.6, 7.7, 9.0, 5.4, 7.3, 17.8, 8.1, 7.1, 6.7, 12.7, 4.5, 17.5, 1.3, 1.3, 16.7, 15.1, 20.1, 17.8, 2.3, 11.6, 17.7, 7.7, 17.9, 2.0, 17.4, 16.0, 9.0, 14.7, 18.8, 16.0, 18.9, 16.6, 3.3, 5.2, 6.0, 3.4, 17.0, 6.8, 18.2, 13.7, 5.1, 18.3, 14.0, 13.0, 13.5, 12.2, 10.0, 15.5, 12.9, 3.0, 11.5, 14.1, 8.5, 5.0, 13.4, 6.4, 4.2, 4.4, 9.6, 12.5, 9.7, 11.2, 3.6, 2.9, 17.8, 16.1, 3.4, 4.3, 12.7, 8.8, 7.5, 4.8, 8.8, 12.9, 13.9, 10.4, 8.0, 9.5], \"y0\": \" \", \"yaxis\": \"y\"}],\n",
              "                        {\"legend\": {\"tracegroupgap\": 0}, \"margin\": {\"t\": 60}, \"template\": {\"data\": {\"bar\": [{\"error_x\": {\"color\": \"#2a3f5f\"}, \"error_y\": {\"color\": \"#2a3f5f\"}, \"marker\": {\"line\": {\"color\": \"#E5ECF6\", \"width\": 0.5}}, \"type\": \"bar\"}], \"barpolar\": [{\"marker\": {\"line\": {\"color\": \"#E5ECF6\", \"width\": 0.5}}, \"type\": \"barpolar\"}], \"carpet\": [{\"aaxis\": {\"endlinecolor\": \"#2a3f5f\", \"gridcolor\": \"white\", \"linecolor\": \"white\", \"minorgridcolor\": \"white\", \"startlinecolor\": \"#2a3f5f\"}, \"baxis\": {\"endlinecolor\": \"#2a3f5f\", \"gridcolor\": \"white\", \"linecolor\": \"white\", \"minorgridcolor\": \"white\", \"startlinecolor\": \"#2a3f5f\"}, \"type\": \"carpet\"}], \"choropleth\": [{\"colorbar\": {\"outlinewidth\": 0, \"ticks\": \"\"}, \"type\": \"choropleth\"}], \"contour\": [{\"colorbar\": {\"outlinewidth\": 0, \"ticks\": \"\"}, \"colorscale\": [[0.0, \"#0d0887\"], [0.1111111111111111, \"#46039f\"], [0.2222222222222222, \"#7201a8\"], [0.3333333333333333, \"#9c179e\"], [0.4444444444444444, \"#bd3786\"], [0.5555555555555556, \"#d8576b\"], [0.6666666666666666, \"#ed7953\"], [0.7777777777777778, \"#fb9f3a\"], [0.8888888888888888, \"#fdca26\"], [1.0, \"#f0f921\"]], \"type\": \"contour\"}], \"contourcarpet\": [{\"colorbar\": {\"outlinewidth\": 0, \"ticks\": \"\"}, \"type\": \"contourcarpet\"}], \"heatmap\": [{\"colorbar\": {\"outlinewidth\": 0, \"ticks\": \"\"}, \"colorscale\": [[0.0, \"#0d0887\"], [0.1111111111111111, \"#46039f\"], [0.2222222222222222, \"#7201a8\"], [0.3333333333333333, \"#9c179e\"], [0.4444444444444444, \"#bd3786\"], [0.5555555555555556, \"#d8576b\"], [0.6666666666666666, \"#ed7953\"], [0.7777777777777778, \"#fb9f3a\"], [0.8888888888888888, \"#fdca26\"], [1.0, \"#f0f921\"]], \"type\": \"heatmap\"}], \"heatmapgl\": [{\"colorbar\": {\"outlinewidth\": 0, \"ticks\": \"\"}, \"colorscale\": [[0.0, \"#0d0887\"], [0.1111111111111111, \"#46039f\"], [0.2222222222222222, \"#7201a8\"], [0.3333333333333333, \"#9c179e\"], [0.4444444444444444, \"#bd3786\"], [0.5555555555555556, \"#d8576b\"], [0.6666666666666666, \"#ed7953\"], [0.7777777777777778, \"#fb9f3a\"], [0.8888888888888888, \"#fdca26\"], [1.0, \"#f0f921\"]], \"type\": \"heatmapgl\"}], \"histogram\": [{\"marker\": {\"colorbar\": {\"outlinewidth\": 0, \"ticks\": \"\"}}, \"type\": \"histogram\"}], \"histogram2d\": [{\"colorbar\": {\"outlinewidth\": 0, \"ticks\": \"\"}, \"colorscale\": [[0.0, \"#0d0887\"], [0.1111111111111111, \"#46039f\"], [0.2222222222222222, \"#7201a8\"], [0.3333333333333333, \"#9c179e\"], [0.4444444444444444, \"#bd3786\"], [0.5555555555555556, \"#d8576b\"], [0.6666666666666666, \"#ed7953\"], [0.7777777777777778, \"#fb9f3a\"], [0.8888888888888888, \"#fdca26\"], [1.0, \"#f0f921\"]], \"type\": \"histogram2d\"}], \"histogram2dcontour\": [{\"colorbar\": {\"outlinewidth\": 0, \"ticks\": \"\"}, \"colorscale\": [[0.0, \"#0d0887\"], [0.1111111111111111, \"#46039f\"], [0.2222222222222222, \"#7201a8\"], [0.3333333333333333, \"#9c179e\"], [0.4444444444444444, \"#bd3786\"], [0.5555555555555556, \"#d8576b\"], [0.6666666666666666, \"#ed7953\"], [0.7777777777777778, \"#fb9f3a\"], [0.8888888888888888, \"#fdca26\"], [1.0, \"#f0f921\"]], \"type\": \"histogram2dcontour\"}], \"mesh3d\": [{\"colorbar\": {\"outlinewidth\": 0, \"ticks\": \"\"}, \"type\": \"mesh3d\"}], \"parcoords\": [{\"line\": {\"colorbar\": {\"outlinewidth\": 0, \"ticks\": \"\"}}, \"type\": \"parcoords\"}], \"pie\": [{\"automargin\": true, \"type\": \"pie\"}], \"scatter\": [{\"marker\": {\"colorbar\": {\"outlinewidth\": 0, \"ticks\": \"\"}}, \"type\": \"scatter\"}], \"scatter3d\": [{\"line\": {\"colorbar\": {\"outlinewidth\": 0, \"ticks\": \"\"}}, \"marker\": {\"colorbar\": {\"outlinewidth\": 0, \"ticks\": \"\"}}, \"type\": \"scatter3d\"}], \"scattercarpet\": [{\"marker\": {\"colorbar\": {\"outlinewidth\": 0, \"ticks\": \"\"}}, \"type\": \"scattercarpet\"}], \"scattergeo\": [{\"marker\": {\"colorbar\": {\"outlinewidth\": 0, \"ticks\": \"\"}}, \"type\": \"scattergeo\"}], \"scattergl\": [{\"marker\": {\"colorbar\": {\"outlinewidth\": 0, \"ticks\": \"\"}}, \"type\": \"scattergl\"}], \"scattermapbox\": [{\"marker\": {\"colorbar\": {\"outlinewidth\": 0, \"ticks\": \"\"}}, \"type\": \"scattermapbox\"}], \"scatterpolar\": [{\"marker\": {\"colorbar\": {\"outlinewidth\": 0, \"ticks\": \"\"}}, \"type\": \"scatterpolar\"}], \"scatterpolargl\": [{\"marker\": {\"colorbar\": {\"outlinewidth\": 0, \"ticks\": \"\"}}, \"type\": \"scatterpolargl\"}], \"scatterternary\": [{\"marker\": {\"colorbar\": {\"outlinewidth\": 0, \"ticks\": \"\"}}, \"type\": \"scatterternary\"}], \"surface\": [{\"colorbar\": {\"outlinewidth\": 0, \"ticks\": \"\"}, \"colorscale\": [[0.0, \"#0d0887\"], [0.1111111111111111, \"#46039f\"], [0.2222222222222222, \"#7201a8\"], [0.3333333333333333, \"#9c179e\"], [0.4444444444444444, \"#bd3786\"], [0.5555555555555556, \"#d8576b\"], [0.6666666666666666, \"#ed7953\"], [0.7777777777777778, \"#fb9f3a\"], [0.8888888888888888, \"#fdca26\"], [1.0, \"#f0f921\"]], \"type\": \"surface\"}], \"table\": [{\"cells\": {\"fill\": {\"color\": \"#EBF0F8\"}, \"line\": {\"color\": \"white\"}}, \"header\": {\"fill\": {\"color\": \"#C8D4E3\"}, \"line\": {\"color\": \"white\"}}, \"type\": \"table\"}]}, \"layout\": {\"annotationdefaults\": {\"arrowcolor\": \"#2a3f5f\", \"arrowhead\": 0, \"arrowwidth\": 1}, \"coloraxis\": {\"colorbar\": {\"outlinewidth\": 0, \"ticks\": \"\"}}, \"colorscale\": {\"diverging\": [[0, \"#8e0152\"], [0.1, \"#c51b7d\"], [0.2, \"#de77ae\"], [0.3, \"#f1b6da\"], [0.4, \"#fde0ef\"], [0.5, \"#f7f7f7\"], [0.6, \"#e6f5d0\"], [0.7, \"#b8e186\"], [0.8, \"#7fbc41\"], [0.9, \"#4d9221\"], [1, \"#276419\"]], \"sequential\": [[0.0, \"#0d0887\"], [0.1111111111111111, \"#46039f\"], [0.2222222222222222, \"#7201a8\"], [0.3333333333333333, \"#9c179e\"], [0.4444444444444444, \"#bd3786\"], [0.5555555555555556, \"#d8576b\"], [0.6666666666666666, \"#ed7953\"], [0.7777777777777778, \"#fb9f3a\"], [0.8888888888888888, \"#fdca26\"], [1.0, \"#f0f921\"]], \"sequentialminus\": [[0.0, \"#0d0887\"], [0.1111111111111111, \"#46039f\"], [0.2222222222222222, \"#7201a8\"], [0.3333333333333333, \"#9c179e\"], [0.4444444444444444, \"#bd3786\"], [0.5555555555555556, \"#d8576b\"], [0.6666666666666666, \"#ed7953\"], [0.7777777777777778, \"#fb9f3a\"], [0.8888888888888888, \"#fdca26\"], [1.0, \"#f0f921\"]]}, \"colorway\": [\"#636efa\", \"#EF553B\", \"#00cc96\", \"#ab63fa\", \"#FFA15A\", \"#19d3f3\", \"#FF6692\", \"#B6E880\", \"#FF97FF\", \"#FECB52\"], \"font\": {\"color\": \"#2a3f5f\"}, \"geo\": {\"bgcolor\": \"white\", \"lakecolor\": \"white\", \"landcolor\": \"#E5ECF6\", \"showlakes\": true, \"showland\": true, \"subunitcolor\": \"white\"}, \"hoverlabel\": {\"align\": \"left\"}, \"hovermode\": \"closest\", \"mapbox\": {\"style\": \"light\"}, \"paper_bgcolor\": \"white\", \"plot_bgcolor\": \"#E5ECF6\", \"polar\": {\"angularaxis\": {\"gridcolor\": \"white\", \"linecolor\": \"white\", \"ticks\": \"\"}, \"bgcolor\": \"#E5ECF6\", \"radialaxis\": {\"gridcolor\": \"white\", \"linecolor\": \"white\", \"ticks\": \"\"}}, \"scene\": {\"xaxis\": {\"backgroundcolor\": \"#E5ECF6\", \"gridcolor\": \"white\", \"gridwidth\": 2, \"linecolor\": \"white\", \"showbackground\": true, \"ticks\": \"\", \"zerolinecolor\": \"white\"}, \"yaxis\": {\"backgroundcolor\": \"#E5ECF6\", \"gridcolor\": \"white\", \"gridwidth\": 2, \"linecolor\": \"white\", \"showbackground\": true, \"ticks\": \"\", \"zerolinecolor\": \"white\"}, \"zaxis\": {\"backgroundcolor\": \"#E5ECF6\", \"gridcolor\": \"white\", \"gridwidth\": 2, \"linecolor\": \"white\", \"showbackground\": true, \"ticks\": \"\", \"zerolinecolor\": \"white\"}}, \"shapedefaults\": {\"line\": {\"color\": \"#2a3f5f\"}}, \"ternary\": {\"aaxis\": {\"gridcolor\": \"white\", \"linecolor\": \"white\", \"ticks\": \"\"}, \"baxis\": {\"gridcolor\": \"white\", \"linecolor\": \"white\", \"ticks\": \"\"}, \"bgcolor\": \"#E5ECF6\", \"caxis\": {\"gridcolor\": \"white\", \"linecolor\": \"white\", \"ticks\": \"\"}}, \"title\": {\"x\": 0.05}, \"xaxis\": {\"automargin\": true, \"gridcolor\": \"white\", \"linecolor\": \"white\", \"ticks\": \"\", \"title\": {\"standoff\": 15}, \"zerolinecolor\": \"white\", \"zerolinewidth\": 2}, \"yaxis\": {\"automargin\": true, \"gridcolor\": \"white\", \"linecolor\": \"white\", \"ticks\": \"\", \"title\": {\"standoff\": 15}, \"zerolinecolor\": \"white\", \"zerolinewidth\": 2}}}, \"violinmode\": \"group\", \"xaxis\": {\"anchor\": \"y\", \"domain\": [0.0, 1.0], \"title\": {\"text\": \"disease_group\"}}, \"yaxis\": {\"anchor\": \"x\", \"domain\": [0.0, 1.0], \"title\": {\"text\": \"recipient_age\"}}},\n",
              "                        {\"responsive\": true}\n",
              "                    ).then(function(){\n",
              "                            \n",
              "var gd = document.getElementById('bba8b2f0-bfcc-48cf-88e4-09a902ed2d5f');\n",
              "var x = new MutationObserver(function (mutations, observer) {{\n",
              "        var display = window.getComputedStyle(gd).display;\n",
              "        if (!display || display === 'none') {{\n",
              "            console.log([gd, 'removed!']);\n",
              "            Plotly.purge(gd);\n",
              "            observer.disconnect();\n",
              "        }}\n",
              "}});\n",
              "\n",
              "// Listen for the removal of the full notebook cells\n",
              "var notebookContainer = gd.closest('#notebook-container');\n",
              "if (notebookContainer) {{\n",
              "    x.observe(notebookContainer, {childList: true});\n",
              "}}\n",
              "\n",
              "// Listen for the clearing of the current output cell\n",
              "var outputEl = gd.closest('.output');\n",
              "if (outputEl) {{\n",
              "    x.observe(outputEl, {childList: true});\n",
              "}}\n",
              "\n",
              "                        })\n",
              "                };\n",
              "                \n",
              "            </script>\n",
              "        </div>\n",
              "</body>\n",
              "</html>"
            ]
          },
          "metadata": {}
        }
      ]
    },
    {
      "cell_type": "code",
      "metadata": {
        "id": "fjVdDJMxGMAD",
        "colab": {
          "base_uri": "https://localhost:8080/"
        },
        "outputId": "51bd0593-2fef-40ed-8f41-2290fb34abf0"
      },
      "source": [
        "df.columns"
      ],
      "execution_count": null,
      "outputs": [
        {
          "output_type": "execute_result",
          "data": {
            "text/plain": [
              "Index(['donor_age', 'donor_age_below_35', 'donor_ABO', 'donor_CMV',\n",
              "       'recipient_age', 'recipient_gender', 'recipient_body_mass',\n",
              "       'recipient_ABO', 'recipient_rh', 'recipient_CMV', 'disease',\n",
              "       'disease_group', 'ABO_match', 'CMV_status', 'HLA_match', 'allel',\n",
              "       'HLA_group_1', 'risk_group', 'stem_cell_source', 'tx_post_relapse',\n",
              "       'CD34_x1e6_per_kg', 'CD3_x1e8_per_kg', 'CD3_to_CD34_ratio',\n",
              "       'ANC_recovery', 'PLT_recovery', 'time_to_acute_GvHD_III_IV',\n",
              "       'extensive_chronic_GvHD', 'relapse', 'survival_time',\n",
              "       'survival_status'],\n",
              "      dtype='object')"
            ]
          },
          "metadata": {},
          "execution_count": 1556
        }
      ]
    },
    {
      "cell_type": "code",
      "metadata": {
        "id": "PgcuW0LaWVnJ",
        "colab": {
          "base_uri": "https://localhost:8080/",
          "height": 542
        },
        "outputId": "3afe4854-b5d5-4422-a6c8-35999ecb22e1"
      },
      "source": [
        "px.scatter(df,x='donor_age', y =  'recipient_age')"
      ],
      "execution_count": null,
      "outputs": [
        {
          "output_type": "display_data",
          "data": {
            "text/html": [
              "<html>\n",
              "<head><meta charset=\"utf-8\" /></head>\n",
              "<body>\n",
              "    <div>\n",
              "            <script src=\"https://cdnjs.cloudflare.com/ajax/libs/mathjax/2.7.5/MathJax.js?config=TeX-AMS-MML_SVG\"></script><script type=\"text/javascript\">if (window.MathJax) {MathJax.Hub.Config({SVG: {font: \"STIX-Web\"}});}</script>\n",
              "                <script type=\"text/javascript\">window.PlotlyConfig = {MathJaxConfig: 'local'};</script>\n",
              "        <script src=\"https://cdn.plot.ly/plotly-latest.min.js\"></script>    \n",
              "            <div id=\"e8e42556-95f8-4420-8763-7b2a5b1b10a2\" class=\"plotly-graph-div\" style=\"height:525px; width:100%;\"></div>\n",
              "            <script type=\"text/javascript\">\n",
              "                \n",
              "                    window.PLOTLYENV=window.PLOTLYENV || {};\n",
              "                    \n",
              "                if (document.getElementById(\"e8e42556-95f8-4420-8763-7b2a5b1b10a2\")) {\n",
              "                    Plotly.newPlot(\n",
              "                        'e8e42556-95f8-4420-8763-7b2a5b1b10a2',\n",
              "                        [{\"hoverlabel\": {\"namelength\": 0}, \"hovertemplate\": \"donor_age=%{x}<br>recipient_age=%{y}\", \"legendgroup\": \"\", \"marker\": {\"color\": \"#636efa\", \"symbol\": \"circle\"}, \"mode\": \"markers\", \"name\": \"\", \"showlegend\": false, \"type\": \"scatter\", \"x\": [22.830137, 23.342466, 26.394521, 39.684932, 33.358903999999995, 27.391780999999998, 34.520548, 21.435616, 32.641096000000005, 28.783562, 29.731507, 36.8, 40.863014, 30.60274, 30.676712, 41.164384000000005, 40.232877, 40.821918, 43.375341999999996, 31.745205, 43.578082, 42.380821999999995, 31.545205, 24.780822, 30.504109999999997, 20.605479000000003, 40.969863000000004, 39.983562, 33.052054999999996, 39.172603, 24.731507, 24.353425, 39.024658, 23.446575, 39.380821999999995, 20.961644, 49.860274, 43.517808, 40.536986, 21.4, 34.273973, 20.471232999999998, 44.380821999999995, 20.358904000000003, 31.526027000000003, 38.761644, 28.805479, 36.868493, 29.772603000000004, 28.821918, 30.287671000000003, 33.120548, 39.641096000000005, 39.632877, 34.169863, 31.194521, 30.389041, 24.367123, 37.287671, 30.2, 35.087671, 29.161644, 44.413699, 55.40274, 43.715068, 45.915068, 22.643836, 47.112328999999995, 26.221918, 24.476712, 35.287671, 31.671233, 26.731507, 39.643836, 41.542466, 42.268493, 41.443836, 29.964384000000003, 21.263014000000002, 21.756164000000002, 29.980821999999996, 22.112329000000003, 37.0, 33.550684999999994, 35.630137, 40.052054999999996, 33.791781, 32.372603000000005, 25.210959, 28.276712, 40.386301, 21.972603, 30.835615999999998, 22.408219, 52.476712, 21.128767, 19.446575, 30.156164, 49.205479, 41.873973, 27.676712, 40.339726, 40.183562, 33.915068, 25.715068, 28.709589, 30.594521000000004, 35.764384, 42.049315, 39.249315, 38.827397, 22.528767000000002, 28.268493, 28.723288, 37.254795, 35.797259999999994, 26.663014, 43.065753, 21.405479, 25.284932, 33.643836, 33.857534, 24.284932, 51.991781, 29.158903999999996, 36.435615999999996, 37.380821999999995, 22.493151, 47.369863, 40.317808, 42.739726, 22.863014, 40.912329, 35.627396999999995, 22.430137, 34.005479, 34.624658000000004, 46.00274, 38.2, 51.005479, 36.789041, 43.745205, 43.126027, 46.545204999999996, 30.279452000000003, 39.627396999999995, 20.394520999999997, 25.772603, 40.391781, 39.0, 23.09589, 43.304109999999994, 19.663014, 35.430137, 25.506849, 29.619178, 45.136986, 19.506849, 40.419178, 30.972603000000003, 29.306849, 30.421917999999998, 24.575342000000003, 41.627396999999995, 23.578082000000002, 29.126027, 22.257534, 18.646575, 24.180822, 35.890411, 29.928766999999997, 35.443836, 28.073973, 41.476712, 40.947945000000004, 36.690411, 42.416438, 34.167123, 37.060274, 30.024658000000002, 30.854795000000003, 37.632877, 37.575342, 22.895889999999998, 27.347945000000003, 27.780821999999997, 55.553425], \"xaxis\": \"x\", \"y\": [9.6, 4.0, 6.6, 18.1, 1.3, 8.9, 14.4, 18.2, 7.9, 4.7, 1.9, 13.4, 5.1, 11.5, 17.8, 13.5, 17.9, 4.7, 0.6, 17.7, 14.7, 9.7, 13.9, 10.9, 6.7, 8.5, 0.7, 4.7, 2.8, 8.4, 8.6, 4.6, 3.1, 10.9, 1.7, 1.6, 16.6, 2.2, 2.1, 13.3, 13.8, 3.1, 4.1, 9.9, 11.4, 13.4, 11.3, 12.1, 8.5, 15.1, 8.3, 6.9, 4.9, 5.0, 6.5, 1.8, 3.4, 2.3, 7.9, 2.8, 12.6, 4.5, 15.6, 18.4, 14.0, 14.2, 12.7, 11.5, 3.9, 14.8, 12.2, 11.8, 11.3, 13.5, 13.5, 17.8, 3.8, 6.5, 7.4, 5.5, 9.2, 14.6, 14.1, 12.1, 15.5, 3.9, 11.2, 20.2, 1.7, 18.2, 8.2, 15.4, 5.0, 7.6, 9.4, 14.0, 15.3, 7.2, 5.7, 6.1, 11.5, 3.2, 18.3, 9.5, 17.3, 3.1, 16.5, 7.7, 18.7, 5.6, 7.7, 9.0, 5.4, 7.3, 17.8, 8.1, 7.1, 6.7, 12.7, 4.5, 17.5, 1.3, 1.3, 16.7, 15.1, 20.1, 17.8, 2.3, 11.6, 17.7, 7.7, 17.9, 2.0, 17.4, 16.0, 9.0, 14.7, 18.8, 16.0, 18.9, 16.6, 3.3, 5.2, 6.0, 3.4, 17.0, 6.8, 18.2, 13.7, 5.1, 18.3, 14.0, 13.0, 13.5, 12.2, 10.0, 15.5, 12.9, 3.0, 11.5, 14.1, 8.5, 5.0, 13.4, 6.4, 4.2, 4.4, 9.6, 12.5, 9.7, 11.2, 3.6, 2.9, 17.8, 16.1, 3.4, 4.3, 12.7, 8.8, 7.5, 4.8, 8.8, 12.9, 13.9, 10.4, 8.0, 9.5], \"yaxis\": \"y\"}],\n",
              "                        {\"legend\": {\"tracegroupgap\": 0}, \"margin\": {\"t\": 60}, \"template\": {\"data\": {\"bar\": [{\"error_x\": {\"color\": \"#2a3f5f\"}, \"error_y\": {\"color\": \"#2a3f5f\"}, \"marker\": {\"line\": {\"color\": \"#E5ECF6\", \"width\": 0.5}}, \"type\": \"bar\"}], \"barpolar\": [{\"marker\": {\"line\": {\"color\": \"#E5ECF6\", \"width\": 0.5}}, \"type\": \"barpolar\"}], \"carpet\": [{\"aaxis\": {\"endlinecolor\": \"#2a3f5f\", \"gridcolor\": \"white\", \"linecolor\": \"white\", \"minorgridcolor\": \"white\", \"startlinecolor\": \"#2a3f5f\"}, \"baxis\": {\"endlinecolor\": \"#2a3f5f\", \"gridcolor\": \"white\", \"linecolor\": \"white\", \"minorgridcolor\": \"white\", \"startlinecolor\": \"#2a3f5f\"}, \"type\": \"carpet\"}], \"choropleth\": [{\"colorbar\": {\"outlinewidth\": 0, \"ticks\": \"\"}, \"type\": \"choropleth\"}], \"contour\": [{\"colorbar\": {\"outlinewidth\": 0, \"ticks\": \"\"}, \"colorscale\": [[0.0, \"#0d0887\"], [0.1111111111111111, \"#46039f\"], [0.2222222222222222, \"#7201a8\"], [0.3333333333333333, \"#9c179e\"], [0.4444444444444444, \"#bd3786\"], [0.5555555555555556, \"#d8576b\"], [0.6666666666666666, \"#ed7953\"], [0.7777777777777778, \"#fb9f3a\"], [0.8888888888888888, \"#fdca26\"], [1.0, \"#f0f921\"]], \"type\": \"contour\"}], \"contourcarpet\": [{\"colorbar\": {\"outlinewidth\": 0, \"ticks\": \"\"}, \"type\": \"contourcarpet\"}], \"heatmap\": [{\"colorbar\": {\"outlinewidth\": 0, \"ticks\": \"\"}, \"colorscale\": [[0.0, \"#0d0887\"], [0.1111111111111111, \"#46039f\"], [0.2222222222222222, \"#7201a8\"], [0.3333333333333333, \"#9c179e\"], [0.4444444444444444, \"#bd3786\"], [0.5555555555555556, \"#d8576b\"], [0.6666666666666666, \"#ed7953\"], [0.7777777777777778, \"#fb9f3a\"], [0.8888888888888888, \"#fdca26\"], [1.0, \"#f0f921\"]], \"type\": \"heatmap\"}], \"heatmapgl\": [{\"colorbar\": {\"outlinewidth\": 0, \"ticks\": \"\"}, \"colorscale\": [[0.0, \"#0d0887\"], [0.1111111111111111, \"#46039f\"], [0.2222222222222222, \"#7201a8\"], [0.3333333333333333, \"#9c179e\"], [0.4444444444444444, \"#bd3786\"], [0.5555555555555556, \"#d8576b\"], [0.6666666666666666, \"#ed7953\"], [0.7777777777777778, \"#fb9f3a\"], [0.8888888888888888, \"#fdca26\"], [1.0, \"#f0f921\"]], \"type\": \"heatmapgl\"}], \"histogram\": [{\"marker\": {\"colorbar\": {\"outlinewidth\": 0, \"ticks\": \"\"}}, \"type\": \"histogram\"}], \"histogram2d\": [{\"colorbar\": {\"outlinewidth\": 0, \"ticks\": \"\"}, \"colorscale\": [[0.0, \"#0d0887\"], [0.1111111111111111, \"#46039f\"], [0.2222222222222222, \"#7201a8\"], [0.3333333333333333, \"#9c179e\"], [0.4444444444444444, \"#bd3786\"], [0.5555555555555556, \"#d8576b\"], [0.6666666666666666, \"#ed7953\"], [0.7777777777777778, \"#fb9f3a\"], [0.8888888888888888, \"#fdca26\"], [1.0, \"#f0f921\"]], \"type\": \"histogram2d\"}], \"histogram2dcontour\": [{\"colorbar\": {\"outlinewidth\": 0, \"ticks\": \"\"}, \"colorscale\": [[0.0, \"#0d0887\"], [0.1111111111111111, \"#46039f\"], [0.2222222222222222, \"#7201a8\"], [0.3333333333333333, \"#9c179e\"], [0.4444444444444444, \"#bd3786\"], [0.5555555555555556, \"#d8576b\"], [0.6666666666666666, \"#ed7953\"], [0.7777777777777778, \"#fb9f3a\"], [0.8888888888888888, \"#fdca26\"], [1.0, \"#f0f921\"]], \"type\": \"histogram2dcontour\"}], \"mesh3d\": [{\"colorbar\": {\"outlinewidth\": 0, \"ticks\": \"\"}, \"type\": \"mesh3d\"}], \"parcoords\": [{\"line\": {\"colorbar\": {\"outlinewidth\": 0, \"ticks\": \"\"}}, \"type\": \"parcoords\"}], \"pie\": [{\"automargin\": true, \"type\": \"pie\"}], \"scatter\": [{\"marker\": {\"colorbar\": {\"outlinewidth\": 0, \"ticks\": \"\"}}, \"type\": \"scatter\"}], \"scatter3d\": [{\"line\": {\"colorbar\": {\"outlinewidth\": 0, \"ticks\": \"\"}}, \"marker\": {\"colorbar\": {\"outlinewidth\": 0, \"ticks\": \"\"}}, \"type\": \"scatter3d\"}], \"scattercarpet\": [{\"marker\": {\"colorbar\": {\"outlinewidth\": 0, \"ticks\": \"\"}}, \"type\": \"scattercarpet\"}], \"scattergeo\": [{\"marker\": {\"colorbar\": {\"outlinewidth\": 0, \"ticks\": \"\"}}, \"type\": \"scattergeo\"}], \"scattergl\": [{\"marker\": {\"colorbar\": {\"outlinewidth\": 0, \"ticks\": \"\"}}, \"type\": \"scattergl\"}], \"scattermapbox\": [{\"marker\": {\"colorbar\": {\"outlinewidth\": 0, \"ticks\": \"\"}}, \"type\": \"scattermapbox\"}], \"scatterpolar\": [{\"marker\": {\"colorbar\": {\"outlinewidth\": 0, \"ticks\": \"\"}}, \"type\": \"scatterpolar\"}], \"scatterpolargl\": [{\"marker\": {\"colorbar\": {\"outlinewidth\": 0, \"ticks\": \"\"}}, \"type\": \"scatterpolargl\"}], \"scatterternary\": [{\"marker\": {\"colorbar\": {\"outlinewidth\": 0, \"ticks\": \"\"}}, \"type\": \"scatterternary\"}], \"surface\": [{\"colorbar\": {\"outlinewidth\": 0, \"ticks\": \"\"}, \"colorscale\": [[0.0, \"#0d0887\"], [0.1111111111111111, \"#46039f\"], [0.2222222222222222, \"#7201a8\"], [0.3333333333333333, \"#9c179e\"], [0.4444444444444444, \"#bd3786\"], [0.5555555555555556, \"#d8576b\"], [0.6666666666666666, \"#ed7953\"], [0.7777777777777778, \"#fb9f3a\"], [0.8888888888888888, \"#fdca26\"], [1.0, \"#f0f921\"]], \"type\": \"surface\"}], \"table\": [{\"cells\": {\"fill\": {\"color\": \"#EBF0F8\"}, \"line\": {\"color\": \"white\"}}, \"header\": {\"fill\": {\"color\": \"#C8D4E3\"}, \"line\": {\"color\": \"white\"}}, \"type\": \"table\"}]}, \"layout\": {\"annotationdefaults\": {\"arrowcolor\": \"#2a3f5f\", \"arrowhead\": 0, \"arrowwidth\": 1}, \"coloraxis\": {\"colorbar\": {\"outlinewidth\": 0, \"ticks\": \"\"}}, \"colorscale\": {\"diverging\": [[0, \"#8e0152\"], [0.1, \"#c51b7d\"], [0.2, \"#de77ae\"], [0.3, \"#f1b6da\"], [0.4, \"#fde0ef\"], [0.5, \"#f7f7f7\"], [0.6, \"#e6f5d0\"], [0.7, \"#b8e186\"], [0.8, \"#7fbc41\"], [0.9, \"#4d9221\"], [1, \"#276419\"]], \"sequential\": [[0.0, \"#0d0887\"], [0.1111111111111111, \"#46039f\"], [0.2222222222222222, \"#7201a8\"], [0.3333333333333333, \"#9c179e\"], [0.4444444444444444, \"#bd3786\"], [0.5555555555555556, \"#d8576b\"], [0.6666666666666666, \"#ed7953\"], [0.7777777777777778, \"#fb9f3a\"], [0.8888888888888888, \"#fdca26\"], [1.0, \"#f0f921\"]], \"sequentialminus\": [[0.0, \"#0d0887\"], [0.1111111111111111, \"#46039f\"], [0.2222222222222222, \"#7201a8\"], [0.3333333333333333, \"#9c179e\"], [0.4444444444444444, \"#bd3786\"], [0.5555555555555556, \"#d8576b\"], [0.6666666666666666, \"#ed7953\"], [0.7777777777777778, \"#fb9f3a\"], [0.8888888888888888, \"#fdca26\"], [1.0, \"#f0f921\"]]}, \"colorway\": [\"#636efa\", \"#EF553B\", \"#00cc96\", \"#ab63fa\", \"#FFA15A\", \"#19d3f3\", \"#FF6692\", \"#B6E880\", \"#FF97FF\", \"#FECB52\"], \"font\": {\"color\": \"#2a3f5f\"}, \"geo\": {\"bgcolor\": \"white\", \"lakecolor\": \"white\", \"landcolor\": \"#E5ECF6\", \"showlakes\": true, \"showland\": true, \"subunitcolor\": \"white\"}, \"hoverlabel\": {\"align\": \"left\"}, \"hovermode\": \"closest\", \"mapbox\": {\"style\": \"light\"}, \"paper_bgcolor\": \"white\", \"plot_bgcolor\": \"#E5ECF6\", \"polar\": {\"angularaxis\": {\"gridcolor\": \"white\", \"linecolor\": \"white\", \"ticks\": \"\"}, \"bgcolor\": \"#E5ECF6\", \"radialaxis\": {\"gridcolor\": \"white\", \"linecolor\": \"white\", \"ticks\": \"\"}}, \"scene\": {\"xaxis\": {\"backgroundcolor\": \"#E5ECF6\", \"gridcolor\": \"white\", \"gridwidth\": 2, \"linecolor\": \"white\", \"showbackground\": true, \"ticks\": \"\", \"zerolinecolor\": \"white\"}, \"yaxis\": {\"backgroundcolor\": \"#E5ECF6\", \"gridcolor\": \"white\", \"gridwidth\": 2, \"linecolor\": \"white\", \"showbackground\": true, \"ticks\": \"\", \"zerolinecolor\": \"white\"}, \"zaxis\": {\"backgroundcolor\": \"#E5ECF6\", \"gridcolor\": \"white\", \"gridwidth\": 2, \"linecolor\": \"white\", \"showbackground\": true, \"ticks\": \"\", \"zerolinecolor\": \"white\"}}, \"shapedefaults\": {\"line\": {\"color\": \"#2a3f5f\"}}, \"ternary\": {\"aaxis\": {\"gridcolor\": \"white\", \"linecolor\": \"white\", \"ticks\": \"\"}, \"baxis\": {\"gridcolor\": \"white\", \"linecolor\": \"white\", \"ticks\": \"\"}, \"bgcolor\": \"#E5ECF6\", \"caxis\": {\"gridcolor\": \"white\", \"linecolor\": \"white\", \"ticks\": \"\"}}, \"title\": {\"x\": 0.05}, \"xaxis\": {\"automargin\": true, \"gridcolor\": \"white\", \"linecolor\": \"white\", \"ticks\": \"\", \"title\": {\"standoff\": 15}, \"zerolinecolor\": \"white\", \"zerolinewidth\": 2}, \"yaxis\": {\"automargin\": true, \"gridcolor\": \"white\", \"linecolor\": \"white\", \"ticks\": \"\", \"title\": {\"standoff\": 15}, \"zerolinecolor\": \"white\", \"zerolinewidth\": 2}}}, \"xaxis\": {\"anchor\": \"y\", \"domain\": [0.0, 1.0], \"title\": {\"text\": \"donor_age\"}}, \"yaxis\": {\"anchor\": \"x\", \"domain\": [0.0, 1.0], \"title\": {\"text\": \"recipient_age\"}}},\n",
              "                        {\"responsive\": true}\n",
              "                    ).then(function(){\n",
              "                            \n",
              "var gd = document.getElementById('e8e42556-95f8-4420-8763-7b2a5b1b10a2');\n",
              "var x = new MutationObserver(function (mutations, observer) {{\n",
              "        var display = window.getComputedStyle(gd).display;\n",
              "        if (!display || display === 'none') {{\n",
              "            console.log([gd, 'removed!']);\n",
              "            Plotly.purge(gd);\n",
              "            observer.disconnect();\n",
              "        }}\n",
              "}});\n",
              "\n",
              "// Listen for the removal of the full notebook cells\n",
              "var notebookContainer = gd.closest('#notebook-container');\n",
              "if (notebookContainer) {{\n",
              "    x.observe(notebookContainer, {childList: true});\n",
              "}}\n",
              "\n",
              "// Listen for the clearing of the current output cell\n",
              "var outputEl = gd.closest('.output');\n",
              "if (outputEl) {{\n",
              "    x.observe(outputEl, {childList: true});\n",
              "}}\n",
              "\n",
              "                        })\n",
              "                };\n",
              "                \n",
              "            </script>\n",
              "        </div>\n",
              "</body>\n",
              "</html>"
            ]
          },
          "metadata": {}
        }
      ]
    },
    {
      "cell_type": "code",
      "metadata": {
        "colab": {
          "base_uri": "https://localhost:8080/",
          "height": 308
        },
        "id": "UE2H5pC48sd4",
        "outputId": "320bbe53-1be9-4b88-a451-b55b9568c383"
      },
      "source": [
        "sns.swarmplot(x='ANC_recovery', y='PLT_recovery', data=df, \n",
        "              hue='disease')"
      ],
      "execution_count": null,
      "outputs": [
        {
          "output_type": "execute_result",
          "data": {
            "text/plain": [
              "<matplotlib.axes._subplots.AxesSubplot at 0x7f005c5546d0>"
            ]
          },
          "metadata": {},
          "execution_count": 1558
        },
        {
          "output_type": "display_data",
          "data": {
            "image/png": "[encoded data removed]",
            "text/plain": [
              "<Figure size 432x288 with 1 Axes>"
            ]
          },
          "metadata": {
            "needs_background": "light"
          }
        }
      ]
    },
    {
      "cell_type": "code",
      "metadata": {
        "colab": {
          "base_uri": "https://localhost:8080/",
          "height": 242
        },
        "id": "niRSFAi_tRqL",
        "outputId": "504fe759-43ef-4ea4-fa8c-387ddfbec5b4"
      },
      "source": [
        "grid = sns.FacetGrid(df,hue='recipient_gender',aspect = 2)\n",
        "grid.map(sns.kdeplot,'survival_time')\n",
        "grid.add_legend()"
      ],
      "execution_count": null,
      "outputs": [
        {
          "output_type": "execute_result",
          "data": {
            "text/plain": [
              "<seaborn.axisgrid.FacetGrid at 0x7f006c06dbd0>"
            ]
          },
          "metadata": {},
          "execution_count": 1559
        },
        {
          "output_type": "display_data",
          "data": {
            "image/png": "[encoded data removed]",
            "text/plain": [
              "<Figure size 524.375x216 with 1 Axes>"
            ]
          },
          "metadata": {
            "needs_background": "light"
          }
        }
      ]
    },
    {
      "cell_type": "code",
      "metadata": {
        "id": "HWWxfJn1WVxk",
        "colab": {
          "base_uri": "https://localhost:8080/",
          "height": 242
        },
        "outputId": "3b70d0f7-084b-42a2-ed2f-378c342a0a88"
      },
      "source": [
        "##### Showing info about disease and recipent age##########\n",
        "grid = sns.FacetGrid(df,hue='disease',aspect = 2)\n",
        "grid.map(sns.kdeplot,'recipient_age')\n",
        "grid.add_legend()"
      ],
      "execution_count": null,
      "outputs": [
        {
          "output_type": "execute_result",
          "data": {
            "text/plain": [
              "<seaborn.axisgrid.FacetGrid at 0x7f005bac1d90>"
            ]
          },
          "metadata": {},
          "execution_count": 1560
        },
        {
          "output_type": "display_data",
          "data": {
            "image/png": "[encoded data removed]",
            "text/plain": [
              "<Figure size 537.375x216 with 1 Axes>"
            ]
          },
          "metadata": {
            "needs_background": "light"
          }
        }
      ]
    },
    {
      "cell_type": "code",
      "metadata": {
        "colab": {
          "base_uri": "https://localhost:8080/",
          "height": 297
        },
        "id": "xQNXy02y9lA7",
        "outputId": "d37e781f-5d5f-4ee2-a368-4407cd5969b4"
      },
      "source": [
        "sns.kdeplot(df.recipient_body_mass, df.survival_time)"
      ],
      "execution_count": null,
      "outputs": [
        {
          "output_type": "execute_result",
          "data": {
            "text/plain": [
              "<matplotlib.axes._subplots.AxesSubplot at 0x7f005ba02550>"
            ]
          },
          "metadata": {},
          "execution_count": 1561
        },
        {
          "output_type": "display_data",
          "data": {
            "image/png": "[encoded data removed]",
            "text/plain": [
              "<Figure size 432x288 with 1 Axes>"
            ]
          },
          "metadata": {
            "needs_background": "light"
          }
        }
      ]
    },
    {
      "cell_type": "markdown",
      "metadata": {
        "id": "opXiKRnZ9ksY"
      },
      "source": [
        ""
      ]
    },
    {
      "cell_type": "code",
      "metadata": {
        "colab": {
          "base_uri": "https://localhost:8080/",
          "height": 542
        },
        "id": "XR7DgjgN9p-S",
        "outputId": "5638467d-9524-4340-b1a1-1259809acfab"
      },
      "source": [
        "##############Scatter Plot##############\n",
        "fig = px.scatter(df, x=\"recipient_body_mass\", y=\"recipient_age\", color=\"survival_status\")\n",
        "fig.show()"
      ],
      "execution_count": null,
      "outputs": [
        {
          "output_type": "display_data",
          "data": {
            "text/html": [
              "<html>\n",
              "<head><meta charset=\"utf-8\" /></head>\n",
              "<body>\n",
              "    <div>\n",
              "            <script src=\"https://cdnjs.cloudflare.com/ajax/libs/mathjax/2.7.5/MathJax.js?config=TeX-AMS-MML_SVG\"></script><script type=\"text/javascript\">if (window.MathJax) {MathJax.Hub.Config({SVG: {font: \"STIX-Web\"}});}</script>\n",
              "                <script type=\"text/javascript\">window.PlotlyConfig = {MathJaxConfig: 'local'};</script>\n",
              "        <script src=\"https://cdn.plot.ly/plotly-latest.min.js\"></script>    \n",
              "            <div id=\"47650bb1-8539-40cb-be93-1c77223c9464\" class=\"plotly-graph-div\" style=\"height:525px; width:100%;\"></div>\n",
              "            <script type=\"text/javascript\">\n",
              "                \n",
              "                    window.PLOTLYENV=window.PLOTLYENV || {};\n",
              "                    \n",
              "                if (document.getElementById(\"47650bb1-8539-40cb-be93-1c77223c9464\")) {\n",
              "                    Plotly.newPlot(\n",
              "                        '47650bb1-8539-40cb-be93-1c77223c9464',\n",
              "                        [{\"hoverlabel\": {\"namelength\": 0}, \"hovertemplate\": \"recipient_body_mass=%{x}<br>recipient_age=%{y}<br>survival_status=%{marker.color}\", \"legendgroup\": \"\", \"marker\": {\"color\": [0, 1, 1, 1, 0, 0, 1, 1, 0, 0, 0, 0, 0, 1, 0, 0, 1, 0, 0, 0, 1, 1, 0, 1, 0, 0, 0, 1, 0, 1, 0, 0, 1, 0, 0, 1, 1, 1, 0, 0, 0, 1, 0, 1, 0, 1, 0, 0, 0, 0, 0, 0, 0, 0, 0, 0, 0, 1, 1, 0, 1, 1, 0, 1, 0, 1, 1, 1, 1, 0, 0, 0, 0, 1, 0, 1, 1, 1, 0, 1, 1, 1, 1, 1, 1, 1, 0, 0, 0, 1, 0, 1, 1, 1, 0, 0, 0, 1, 1, 1, 0, 0, 1, 1, 1, 0, 1, 0, 1, 1, 0, 0, 0, 0, 1, 0, 1, 0, 1, 0, 0, 1, 0, 1, 0, 1, 0, 0, 1, 1, 0, 1, 0, 0, 0, 1, 1, 1, 1, 1, 1, 0, 0, 0, 0, 0, 1, 0, 0, 1, 1, 0, 0, 1, 1, 0, 0, 1, 0, 0, 1, 0, 0, 1, 0, 1, 0, 0, 0, 1, 0, 1, 1, 1, 0, 0, 0, 0, 0, 0, 1, 1, 1, 1, 0, 1, 0], \"coloraxis\": \"coloraxis\", \"symbol\": \"circle\"}, \"mode\": \"markers\", \"name\": \"\", \"showlegend\": false, \"type\": \"scatter\", \"x\": [35.0, 20.6, 23.4, 50.0, 9.0, 40.0, 51.0, 56.0, 20.5, 16.5, 10.5, 47.0, 18.1, 42.0, 55.0, 30.0, 97.8, 20.5, 6.0, 64.0, 62.0, 43.2, 31.0, 39.3, 23.8, 26.8, 6.4, 17.0, 14.3, 38.3, 20.0, 23.0, 15.0, 49.6, 10.0, 11.25, 63.0, 10.5, 15.0, 43.5, 48.0, 15.0, 15.3, 29.0, 41.4, 76.0, 34.1, 60.4, 30.0, 48.8, 38.5, 28.5, 7.5, 19.5, 23.0, 8.15, 10.0, 14.0, 37.0, 13.0, 51.0, 15.0, 68.0, 47.0, 52.0, 61.0, 54.9, 30.0, 11.9, 49.0, 30.8, 45.5, 46.7, 47.0, 58.0, 56.5, 16.5, 16.0, 26.5, 28.0, 26.0, 37.5, 44.3, 43.0, 61.3, 14.1, 34.0, 62.5, 11.2, 72.5, 24.5, 70.0, null, 34.0, 22.6, 54.1, 51.1, 24.3, 23.0, 19.0, 33.0, 17.2, null, 23.0, 73.0, 15.3, 55.2, 18.6, 52.7, 24.3, 19.5, 25.2, 19.6, 25.0, 90.0, 26.9, 32.0, 17.6, 37.0, 19.0, 65.0, 9.6, 10.5, 50.6, 60.0, 54.5, 51.3, 12.0, 33.0, 59.0, 20.8, 42.4, 12.0, 65.0, 44.5, 33.0, 62.0, 103.4, 71.0, 70.0, 58.9, 13.0, 20.9, 17.3, 14.8, 62.0, 23.0, 54.6, 35.5, 17.5, 62.0, 58.0, 43.0, 65.0, 44.1, 55.0, 71.0, 40.3, 13.0, 36.0, 49.0, 24.0, 25.4, 38.4, 18.3, 18.0, 16.0, 36.0, 35.9, 44.3, 30.5, 17.0, 11.2, 50.8, 57.0, 24.0, 14.0, 49.0, 24.0, 28.0, 25.0, 33.0, 44.0, 44.5, 33.0, 24.0, 37.0], \"xaxis\": \"x\", \"y\": [9.6, 4.0, 6.6, 18.1, 1.3, 8.9, 14.4, 18.2, 7.9, 4.7, 1.9, 13.4, 5.1, 11.5, 17.8, 13.5, 17.9, 4.7, 0.6, 17.7, 14.7, 9.7, 13.9, 10.9, 6.7, 8.5, 0.7, 4.7, 2.8, 8.4, 8.6, 4.6, 3.1, 10.9, 1.7, 1.6, 16.6, 2.2, 2.1, 13.3, 13.8, 3.1, 4.1, 9.9, 11.4, 13.4, 11.3, 12.1, 8.5, 15.1, 8.3, 6.9, 4.9, 5.0, 6.5, 1.8, 3.4, 2.3, 7.9, 2.8, 12.6, 4.5, 15.6, 18.4, 14.0, 14.2, 12.7, 11.5, 3.9, 14.8, 12.2, 11.8, 11.3, 13.5, 13.5, 17.8, 3.8, 6.5, 7.4, 5.5, 9.2, 14.6, 14.1, 12.1, 15.5, 3.9, 11.2, 20.2, 1.7, 18.2, 8.2, 15.4, 5.0, 7.6, 9.4, 14.0, 15.3, 7.2, 5.7, 6.1, 11.5, 3.2, 18.3, 9.5, 17.3, 3.1, 16.5, 7.7, 18.7, 5.6, 7.7, 9.0, 5.4, 7.3, 17.8, 8.1, 7.1, 6.7, 12.7, 4.5, 17.5, 1.3, 1.3, 16.7, 15.1, 20.1, 17.8, 2.3, 11.6, 17.7, 7.7, 17.9, 2.0, 17.4, 16.0, 9.0, 14.7, 18.8, 16.0, 18.9, 16.6, 3.3, 5.2, 6.0, 3.4, 17.0, 6.8, 18.2, 13.7, 5.1, 18.3, 14.0, 13.0, 13.5, 12.2, 10.0, 15.5, 12.9, 3.0, 11.5, 14.1, 8.5, 5.0, 13.4, 6.4, 4.2, 4.4, 9.6, 12.5, 9.7, 11.2, 3.6, 2.9, 17.8, 16.1, 3.4, 4.3, 12.7, 8.8, 7.5, 4.8, 8.8, 12.9, 13.9, 10.4, 8.0, 9.5], \"yaxis\": \"y\"}],\n",
              "                        {\"coloraxis\": {\"colorbar\": {\"title\": {\"text\": \"survival_status\"}}, \"colorscale\": [[0.0, \"#0d0887\"], [0.1111111111111111, \"#46039f\"], [0.2222222222222222, \"#7201a8\"], [0.3333333333333333, \"#9c179e\"], [0.4444444444444444, \"#bd3786\"], [0.5555555555555556, \"#d8576b\"], [0.6666666666666666, \"#ed7953\"], [0.7777777777777778, \"#fb9f3a\"], [0.8888888888888888, \"#fdca26\"], [1.0, \"#f0f921\"]]}, \"legend\": {\"tracegroupgap\": 0}, \"margin\": {\"t\": 60}, \"template\": {\"data\": {\"bar\": [{\"error_x\": {\"color\": \"#2a3f5f\"}, \"error_y\": {\"color\": \"#2a3f5f\"}, \"marker\": {\"line\": {\"color\": \"#E5ECF6\", \"width\": 0.5}}, \"type\": \"bar\"}], \"barpolar\": [{\"marker\": {\"line\": {\"color\": \"#E5ECF6\", \"width\": 0.5}}, \"type\": \"barpolar\"}], \"carpet\": [{\"aaxis\": {\"endlinecolor\": \"#2a3f5f\", \"gridcolor\": \"white\", \"linecolor\": \"white\", \"minorgridcolor\": \"white\", \"startlinecolor\": \"#2a3f5f\"}, \"baxis\": {\"endlinecolor\": \"#2a3f5f\", \"gridcolor\": \"white\", \"linecolor\": \"white\", \"minorgridcolor\": \"white\", \"startlinecolor\": \"#2a3f5f\"}, \"type\": \"carpet\"}], \"choropleth\": [{\"colorbar\": {\"outlinewidth\": 0, \"ticks\": \"\"}, \"type\": \"choropleth\"}], \"contour\": [{\"colorbar\": {\"outlinewidth\": 0, \"ticks\": \"\"}, \"colorscale\": [[0.0, \"#0d0887\"], [0.1111111111111111, \"#46039f\"], [0.2222222222222222, \"#7201a8\"], [0.3333333333333333, \"#9c179e\"], [0.4444444444444444, \"#bd3786\"], [0.5555555555555556, \"#d8576b\"], [0.6666666666666666, \"#ed7953\"], [0.7777777777777778, \"#fb9f3a\"], [0.8888888888888888, \"#fdca26\"], [1.0, \"#f0f921\"]], \"type\": \"contour\"}], \"contourcarpet\": [{\"colorbar\": {\"outlinewidth\": 0, \"ticks\": \"\"}, \"type\": \"contourcarpet\"}], \"heatmap\": [{\"colorbar\": {\"outlinewidth\": 0, \"ticks\": \"\"}, \"colorscale\": [[0.0, \"#0d0887\"], [0.1111111111111111, \"#46039f\"], [0.2222222222222222, \"#7201a8\"], [0.3333333333333333, \"#9c179e\"], [0.4444444444444444, \"#bd3786\"], [0.5555555555555556, \"#d8576b\"], [0.6666666666666666, \"#ed7953\"], [0.7777777777777778, \"#fb9f3a\"], [0.8888888888888888, \"#fdca26\"], [1.0, \"#f0f921\"]], \"type\": \"heatmap\"}], \"heatmapgl\": [{\"colorbar\": {\"outlinewidth\": 0, \"ticks\": \"\"}, \"colorscale\": [[0.0, \"#0d0887\"], [0.1111111111111111, \"#46039f\"], [0.2222222222222222, \"#7201a8\"], [0.3333333333333333, \"#9c179e\"], [0.4444444444444444, \"#bd3786\"], [0.5555555555555556, \"#d8576b\"], [0.6666666666666666, \"#ed7953\"], [0.7777777777777778, \"#fb9f3a\"], [0.8888888888888888, \"#fdca26\"], [1.0, \"#f0f921\"]], \"type\": \"heatmapgl\"}], \"histogram\": [{\"marker\": {\"colorbar\": {\"outlinewidth\": 0, \"ticks\": \"\"}}, \"type\": \"histogram\"}], \"histogram2d\": [{\"colorbar\": {\"outlinewidth\": 0, \"ticks\": \"\"}, \"colorscale\": [[0.0, \"#0d0887\"], [0.1111111111111111, \"#46039f\"], [0.2222222222222222, \"#7201a8\"], [0.3333333333333333, \"#9c179e\"], [0.4444444444444444, \"#bd3786\"], [0.5555555555555556, \"#d8576b\"], [0.6666666666666666, \"#ed7953\"], [0.7777777777777778, \"#fb9f3a\"], [0.8888888888888888, \"#fdca26\"], [1.0, \"#f0f921\"]], \"type\": \"histogram2d\"}], \"histogram2dcontour\": [{\"colorbar\": {\"outlinewidth\": 0, \"ticks\": \"\"}, \"colorscale\": [[0.0, \"#0d0887\"], [0.1111111111111111, \"#46039f\"], [0.2222222222222222, \"#7201a8\"], [0.3333333333333333, \"#9c179e\"], [0.4444444444444444, \"#bd3786\"], [0.5555555555555556, \"#d8576b\"], [0.6666666666666666, \"#ed7953\"], [0.7777777777777778, \"#fb9f3a\"], [0.8888888888888888, \"#fdca26\"], [1.0, \"#f0f921\"]], \"type\": \"histogram2dcontour\"}], \"mesh3d\": [{\"colorbar\": {\"outlinewidth\": 0, \"ticks\": \"\"}, \"type\": \"mesh3d\"}], \"parcoords\": [{\"line\": {\"colorbar\": {\"outlinewidth\": 0, \"ticks\": \"\"}}, \"type\": \"parcoords\"}], \"pie\": [{\"automargin\": true, \"type\": \"pie\"}], \"scatter\": [{\"marker\": {\"colorbar\": {\"outlinewidth\": 0, \"ticks\": \"\"}}, \"type\": \"scatter\"}], \"scatter3d\": [{\"line\": {\"colorbar\": {\"outlinewidth\": 0, \"ticks\": \"\"}}, \"marker\": {\"colorbar\": {\"outlinewidth\": 0, \"ticks\": \"\"}}, \"type\": \"scatter3d\"}], \"scattercarpet\": [{\"marker\": {\"colorbar\": {\"outlinewidth\": 0, \"ticks\": \"\"}}, \"type\": \"scattercarpet\"}], \"scattergeo\": [{\"marker\": {\"colorbar\": {\"outlinewidth\": 0, \"ticks\": \"\"}}, \"type\": \"scattergeo\"}], \"scattergl\": [{\"marker\": {\"colorbar\": {\"outlinewidth\": 0, \"ticks\": \"\"}}, \"type\": \"scattergl\"}], \"scattermapbox\": [{\"marker\": {\"colorbar\": {\"outlinewidth\": 0, \"ticks\": \"\"}}, \"type\": \"scattermapbox\"}], \"scatterpolar\": [{\"marker\": {\"colorbar\": {\"outlinewidth\": 0, \"ticks\": \"\"}}, \"type\": \"scatterpolar\"}], \"scatterpolargl\": [{\"marker\": {\"colorbar\": {\"outlinewidth\": 0, \"ticks\": \"\"}}, \"type\": \"scatterpolargl\"}], \"scatterternary\": [{\"marker\": {\"colorbar\": {\"outlinewidth\": 0, \"ticks\": \"\"}}, \"type\": \"scatterternary\"}], \"surface\": [{\"colorbar\": {\"outlinewidth\": 0, \"ticks\": \"\"}, \"colorscale\": [[0.0, \"#0d0887\"], [0.1111111111111111, \"#46039f\"], [0.2222222222222222, \"#7201a8\"], [0.3333333333333333, \"#9c179e\"], [0.4444444444444444, \"#bd3786\"], [0.5555555555555556, \"#d8576b\"], [0.6666666666666666, \"#ed7953\"], [0.7777777777777778, \"#fb9f3a\"], [0.8888888888888888, \"#fdca26\"], [1.0, \"#f0f921\"]], \"type\": \"surface\"}], \"table\": [{\"cells\": {\"fill\": {\"color\": \"#EBF0F8\"}, \"line\": {\"color\": \"white\"}}, \"header\": {\"fill\": {\"color\": \"#C8D4E3\"}, \"line\": {\"color\": \"white\"}}, \"type\": \"table\"}]}, \"layout\": {\"annotationdefaults\": {\"arrowcolor\": \"#2a3f5f\", \"arrowhead\": 0, \"arrowwidth\": 1}, \"coloraxis\": {\"colorbar\": {\"outlinewidth\": 0, \"ticks\": \"\"}}, \"colorscale\": {\"diverging\": [[0, \"#8e0152\"], [0.1, \"#c51b7d\"], [0.2, \"#de77ae\"], [0.3, \"#f1b6da\"], [0.4, \"#fde0ef\"], [0.5, \"#f7f7f7\"], [0.6, \"#e6f5d0\"], [0.7, \"#b8e186\"], [0.8, \"#7fbc41\"], [0.9, \"#4d9221\"], [1, \"#276419\"]], \"sequential\": [[0.0, \"#0d0887\"], [0.1111111111111111, \"#46039f\"], [0.2222222222222222, \"#7201a8\"], [0.3333333333333333, \"#9c179e\"], [0.4444444444444444, \"#bd3786\"], [0.5555555555555556, \"#d8576b\"], [0.6666666666666666, \"#ed7953\"], [0.7777777777777778, \"#fb9f3a\"], [0.8888888888888888, \"#fdca26\"], [1.0, \"#f0f921\"]], \"sequentialminus\": [[0.0, \"#0d0887\"], [0.1111111111111111, \"#46039f\"], [0.2222222222222222, \"#7201a8\"], [0.3333333333333333, \"#9c179e\"], [0.4444444444444444, \"#bd3786\"], [0.5555555555555556, \"#d8576b\"], [0.6666666666666666, \"#ed7953\"], [0.7777777777777778, \"#fb9f3a\"], [0.8888888888888888, \"#fdca26\"], [1.0, \"#f0f921\"]]}, \"colorway\": [\"#636efa\", \"#EF553B\", \"#00cc96\", \"#ab63fa\", \"#FFA15A\", \"#19d3f3\", \"#FF6692\", \"#B6E880\", \"#FF97FF\", \"#FECB52\"], \"font\": {\"color\": \"#2a3f5f\"}, \"geo\": {\"bgcolor\": \"white\", \"lakecolor\": \"white\", \"landcolor\": \"#E5ECF6\", \"showlakes\": true, \"showland\": true, \"subunitcolor\": \"white\"}, \"hoverlabel\": {\"align\": \"left\"}, \"hovermode\": \"closest\", \"mapbox\": {\"style\": \"light\"}, \"paper_bgcolor\": \"white\", \"plot_bgcolor\": \"#E5ECF6\", \"polar\": {\"angularaxis\": {\"gridcolor\": \"white\", \"linecolor\": \"white\", \"ticks\": \"\"}, \"bgcolor\": \"#E5ECF6\", \"radialaxis\": {\"gridcolor\": \"white\", \"linecolor\": \"white\", \"ticks\": \"\"}}, \"scene\": {\"xaxis\": {\"backgroundcolor\": \"#E5ECF6\", \"gridcolor\": \"white\", \"gridwidth\": 2, \"linecolor\": \"white\", \"showbackground\": true, \"ticks\": \"\", \"zerolinecolor\": \"white\"}, \"yaxis\": {\"backgroundcolor\": \"#E5ECF6\", \"gridcolor\": \"white\", \"gridwidth\": 2, \"linecolor\": \"white\", \"showbackground\": true, \"ticks\": \"\", \"zerolinecolor\": \"white\"}, \"zaxis\": {\"backgroundcolor\": \"#E5ECF6\", \"gridcolor\": \"white\", \"gridwidth\": 2, \"linecolor\": \"white\", \"showbackground\": true, \"ticks\": \"\", \"zerolinecolor\": \"white\"}}, \"shapedefaults\": {\"line\": {\"color\": \"#2a3f5f\"}}, \"ternary\": {\"aaxis\": {\"gridcolor\": \"white\", \"linecolor\": \"white\", \"ticks\": \"\"}, \"baxis\": {\"gridcolor\": \"white\", \"linecolor\": \"white\", \"ticks\": \"\"}, \"bgcolor\": \"#E5ECF6\", \"caxis\": {\"gridcolor\": \"white\", \"linecolor\": \"white\", \"ticks\": \"\"}}, \"title\": {\"x\": 0.05}, \"xaxis\": {\"automargin\": true, \"gridcolor\": \"white\", \"linecolor\": \"white\", \"ticks\": \"\", \"title\": {\"standoff\": 15}, \"zerolinecolor\": \"white\", \"zerolinewidth\": 2}, \"yaxis\": {\"automargin\": true, \"gridcolor\": \"white\", \"linecolor\": \"white\", \"ticks\": \"\", \"title\": {\"standoff\": 15}, \"zerolinecolor\": \"white\", \"zerolinewidth\": 2}}}, \"xaxis\": {\"anchor\": \"y\", \"domain\": [0.0, 1.0], \"title\": {\"text\": \"recipient_body_mass\"}}, \"yaxis\": {\"anchor\": \"x\", \"domain\": [0.0, 1.0], \"title\": {\"text\": \"recipient_age\"}}},\n",
              "                        {\"responsive\": true}\n",
              "                    ).then(function(){\n",
              "                            \n",
              "var gd = document.getElementById('47650bb1-8539-40cb-be93-1c77223c9464');\n",
              "var x = new MutationObserver(function (mutations, observer) {{\n",
              "        var display = window.getComputedStyle(gd).display;\n",
              "        if (!display || display === 'none') {{\n",
              "            console.log([gd, 'removed!']);\n",
              "            Plotly.purge(gd);\n",
              "            observer.disconnect();\n",
              "        }}\n",
              "}});\n",
              "\n",
              "// Listen for the removal of the full notebook cells\n",
              "var notebookContainer = gd.closest('#notebook-container');\n",
              "if (notebookContainer) {{\n",
              "    x.observe(notebookContainer, {childList: true});\n",
              "}}\n",
              "\n",
              "// Listen for the clearing of the current output cell\n",
              "var outputEl = gd.closest('.output');\n",
              "if (outputEl) {{\n",
              "    x.observe(outputEl, {childList: true});\n",
              "}}\n",
              "\n",
              "                        })\n",
              "                };\n",
              "                \n",
              "            </script>\n",
              "        </div>\n",
              "</body>\n",
              "</html>"
            ]
          },
          "metadata": {}
        }
      ]
    },
    {
      "cell_type": "code",
      "metadata": {
        "colab": {
          "base_uri": "https://localhost:8080/",
          "height": 542
        },
        "id": "2w5OGrOut8E1",
        "outputId": "181de72d-a831-4fb3-8903-99306ac0e437"
      },
      "source": [
        "fig = px.scatter(df, x=\"recipient_body_mass\", y=\"survival_time\", color=\"recipient_gender\")\n",
        "fig.show()"
      ],
      "execution_count": null,
      "outputs": [
        {
          "output_type": "display_data",
          "data": {
            "text/html": [
              "<html>\n",
              "<head><meta charset=\"utf-8\" /></head>\n",
              "<body>\n",
              "    <div>\n",
              "            <script src=\"https://cdnjs.cloudflare.com/ajax/libs/mathjax/2.7.5/MathJax.js?config=TeX-AMS-MML_SVG\"></script><script type=\"text/javascript\">if (window.MathJax) {MathJax.Hub.Config({SVG: {font: \"STIX-Web\"}});}</script>\n",
              "                <script type=\"text/javascript\">window.PlotlyConfig = {MathJaxConfig: 'local'};</script>\n",
              "        <script src=\"https://cdn.plot.ly/plotly-latest.min.js\"></script>    \n",
              "            <div id=\"1432b877-71aa-4c18-a384-0b67c3dd35ab\" class=\"plotly-graph-div\" style=\"height:525px; width:100%;\"></div>\n",
              "            <script type=\"text/javascript\">\n",
              "                \n",
              "                    window.PLOTLYENV=window.PLOTLYENV || {};\n",
              "                    \n",
              "                if (document.getElementById(\"1432b877-71aa-4c18-a384-0b67c3dd35ab\")) {\n",
              "                    Plotly.newPlot(\n",
              "                        '1432b877-71aa-4c18-a384-0b67c3dd35ab',\n",
              "                        [{\"hoverlabel\": {\"namelength\": 0}, \"hovertemplate\": \"recipient_gender=male<br>recipient_body_mass=%{x}<br>survival_time=%{y}\", \"legendgroup\": \"recipient_gender=male\", \"marker\": {\"color\": \"#636efa\", \"symbol\": \"circle\"}, \"mode\": \"markers\", \"name\": \"recipient_gender=male\", \"showlegend\": true, \"type\": \"scatter\", \"x\": [35.0, 20.6, 23.4, 40.0, 56.0, 20.5, 16.5, 18.1, 42.0, 55.0, 30.0, 97.8, 64.0, 62.0, 43.2, 39.3, 26.8, 6.4, 17.0, 14.3, 23.0, 15.0, 49.6, 10.0, 63.0, 48.0, 15.0, 15.3, 29.0, 41.4, 34.1, 28.5, 7.5, 19.5, 8.15, 10.0, 14.0, 51.0, 15.0, 68.0, 52.0, 54.9, 11.9, 49.0, 45.5, 56.5, 26.5, 28.0, 26.0, 37.5, 44.3, 43.0, 34.0, 62.5, 11.2, 70.0, 54.1, 51.1, 24.3, 23.0, 33.0, 17.2, 73.0, 52.7, 24.3, 19.5, 25.2, 25.0, 32.0, 65.0, 9.6, 50.6, 54.5, 12.0, 33.0, 59.0, 65.0, 44.5, 62.0, 103.4, 71.0, 70.0, 17.3, 14.8, 23.0, 35.5, 17.5, 62.0, 58.0, 65.0, 55.0, 71.0, 40.3, 13.0, 49.0, 24.0, 25.4, 38.4, 18.3, 16.0, 36.0, 30.5, 50.8, 57.0, 14.0, 24.0, 28.0, 25.0, 33.0, 44.0, 24.0, 37.0], \"xaxis\": \"x\", \"y\": [999.0, 163.0, 435.0, 2800.0, 45.0, 671.0, 676.0, 964.0, 335.0, 1432.0, 3288.0, 58.0, 884.0, 115.0, 330.0, 149.0, 914.0, 1522.0, 35.0, 1041.0, 531.0, 96.0, 1084.0, 2293.0, 111.0, 1376.0, 28.0, 2118.0, 60.0, 1327.0, 1006.0, 2926.0, 1346.0, 1424.0, 1958.0, 1791.0, 137.0, 261.0, 181.0, 1949.0, 1838.0, 224.0, 306.0, 1728.0, 445.0, 435.0, 1397.0, 849.0, 200.0, 26.0, 60.0, 403.0, 2699.0, 767.0, 580.0, 136.0, 1257.0, 1280.0, 67.0, 191.0, 2286.0, 510.0, 534.0, 274.0, 28.0, 1593.0, 472.0, 1839.0, 672.0, 718.0, 48.0, 117.0, 290.0, 1301.0, 108.0, 196.0, 2525.0, 1025.0, 996.0, 15.0, 48.0, 41.0, 766.0, 2932.0, 214.0, 754.0, 59.0, 64.0, 1214.0, 90.0, 2317.0, 2461.0, 413.0, 1741.0, 353.0, 1074.0, 1692.0, 174.0, 433.0, 1308.0, 2483.0, 458.0, 1243.0, 2208.0, 1185.0, 1873.0, 1627.0, 41.0, 6.0, 385.0, 382.0, 1109.0], \"yaxis\": \"y\"}, {\"hoverlabel\": {\"namelength\": 0}, \"hovertemplate\": \"recipient_gender=female<br>recipient_body_mass=%{x}<br>survival_time=%{y}\", \"legendgroup\": \"recipient_gender=female\", \"marker\": {\"color\": \"#EF553B\", \"symbol\": \"circle\"}, \"mode\": \"markers\", \"name\": \"recipient_gender=female\", \"showlegend\": true, \"type\": \"scatter\", \"x\": [50.0, 9.0, 51.0, 10.5, 47.0, 20.5, 6.0, 31.0, 23.8, 38.3, 20.0, 11.25, 10.5, 15.0, 43.5, 76.0, 60.4, 30.0, 48.8, 38.5, 23.0, 37.0, 13.0, 47.0, 61.0, 30.0, 30.8, 46.7, 47.0, 58.0, 16.5, 16.0, 61.3, 14.1, 72.5, 24.5, null, 34.0, 22.6, 19.0, null, 23.0, 15.3, 55.2, 18.6, 19.6, 90.0, 26.9, 17.6, 37.0, 19.0, 10.5, 60.0, 51.3, 20.8, 42.4, 12.0, 33.0, 58.9, 13.0, 20.9, 62.0, 54.6, 43.0, 44.1, 36.0, 18.0, 35.9, 44.3, 17.0, 11.2, 24.0, 49.0, 44.5, 33.0], \"xaxis\": \"x\", \"y\": [53.0, 2043.0, 41.0, 599.0, 2503.0, 1615.0, 704.0, 2231.0, 2105.0, 576.0, 676.0, 321.0, 149.0, 1690.0, 452.0, 150.0, 1754.0, 2354.0, 1000.0, 942.0, 2036.0, 11.0, 2279.0, 19.0, 55.0, 606.0, 1587.0, 1243.0, 66.0, 1937.0, 102.0, 113.0, 60.0, 1018.0, 202.0, 1195.0, 385.0, 161.0, 824.0, 130.0, 56.0, 745.0, 454.0, 68.0, 511.0, 1138.0, 57.0, 1754.0, 2117.0, 236.0, 1679.0, 2153.0, 1781.0, 2112.0, 1188.0, 10.0, 1171.0, 182.0, 42.0, 2337.0, 1385.0, 2761.0, 494.0, 1895.0, 246.0, 3364.0, 421.0, 1297.0, 397.0, 147.0, 31.0, 2373.0, 1985.0, 634.0, 1895.0], \"yaxis\": \"y\"}],\n",
              "                        {\"legend\": {\"tracegroupgap\": 0}, \"margin\": {\"t\": 60}, \"template\": {\"data\": {\"bar\": [{\"error_x\": {\"color\": \"#2a3f5f\"}, \"error_y\": {\"color\": \"#2a3f5f\"}, \"marker\": {\"line\": {\"color\": \"#E5ECF6\", \"width\": 0.5}}, \"type\": \"bar\"}], \"barpolar\": [{\"marker\": {\"line\": {\"color\": \"#E5ECF6\", \"width\": 0.5}}, \"type\": \"barpolar\"}], \"carpet\": [{\"aaxis\": {\"endlinecolor\": \"#2a3f5f\", \"gridcolor\": \"white\", \"linecolor\": \"white\", \"minorgridcolor\": \"white\", \"startlinecolor\": \"#2a3f5f\"}, \"baxis\": {\"endlinecolor\": \"#2a3f5f\", \"gridcolor\": \"white\", \"linecolor\": \"white\", \"minorgridcolor\": \"white\", \"startlinecolor\": \"#2a3f5f\"}, \"type\": \"carpet\"}], \"choropleth\": [{\"colorbar\": {\"outlinewidth\": 0, \"ticks\": \"\"}, \"type\": \"choropleth\"}], \"contour\": [{\"colorbar\": {\"outlinewidth\": 0, \"ticks\": \"\"}, \"colorscale\": [[0.0, \"#0d0887\"], [0.1111111111111111, \"#46039f\"], [0.2222222222222222, \"#7201a8\"], [0.3333333333333333, \"#9c179e\"], [0.4444444444444444, \"#bd3786\"], [0.5555555555555556, \"#d8576b\"], [0.6666666666666666, \"#ed7953\"], [0.7777777777777778, \"#fb9f3a\"], [0.8888888888888888, \"#fdca26\"], [1.0, \"#f0f921\"]], \"type\": \"contour\"}], \"contourcarpet\": [{\"colorbar\": {\"outlinewidth\": 0, \"ticks\": \"\"}, \"type\": \"contourcarpet\"}], \"heatmap\": [{\"colorbar\": {\"outlinewidth\": 0, \"ticks\": \"\"}, \"colorscale\": [[0.0, \"#0d0887\"], [0.1111111111111111, \"#46039f\"], [0.2222222222222222, \"#7201a8\"], [0.3333333333333333, \"#9c179e\"], [0.4444444444444444, \"#bd3786\"], [0.5555555555555556, \"#d8576b\"], [0.6666666666666666, \"#ed7953\"], [0.7777777777777778, \"#fb9f3a\"], [0.8888888888888888, \"#fdca26\"], [1.0, \"#f0f921\"]], \"type\": \"heatmap\"}], \"heatmapgl\": [{\"colorbar\": {\"outlinewidth\": 0, \"ticks\": \"\"}, \"colorscale\": [[0.0, \"#0d0887\"], [0.1111111111111111, \"#46039f\"], [0.2222222222222222, \"#7201a8\"], [0.3333333333333333, \"#9c179e\"], [0.4444444444444444, \"#bd3786\"], [0.5555555555555556, \"#d8576b\"], [0.6666666666666666, \"#ed7953\"], [0.7777777777777778, \"#fb9f3a\"], [0.8888888888888888, \"#fdca26\"], [1.0, \"#f0f921\"]], \"type\": \"heatmapgl\"}], \"histogram\": [{\"marker\": {\"colorbar\": {\"outlinewidth\": 0, \"ticks\": \"\"}}, \"type\": \"histogram\"}], \"histogram2d\": [{\"colorbar\": {\"outlinewidth\": 0, \"ticks\": \"\"}, \"colorscale\": [[0.0, \"#0d0887\"], [0.1111111111111111, \"#46039f\"], [0.2222222222222222, \"#7201a8\"], [0.3333333333333333, \"#9c179e\"], [0.4444444444444444, \"#bd3786\"], [0.5555555555555556, \"#d8576b\"], [0.6666666666666666, \"#ed7953\"], [0.7777777777777778, \"#fb9f3a\"], [0.8888888888888888, \"#fdca26\"], [1.0, \"#f0f921\"]], \"type\": \"histogram2d\"}], \"histogram2dcontour\": [{\"colorbar\": {\"outlinewidth\": 0, \"ticks\": \"\"}, \"colorscale\": [[0.0, \"#0d0887\"], [0.1111111111111111, \"#46039f\"], [0.2222222222222222, \"#7201a8\"], [0.3333333333333333, \"#9c179e\"], [0.4444444444444444, \"#bd3786\"], [0.5555555555555556, \"#d8576b\"], [0.6666666666666666, \"#ed7953\"], [0.7777777777777778, \"#fb9f3a\"], [0.8888888888888888, \"#fdca26\"], [1.0, \"#f0f921\"]], \"type\": \"histogram2dcontour\"}], \"mesh3d\": [{\"colorbar\": {\"outlinewidth\": 0, \"ticks\": \"\"}, \"type\": \"mesh3d\"}], \"parcoords\": [{\"line\": {\"colorbar\": {\"outlinewidth\": 0, \"ticks\": \"\"}}, \"type\": \"parcoords\"}], \"pie\": [{\"automargin\": true, \"type\": \"pie\"}], \"scatter\": [{\"marker\": {\"colorbar\": {\"outlinewidth\": 0, \"ticks\": \"\"}}, \"type\": \"scatter\"}], \"scatter3d\": [{\"line\": {\"colorbar\": {\"outlinewidth\": 0, \"ticks\": \"\"}}, \"marker\": {\"colorbar\": {\"outlinewidth\": 0, \"ticks\": \"\"}}, \"type\": \"scatter3d\"}], \"scattercarpet\": [{\"marker\": {\"colorbar\": {\"outlinewidth\": 0, \"ticks\": \"\"}}, \"type\": \"scattercarpet\"}], \"scattergeo\": [{\"marker\": {\"colorbar\": {\"outlinewidth\": 0, \"ticks\": \"\"}}, \"type\": \"scattergeo\"}], \"scattergl\": [{\"marker\": {\"colorbar\": {\"outlinewidth\": 0, \"ticks\": \"\"}}, \"type\": \"scattergl\"}], \"scattermapbox\": [{\"marker\": {\"colorbar\": {\"outlinewidth\": 0, \"ticks\": \"\"}}, \"type\": \"scattermapbox\"}], \"scatterpolar\": [{\"marker\": {\"colorbar\": {\"outlinewidth\": 0, \"ticks\": \"\"}}, \"type\": \"scatterpolar\"}], \"scatterpolargl\": [{\"marker\": {\"colorbar\": {\"outlinewidth\": 0, \"ticks\": \"\"}}, \"type\": \"scatterpolargl\"}], \"scatterternary\": [{\"marker\": {\"colorbar\": {\"outlinewidth\": 0, \"ticks\": \"\"}}, \"type\": \"scatterternary\"}], \"surface\": [{\"colorbar\": {\"outlinewidth\": 0, \"ticks\": \"\"}, \"colorscale\": [[0.0, \"#0d0887\"], [0.1111111111111111, \"#46039f\"], [0.2222222222222222, \"#7201a8\"], [0.3333333333333333, \"#9c179e\"], [0.4444444444444444, \"#bd3786\"], [0.5555555555555556, \"#d8576b\"], [0.6666666666666666, \"#ed7953\"], [0.7777777777777778, \"#fb9f3a\"], [0.8888888888888888, \"#fdca26\"], [1.0, \"#f0f921\"]], \"type\": \"surface\"}], \"table\": [{\"cells\": {\"fill\": {\"color\": \"#EBF0F8\"}, \"line\": {\"color\": \"white\"}}, \"header\": {\"fill\": {\"color\": \"#C8D4E3\"}, \"line\": {\"color\": \"white\"}}, \"type\": \"table\"}]}, \"layout\": {\"annotationdefaults\": {\"arrowcolor\": \"#2a3f5f\", \"arrowhead\": 0, \"arrowwidth\": 1}, \"coloraxis\": {\"colorbar\": {\"outlinewidth\": 0, \"ticks\": \"\"}}, \"colorscale\": {\"diverging\": [[0, \"#8e0152\"], [0.1, \"#c51b7d\"], [0.2, \"#de77ae\"], [0.3, \"#f1b6da\"], [0.4, \"#fde0ef\"], [0.5, \"#f7f7f7\"], [0.6, \"#e6f5d0\"], [0.7, \"#b8e186\"], [0.8, \"#7fbc41\"], [0.9, \"#4d9221\"], [1, \"#276419\"]], \"sequential\": [[0.0, \"#0d0887\"], [0.1111111111111111, \"#46039f\"], [0.2222222222222222, \"#7201a8\"], [0.3333333333333333, \"#9c179e\"], [0.4444444444444444, \"#bd3786\"], [0.5555555555555556, \"#d8576b\"], [0.6666666666666666, \"#ed7953\"], [0.7777777777777778, \"#fb9f3a\"], [0.8888888888888888, \"#fdca26\"], [1.0, \"#f0f921\"]], \"sequentialminus\": [[0.0, \"#0d0887\"], [0.1111111111111111, \"#46039f\"], [0.2222222222222222, \"#7201a8\"], [0.3333333333333333, \"#9c179e\"], [0.4444444444444444, \"#bd3786\"], [0.5555555555555556, \"#d8576b\"], [0.6666666666666666, \"#ed7953\"], [0.7777777777777778, \"#fb9f3a\"], [0.8888888888888888, \"#fdca26\"], [1.0, \"#f0f921\"]]}, \"colorway\": [\"#636efa\", \"#EF553B\", \"#00cc96\", \"#ab63fa\", \"#FFA15A\", \"#19d3f3\", \"#FF6692\", \"#B6E880\", \"#FF97FF\", \"#FECB52\"], \"font\": {\"color\": \"#2a3f5f\"}, \"geo\": {\"bgcolor\": \"white\", \"lakecolor\": \"white\", \"landcolor\": \"#E5ECF6\", \"showlakes\": true, \"showland\": true, \"subunitcolor\": \"white\"}, \"hoverlabel\": {\"align\": \"left\"}, \"hovermode\": \"closest\", \"mapbox\": {\"style\": \"light\"}, \"paper_bgcolor\": \"white\", \"plot_bgcolor\": \"#E5ECF6\", \"polar\": {\"angularaxis\": {\"gridcolor\": \"white\", \"linecolor\": \"white\", \"ticks\": \"\"}, \"bgcolor\": \"#E5ECF6\", \"radialaxis\": {\"gridcolor\": \"white\", \"linecolor\": \"white\", \"ticks\": \"\"}}, \"scene\": {\"xaxis\": {\"backgroundcolor\": \"#E5ECF6\", \"gridcolor\": \"white\", \"gridwidth\": 2, \"linecolor\": \"white\", \"showbackground\": true, \"ticks\": \"\", \"zerolinecolor\": \"white\"}, \"yaxis\": {\"backgroundcolor\": \"#E5ECF6\", \"gridcolor\": \"white\", \"gridwidth\": 2, \"linecolor\": \"white\", \"showbackground\": true, \"ticks\": \"\", \"zerolinecolor\": \"white\"}, \"zaxis\": {\"backgroundcolor\": \"#E5ECF6\", \"gridcolor\": \"white\", \"gridwidth\": 2, \"linecolor\": \"white\", \"showbackground\": true, \"ticks\": \"\", \"zerolinecolor\": \"white\"}}, \"shapedefaults\": {\"line\": {\"color\": \"#2a3f5f\"}}, \"ternary\": {\"aaxis\": {\"gridcolor\": \"white\", \"linecolor\": \"white\", \"ticks\": \"\"}, \"baxis\": {\"gridcolor\": \"white\", \"linecolor\": \"white\", \"ticks\": \"\"}, \"bgcolor\": \"#E5ECF6\", \"caxis\": {\"gridcolor\": \"white\", \"linecolor\": \"white\", \"ticks\": \"\"}}, \"title\": {\"x\": 0.05}, \"xaxis\": {\"automargin\": true, \"gridcolor\": \"white\", \"linecolor\": \"white\", \"ticks\": \"\", \"title\": {\"standoff\": 15}, \"zerolinecolor\": \"white\", \"zerolinewidth\": 2}, \"yaxis\": {\"automargin\": true, \"gridcolor\": \"white\", \"linecolor\": \"white\", \"ticks\": \"\", \"title\": {\"standoff\": 15}, \"zerolinecolor\": \"white\", \"zerolinewidth\": 2}}}, \"xaxis\": {\"anchor\": \"y\", \"domain\": [0.0, 1.0], \"title\": {\"text\": \"recipient_body_mass\"}}, \"yaxis\": {\"anchor\": \"x\", \"domain\": [0.0, 1.0], \"title\": {\"text\": \"survival_time\"}}},\n",
              "                        {\"responsive\": true}\n",
              "                    ).then(function(){\n",
              "                            \n",
              "var gd = document.getElementById('1432b877-71aa-4c18-a384-0b67c3dd35ab');\n",
              "var x = new MutationObserver(function (mutations, observer) {{\n",
              "        var display = window.getComputedStyle(gd).display;\n",
              "        if (!display || display === 'none') {{\n",
              "            console.log([gd, 'removed!']);\n",
              "            Plotly.purge(gd);\n",
              "            observer.disconnect();\n",
              "        }}\n",
              "}});\n",
              "\n",
              "// Listen for the removal of the full notebook cells\n",
              "var notebookContainer = gd.closest('#notebook-container');\n",
              "if (notebookContainer) {{\n",
              "    x.observe(notebookContainer, {childList: true});\n",
              "}}\n",
              "\n",
              "// Listen for the clearing of the current output cell\n",
              "var outputEl = gd.closest('.output');\n",
              "if (outputEl) {{\n",
              "    x.observe(outputEl, {childList: true});\n",
              "}}\n",
              "\n",
              "                        })\n",
              "                };\n",
              "                \n",
              "            </script>\n",
              "        </div>\n",
              "</body>\n",
              "</html>"
            ]
          },
          "metadata": {}
        }
      ]
    },
    {
      "cell_type": "code",
      "metadata": {
        "colab": {
          "base_uri": "https://localhost:8080/",
          "height": 542
        },
        "id": "cfkvbhhC9uxC",
        "outputId": "8285e7c5-1bd1-4028-b402-15fecc3f5621"
      },
      "source": [
        "#########Box and Scatter#############\n",
        "fig = px.scatter(df, x=\"donor_age\", y=\"recipient_age\", color=\"disease\", marginal_y=\"violin\",\n",
        "           marginal_x=\"box\", trendline=\"ols\", template=\"simple_white\")\n",
        "fig.show()"
      ],
      "execution_count": null,
      "outputs": [
        {
          "output_type": "display_data",
          "data": {
            "text/html": [
              "<html>\n",
              "<head><meta charset=\"utf-8\" /></head>\n",
              "<body>\n",
              "    <div>\n",
              "            <script src=\"https://cdnjs.cloudflare.com/ajax/libs/mathjax/2.7.5/MathJax.js?config=TeX-AMS-MML_SVG\"></script><script type=\"text/javascript\">if (window.MathJax) {MathJax.Hub.Config({SVG: {font: \"STIX-Web\"}});}</script>\n",
              "                <script type=\"text/javascript\">window.PlotlyConfig = {MathJaxConfig: 'local'};</script>\n",
              "        <script src=\"https://cdn.plot.ly/plotly-latest.min.js\"></script>    \n",
              "            <div id=\"1d53fb4d-177b-41d1-8a5c-0dfe72f3fe9a\" class=\"plotly-graph-div\" style=\"height:525px; width:100%;\"></div>\n",
              "            <script type=\"text/javascript\">\n",
              "                \n",
              "                    window.PLOTLYENV=window.PLOTLYENV || {};\n",
              "                    \n",
              "                if (document.getElementById(\"1d53fb4d-177b-41d1-8a5c-0dfe72f3fe9a\")) {\n",
              "                    Plotly.newPlot(\n",
              "                        '1d53fb4d-177b-41d1-8a5c-0dfe72f3fe9a',\n",
              "                        [{\"hoverlabel\": {\"namelength\": 0}, \"hovertemplate\": \"disease=ALL<br>donor_age=%{x}<br>recipient_age=%{y}\", \"legendgroup\": \"disease=ALL\", \"marker\": {\"color\": \"#1F77B4\", \"symbol\": \"circle\"}, \"mode\": \"markers\", \"name\": \"disease=ALL\", \"showlegend\": true, \"type\": \"scatter\", \"x\": [22.830137, 23.342466, 26.394521, 40.863014, 43.375341999999996, 31.745205, 43.578082, 30.504109999999997, 39.983562, 39.172603, 24.731507, 24.353425, 39.024658, 34.273973, 20.471232999999998, 38.761644, 29.772603000000004, 28.821918, 30.287671000000003, 33.120548, 30.2, 35.087671, 44.413699, 45.915068, 35.287671, 31.671233, 21.263014000000002, 29.980821999999996, 25.210959, 28.276712, 30.835615999999998, 21.128767, 40.183562, 35.764384, 38.827397, 26.663014, 43.065753, 33.643836, 36.435615999999996, 22.493151, 47.369863, 40.317808, 42.739726, 40.912329, 34.005479, 34.624658000000004, 51.005479, 36.789041, 43.126027, 46.545204999999996, 20.394520999999997, 39.0, 43.304109999999994, 35.430137, 25.506849, 29.619178, 30.421917999999998, 24.575342000000003, 41.627396999999995, 23.578082000000002, 29.126027, 18.646575, 35.443836, 40.947945000000004, 36.690411, 34.167123, 30.024658000000002, 30.854795000000003], \"xaxis\": \"x\", \"y\": [9.6, 4.0, 6.6, 5.1, 0.6, 17.7, 14.7, 6.7, 4.7, 8.4, 8.6, 4.6, 3.1, 13.8, 3.1, 13.4, 8.5, 15.1, 8.3, 6.9, 2.8, 12.6, 15.6, 14.2, 12.2, 11.8, 7.4, 9.2, 1.7, 18.2, 5.0, 14.0, 18.3, 7.7, 7.7, 7.1, 6.7, 17.5, 20.1, 2.3, 11.6, 17.7, 7.7, 2.0, 9.0, 14.7, 18.9, 16.6, 5.2, 6.0, 6.8, 5.1, 14.0, 13.5, 12.2, 10.0, 8.5, 5.0, 13.4, 6.4, 4.2, 9.6, 3.6, 16.1, 3.4, 12.7, 7.5, 4.8], \"yaxis\": \"y\"}, {\"alignmentgroup\": \"True\", \"hoverlabel\": {\"namelength\": 0}, \"hovertemplate\": \"disease=ALL<br>donor_age=%{x}\", \"legendgroup\": \"disease=ALL\", \"marker\": {\"color\": \"#1F77B4\", \"symbol\": \"circle\"}, \"name\": \"disease=ALL\", \"notched\": true, \"offsetgroup\": \"disease=ALL\", \"showlegend\": false, \"type\": \"box\", \"x\": [22.830137, 23.342466, 26.394521, 40.863014, 43.375341999999996, 31.745205, 43.578082, 30.504109999999997, 39.983562, 39.172603, 24.731507, 24.353425, 39.024658, 34.273973, 20.471232999999998, 38.761644, 29.772603000000004, 28.821918, 30.287671000000003, 33.120548, 30.2, 35.087671, 44.413699, 45.915068, 35.287671, 31.671233, 21.263014000000002, 29.980821999999996, 25.210959, 28.276712, 30.835615999999998, 21.128767, 40.183562, 35.764384, 38.827397, 26.663014, 43.065753, 33.643836, 36.435615999999996, 22.493151, 47.369863, 40.317808, 42.739726, 40.912329, 34.005479, 34.624658000000004, 51.005479, 36.789041, 43.126027, 46.545204999999996, 20.394520999999997, 39.0, 43.304109999999994, 35.430137, 25.506849, 29.619178, 30.421917999999998, 24.575342000000003, 41.627396999999995, 23.578082000000002, 29.126027, 18.646575, 35.443836, 40.947945000000004, 36.690411, 34.167123, 30.024658000000002, 30.854795000000003], \"xaxis\": \"x3\", \"yaxis\": \"y3\"}, {\"alignmentgroup\": \"True\", \"hoverlabel\": {\"namelength\": 0}, \"hovertemplate\": \"disease=ALL<br>recipient_age=%{y}\", \"legendgroup\": \"disease=ALL\", \"marker\": {\"color\": \"#1F77B4\", \"symbol\": \"circle\"}, \"name\": \"disease=ALL\", \"offsetgroup\": \"disease=ALL\", \"scalegroup\": \"y\", \"showlegend\": false, \"type\": \"violin\", \"xaxis\": \"x2\", \"y\": [9.6, 4.0, 6.6, 5.1, 0.6, 17.7, 14.7, 6.7, 4.7, 8.4, 8.6, 4.6, 3.1, 13.8, 3.1, 13.4, 8.5, 15.1, 8.3, 6.9, 2.8, 12.6, 15.6, 14.2, 12.2, 11.8, 7.4, 9.2, 1.7, 18.2, 5.0, 14.0, 18.3, 7.7, 7.7, 7.1, 6.7, 17.5, 20.1, 2.3, 11.6, 17.7, 7.7, 2.0, 9.0, 14.7, 18.9, 16.6, 5.2, 6.0, 6.8, 5.1, 14.0, 13.5, 12.2, 10.0, 8.5, 5.0, 13.4, 6.4, 4.2, 9.6, 3.6, 16.1, 3.4, 12.7, 7.5, 4.8], \"yaxis\": \"y2\"}, {\"hoverlabel\": {\"namelength\": 0}, \"hovertemplate\": \"<b>OLS trendline</b><br>recipient_age = 0.173732 * donor_age + 3.591246<br>R<sup>2</sup>=0.071314<br><br>disease=ALL<br>donor_age=%{x}<br>recipient_age=%{y} <b>(trend)</b>\", \"legendgroup\": \"disease=ALL\", \"marker\": {\"color\": \"#1F77B4\", \"symbol\": \"circle\"}, \"mode\": \"lines\", \"name\": \"disease=ALL\", \"showlegend\": false, \"type\": \"scatter\", \"x\": [18.646575, 20.394520999999997, 20.471232999999998, 21.128767, 21.263014000000002, 22.493151, 22.830137, 23.342466, 23.578082000000002, 24.353425, 24.575342000000003, 24.731507, 25.210959, 25.506849, 26.394521, 26.663014, 28.276712, 28.821918, 29.126027, 29.619178, 29.772603000000004, 29.980821999999996, 30.024658000000002, 30.2, 30.287671000000003, 30.421917999999998, 30.504109999999997, 30.835615999999998, 30.854795000000003, 31.671233, 31.745205, 33.120548, 33.643836, 34.005479, 34.167123, 34.273973, 34.624658000000004, 35.087671, 35.287671, 35.430137, 35.443836, 35.764384, 36.435615999999996, 36.690411, 36.789041, 38.761644, 38.827397, 39.0, 39.024658, 39.172603, 39.983562, 40.183562, 40.317808, 40.863014, 40.912329, 40.947945000000004, 41.627396999999995, 42.739726, 43.065753, 43.126027, 43.304109999999994, 43.375341999999996, 43.578082, 44.413699, 45.915068, 46.545204999999996, 47.369863, 51.005479], \"xaxis\": \"x\", \"y\": [6.830758966667627, 7.1344337423395, 7.147761098786061, 7.261996029354071, 7.285319076867908, 7.499033675328427, 7.5575790468413695, 7.646587170745194, 7.687521293392407, 7.822223459016377, 7.860777622127123, 7.887908535406365, 7.971204860662082, 8.02261052729798, 8.176827874670384, 8.223473795965702, 8.503825350391383, 8.598545272943314, 8.65137884580815, 8.737055130600334, 8.763710017225812, 8.799884394532445, 8.807500126063255, 8.837962704721782, 8.853193994051047, 8.876517041564881, 8.890796451318973, 8.948389769524386, 8.951721782368383, 9.093563479137043, 9.106414808929838, 9.345356387786897, 9.436268444573425, 9.499097534773181, 9.527180327627596, 9.545743629800855, 9.606668960850264, 9.68710929991575, 9.721855770993448, 9.746606724736223, 9.748986684272689, 9.804676243327755, 9.921290959699876, 9.965557095191084, 9.98269231740305, 10.325397282839432, 10.33682070640329, 10.366807432140408, 10.371091324559579, 10.396794157877528, 10.537683975071014, 10.572430446148712, 10.595753319930193, 10.690473242482124, 10.699040853588107, 10.705228505157624, 10.823271301491037, 11.016518838627949, 11.07316027725819, 11.083631821246875, 11.114570600291522, 11.126945903430553, 11.162168401162015, 11.30734211077467, 11.568178483451918, 11.677653668679348, 11.820923445409303, 12.452547576377349], \"yaxis\": \"y\"}, {\"hoverlabel\": {\"namelength\": 0}, \"hovertemplate\": \"disease=AML<br>donor_age=%{x}<br>recipient_age=%{y}\", \"legendgroup\": \"disease=AML\", \"marker\": {\"color\": \"#FF7F0E\", \"symbol\": \"circle\"}, \"mode\": \"markers\", \"name\": \"disease=AML\", \"showlegend\": true, \"type\": \"scatter\", \"x\": [39.684932, 34.520548, 30.676712, 20.961644, 40.536986, 21.4, 44.380821999999995, 31.526027000000003, 55.40274, 24.476712, 42.268493, 35.630137, 32.372603000000005, 21.972603, 27.676712, 28.709589, 42.049315, 37.380821999999995, 22.430137, 43.745205, 39.627396999999995, 25.772603, 45.136986, 19.506849, 29.306849, 24.180822, 35.890411, 29.928766999999997, 28.073973, 41.476712, 37.060274, 37.632877, 22.895889999999998], \"xaxis\": \"x\", \"y\": [18.1, 14.4, 17.8, 1.6, 2.1, 13.3, 4.1, 11.4, 18.4, 14.8, 17.8, 15.5, 20.2, 15.4, 11.5, 3.1, 18.7, 17.8, 16.0, 3.3, 17.0, 18.2, 15.5, 12.9, 14.1, 12.5, 9.7, 11.2, 2.9, 17.8, 8.8, 8.8, 13.9], \"yaxis\": \"y\"}, {\"alignmentgroup\": \"True\", \"hoverlabel\": {\"namelength\": 0}, \"hovertemplate\": \"disease=AML<br>donor_age=%{x}\", \"legendgroup\": \"disease=AML\", \"marker\": {\"color\": \"#FF7F0E\", \"symbol\": \"circle\"}, \"name\": \"disease=AML\", \"notched\": true, \"offsetgroup\": \"disease=AML\", \"showlegend\": false, \"type\": \"box\", \"x\": [39.684932, 34.520548, 30.676712, 20.961644, 40.536986, 21.4, 44.380821999999995, 31.526027000000003, 55.40274, 24.476712, 42.268493, 35.630137, 32.372603000000005, 21.972603, 27.676712, 28.709589, 42.049315, 37.380821999999995, 22.430137, 43.745205, 39.627396999999995, 25.772603, 45.136986, 19.506849, 29.306849, 24.180822, 35.890411, 29.928766999999997, 28.073973, 41.476712, 37.060274, 37.632877, 22.895889999999998], \"xaxis\": \"x3\", \"yaxis\": \"y3\"}, {\"alignmentgroup\": \"True\", \"hoverlabel\": {\"namelength\": 0}, \"hovertemplate\": \"disease=AML<br>recipient_age=%{y}\", \"legendgroup\": \"disease=AML\", \"marker\": {\"color\": \"#FF7F0E\", \"symbol\": \"circle\"}, \"name\": \"disease=AML\", \"offsetgroup\": \"disease=AML\", \"scalegroup\": \"y\", \"showlegend\": false, \"type\": \"violin\", \"xaxis\": \"x2\", \"y\": [18.1, 14.4, 17.8, 1.6, 2.1, 13.3, 4.1, 11.4, 18.4, 14.8, 17.8, 15.5, 20.2, 15.4, 11.5, 3.1, 18.7, 17.8, 16.0, 3.3, 17.0, 18.2, 15.5, 12.9, 14.1, 12.5, 9.7, 11.2, 2.9, 17.8, 8.8, 8.8, 13.9], \"yaxis\": \"y2\"}, {\"hoverlabel\": {\"namelength\": 0}, \"hovertemplate\": \"<b>OLS trendline</b><br>recipient_age = 0.062754 * donor_age + 10.603890<br>R<sup>2</sup>=0.009839<br><br>disease=AML<br>donor_age=%{x}<br>recipient_age=%{y} <b>(trend)</b>\", \"legendgroup\": \"disease=AML\", \"marker\": {\"color\": \"#FF7F0E\", \"symbol\": \"circle\"}, \"mode\": \"lines\", \"name\": \"disease=AML\", \"showlegend\": false, \"type\": \"scatter\", \"x\": [19.506849, 20.961644, 21.4, 21.972603, 22.430137, 22.895889999999998, 24.180822, 24.476712, 25.772603, 27.676712, 28.073973, 28.709589, 29.306849, 29.928766999999997, 30.676712, 31.526027000000003, 32.372603000000005, 34.520548, 35.630137, 35.890411, 37.060274, 37.380821999999995, 37.632877, 39.627396999999995, 39.684932, 40.536986, 41.476712, 42.049315, 42.268493, 43.745205, 44.380821999999995, 45.136986, 55.40274], \"xaxis\": \"x\", \"y\": [11.828029371986537, 11.91932403242965, 11.946832761957317, 11.98276606971113, 12.011478301449058, 12.040706310883625, 12.121341335497053, 12.139909709101934, 12.221232458228984, 12.340723509959075, 12.365653351003546, 12.405540996267801, 12.44302163711153, 12.48204967379949, 12.528986448262645, 12.582284627411077, 12.635410922496838, 12.770203734834991, 12.839835229984764, 12.856168545986105, 12.929582494583649, 12.949698264032758, 12.965515802337462, 13.090680534239207, 13.094291103624306, 13.147761166835409, 13.206733026155495, 13.242666333909309, 13.256420698673141, 13.349090745389189, 13.388978453407756, 13.436431005567549, 14.080651342881424], \"yaxis\": \"y\"}, {\"hoverlabel\": {\"namelength\": 0}, \"hovertemplate\": \"disease=chronic<br>donor_age=%{x}<br>recipient_age=%{y}\", \"legendgroup\": \"disease=chronic\", \"marker\": {\"color\": \"#2CA02C\", \"symbol\": \"circle\"}, \"mode\": \"markers\", \"name\": \"disease=chronic\", \"showlegend\": true, \"type\": \"scatter\", \"x\": [33.358903999999995, 27.391780999999998, 29.731507, 36.8, 41.164384000000005, 40.232877, 40.821918, 31.545205, 33.052054999999996, 39.380821999999995, 43.517808, 28.805479, 24.367123, 43.715068, 22.643836, 47.112328999999995, 41.542466, 41.443836, 29.964384000000003, 21.756164000000002, 33.791781, 52.476712, 19.446575, 49.205479, 41.873973, 25.715068, 30.594521000000004, 22.528767000000002, 28.268493, 28.723288, 37.254795, 21.405479, 33.857534, 24.284932, 51.991781, 29.158903999999996, 35.627396999999995, 38.2, 30.279452000000003, 40.391781, 23.09589, 19.663014, 40.419178, 30.972603000000003, 27.780821999999997], \"xaxis\": \"x\", \"y\": [1.3, 8.9, 1.9, 13.4, 13.5, 17.9, 4.7, 13.9, 2.8, 1.7, 2.2, 11.3, 2.3, 14.0, 12.7, 11.5, 13.5, 3.8, 6.5, 5.5, 11.2, 9.4, 15.3, 5.7, 6.1, 17.3, 16.5, 9.0, 5.4, 7.3, 17.8, 12.7, 1.3, 1.3, 16.7, 15.1, 17.4, 16.0, 3.4, 13.7, 18.3, 13.0, 3.0, 11.5, 8.0], \"yaxis\": \"y\"}, {\"alignmentgroup\": \"True\", \"hoverlabel\": {\"namelength\": 0}, \"hovertemplate\": \"disease=chronic<br>donor_age=%{x}\", \"legendgroup\": \"disease=chronic\", \"marker\": {\"color\": \"#2CA02C\", \"symbol\": \"circle\"}, \"name\": \"disease=chronic\", \"notched\": true, \"offsetgroup\": \"disease=chronic\", \"showlegend\": false, \"type\": \"box\", \"x\": [33.358903999999995, 27.391780999999998, 29.731507, 36.8, 41.164384000000005, 40.232877, 40.821918, 31.545205, 33.052054999999996, 39.380821999999995, 43.517808, 28.805479, 24.367123, 43.715068, 22.643836, 47.112328999999995, 41.542466, 41.443836, 29.964384000000003, 21.756164000000002, 33.791781, 52.476712, 19.446575, 49.205479, 41.873973, 25.715068, 30.594521000000004, 22.528767000000002, 28.268493, 28.723288, 37.254795, 21.405479, 33.857534, 24.284932, 51.991781, 29.158903999999996, 35.627396999999995, 38.2, 30.279452000000003, 40.391781, 23.09589, 19.663014, 40.419178, 30.972603000000003, 27.780821999999997], \"xaxis\": \"x3\", \"yaxis\": \"y3\"}, {\"alignmentgroup\": \"True\", \"hoverlabel\": {\"namelength\": 0}, \"hovertemplate\": \"disease=chronic<br>recipient_age=%{y}\", \"legendgroup\": \"disease=chronic\", \"marker\": {\"color\": \"#2CA02C\", \"symbol\": \"circle\"}, \"name\": \"disease=chronic\", \"offsetgroup\": \"disease=chronic\", \"scalegroup\": \"y\", \"showlegend\": false, \"type\": \"violin\", \"xaxis\": \"x2\", \"y\": [1.3, 8.9, 1.9, 13.4, 13.5, 17.9, 4.7, 13.9, 2.8, 1.7, 2.2, 11.3, 2.3, 14.0, 12.7, 11.5, 13.5, 3.8, 6.5, 5.5, 11.2, 9.4, 15.3, 5.7, 6.1, 17.3, 16.5, 9.0, 5.4, 7.3, 17.8, 12.7, 1.3, 1.3, 16.7, 15.1, 17.4, 16.0, 3.4, 13.7, 18.3, 13.0, 3.0, 11.5, 8.0], \"yaxis\": \"y2\"}, {\"hoverlabel\": {\"namelength\": 0}, \"hovertemplate\": \"<b>OLS trendline</b><br>recipient_age = -0.004085 * donor_age + 9.819778<br>R<sup>2</sup>=0.000040<br><br>disease=chronic<br>donor_age=%{x}<br>recipient_age=%{y} <b>(trend)</b>\", \"legendgroup\": \"disease=chronic\", \"marker\": {\"color\": \"#2CA02C\", \"symbol\": \"circle\"}, \"mode\": \"lines\", \"name\": \"disease=chronic\", \"showlegend\": false, \"type\": \"scatter\", \"x\": [19.446575, 19.663014, 21.405479, 21.756164000000002, 22.528767000000002, 22.643836, 23.09589, 24.284932, 24.367123, 25.715068, 27.391780999999998, 27.780821999999997, 28.268493, 28.723288, 28.805479, 29.158903999999996, 29.731507, 29.964384000000003, 30.279452000000003, 30.594521000000004, 30.972603000000003, 31.545205, 33.052054999999996, 33.358903999999995, 33.791781, 33.857534, 35.627396999999995, 36.8, 37.254795, 38.2, 39.380821999999995, 40.232877, 40.391781, 40.419178, 40.821918, 41.164384000000005, 41.443836, 41.542466, 41.873973, 43.517808, 43.715068, 47.112328999999995, 49.205479, 51.991781, 52.476712], \"xaxis\": \"x\", \"y\": [9.740341722923311, 9.739457598597015, 9.732339862448626, 9.730907361192534, 9.727751381415922, 9.72728133996266, 9.7254347599184, 9.72057768260244, 9.720241943375672, 9.714735768587348, 9.70788662055248, 9.70629744017359, 9.704305369454683, 9.702447592792538, 9.702111853565768, 9.700668159776656, 9.698329153213095, 9.697377881858419, 9.696090871276972, 9.694803856610658, 9.693259442278977, 9.690920439800282, 9.684765159369858, 9.683511722302601, 9.681743477734875, 9.681474885536485, 9.674245232227642, 9.66945530602493, 9.667597529362784, 9.663736493533579, 9.658912993816676, 9.655432463261448, 9.654783361704217, 9.654671448628626, 9.653026309669507, 9.651627381927605, 9.650485857935939, 9.650082967595923, 9.648728805901229, 9.642013960092857, 9.641208179412827, 9.627330823239125, 9.618780585834644, 9.607398915347302, 9.605418037161414], \"yaxis\": \"y\"}, {\"hoverlabel\": {\"namelength\": 0}, \"hovertemplate\": \"disease=nonmalignant<br>donor_age=%{x}<br>recipient_age=%{y}\", \"legendgroup\": \"disease=nonmalignant\", \"marker\": {\"color\": \"#D62728\", \"symbol\": \"circle\"}, \"mode\": \"markers\", \"name\": \"disease=nonmalignant\", \"showlegend\": true, \"type\": \"scatter\", \"x\": [21.435616, 32.641096000000005, 28.783562, 42.380821999999995, 24.780822, 20.605479000000003, 40.969863000000004, 23.446575, 49.860274, 20.358904000000003, 36.868493, 39.641096000000005, 39.632877, 34.169863, 31.194521, 30.389041, 37.287671, 29.161644, 26.221918, 26.731507, 40.052054999999996, 40.386301, 22.408219, 40.339726, 39.249315, 35.797259999999994, 25.284932, 22.863014, 22.257534, 42.416438, 27.347945000000003, 55.553425], \"xaxis\": \"x\", \"y\": [18.2, 7.9, 4.7, 9.7, 10.9, 8.5, 0.7, 10.9, 16.6, 9.9, 12.1, 4.9, 5.0, 6.5, 1.8, 3.4, 7.9, 4.5, 3.9, 11.3, 3.9, 8.2, 7.6, 3.2, 5.6, 8.1, 4.5, 17.9, 4.4, 4.3, 10.4, 9.5], \"yaxis\": \"y\"}, {\"alignmentgroup\": \"True\", \"hoverlabel\": {\"namelength\": 0}, \"hovertemplate\": \"disease=nonmalignant<br>donor_age=%{x}\", \"legendgroup\": \"disease=nonmalignant\", \"marker\": {\"color\": \"#D62728\", \"symbol\": \"circle\"}, \"name\": \"disease=nonmalignant\", \"notched\": true, \"offsetgroup\": \"disease=nonmalignant\", \"showlegend\": false, \"type\": \"box\", \"x\": [21.435616, 32.641096000000005, 28.783562, 42.380821999999995, 24.780822, 20.605479000000003, 40.969863000000004, 23.446575, 49.860274, 20.358904000000003, 36.868493, 39.641096000000005, 39.632877, 34.169863, 31.194521, 30.389041, 37.287671, 29.161644, 26.221918, 26.731507, 40.052054999999996, 40.386301, 22.408219, 40.339726, 39.249315, 35.797259999999994, 25.284932, 22.863014, 22.257534, 42.416438, 27.347945000000003, 55.553425], \"xaxis\": \"x3\", \"yaxis\": \"y3\"}, {\"alignmentgroup\": \"True\", \"hoverlabel\": {\"namelength\": 0}, \"hovertemplate\": \"disease=nonmalignant<br>recipient_age=%{y}\", \"legendgroup\": \"disease=nonmalignant\", \"marker\": {\"color\": \"#D62728\", \"symbol\": \"circle\"}, \"name\": \"disease=nonmalignant\", \"offsetgroup\": \"disease=nonmalignant\", \"scalegroup\": \"y\", \"showlegend\": false, \"type\": \"violin\", \"xaxis\": \"x2\", \"y\": [18.2, 7.9, 4.7, 9.7, 10.9, 8.5, 0.7, 10.9, 16.6, 9.9, 12.1, 4.9, 5.0, 6.5, 1.8, 3.4, 7.9, 4.5, 3.9, 11.3, 3.9, 8.2, 7.6, 3.2, 5.6, 8.1, 4.5, 17.9, 4.4, 4.3, 10.4, 9.5], \"yaxis\": \"y2\"}, {\"hoverlabel\": {\"namelength\": 0}, \"hovertemplate\": \"<b>OLS trendline</b><br>recipient_age = -0.075534 * donor_age + 10.195307<br>R<sup>2</sup>=0.024281<br><br>disease=nonmalignant<br>donor_age=%{x}<br>recipient_age=%{y} <b>(trend)</b>\", \"legendgroup\": \"disease=nonmalignant\", \"marker\": {\"color\": \"#D62728\", \"symbol\": \"circle\"}, \"mode\": \"lines\", \"name\": \"disease=nonmalignant\", \"showlegend\": false, \"type\": \"scatter\", \"x\": [20.358904000000003, 20.605479000000003, 21.435616, 22.257534, 22.408219, 22.863014, 23.446575, 24.780822, 25.284932, 26.221918, 26.731507, 27.347945000000003, 28.783562, 29.161644, 30.389041, 31.194521, 32.641096000000005, 34.169863, 35.797259999999994, 36.868493, 37.287671, 39.249315, 39.632877, 39.641096000000005, 40.052054999999996, 40.339726, 40.386301, 40.969863000000004, 42.380821999999995, 42.416438, 49.860274, 55.553425], \"xaxis\": \"x\", \"y\": [8.657517345115691, 8.638892545675853, 8.576188966105383, 8.514106200593906, 8.502724357732335, 8.468371865949951, 8.424293161353333, 8.323512130112514, 8.285434678442163, 8.214660365036766, 8.176169062505092, 8.12960702613849, 8.021169111924067, 7.992611060938311, 7.899900839066433, 7.839059701672939, 7.729794085735868, 7.614320178140847, 7.491396350769891, 7.410481822620906, 7.378819625806175, 7.230648780942093, 7.201676803561, 7.201055989502008, 7.170014606746269, 7.1482856614774555, 7.144767664787157, 7.100688884656525, 6.994113488153092, 6.991423268719454, 6.429160457959872, 5.999133912058172], \"yaxis\": \"y\"}, {\"hoverlabel\": {\"namelength\": 0}, \"hovertemplate\": \"disease=lymphoma<br>donor_age=%{x}<br>recipient_age=%{y}\", \"legendgroup\": \"disease=lymphoma\", \"marker\": {\"color\": \"#9467BD\", \"symbol\": \"circle\"}, \"mode\": \"markers\", \"name\": \"disease=lymphoma\", \"showlegend\": true, \"type\": \"scatter\", \"x\": [30.60274, 39.643836, 22.112329000000003, 37.0, 33.550684999999994, 30.156164, 33.915068, 46.00274, 37.575342], \"xaxis\": \"x\", \"y\": [11.5, 13.5, 14.6, 14.1, 12.1, 7.2, 9.5, 18.8, 12.9], \"yaxis\": \"y\"}, {\"alignmentgroup\": \"True\", \"hoverlabel\": {\"namelength\": 0}, \"hovertemplate\": \"disease=lymphoma<br>donor_age=%{x}\", \"legendgroup\": \"disease=lymphoma\", \"marker\": {\"color\": \"#9467BD\", \"symbol\": \"circle\"}, \"name\": \"disease=lymphoma\", \"notched\": true, \"offsetgroup\": \"disease=lymphoma\", \"showlegend\": false, \"type\": \"box\", \"x\": [30.60274, 39.643836, 22.112329000000003, 37.0, 33.550684999999994, 30.156164, 33.915068, 46.00274, 37.575342], \"xaxis\": \"x3\", \"yaxis\": \"y3\"}, {\"alignmentgroup\": \"True\", \"hoverlabel\": {\"namelength\": 0}, \"hovertemplate\": \"disease=lymphoma<br>recipient_age=%{y}\", \"legendgroup\": \"disease=lymphoma\", \"marker\": {\"color\": \"#9467BD\", \"symbol\": \"circle\"}, \"name\": \"disease=lymphoma\", \"offsetgroup\": \"disease=lymphoma\", \"scalegroup\": \"y\", \"showlegend\": false, \"type\": \"violin\", \"xaxis\": \"x2\", \"y\": [11.5, 13.5, 14.6, 14.1, 12.1, 7.2, 9.5, 18.8, 12.9], \"yaxis\": \"y2\"}, {\"hoverlabel\": {\"namelength\": 0}, \"hovertemplate\": \"<b>OLS trendline</b><br>recipient_age = 0.236404 * donor_age + 4.531406<br>R<sup>2</sup>=0.236738<br><br>disease=lymphoma<br>donor_age=%{x}<br>recipient_age=%{y} <b>(trend)</b>\", \"legendgroup\": \"disease=lymphoma\", \"marker\": {\"color\": \"#9467BD\", \"symbol\": \"circle\"}, \"mode\": \"lines\", \"name\": \"disease=lymphoma\", \"showlegend\": false, \"type\": \"scatter\", \"x\": [22.112329000000003, 30.156164, 30.60274, 33.550684999999994, 33.915068, 37.0, 37.575342, 39.643836, 46.00274], \"xaxis\": \"x\", \"y\": [9.758847514177901, 11.6604417394711, 11.766014061970818, 12.462919852365815, 12.549061426452681, 13.27835148233053, 13.414364593585129, 13.903364709258017, 15.406634620387948], \"yaxis\": \"y\"}],\n",
              "                        {\"legend\": {\"tracegroupgap\": 0}, \"margin\": {\"t\": 60}, \"template\": {\"data\": {\"bar\": [{\"error_x\": {\"color\": \"rgb(36,36,36)\"}, \"error_y\": {\"color\": \"rgb(36,36,36)\"}, \"marker\": {\"line\": {\"color\": \"white\", \"width\": 0.5}}, \"type\": \"bar\"}], \"barpolar\": [{\"marker\": {\"line\": {\"color\": \"white\", \"width\": 0.5}}, \"type\": \"barpolar\"}], \"carpet\": [{\"aaxis\": {\"endlinecolor\": \"rgb(36,36,36)\", \"gridcolor\": \"white\", \"linecolor\": \"white\", \"minorgridcolor\": \"white\", \"startlinecolor\": \"rgb(36,36,36)\"}, \"baxis\": {\"endlinecolor\": \"rgb(36,36,36)\", \"gridcolor\": \"white\", \"linecolor\": \"white\", \"minorgridcolor\": \"white\", \"startlinecolor\": \"rgb(36,36,36)\"}, \"type\": \"carpet\"}], \"choropleth\": [{\"colorbar\": {\"outlinewidth\": 10, \"tickcolor\": \"rgb(36,36,36)\", \"ticklen\": 8, \"ticks\": \"outside\", \"tickwidth\": 2}, \"type\": \"choropleth\"}], \"contour\": [{\"colorbar\": {\"outlinewidth\": 10, \"tickcolor\": \"rgb(36,36,36)\", \"ticklen\": 8, \"ticks\": \"outside\", \"tickwidth\": 2}, \"colorscale\": [[0.0, \"#440154\"], [0.1111111111111111, \"#482878\"], [0.2222222222222222, \"#3e4989\"], [0.3333333333333333, \"#31688e\"], [0.4444444444444444, \"#26828e\"], [0.5555555555555556, \"#1f9e89\"], [0.6666666666666666, \"#35b779\"], [0.7777777777777778, \"#6ece58\"], [0.8888888888888888, \"#b5de2b\"], [1.0, \"#fde725\"]], \"type\": \"contour\"}], \"contourcarpet\": [{\"colorbar\": {\"outlinewidth\": 10, \"tickcolor\": \"rgb(36,36,36)\", \"ticklen\": 8, \"ticks\": \"outside\", \"tickwidth\": 2}, \"type\": \"contourcarpet\"}], \"heatmap\": [{\"colorbar\": {\"outlinewidth\": 10, \"tickcolor\": \"rgb(36,36,36)\", \"ticklen\": 8, \"ticks\": \"outside\", \"tickwidth\": 2}, \"colorscale\": [[0.0, \"#440154\"], [0.1111111111111111, \"#482878\"], [0.2222222222222222, \"#3e4989\"], [0.3333333333333333, \"#31688e\"], [0.4444444444444444, \"#26828e\"], [0.5555555555555556, \"#1f9e89\"], [0.6666666666666666, \"#35b779\"], [0.7777777777777778, \"#6ece58\"], [0.8888888888888888, \"#b5de2b\"], [1.0, \"#fde725\"]], \"type\": \"heatmap\"}], \"heatmapgl\": [{\"colorbar\": {\"outlinewidth\": 10, \"tickcolor\": \"rgb(36,36,36)\", \"ticklen\": 8, \"ticks\": \"outside\", \"tickwidth\": 2}, \"colorscale\": [[0.0, \"#440154\"], [0.1111111111111111, \"#482878\"], [0.2222222222222222, \"#3e4989\"], [0.3333333333333333, \"#31688e\"], [0.4444444444444444, \"#26828e\"], [0.5555555555555556, \"#1f9e89\"], [0.6666666666666666, \"#35b779\"], [0.7777777777777778, \"#6ece58\"], [0.8888888888888888, \"#b5de2b\"], [1.0, \"#fde725\"]], \"type\": \"heatmapgl\"}], \"histogram\": [{\"marker\": {\"line\": {\"color\": \"white\", \"width\": 0.6}}, \"type\": \"histogram\"}], \"histogram2d\": [{\"colorbar\": {\"outlinewidth\": 10, \"tickcolor\": \"rgb(36,36,36)\", \"ticklen\": 8, \"ticks\": \"outside\", \"tickwidth\": 2}, \"colorscale\": [[0.0, \"#440154\"], [0.1111111111111111, \"#482878\"], [0.2222222222222222, \"#3e4989\"], [0.3333333333333333, \"#31688e\"], [0.4444444444444444, \"#26828e\"], [0.5555555555555556, \"#1f9e89\"], [0.6666666666666666, \"#35b779\"], [0.7777777777777778, \"#6ece58\"], [0.8888888888888888, \"#b5de2b\"], [1.0, \"#fde725\"]], \"type\": \"histogram2d\"}], \"histogram2dcontour\": [{\"colorbar\": {\"outlinewidth\": 10, \"tickcolor\": \"rgb(36,36,36)\", \"ticklen\": 8, \"ticks\": \"outside\", \"tickwidth\": 2}, \"colorscale\": [[0.0, \"#440154\"], [0.1111111111111111, \"#482878\"], [0.2222222222222222, \"#3e4989\"], [0.3333333333333333, \"#31688e\"], [0.4444444444444444, \"#26828e\"], [0.5555555555555556, \"#1f9e89\"], [0.6666666666666666, \"#35b779\"], [0.7777777777777778, \"#6ece58\"], [0.8888888888888888, \"#b5de2b\"], [1.0, \"#fde725\"]], \"type\": \"histogram2dcontour\"}], \"mesh3d\": [{\"colorbar\": {\"outlinewidth\": 10, \"tickcolor\": \"rgb(36,36,36)\", \"ticklen\": 8, \"ticks\": \"outside\", \"tickwidth\": 2}, \"type\": \"mesh3d\"}], \"parcoords\": [{\"line\": {\"colorbar\": {\"outlinewidth\": 10, \"tickcolor\": \"rgb(36,36,36)\", \"ticklen\": 8, \"ticks\": \"outside\", \"tickwidth\": 2}}, \"type\": \"parcoords\"}], \"pie\": [{\"automargin\": true, \"type\": \"pie\"}], \"scatter\": [{\"marker\": {\"colorbar\": {\"outlinewidth\": 10, \"tickcolor\": \"rgb(36,36,36)\", \"ticklen\": 8, \"ticks\": \"outside\", \"tickwidth\": 2}}, \"type\": \"scatter\"}], \"scatter3d\": [{\"line\": {\"colorbar\": {\"outlinewidth\": 10, \"tickcolor\": \"rgb(36,36,36)\", \"ticklen\": 8, \"ticks\": \"outside\", \"tickwidth\": 2}}, \"marker\": {\"colorbar\": {\"outlinewidth\": 10, \"tickcolor\": \"rgb(36,36,36)\", \"ticklen\": 8, \"ticks\": \"outside\", \"tickwidth\": 2}}, \"type\": \"scatter3d\"}], \"scattercarpet\": [{\"marker\": {\"colorbar\": {\"outlinewidth\": 10, \"tickcolor\": \"rgb(36,36,36)\", \"ticklen\": 8, \"ticks\": \"outside\", \"tickwidth\": 2}}, \"type\": \"scattercarpet\"}], \"scattergeo\": [{\"marker\": {\"colorbar\": {\"outlinewidth\": 10, \"tickcolor\": \"rgb(36,36,36)\", \"ticklen\": 8, \"ticks\": \"outside\", \"tickwidth\": 2}}, \"type\": \"scattergeo\"}], \"scattergl\": [{\"marker\": {\"colorbar\": {\"outlinewidth\": 10, \"tickcolor\": \"rgb(36,36,36)\", \"ticklen\": 8, \"ticks\": \"outside\", \"tickwidth\": 2}}, \"type\": \"scattergl\"}], \"scattermapbox\": [{\"marker\": {\"colorbar\": {\"outlinewidth\": 10, \"tickcolor\": \"rgb(36,36,36)\", \"ticklen\": 8, \"ticks\": \"outside\", \"tickwidth\": 2}}, \"type\": \"scattermapbox\"}], \"scatterpolar\": [{\"marker\": {\"colorbar\": {\"outlinewidth\": 10, \"tickcolor\": \"rgb(36,36,36)\", \"ticklen\": 8, \"ticks\": \"outside\", \"tickwidth\": 2}}, \"type\": \"scatterpolar\"}], \"scatterpolargl\": [{\"marker\": {\"colorbar\": {\"outlinewidth\": 10, \"tickcolor\": \"rgb(36,36,36)\", \"ticklen\": 8, \"ticks\": \"outside\", \"tickwidth\": 2}}, \"type\": \"scatterpolargl\"}], \"scatterternary\": [{\"marker\": {\"colorbar\": {\"outlinewidth\": 10, \"tickcolor\": \"rgb(36,36,36)\", \"ticklen\": 8, \"ticks\": \"outside\", \"tickwidth\": 2}}, \"type\": \"scatterternary\"}], \"surface\": [{\"colorbar\": {\"outlinewidth\": 10, \"tickcolor\": \"rgb(36,36,36)\", \"ticklen\": 8, \"ticks\": \"outside\", \"tickwidth\": 2}, \"colorscale\": [[0.0, \"#440154\"], [0.1111111111111111, \"#482878\"], [0.2222222222222222, \"#3e4989\"], [0.3333333333333333, \"#31688e\"], [0.4444444444444444, \"#26828e\"], [0.5555555555555556, \"#1f9e89\"], [0.6666666666666666, \"#35b779\"], [0.7777777777777778, \"#6ece58\"], [0.8888888888888888, \"#b5de2b\"], [1.0, \"#fde725\"]], \"type\": \"surface\"}], \"table\": [{\"cells\": {\"fill\": {\"color\": \"rgb(237,237,237)\"}, \"line\": {\"color\": \"white\"}}, \"header\": {\"fill\": {\"color\": \"rgb(217,217,217)\"}, \"line\": {\"color\": \"white\"}}, \"type\": \"table\"}]}, \"layout\": {\"annotationdefaults\": {\"arrowhead\": 0, \"arrowwidth\": 1}, \"coloraxis\": {\"colorbar\": {\"outlinewidth\": 10, \"tickcolor\": \"rgb(36,36,36)\", \"ticklen\": 8, \"ticks\": \"outside\", \"tickwidth\": 2}}, \"colorscale\": {\"diverging\": [[0.0, \"rgb(103,0,31)\"], [0.1, \"rgb(178,24,43)\"], [0.2, \"rgb(214,96,77)\"], [0.3, \"rgb(244,165,130)\"], [0.4, \"rgb(253,219,199)\"], [0.5, \"rgb(247,247,247)\"], [0.6, \"rgb(209,229,240)\"], [0.7, \"rgb(146,197,222)\"], [0.8, \"rgb(67,147,195)\"], [0.9, \"rgb(33,102,172)\"], [1.0, \"rgb(5,48,97)\"]], \"sequential\": [[0.0, \"#440154\"], [0.1111111111111111, \"#482878\"], [0.2222222222222222, \"#3e4989\"], [0.3333333333333333, \"#31688e\"], [0.4444444444444444, \"#26828e\"], [0.5555555555555556, \"#1f9e89\"], [0.6666666666666666, \"#35b779\"], [0.7777777777777778, \"#6ece58\"], [0.8888888888888888, \"#b5de2b\"], [1.0, \"#fde725\"]], \"sequentialminus\": [[0.0, \"#440154\"], [0.1111111111111111, \"#482878\"], [0.2222222222222222, \"#3e4989\"], [0.3333333333333333, \"#31688e\"], [0.4444444444444444, \"#26828e\"], [0.5555555555555556, \"#1f9e89\"], [0.6666666666666666, \"#35b779\"], [0.7777777777777778, \"#6ece58\"], [0.8888888888888888, \"#b5de2b\"], [1.0, \"#fde725\"]]}, \"colorway\": [\"#1F77B4\", \"#FF7F0E\", \"#2CA02C\", \"#D62728\", \"#9467BD\", \"#8C564B\", \"#E377C2\", \"#7F7F7F\", \"#BCBD22\", \"#17BECF\"], \"font\": {\"color\": \"rgb(36,36,36)\"}, \"geo\": {\"bgcolor\": \"white\", \"lakecolor\": \"white\", \"landcolor\": \"white\", \"showlakes\": true, \"showland\": true, \"subunitcolor\": \"white\"}, \"hoverlabel\": {\"align\": \"left\"}, \"hovermode\": \"closest\", \"mapbox\": {\"style\": \"light\"}, \"paper_bgcolor\": \"white\", \"plot_bgcolor\": \"white\", \"polar\": {\"angularaxis\": {\"gridcolor\": \"rgb(232,232,232)\", \"linecolor\": \"rgb(36,36,36)\", \"showgrid\": false, \"showline\": true, \"ticks\": \"outside\"}, \"bgcolor\": \"white\", \"radialaxis\": {\"gridcolor\": \"rgb(232,232,232)\", \"linecolor\": \"rgb(36,36,36)\", \"showgrid\": false, \"showline\": true, \"ticks\": \"outside\"}}, \"scene\": {\"xaxis\": {\"backgroundcolor\": \"white\", \"gridcolor\": \"rgb(232,232,232)\", \"gridwidth\": 2, \"linecolor\": \"rgb(36,36,36)\", \"showbackground\": true, \"showgrid\": false, \"showline\": true, \"ticks\": \"outside\", \"zeroline\": false, \"zerolinecolor\": \"rgb(36,36,36)\"}, \"yaxis\": {\"backgroundcolor\": \"white\", \"gridcolor\": \"rgb(232,232,232)\", \"gridwidth\": 2, \"linecolor\": \"rgb(36,36,36)\", \"showbackground\": true, \"showgrid\": false, \"showline\": true, \"ticks\": \"outside\", \"zeroline\": false, \"zerolinecolor\": \"rgb(36,36,36)\"}, \"zaxis\": {\"backgroundcolor\": \"white\", \"gridcolor\": \"rgb(232,232,232)\", \"gridwidth\": 2, \"linecolor\": \"rgb(36,36,36)\", \"showbackground\": true, \"showgrid\": false, \"showline\": true, \"ticks\": \"outside\", \"zeroline\": false, \"zerolinecolor\": \"rgb(36,36,36)\"}}, \"shapedefaults\": {\"fillcolor\": \"black\", \"line\": {\"width\": 0}, \"opacity\": 0.3}, \"ternary\": {\"aaxis\": {\"gridcolor\": \"rgb(232,232,232)\", \"linecolor\": \"rgb(36,36,36)\", \"showgrid\": false, \"showline\": true, \"ticks\": \"outside\"}, \"baxis\": {\"gridcolor\": \"rgb(232,232,232)\", \"linecolor\": \"rgb(36,36,36)\", \"showgrid\": false, \"showline\": true, \"ticks\": \"outside\"}, \"bgcolor\": \"white\", \"caxis\": {\"gridcolor\": \"rgb(232,232,232)\", \"linecolor\": \"rgb(36,36,36)\", \"showgrid\": false, \"showline\": true, \"ticks\": \"outside\"}}, \"title\": {\"x\": 0.05}, \"xaxis\": {\"automargin\": true, \"gridcolor\": \"rgb(232,232,232)\", \"linecolor\": \"rgb(36,36,36)\", \"showgrid\": false, \"showline\": true, \"ticks\": \"outside\", \"title\": {\"standoff\": 15}, \"zeroline\": false, \"zerolinecolor\": \"rgb(36,36,36)\"}, \"yaxis\": {\"automargin\": true, \"gridcolor\": \"rgb(232,232,232)\", \"linecolor\": \"rgb(36,36,36)\", \"showgrid\": false, \"showline\": true, \"ticks\": \"outside\", \"title\": {\"standoff\": 15}, \"zeroline\": false, \"zerolinecolor\": \"rgb(36,36,36)\"}}}, \"xaxis\": {\"anchor\": \"y\", \"domain\": [0.0, 0.7363], \"title\": {\"text\": \"donor_age\"}}, \"xaxis2\": {\"anchor\": \"y2\", \"domain\": [0.7413, 1.0], \"matches\": \"x2\", \"showline\": false, \"showticklabels\": false, \"ticks\": \"\"}, \"xaxis3\": {\"anchor\": \"y3\", \"domain\": [0.0, 0.7363], \"matches\": \"x\", \"showticklabels\": false}, \"xaxis4\": {\"anchor\": \"y4\", \"domain\": [0.7413, 1.0], \"matches\": \"x2\", \"showline\": false, \"showticklabels\": false, \"ticks\": \"\"}, \"yaxis\": {\"anchor\": \"x\", \"domain\": [0.0, 0.7326], \"title\": {\"text\": \"recipient_age\"}}, \"yaxis2\": {\"anchor\": \"x2\", \"domain\": [0.0, 0.7326], \"matches\": \"y\", \"showticklabels\": false}, \"yaxis3\": {\"anchor\": \"x3\", \"domain\": [0.7426, 1.0], \"matches\": \"y3\", \"showline\": false, \"showticklabels\": false, \"ticks\": \"\"}, \"yaxis4\": {\"anchor\": \"x4\", \"domain\": [0.7426, 1.0], \"matches\": \"y3\", \"showline\": false, \"showticklabels\": false, \"ticks\": \"\"}},\n",
              "                        {\"responsive\": true}\n",
              "                    ).then(function(){\n",
              "                            \n",
              "var gd = document.getElementById('1d53fb4d-177b-41d1-8a5c-0dfe72f3fe9a');\n",
              "var x = new MutationObserver(function (mutations, observer) {{\n",
              "        var display = window.getComputedStyle(gd).display;\n",
              "        if (!display || display === 'none') {{\n",
              "            console.log([gd, 'removed!']);\n",
              "            Plotly.purge(gd);\n",
              "            observer.disconnect();\n",
              "        }}\n",
              "}});\n",
              "\n",
              "// Listen for the removal of the full notebook cells\n",
              "var notebookContainer = gd.closest('#notebook-container');\n",
              "if (notebookContainer) {{\n",
              "    x.observe(notebookContainer, {childList: true});\n",
              "}}\n",
              "\n",
              "// Listen for the clearing of the current output cell\n",
              "var outputEl = gd.closest('.output');\n",
              "if (outputEl) {{\n",
              "    x.observe(outputEl, {childList: true});\n",
              "}}\n",
              "\n",
              "                        })\n",
              "                };\n",
              "                \n",
              "            </script>\n",
              "        </div>\n",
              "</body>\n",
              "</html>"
            ]
          },
          "metadata": {}
        }
      ]
    },
    {
      "cell_type": "code",
      "metadata": {
        "colab": {
          "base_uri": "https://localhost:8080/"
        },
        "id": "OEd0bvZGjgpT",
        "outputId": "ec395eb2-c785-4bda-a35c-ca8b254a7173"
      },
      "source": [
        "df.dtypes"
      ],
      "execution_count": null,
      "outputs": [
        {
          "output_type": "execute_result",
          "data": {
            "text/plain": [
              "donor_age                    float64\n",
              "donor_age_below_35            object\n",
              "donor_ABO                     object\n",
              "donor_CMV                     object\n",
              "recipient_age                float64\n",
              "recipient_gender              object\n",
              "recipient_body_mass          float64\n",
              "recipient_ABO                 object\n",
              "recipient_rh                  object\n",
              "recipient_CMV                 object\n",
              "disease                       object\n",
              "disease_group                 object\n",
              "ABO_match                     object\n",
              "CMV_status                    object\n",
              "HLA_match                     object\n",
              "allel                         object\n",
              "HLA_group_1                   object\n",
              "risk_group                    object\n",
              "stem_cell_source              object\n",
              "tx_post_relapse               object\n",
              "CD34_x1e6_per_kg             float64\n",
              "CD3_x1e8_per_kg              float64\n",
              "CD3_to_CD34_ratio            float64\n",
              "ANC_recovery                 float64\n",
              "PLT_recovery                 float64\n",
              "time_to_acute_GvHD_III_IV    float64\n",
              "extensive_chronic_GvHD        object\n",
              "relapse                       object\n",
              "survival_time                float64\n",
              "survival_status                int64\n",
              "dtype: object"
            ]
          },
          "metadata": {},
          "execution_count": 1565
        }
      ]
    },
    {
      "cell_type": "code",
      "metadata": {
        "colab": {
          "base_uri": "https://localhost:8080/",
          "height": 542
        },
        "id": "JimpwsiO955H",
        "outputId": "b65932c8-a6e7-45d0-af86-fa65edce4a29"
      },
      "source": [
        "############Describe this#############\n",
        "fig = px.scatter_matrix(df, dimensions=[\"donor_age\", \"recipient_age\",\"CD3_to_CD34_ratio\",'survival_time'], color=\"risk_group\")\n",
        "fig.show()"
      ],
      "execution_count": null,
      "outputs": [
        {
          "output_type": "display_data",
          "data": {
            "text/html": [
              "<html>\n",
              "<head><meta charset=\"utf-8\" /></head>\n",
              "<body>\n",
              "    <div>\n",
              "            <script src=\"https://cdnjs.cloudflare.com/ajax/libs/mathjax/2.7.5/MathJax.js?config=TeX-AMS-MML_SVG\"></script><script type=\"text/javascript\">if (window.MathJax) {MathJax.Hub.Config({SVG: {font: \"STIX-Web\"}});}</script>\n",
              "                <script type=\"text/javascript\">window.PlotlyConfig = {MathJaxConfig: 'local'};</script>\n",
              "        <script src=\"https://cdn.plot.ly/plotly-latest.min.js\"></script>    \n",
              "            <div id=\"540ce8f1-1ea1-4823-a9f4-da5e4b76976c\" class=\"plotly-graph-div\" style=\"height:525px; width:100%;\"></div>\n",
              "            <script type=\"text/javascript\">\n",
              "                \n",
              "                    window.PLOTLYENV=window.PLOTLYENV || {};\n",
              "                    \n",
              "                if (document.getElementById(\"540ce8f1-1ea1-4823-a9f4-da5e4b76976c\")) {\n",
              "                    Plotly.newPlot(\n",
              "                        '540ce8f1-1ea1-4823-a9f4-da5e4b76976c',\n",
              "                        [{\"dimensions\": [{\"axis\": {\"matches\": true}, \"label\": \"donor_age\", \"values\": [22.830137, 33.358903999999995, 27.391780999999998, 29.731507, 36.8, 30.60274, 30.676712, 41.164384000000005, 43.578082, 40.969863000000004, 33.052054999999996, 39.380821999999995, 20.961644, 43.517808, 28.805479, 29.772603000000004, 28.821918, 30.389041, 24.367123, 35.087671, 29.161644, 55.40274, 22.643836, 47.112328999999995, 24.476712, 39.643836, 41.443836, 29.964384000000003, 21.756164000000002, 37.0, 33.550684999999994, 32.372603000000005, 52.476712, 21.128767, 19.446575, 49.205479, 27.676712, 40.183562, 33.915068, 42.049315, 38.827397, 28.268493, 37.254795, 33.857534, 37.380821999999995, 40.317808, 22.430137, 46.00274, 38.2, 43.745205, 39.627396999999995, 20.394520999999997, 40.391781, 39.0, 23.09589, 45.136986, 19.506849, 41.627396999999995, 29.126027, 22.257534, 35.890411, 35.443836, 28.073973, 41.476712, 37.060274, 37.632877, 37.575342, 22.895889999999998, 55.553425]}, {\"axis\": {\"matches\": true}, \"label\": \"recipient_age\", \"values\": [9.6, 1.3, 8.9, 1.9, 13.4, 11.5, 17.8, 13.5, 14.7, 0.7, 2.8, 1.7, 1.6, 2.2, 11.3, 8.5, 15.1, 3.4, 2.3, 12.6, 4.5, 18.4, 12.7, 11.5, 14.8, 13.5, 3.8, 6.5, 5.5, 14.1, 12.1, 20.2, 9.4, 14.0, 15.3, 5.7, 11.5, 18.3, 9.5, 18.7, 7.7, 5.4, 17.8, 1.3, 17.8, 17.7, 16.0, 18.8, 16.0, 3.3, 17.0, 6.8, 13.7, 5.1, 18.3, 15.5, 12.9, 13.4, 4.2, 4.4, 9.7, 3.6, 2.9, 17.8, 8.8, 8.8, 12.9, 13.9, 9.5]}, {\"axis\": {\"matches\": true}, \"label\": \"CD3_to_CD34_ratio\", \"values\": [1.33876, 3.972255, 8.412758, 11.883664, 2.242442, 3.7139559999999996, 2.26309, 12.028841, 0.36872, 1.788507, 2.001808, 2.778202, 1.8412060000000001, 2.7331380000000003, 4.517296, 3.650173, 3.280961, 2.9699880000000003, 1.025586, 5.7615169999999996, 6.739936, 14.130301000000001, 3.1053599999999997, 2.780611, 1.8654110000000002, 12.479225999999999, 11.123182, 6.002989, 2.014498, 2.734269, 4.420205999999999, 2.687529, 2.394072, 0.709805, 1.365785, 1.38917, 2.552321, null, 7.517388, 1.6173, 6.537721, 1.1687049999999999, 1.483826, 1.0180420000000001, 1.070314, 4.468419, 2.118673, 9.456741000000001, 19.210978, 3.597279, 6.258729, 1.543305, 0.455355, 3.7374769999999997, 7.910678999999999, 0.8436459999999999, 2.965539, 1.181537, 12.272474, 1.8780430000000001, 2.241175, 4.061324, 2.069057, 1.214932, 2.205359, 2.4261220000000003, 2.52275, 1.038858, 0.9481350000000001]}, {\"axis\": {\"matches\": true}, \"label\": \"survival_time\", \"values\": [999.0, 2043.0, 2800.0, 599.0, 2503.0, 335.0, 1432.0, 3288.0, 115.0, 1522.0, 1041.0, 2293.0, 321.0, 149.0, 1006.0, 2354.0, 1000.0, 1791.0, 137.0, 261.0, 181.0, 19.0, 224.0, 606.0, 1728.0, 66.0, 102.0, 113.0, 849.0, 60.0, 403.0, 767.0, 824.0, 1257.0, 1280.0, 191.0, 2286.0, 56.0, 745.0, 274.0, 1593.0, 1138.0, 57.0, 48.0, 2112.0, 196.0, 1025.0, 15.0, 48.0, 2337.0, 2761.0, 214.0, 754.0, 59.0, 64.0, 2461.0, 413.0, 174.0, 421.0, 1308.0, 397.0, 147.0, 31.0, 1243.0, 1873.0, 6.0, 385.0, 634.0, 1109.0]}], \"hoverlabel\": {\"namelength\": 0}, \"hovertemplate\": \"risk_group=high<br>%{xaxis.title.text}=%{x}<br>%{yaxis.title.text}=%{y}\", \"legendgroup\": \"risk_group=high\", \"marker\": {\"color\": \"#636efa\", \"symbol\": \"circle\"}, \"name\": \"risk_group=high\", \"showlegend\": true, \"type\": \"splom\"}, {\"dimensions\": [{\"axis\": {\"matches\": true}, \"label\": \"donor_age\", \"values\": [23.342466, 26.394521, 39.684932, 34.520548, 21.435616, 32.641096000000005, 28.783562, 40.863014, 40.232877, 40.821918, 43.375341999999996, 31.745205, 42.380821999999995, 31.545205, 24.780822, 30.504109999999997, 20.605479000000003, 39.983562, 39.172603, 24.731507, 24.353425, 39.024658, 23.446575, 49.860274, 40.536986, 21.4, 34.273973, 20.471232999999998, 44.380821999999995, 20.358904000000003, 31.526027000000003, 38.761644, 36.868493, 30.287671000000003, 33.120548, 39.641096000000005, 39.632877, 34.169863, 31.194521, 37.287671, 30.2, 44.413699, 43.715068, 45.915068, 26.221918, 35.287671, 31.671233, 26.731507, 41.542466, 42.268493, 21.263014000000002, 29.980821999999996, 22.112329000000003, 35.630137, 40.052054999999996, 33.791781, 25.210959, 28.276712, 40.386301, 21.972603, 30.835615999999998, 22.408219, 30.156164, 41.873973, 40.339726, 25.715068, 28.709589, 30.594521000000004, 35.764384, 39.249315, 22.528767000000002, 28.723288, 35.797259999999994, 26.663014, 43.065753, 21.405479, 25.284932, 33.643836, 24.284932, 51.991781, 29.158903999999996, 36.435615999999996, 22.493151, 47.369863, 42.739726, 22.863014, 40.912329, 35.627396999999995, 34.005479, 34.624658000000004, 51.005479, 36.789041, 43.126027, 46.545204999999996, 30.279452000000003, 25.772603, 43.304109999999994, 19.663014, 35.430137, 25.506849, 29.619178, 40.419178, 30.972603000000003, 29.306849, 30.421917999999998, 24.575342000000003, 23.578082000000002, 18.646575, 24.180822, 29.928766999999997, 40.947945000000004, 36.690411, 42.416438, 34.167123, 30.024658000000002, 30.854795000000003, 27.347945000000003, 27.780821999999997]}, {\"axis\": {\"matches\": true}, \"label\": \"recipient_age\", \"values\": [4.0, 6.6, 18.1, 14.4, 18.2, 7.9, 4.7, 5.1, 17.9, 4.7, 0.6, 17.7, 9.7, 13.9, 10.9, 6.7, 8.5, 4.7, 8.4, 8.6, 4.6, 3.1, 10.9, 16.6, 2.1, 13.3, 13.8, 3.1, 4.1, 9.9, 11.4, 13.4, 12.1, 8.3, 6.9, 4.9, 5.0, 6.5, 1.8, 7.9, 2.8, 15.6, 14.0, 14.2, 3.9, 12.2, 11.8, 11.3, 13.5, 17.8, 7.4, 9.2, 14.6, 15.5, 3.9, 11.2, 1.7, 18.2, 8.2, 15.4, 5.0, 7.6, 7.2, 6.1, 3.2, 17.3, 3.1, 16.5, 7.7, 5.6, 9.0, 7.3, 8.1, 7.1, 6.7, 12.7, 4.5, 17.5, 1.3, 16.7, 15.1, 20.1, 2.3, 11.6, 7.7, 17.9, 2.0, 17.4, 9.0, 14.7, 18.9, 16.6, 5.2, 6.0, 3.4, 18.2, 14.0, 13.0, 13.5, 12.2, 10.0, 3.0, 11.5, 14.1, 8.5, 5.0, 6.4, 9.6, 12.5, 11.2, 16.1, 3.4, 4.3, 12.7, 7.5, 4.8, 10.4, 8.0]}, {\"axis\": {\"matches\": true}, \"label\": \"CD3_to_CD34_ratio\", \"values\": [11.078294999999999, 19.01323, 29.481647, 2.406248, null, 3.772555, 1.035244, 2.734654, 1.595133, 3.676416, 1.4086459999999998, 1.7117950000000002, 1.231287, 3.8148800000000005, 5.781319, 13.890231, 1.672532, 3.242425, 1.849607, 2.380569, 1.687395, 16.186239, 3.4984699999999997, 8.784289, 5.8376470000000005, 2.215047, 0.6928979999999999, 2.335954, 4.824784999999999, 0.927108, 7.060927, 6.022997, 7.369445, 5.69203, 4.011209, 1.351711, 1.8908220000000002, 1.8768340000000001, 11.017047999999999, 12.958575999999999, 3.133461, 6.157698, 6.750632, 47.869839, 1.498879, 2.927597, 2.449389, 1.786075, 11.405197, 12.36598, 4.184092, 2.0982380000000003, null, 5.276616000000001, 1.589775, null, 1.8336869999999998, 14.642869000000001, 3.430293, 6.34585, null, 6.928599, 2.337369, 7.305471000000001, 2.7220869999999997, 2.4989169999999996, 0.20413199999999998, 2.59522, 1.848795, 2.929081, 3.787339, 2.491794, 7.805782000000001, 2.449323, 99.56097, 1.744246, 5.0458419999999995, 1.558548, 4.489022, 1.8514110000000001, 4.2187, 5.164562, 1.283387, 1.082899, 1.3467639999999999, 2.997231, 1.839537, 3.774746, 2.703806, 56.065024, 1.0387520000000001, 7.4233720000000005, 0.799458, 2.818993, 10.611083, 3.065758, 3.465003, 2.4094700000000002, 1.2068, 7.243233999999999, 2.4961279999999997, 6.081859, 12.984467, 2.4462669999999997, 1.350554, 2.443228, 1.854875, 3.120205, 0.309048, 2.9295139999999997, 4.094514, 0.843967, 1.830242, 1.671314, 16.32616, 1.007599, 1.635559, 8.07777]}, {\"axis\": {\"matches\": true}, \"label\": \"survival_time\", \"values\": [163.0, 435.0, 53.0, 41.0, 45.0, 671.0, 676.0, 964.0, 58.0, 1615.0, 704.0, 884.0, 330.0, 2231.0, 149.0, 2105.0, 914.0, 35.0, 576.0, 676.0, 531.0, 96.0, 1084.0, 111.0, 1690.0, 452.0, 1376.0, 28.0, 2118.0, 60.0, 1327.0, 150.0, 1754.0, 942.0, 2926.0, 1346.0, 1424.0, 2036.0, 1958.0, 11.0, 2279.0, 1949.0, 1838.0, 55.0, 306.0, 1587.0, 445.0, 1243.0, 1937.0, 435.0, 1397.0, 200.0, 26.0, 60.0, 1018.0, 2699.0, 580.0, 202.0, 1195.0, 136.0, 385.0, 161.0, 67.0, 130.0, 510.0, 534.0, 454.0, 68.0, 511.0, 28.0, 472.0, 1839.0, 1754.0, 672.0, 2117.0, 236.0, 1679.0, 718.0, 2153.0, 117.0, 1781.0, 290.0, 1301.0, 108.0, 1188.0, 10.0, 1171.0, 2525.0, 182.0, 996.0, 41.0, 42.0, 1385.0, 766.0, 2932.0, 494.0, 1214.0, 1895.0, 90.0, 246.0, 2317.0, 1741.0, 3364.0, 353.0, 1074.0, 1692.0, 433.0, 2483.0, 1297.0, 458.0, 2208.0, 2373.0, 1185.0, 1985.0, 1627.0, 41.0, 1895.0, 382.0]}], \"hoverlabel\": {\"namelength\": 0}, \"hovertemplate\": \"risk_group=low<br>%{xaxis.title.text}=%{x}<br>%{yaxis.title.text}=%{y}\", \"legendgroup\": \"risk_group=low\", \"marker\": {\"color\": \"#EF553B\", \"symbol\": \"circle\"}, \"name\": \"risk_group=low\", \"showlegend\": true, \"type\": \"splom\"}],\n",
              "                        {\"dragmode\": \"select\", \"legend\": {\"tracegroupgap\": 0}, \"margin\": {\"t\": 60}, \"template\": {\"data\": {\"bar\": [{\"error_x\": {\"color\": \"#2a3f5f\"}, \"error_y\": {\"color\": \"#2a3f5f\"}, \"marker\": {\"line\": {\"color\": \"#E5ECF6\", \"width\": 0.5}}, \"type\": \"bar\"}], \"barpolar\": [{\"marker\": {\"line\": {\"color\": \"#E5ECF6\", \"width\": 0.5}}, \"type\": \"barpolar\"}], \"carpet\": [{\"aaxis\": {\"endlinecolor\": \"#2a3f5f\", \"gridcolor\": \"white\", \"linecolor\": \"white\", \"minorgridcolor\": \"white\", \"startlinecolor\": \"#2a3f5f\"}, \"baxis\": {\"endlinecolor\": \"#2a3f5f\", \"gridcolor\": \"white\", \"linecolor\": \"white\", \"minorgridcolor\": \"white\", \"startlinecolor\": \"#2a3f5f\"}, \"type\": \"carpet\"}], \"choropleth\": [{\"colorbar\": {\"outlinewidth\": 0, \"ticks\": \"\"}, \"type\": \"choropleth\"}], \"contour\": [{\"colorbar\": {\"outlinewidth\": 0, \"ticks\": \"\"}, \"colorscale\": [[0.0, \"#0d0887\"], [0.1111111111111111, \"#46039f\"], [0.2222222222222222, \"#7201a8\"], [0.3333333333333333, \"#9c179e\"], [0.4444444444444444, \"#bd3786\"], [0.5555555555555556, \"#d8576b\"], [0.6666666666666666, \"#ed7953\"], [0.7777777777777778, \"#fb9f3a\"], [0.8888888888888888, \"#fdca26\"], [1.0, \"#f0f921\"]], \"type\": \"contour\"}], \"contourcarpet\": [{\"colorbar\": {\"outlinewidth\": 0, \"ticks\": \"\"}, \"type\": \"contourcarpet\"}], \"heatmap\": [{\"colorbar\": {\"outlinewidth\": 0, \"ticks\": \"\"}, \"colorscale\": [[0.0, \"#0d0887\"], [0.1111111111111111, \"#46039f\"], [0.2222222222222222, \"#7201a8\"], [0.3333333333333333, \"#9c179e\"], [0.4444444444444444, \"#bd3786\"], [0.5555555555555556, \"#d8576b\"], [0.6666666666666666, \"#ed7953\"], [0.7777777777777778, \"#fb9f3a\"], [0.8888888888888888, \"#fdca26\"], [1.0, \"#f0f921\"]], \"type\": \"heatmap\"}], \"heatmapgl\": [{\"colorbar\": {\"outlinewidth\": 0, \"ticks\": \"\"}, \"colorscale\": [[0.0, \"#0d0887\"], [0.1111111111111111, \"#46039f\"], [0.2222222222222222, \"#7201a8\"], [0.3333333333333333, \"#9c179e\"], [0.4444444444444444, \"#bd3786\"], [0.5555555555555556, \"#d8576b\"], [0.6666666666666666, \"#ed7953\"], [0.7777777777777778, \"#fb9f3a\"], [0.8888888888888888, \"#fdca26\"], [1.0, \"#f0f921\"]], \"type\": \"heatmapgl\"}], \"histogram\": [{\"marker\": {\"colorbar\": {\"outlinewidth\": 0, \"ticks\": \"\"}}, \"type\": \"histogram\"}], \"histogram2d\": [{\"colorbar\": {\"outlinewidth\": 0, \"ticks\": \"\"}, \"colorscale\": [[0.0, \"#0d0887\"], [0.1111111111111111, \"#46039f\"], [0.2222222222222222, \"#7201a8\"], [0.3333333333333333, \"#9c179e\"], [0.4444444444444444, \"#bd3786\"], [0.5555555555555556, \"#d8576b\"], [0.6666666666666666, \"#ed7953\"], [0.7777777777777778, \"#fb9f3a\"], [0.8888888888888888, \"#fdca26\"], [1.0, \"#f0f921\"]], \"type\": \"histogram2d\"}], \"histogram2dcontour\": [{\"colorbar\": {\"outlinewidth\": 0, \"ticks\": \"\"}, \"colorscale\": [[0.0, \"#0d0887\"], [0.1111111111111111, \"#46039f\"], [0.2222222222222222, \"#7201a8\"], [0.3333333333333333, \"#9c179e\"], [0.4444444444444444, \"#bd3786\"], [0.5555555555555556, \"#d8576b\"], [0.6666666666666666, \"#ed7953\"], [0.7777777777777778, \"#fb9f3a\"], [0.8888888888888888, \"#fdca26\"], [1.0, \"#f0f921\"]], \"type\": \"histogram2dcontour\"}], \"mesh3d\": [{\"colorbar\": {\"outlinewidth\": 0, \"ticks\": \"\"}, \"type\": \"mesh3d\"}], \"parcoords\": [{\"line\": {\"colorbar\": {\"outlinewidth\": 0, \"ticks\": \"\"}}, \"type\": \"parcoords\"}], \"pie\": [{\"automargin\": true, \"type\": \"pie\"}], \"scatter\": [{\"marker\": {\"colorbar\": {\"outlinewidth\": 0, \"ticks\": \"\"}}, \"type\": \"scatter\"}], \"scatter3d\": [{\"line\": {\"colorbar\": {\"outlinewidth\": 0, \"ticks\": \"\"}}, \"marker\": {\"colorbar\": {\"outlinewidth\": 0, \"ticks\": \"\"}}, \"type\": \"scatter3d\"}], \"scattercarpet\": [{\"marker\": {\"colorbar\": {\"outlinewidth\": 0, \"ticks\": \"\"}}, \"type\": \"scattercarpet\"}], \"scattergeo\": [{\"marker\": {\"colorbar\": {\"outlinewidth\": 0, \"ticks\": \"\"}}, \"type\": \"scattergeo\"}], \"scattergl\": [{\"marker\": {\"colorbar\": {\"outlinewidth\": 0, \"ticks\": \"\"}}, \"type\": \"scattergl\"}], \"scattermapbox\": [{\"marker\": {\"colorbar\": {\"outlinewidth\": 0, \"ticks\": \"\"}}, \"type\": \"scattermapbox\"}], \"scatterpolar\": [{\"marker\": {\"colorbar\": {\"outlinewidth\": 0, \"ticks\": \"\"}}, \"type\": \"scatterpolar\"}], \"scatterpolargl\": [{\"marker\": {\"colorbar\": {\"outlinewidth\": 0, \"ticks\": \"\"}}, \"type\": \"scatterpolargl\"}], \"scatterternary\": [{\"marker\": {\"colorbar\": {\"outlinewidth\": 0, \"ticks\": \"\"}}, \"type\": \"scatterternary\"}], \"surface\": [{\"colorbar\": {\"outlinewidth\": 0, \"ticks\": \"\"}, \"colorscale\": [[0.0, \"#0d0887\"], [0.1111111111111111, \"#46039f\"], [0.2222222222222222, \"#7201a8\"], [0.3333333333333333, \"#9c179e\"], [0.4444444444444444, \"#bd3786\"], [0.5555555555555556, \"#d8576b\"], [0.6666666666666666, \"#ed7953\"], [0.7777777777777778, \"#fb9f3a\"], [0.8888888888888888, \"#fdca26\"], [1.0, \"#f0f921\"]], \"type\": \"surface\"}], \"table\": [{\"cells\": {\"fill\": {\"color\": \"#EBF0F8\"}, \"line\": {\"color\": \"white\"}}, \"header\": {\"fill\": {\"color\": \"#C8D4E3\"}, \"line\": {\"color\": \"white\"}}, \"type\": \"table\"}]}, \"layout\": {\"annotationdefaults\": {\"arrowcolor\": \"#2a3f5f\", \"arrowhead\": 0, \"arrowwidth\": 1}, \"coloraxis\": {\"colorbar\": {\"outlinewidth\": 0, \"ticks\": \"\"}}, \"colorscale\": {\"diverging\": [[0, \"#8e0152\"], [0.1, \"#c51b7d\"], [0.2, \"#de77ae\"], [0.3, \"#f1b6da\"], [0.4, \"#fde0ef\"], [0.5, \"#f7f7f7\"], [0.6, \"#e6f5d0\"], [0.7, \"#b8e186\"], [0.8, \"#7fbc41\"], [0.9, \"#4d9221\"], [1, \"#276419\"]], \"sequential\": [[0.0, \"#0d0887\"], [0.1111111111111111, \"#46039f\"], [0.2222222222222222, \"#7201a8\"], [0.3333333333333333, \"#9c179e\"], [0.4444444444444444, \"#bd3786\"], [0.5555555555555556, \"#d8576b\"], [0.6666666666666666, \"#ed7953\"], [0.7777777777777778, \"#fb9f3a\"], [0.8888888888888888, \"#fdca26\"], [1.0, \"#f0f921\"]], \"sequentialminus\": [[0.0, \"#0d0887\"], [0.1111111111111111, \"#46039f\"], [0.2222222222222222, \"#7201a8\"], [0.3333333333333333, \"#9c179e\"], [0.4444444444444444, \"#bd3786\"], [0.5555555555555556, \"#d8576b\"], [0.6666666666666666, \"#ed7953\"], [0.7777777777777778, \"#fb9f3a\"], [0.8888888888888888, \"#fdca26\"], [1.0, \"#f0f921\"]]}, \"colorway\": [\"#636efa\", \"#EF553B\", \"#00cc96\", \"#ab63fa\", \"#FFA15A\", \"#19d3f3\", \"#FF6692\", \"#B6E880\", \"#FF97FF\", \"#FECB52\"], \"font\": {\"color\": \"#2a3f5f\"}, \"geo\": {\"bgcolor\": \"white\", \"lakecolor\": \"white\", \"landcolor\": \"#E5ECF6\", \"showlakes\": true, \"showland\": true, \"subunitcolor\": \"white\"}, \"hoverlabel\": {\"align\": \"left\"}, \"hovermode\": \"closest\", \"mapbox\": {\"style\": \"light\"}, \"paper_bgcolor\": \"white\", \"plot_bgcolor\": \"#E5ECF6\", \"polar\": {\"angularaxis\": {\"gridcolor\": \"white\", \"linecolor\": \"white\", \"ticks\": \"\"}, \"bgcolor\": \"#E5ECF6\", \"radialaxis\": {\"gridcolor\": \"white\", \"linecolor\": \"white\", \"ticks\": \"\"}}, \"scene\": {\"xaxis\": {\"backgroundcolor\": \"#E5ECF6\", \"gridcolor\": \"white\", \"gridwidth\": 2, \"linecolor\": \"white\", \"showbackground\": true, \"ticks\": \"\", \"zerolinecolor\": \"white\"}, \"yaxis\": {\"backgroundcolor\": \"#E5ECF6\", \"gridcolor\": \"white\", \"gridwidth\": 2, \"linecolor\": \"white\", \"showbackground\": true, \"ticks\": \"\", \"zerolinecolor\": \"white\"}, \"zaxis\": {\"backgroundcolor\": \"#E5ECF6\", \"gridcolor\": \"white\", \"gridwidth\": 2, \"linecolor\": \"white\", \"showbackground\": true, \"ticks\": \"\", \"zerolinecolor\": \"white\"}}, \"shapedefaults\": {\"line\": {\"color\": \"#2a3f5f\"}}, \"ternary\": {\"aaxis\": {\"gridcolor\": \"white\", \"linecolor\": \"white\", \"ticks\": \"\"}, \"baxis\": {\"gridcolor\": \"white\", \"linecolor\": \"white\", \"ticks\": \"\"}, \"bgcolor\": \"#E5ECF6\", \"caxis\": {\"gridcolor\": \"white\", \"linecolor\": \"white\", \"ticks\": \"\"}}, \"title\": {\"x\": 0.05}, \"xaxis\": {\"automargin\": true, \"gridcolor\": \"white\", \"linecolor\": \"white\", \"ticks\": \"\", \"title\": {\"standoff\": 15}, \"zerolinecolor\": \"white\", \"zerolinewidth\": 2}, \"yaxis\": {\"automargin\": true, \"gridcolor\": \"white\", \"linecolor\": \"white\", \"ticks\": \"\", \"title\": {\"standoff\": 15}, \"zerolinecolor\": \"white\", \"zerolinewidth\": 2}}}},\n",
              "                        {\"responsive\": true}\n",
              "                    ).then(function(){\n",
              "                            \n",
              "var gd = document.getElementById('540ce8f1-1ea1-4823-a9f4-da5e4b76976c');\n",
              "var x = new MutationObserver(function (mutations, observer) {{\n",
              "        var display = window.getComputedStyle(gd).display;\n",
              "        if (!display || display === 'none') {{\n",
              "            console.log([gd, 'removed!']);\n",
              "            Plotly.purge(gd);\n",
              "            observer.disconnect();\n",
              "        }}\n",
              "}});\n",
              "\n",
              "// Listen for the removal of the full notebook cells\n",
              "var notebookContainer = gd.closest('#notebook-container');\n",
              "if (notebookContainer) {{\n",
              "    x.observe(notebookContainer, {childList: true});\n",
              "}}\n",
              "\n",
              "// Listen for the clearing of the current output cell\n",
              "var outputEl = gd.closest('.output');\n",
              "if (outputEl) {{\n",
              "    x.observe(outputEl, {childList: true});\n",
              "}}\n",
              "\n",
              "                        })\n",
              "                };\n",
              "                \n",
              "            </script>\n",
              "        </div>\n",
              "</body>\n",
              "</html>"
            ]
          },
          "metadata": {}
        }
      ]
    },
    {
      "cell_type": "code",
      "metadata": {
        "id": "CFMkf5JWbTq8"
      },
      "source": [
        ""
      ],
      "execution_count": null,
      "outputs": []
    },
    {
      "cell_type": "code",
      "metadata": {
        "id": "4lGC-qsbbViY"
      },
      "source": [
        ""
      ],
      "execution_count": null,
      "outputs": []
    },
    {
      "cell_type": "code",
      "metadata": {
        "id": "coN-rDxyWV8b",
        "colab": {
          "base_uri": "https://localhost:8080/"
        },
        "outputId": "8ffcacf3-9914-4761-c54b-89c16e7151ea"
      },
      "source": [
        "df.columns"
      ],
      "execution_count": null,
      "outputs": [
        {
          "output_type": "execute_result",
          "data": {
            "text/plain": [
              "Index(['donor_age', 'donor_age_below_35', 'donor_ABO', 'donor_CMV',\n",
              "       'recipient_age', 'recipient_gender', 'recipient_body_mass',\n",
              "       'recipient_ABO', 'recipient_rh', 'recipient_CMV', 'disease',\n",
              "       'disease_group', 'ABO_match', 'CMV_status', 'HLA_match', 'allel',\n",
              "       'HLA_group_1', 'risk_group', 'stem_cell_source', 'tx_post_relapse',\n",
              "       'CD34_x1e6_per_kg', 'CD3_x1e8_per_kg', 'CD3_to_CD34_ratio',\n",
              "       'ANC_recovery', 'PLT_recovery', 'time_to_acute_GvHD_III_IV',\n",
              "       'extensive_chronic_GvHD', 'relapse', 'survival_time',\n",
              "       'survival_status'],\n",
              "      dtype='object')"
            ]
          },
          "metadata": {},
          "execution_count": 1567
        }
      ]
    },
    {
      "cell_type": "code",
      "metadata": {
        "colab": {
          "base_uri": "https://localhost:8080/"
        },
        "id": "4XiZZZX-6si_",
        "outputId": "8eec2b5f-130a-4c1a-ad90-73a77816ecce"
      },
      "source": [
        "df.dtypes"
      ],
      "execution_count": null,
      "outputs": [
        {
          "output_type": "execute_result",
          "data": {
            "text/plain": [
              "donor_age                    float64\n",
              "donor_age_below_35            object\n",
              "donor_ABO                     object\n",
              "donor_CMV                     object\n",
              "recipient_age                float64\n",
              "recipient_gender              object\n",
              "recipient_body_mass          float64\n",
              "recipient_ABO                 object\n",
              "recipient_rh                  object\n",
              "recipient_CMV                 object\n",
              "disease                       object\n",
              "disease_group                 object\n",
              "ABO_match                     object\n",
              "CMV_status                    object\n",
              "HLA_match                     object\n",
              "allel                         object\n",
              "HLA_group_1                   object\n",
              "risk_group                    object\n",
              "stem_cell_source              object\n",
              "tx_post_relapse               object\n",
              "CD34_x1e6_per_kg             float64\n",
              "CD3_x1e8_per_kg              float64\n",
              "CD3_to_CD34_ratio            float64\n",
              "ANC_recovery                 float64\n",
              "PLT_recovery                 float64\n",
              "time_to_acute_GvHD_III_IV    float64\n",
              "extensive_chronic_GvHD        object\n",
              "relapse                       object\n",
              "survival_time                float64\n",
              "survival_status                int64\n",
              "dtype: object"
            ]
          },
          "metadata": {},
          "execution_count": 1568
        }
      ]
    },
    {
      "cell_type": "markdown",
      "metadata": {
        "id": "a1oFcPn_-Zkr"
      },
      "source": [
        "#############\n",
        "Creating functions to automate our EDA"
      ]
    },
    {
      "cell_type": "code",
      "metadata": {
        "id": "2nofM94AXzCz"
      },
      "source": [
        "def violin(col):\n",
        "    fig=px.violin(df,y=col,x='survival_status',color = 'disease',box=True)\n",
        "    return fig.show()"
      ],
      "execution_count": null,
      "outputs": []
    },
    {
      "cell_type": "code",
      "metadata": {
        "id": "5yz9UugoXzFk"
      },
      "source": [
        "def scatters(col1,col2):\n",
        "    fig = px.scatter(df,x=col1,y=col2,color='survival_status')\n",
        "    return fig.show()"
      ],
      "execution_count": null,
      "outputs": []
    },
    {
      "cell_type": "code",
      "metadata": {
        "id": "g05ly2FLXzIf"
      },
      "source": [
        " def kde_plot(feature):   \n",
        "    grid = sns.FacetGrid(df,hue='survival_status',aspect = 2)\n",
        "    grid.map(sns.kdeplot,feature)\n",
        "    grid.add_legend()\n",
        "    "
      ],
      "execution_count": null,
      "outputs": []
    },
    {
      "cell_type": "code",
      "metadata": {
        "id": "IWR3_19oXzM2",
        "colab": {
          "base_uri": "https://localhost:8080/",
          "height": 225
        },
        "outputId": "a253dd65-8910-4bb4-efc9-9cc2db458e9f"
      },
      "source": [
        "kde_plot('survival_time')"
      ],
      "execution_count": null,
      "outputs": [
        {
          "output_type": "display_data",
          "data": {
            "image/png": "[encoded data removed]",
            "text/plain": [
              "<Figure size 515.125x216 with 1 Axes>"
            ]
          },
          "metadata": {
            "needs_background": "light"
          }
        }
      ]
    },
    {
      "cell_type": "code",
      "metadata": {
        "id": "Q6w3G6bfWWBc",
        "colab": {
          "base_uri": "https://localhost:8080/",
          "height": 542
        },
        "outputId": "dfe7c903-ce5b-4155-d324-8a448c852a58"
      },
      "source": [
        "scatters('recipient_age','survival_time')"
      ],
      "execution_count": null,
      "outputs": [
        {
          "output_type": "display_data",
          "data": {
            "text/html": [
              "<html>\n",
              "<head><meta charset=\"utf-8\" /></head>\n",
              "<body>\n",
              "    <div>\n",
              "            <script src=\"https://cdnjs.cloudflare.com/ajax/libs/mathjax/2.7.5/MathJax.js?config=TeX-AMS-MML_SVG\"></script><script type=\"text/javascript\">if (window.MathJax) {MathJax.Hub.Config({SVG: {font: \"STIX-Web\"}});}</script>\n",
              "                <script type=\"text/javascript\">window.PlotlyConfig = {MathJaxConfig: 'local'};</script>\n",
              "        <script src=\"https://cdn.plot.ly/plotly-latest.min.js\"></script>    \n",
              "            <div id=\"7fae0c7f-f969-49a3-9e8a-71b8d16bbb7e\" class=\"plotly-graph-div\" style=\"height:525px; width:100%;\"></div>\n",
              "            <script type=\"text/javascript\">\n",
              "                \n",
              "                    window.PLOTLYENV=window.PLOTLYENV || {};\n",
              "                    \n",
              "                if (document.getElementById(\"7fae0c7f-f969-49a3-9e8a-71b8d16bbb7e\")) {\n",
              "                    Plotly.newPlot(\n",
              "                        '7fae0c7f-f969-49a3-9e8a-71b8d16bbb7e',\n",
              "                        [{\"hoverlabel\": {\"namelength\": 0}, \"hovertemplate\": \"recipient_age=%{x}<br>survival_time=%{y}<br>survival_status=%{marker.color}\", \"legendgroup\": \"\", \"marker\": {\"color\": [0, 1, 1, 1, 0, 0, 1, 1, 0, 0, 0, 0, 0, 1, 0, 0, 1, 0, 0, 0, 1, 1, 0, 1, 0, 0, 0, 1, 0, 1, 0, 0, 1, 0, 0, 1, 1, 1, 0, 0, 0, 1, 0, 1, 0, 1, 0, 0, 0, 0, 0, 0, 0, 0, 0, 0, 0, 1, 1, 0, 1, 1, 0, 1, 0, 1, 1, 1, 1, 0, 0, 0, 0, 1, 0, 1, 1, 1, 0, 1, 1, 1, 1, 1, 1, 1, 0, 0, 0, 1, 0, 1, 1, 1, 0, 0, 0, 1, 1, 1, 0, 0, 1, 1, 1, 0, 1, 0, 1, 1, 0, 0, 0, 0, 1, 0, 1, 0, 1, 0, 0, 1, 0, 1, 0, 1, 0, 0, 1, 1, 0, 1, 0, 0, 0, 1, 1, 1, 1, 1, 1, 0, 0, 0, 0, 0, 1, 0, 0, 1, 1, 0, 0, 1, 1, 0, 0, 1, 0, 0, 1, 0, 0, 1, 0, 1, 0, 0, 0, 1, 0, 1, 1, 1, 0, 0, 0, 0, 0, 0, 1, 1, 1, 1, 0, 1, 0], \"coloraxis\": \"coloraxis\", \"symbol\": \"circle\"}, \"mode\": \"markers\", \"name\": \"\", \"showlegend\": false, \"type\": \"scatter\", \"x\": [9.6, 4.0, 6.6, 18.1, 1.3, 8.9, 14.4, 18.2, 7.9, 4.7, 1.9, 13.4, 5.1, 11.5, 17.8, 13.5, 17.9, 4.7, 0.6, 17.7, 14.7, 9.7, 13.9, 10.9, 6.7, 8.5, 0.7, 4.7, 2.8, 8.4, 8.6, 4.6, 3.1, 10.9, 1.7, 1.6, 16.6, 2.2, 2.1, 13.3, 13.8, 3.1, 4.1, 9.9, 11.4, 13.4, 11.3, 12.1, 8.5, 15.1, 8.3, 6.9, 4.9, 5.0, 6.5, 1.8, 3.4, 2.3, 7.9, 2.8, 12.6, 4.5, 15.6, 18.4, 14.0, 14.2, 12.7, 11.5, 3.9, 14.8, 12.2, 11.8, 11.3, 13.5, 13.5, 17.8, 3.8, 6.5, 7.4, 5.5, 9.2, 14.6, 14.1, 12.1, 15.5, 3.9, 11.2, 20.2, 1.7, 18.2, 8.2, 15.4, 5.0, 7.6, 9.4, 14.0, 15.3, 7.2, 5.7, 6.1, 11.5, 3.2, 18.3, 9.5, 17.3, 3.1, 16.5, 7.7, 18.7, 5.6, 7.7, 9.0, 5.4, 7.3, 17.8, 8.1, 7.1, 6.7, 12.7, 4.5, 17.5, 1.3, 1.3, 16.7, 15.1, 20.1, 17.8, 2.3, 11.6, 17.7, 7.7, 17.9, 2.0, 17.4, 16.0, 9.0, 14.7, 18.8, 16.0, 18.9, 16.6, 3.3, 5.2, 6.0, 3.4, 17.0, 6.8, 18.2, 13.7, 5.1, 18.3, 14.0, 13.0, 13.5, 12.2, 10.0, 15.5, 12.9, 3.0, 11.5, 14.1, 8.5, 5.0, 13.4, 6.4, 4.2, 4.4, 9.6, 12.5, 9.7, 11.2, 3.6, 2.9, 17.8, 16.1, 3.4, 4.3, 12.7, 8.8, 7.5, 4.8, 8.8, 12.9, 13.9, 10.4, 8.0, 9.5], \"xaxis\": \"x\", \"y\": [999.0, 163.0, 435.0, 53.0, 2043.0, 2800.0, 41.0, 45.0, 671.0, 676.0, 599.0, 2503.0, 964.0, 335.0, 1432.0, 3288.0, 58.0, 1615.0, 704.0, 884.0, 115.0, 330.0, 2231.0, 149.0, 2105.0, 914.0, 1522.0, 35.0, 1041.0, 576.0, 676.0, 531.0, 96.0, 1084.0, 2293.0, 321.0, 111.0, 149.0, 1690.0, 452.0, 1376.0, 28.0, 2118.0, 60.0, 1327.0, 150.0, 1006.0, 1754.0, 2354.0, 1000.0, 942.0, 2926.0, 1346.0, 1424.0, 2036.0, 1958.0, 1791.0, 137.0, 11.0, 2279.0, 261.0, 181.0, 1949.0, 19.0, 1838.0, 55.0, 224.0, 606.0, 306.0, 1728.0, 1587.0, 445.0, 1243.0, 66.0, 1937.0, 435.0, 102.0, 113.0, 1397.0, 849.0, 200.0, 26.0, 60.0, 403.0, 60.0, 1018.0, 2699.0, 767.0, 580.0, 202.0, 1195.0, 136.0, 385.0, 161.0, 824.0, 1257.0, 1280.0, 67.0, 191.0, 130.0, 2286.0, 510.0, 56.0, 745.0, 534.0, 454.0, 68.0, 511.0, 274.0, 28.0, 1593.0, 472.0, 1138.0, 1839.0, 57.0, 1754.0, 672.0, 2117.0, 236.0, 1679.0, 718.0, 48.0, 2153.0, 117.0, 1781.0, 290.0, 2112.0, 1301.0, 108.0, 196.0, 1188.0, 10.0, 1171.0, 2525.0, 1025.0, 182.0, 996.0, 15.0, 48.0, 41.0, 42.0, 2337.0, 1385.0, 766.0, 2932.0, 2761.0, 214.0, 494.0, 754.0, 59.0, 64.0, 1214.0, 1895.0, 90.0, 246.0, 2317.0, 2461.0, 413.0, 1741.0, 3364.0, 353.0, 1074.0, 1692.0, 174.0, 433.0, 421.0, 1308.0, 2483.0, 1297.0, 397.0, 458.0, 147.0, 31.0, 1243.0, 2208.0, 2373.0, 1185.0, 1985.0, 1873.0, 1627.0, 41.0, 6.0, 385.0, 634.0, 1895.0, 382.0, 1109.0], \"yaxis\": \"y\"}],\n",
              "                        {\"coloraxis\": {\"colorbar\": {\"title\": {\"text\": \"survival_status\"}}, \"colorscale\": [[0.0, \"#0d0887\"], [0.1111111111111111, \"#46039f\"], [0.2222222222222222, \"#7201a8\"], [0.3333333333333333, \"#9c179e\"], [0.4444444444444444, \"#bd3786\"], [0.5555555555555556, \"#d8576b\"], [0.6666666666666666, \"#ed7953\"], [0.7777777777777778, \"#fb9f3a\"], [0.8888888888888888, \"#fdca26\"], [1.0, \"#f0f921\"]]}, \"legend\": {\"tracegroupgap\": 0}, \"margin\": {\"t\": 60}, \"template\": {\"data\": {\"bar\": [{\"error_x\": {\"color\": \"#2a3f5f\"}, \"error_y\": {\"color\": \"#2a3f5f\"}, \"marker\": {\"line\": {\"color\": \"#E5ECF6\", \"width\": 0.5}}, \"type\": \"bar\"}], \"barpolar\": [{\"marker\": {\"line\": {\"color\": \"#E5ECF6\", \"width\": 0.5}}, \"type\": \"barpolar\"}], \"carpet\": [{\"aaxis\": {\"endlinecolor\": \"#2a3f5f\", \"gridcolor\": \"white\", \"linecolor\": \"white\", \"minorgridcolor\": \"white\", \"startlinecolor\": \"#2a3f5f\"}, \"baxis\": {\"endlinecolor\": \"#2a3f5f\", \"gridcolor\": \"white\", \"linecolor\": \"white\", \"minorgridcolor\": \"white\", \"startlinecolor\": \"#2a3f5f\"}, \"type\": \"carpet\"}], \"choropleth\": [{\"colorbar\": {\"outlinewidth\": 0, \"ticks\": \"\"}, \"type\": \"choropleth\"}], \"contour\": [{\"colorbar\": {\"outlinewidth\": 0, \"ticks\": \"\"}, \"colorscale\": [[0.0, \"#0d0887\"], [0.1111111111111111, \"#46039f\"], [0.2222222222222222, \"#7201a8\"], [0.3333333333333333, \"#9c179e\"], [0.4444444444444444, \"#bd3786\"], [0.5555555555555556, \"#d8576b\"], [0.6666666666666666, \"#ed7953\"], [0.7777777777777778, \"#fb9f3a\"], [0.8888888888888888, \"#fdca26\"], [1.0, \"#f0f921\"]], \"type\": \"contour\"}], \"contourcarpet\": [{\"colorbar\": {\"outlinewidth\": 0, \"ticks\": \"\"}, \"type\": \"contourcarpet\"}], \"heatmap\": [{\"colorbar\": {\"outlinewidth\": 0, \"ticks\": \"\"}, \"colorscale\": [[0.0, \"#0d0887\"], [0.1111111111111111, \"#46039f\"], [0.2222222222222222, \"#7201a8\"], [0.3333333333333333, \"#9c179e\"], [0.4444444444444444, \"#bd3786\"], [0.5555555555555556, \"#d8576b\"], [0.6666666666666666, \"#ed7953\"], [0.7777777777777778, \"#fb9f3a\"], [0.8888888888888888, \"#fdca26\"], [1.0, \"#f0f921\"]], \"type\": \"heatmap\"}], \"heatmapgl\": [{\"colorbar\": {\"outlinewidth\": 0, \"ticks\": \"\"}, \"colorscale\": [[0.0, \"#0d0887\"], [0.1111111111111111, \"#46039f\"], [0.2222222222222222, \"#7201a8\"], [0.3333333333333333, \"#9c179e\"], [0.4444444444444444, \"#bd3786\"], [0.5555555555555556, \"#d8576b\"], [0.6666666666666666, \"#ed7953\"], [0.7777777777777778, \"#fb9f3a\"], [0.8888888888888888, \"#fdca26\"], [1.0, \"#f0f921\"]], \"type\": \"heatmapgl\"}], \"histogram\": [{\"marker\": {\"colorbar\": {\"outlinewidth\": 0, \"ticks\": \"\"}}, \"type\": \"histogram\"}], \"histogram2d\": [{\"colorbar\": {\"outlinewidth\": 0, \"ticks\": \"\"}, \"colorscale\": [[0.0, \"#0d0887\"], [0.1111111111111111, \"#46039f\"], [0.2222222222222222, \"#7201a8\"], [0.3333333333333333, \"#9c179e\"], [0.4444444444444444, \"#bd3786\"], [0.5555555555555556, \"#d8576b\"], [0.6666666666666666, \"#ed7953\"], [0.7777777777777778, \"#fb9f3a\"], [0.8888888888888888, \"#fdca26\"], [1.0, \"#f0f921\"]], \"type\": \"histogram2d\"}], \"histogram2dcontour\": [{\"colorbar\": {\"outlinewidth\": 0, \"ticks\": \"\"}, \"colorscale\": [[0.0, \"#0d0887\"], [0.1111111111111111, \"#46039f\"], [0.2222222222222222, \"#7201a8\"], [0.3333333333333333, \"#9c179e\"], [0.4444444444444444, \"#bd3786\"], [0.5555555555555556, \"#d8576b\"], [0.6666666666666666, \"#ed7953\"], [0.7777777777777778, \"#fb9f3a\"], [0.8888888888888888, \"#fdca26\"], [1.0, \"#f0f921\"]], \"type\": \"histogram2dcontour\"}], \"mesh3d\": [{\"colorbar\": {\"outlinewidth\": 0, \"ticks\": \"\"}, \"type\": \"mesh3d\"}], \"parcoords\": [{\"line\": {\"colorbar\": {\"outlinewidth\": 0, \"ticks\": \"\"}}, \"type\": \"parcoords\"}], \"pie\": [{\"automargin\": true, \"type\": \"pie\"}], \"scatter\": [{\"marker\": {\"colorbar\": {\"outlinewidth\": 0, \"ticks\": \"\"}}, \"type\": \"scatter\"}], \"scatter3d\": [{\"line\": {\"colorbar\": {\"outlinewidth\": 0, \"ticks\": \"\"}}, \"marker\": {\"colorbar\": {\"outlinewidth\": 0, \"ticks\": \"\"}}, \"type\": \"scatter3d\"}], \"scattercarpet\": [{\"marker\": {\"colorbar\": {\"outlinewidth\": 0, \"ticks\": \"\"}}, \"type\": \"scattercarpet\"}], \"scattergeo\": [{\"marker\": {\"colorbar\": {\"outlinewidth\": 0, \"ticks\": \"\"}}, \"type\": \"scattergeo\"}], \"scattergl\": [{\"marker\": {\"colorbar\": {\"outlinewidth\": 0, \"ticks\": \"\"}}, \"type\": \"scattergl\"}], \"scattermapbox\": [{\"marker\": {\"colorbar\": {\"outlinewidth\": 0, \"ticks\": \"\"}}, \"type\": \"scattermapbox\"}], \"scatterpolar\": [{\"marker\": {\"colorbar\": {\"outlinewidth\": 0, \"ticks\": \"\"}}, \"type\": \"scatterpolar\"}], \"scatterpolargl\": [{\"marker\": {\"colorbar\": {\"outlinewidth\": 0, \"ticks\": \"\"}}, \"type\": \"scatterpolargl\"}], \"scatterternary\": [{\"marker\": {\"colorbar\": {\"outlinewidth\": 0, \"ticks\": \"\"}}, \"type\": \"scatterternary\"}], \"surface\": [{\"colorbar\": {\"outlinewidth\": 0, \"ticks\": \"\"}, \"colorscale\": [[0.0, \"#0d0887\"], [0.1111111111111111, \"#46039f\"], [0.2222222222222222, \"#7201a8\"], [0.3333333333333333, \"#9c179e\"], [0.4444444444444444, \"#bd3786\"], [0.5555555555555556, \"#d8576b\"], [0.6666666666666666, \"#ed7953\"], [0.7777777777777778, \"#fb9f3a\"], [0.8888888888888888, \"#fdca26\"], [1.0, \"#f0f921\"]], \"type\": \"surface\"}], \"table\": [{\"cells\": {\"fill\": {\"color\": \"#EBF0F8\"}, \"line\": {\"color\": \"white\"}}, \"header\": {\"fill\": {\"color\": \"#C8D4E3\"}, \"line\": {\"color\": \"white\"}}, \"type\": \"table\"}]}, \"layout\": {\"annotationdefaults\": {\"arrowcolor\": \"#2a3f5f\", \"arrowhead\": 0, \"arrowwidth\": 1}, \"coloraxis\": {\"colorbar\": {\"outlinewidth\": 0, \"ticks\": \"\"}}, \"colorscale\": {\"diverging\": [[0, \"#8e0152\"], [0.1, \"#c51b7d\"], [0.2, \"#de77ae\"], [0.3, \"#f1b6da\"], [0.4, \"#fde0ef\"], [0.5, \"#f7f7f7\"], [0.6, \"#e6f5d0\"], [0.7, \"#b8e186\"], [0.8, \"#7fbc41\"], [0.9, \"#4d9221\"], [1, \"#276419\"]], \"sequential\": [[0.0, \"#0d0887\"], [0.1111111111111111, \"#46039f\"], [0.2222222222222222, \"#7201a8\"], [0.3333333333333333, \"#9c179e\"], [0.4444444444444444, \"#bd3786\"], [0.5555555555555556, \"#d8576b\"], [0.6666666666666666, \"#ed7953\"], [0.7777777777777778, \"#fb9f3a\"], [0.8888888888888888, \"#fdca26\"], [1.0, \"#f0f921\"]], \"sequentialminus\": [[0.0, \"#0d0887\"], [0.1111111111111111, \"#46039f\"], [0.2222222222222222, \"#7201a8\"], [0.3333333333333333, \"#9c179e\"], [0.4444444444444444, \"#bd3786\"], [0.5555555555555556, \"#d8576b\"], [0.6666666666666666, \"#ed7953\"], [0.7777777777777778, \"#fb9f3a\"], [0.8888888888888888, \"#fdca26\"], [1.0, \"#f0f921\"]]}, \"colorway\": [\"#636efa\", \"#EF553B\", \"#00cc96\", \"#ab63fa\", \"#FFA15A\", \"#19d3f3\", \"#FF6692\", \"#B6E880\", \"#FF97FF\", \"#FECB52\"], \"font\": {\"color\": \"#2a3f5f\"}, \"geo\": {\"bgcolor\": \"white\", \"lakecolor\": \"white\", \"landcolor\": \"#E5ECF6\", \"showlakes\": true, \"showland\": true, \"subunitcolor\": \"white\"}, \"hoverlabel\": {\"align\": \"left\"}, \"hovermode\": \"closest\", \"mapbox\": {\"style\": \"light\"}, \"paper_bgcolor\": \"white\", \"plot_bgcolor\": \"#E5ECF6\", \"polar\": {\"angularaxis\": {\"gridcolor\": \"white\", \"linecolor\": \"white\", \"ticks\": \"\"}, \"bgcolor\": \"#E5ECF6\", \"radialaxis\": {\"gridcolor\": \"white\", \"linecolor\": \"white\", \"ticks\": \"\"}}, \"scene\": {\"xaxis\": {\"backgroundcolor\": \"#E5ECF6\", \"gridcolor\": \"white\", \"gridwidth\": 2, \"linecolor\": \"white\", \"showbackground\": true, \"ticks\": \"\", \"zerolinecolor\": \"white\"}, \"yaxis\": {\"backgroundcolor\": \"#E5ECF6\", \"gridcolor\": \"white\", \"gridwidth\": 2, \"linecolor\": \"white\", \"showbackground\": true, \"ticks\": \"\", \"zerolinecolor\": \"white\"}, \"zaxis\": {\"backgroundcolor\": \"#E5ECF6\", \"gridcolor\": \"white\", \"gridwidth\": 2, \"linecolor\": \"white\", \"showbackground\": true, \"ticks\": \"\", \"zerolinecolor\": \"white\"}}, \"shapedefaults\": {\"line\": {\"color\": \"#2a3f5f\"}}, \"ternary\": {\"aaxis\": {\"gridcolor\": \"white\", \"linecolor\": \"white\", \"ticks\": \"\"}, \"baxis\": {\"gridcolor\": \"white\", \"linecolor\": \"white\", \"ticks\": \"\"}, \"bgcolor\": \"#E5ECF6\", \"caxis\": {\"gridcolor\": \"white\", \"linecolor\": \"white\", \"ticks\": \"\"}}, \"title\": {\"x\": 0.05}, \"xaxis\": {\"automargin\": true, \"gridcolor\": \"white\", \"linecolor\": \"white\", \"ticks\": \"\", \"title\": {\"standoff\": 15}, \"zerolinecolor\": \"white\", \"zerolinewidth\": 2}, \"yaxis\": {\"automargin\": true, \"gridcolor\": \"white\", \"linecolor\": \"white\", \"ticks\": \"\", \"title\": {\"standoff\": 15}, \"zerolinecolor\": \"white\", \"zerolinewidth\": 2}}}, \"xaxis\": {\"anchor\": \"y\", \"domain\": [0.0, 1.0], \"title\": {\"text\": \"recipient_age\"}}, \"yaxis\": {\"anchor\": \"x\", \"domain\": [0.0, 1.0], \"title\": {\"text\": \"survival_time\"}}},\n",
              "                        {\"responsive\": true}\n",
              "                    ).then(function(){\n",
              "                            \n",
              "var gd = document.getElementById('7fae0c7f-f969-49a3-9e8a-71b8d16bbb7e');\n",
              "var x = new MutationObserver(function (mutations, observer) {{\n",
              "        var display = window.getComputedStyle(gd).display;\n",
              "        if (!display || display === 'none') {{\n",
              "            console.log([gd, 'removed!']);\n",
              "            Plotly.purge(gd);\n",
              "            observer.disconnect();\n",
              "        }}\n",
              "}});\n",
              "\n",
              "// Listen for the removal of the full notebook cells\n",
              "var notebookContainer = gd.closest('#notebook-container');\n",
              "if (notebookContainer) {{\n",
              "    x.observe(notebookContainer, {childList: true});\n",
              "}}\n",
              "\n",
              "// Listen for the clearing of the current output cell\n",
              "var outputEl = gd.closest('.output');\n",
              "if (outputEl) {{\n",
              "    x.observe(outputEl, {childList: true});\n",
              "}}\n",
              "\n",
              "                        })\n",
              "                };\n",
              "                \n",
              "            </script>\n",
              "        </div>\n",
              "</body>\n",
              "</html>"
            ]
          },
          "metadata": {}
        }
      ]
    },
    {
      "cell_type": "code",
      "metadata": {
        "id": "jbyWOrCPawHr",
        "colab": {
          "base_uri": "https://localhost:8080/",
          "height": 542
        },
        "outputId": "61a29263-c02c-4f52-f0d8-7c523302b955"
      },
      "source": [
        "violin('HLA_match')"
      ],
      "execution_count": null,
      "outputs": [
        {
          "output_type": "display_data",
          "data": {
            "text/html": [
              "<html>\n",
              "<head><meta charset=\"utf-8\" /></head>\n",
              "<body>\n",
              "    <div>\n",
              "            <script src=\"https://cdnjs.cloudflare.com/ajax/libs/mathjax/2.7.5/MathJax.js?config=TeX-AMS-MML_SVG\"></script><script type=\"text/javascript\">if (window.MathJax) {MathJax.Hub.Config({SVG: {font: \"STIX-Web\"}});}</script>\n",
              "                <script type=\"text/javascript\">window.PlotlyConfig = {MathJaxConfig: 'local'};</script>\n",
              "        <script src=\"https://cdn.plot.ly/plotly-latest.min.js\"></script>    \n",
              "            <div id=\"2b593984-a107-49d2-b92f-59dbae26f93e\" class=\"plotly-graph-div\" style=\"height:525px; width:100%;\"></div>\n",
              "            <script type=\"text/javascript\">\n",
              "                \n",
              "                    window.PLOTLYENV=window.PLOTLYENV || {};\n",
              "                    \n",
              "                if (document.getElementById(\"2b593984-a107-49d2-b92f-59dbae26f93e\")) {\n",
              "                    Plotly.newPlot(\n",
              "                        '2b593984-a107-49d2-b92f-59dbae26f93e',\n",
              "                        [{\"alignmentgroup\": \"True\", \"box\": {\"visible\": true}, \"hoverlabel\": {\"namelength\": 0}, \"hovertemplate\": \"disease=ALL<br>survival_status=%{x}<br>HLA_match=%{y}\", \"legendgroup\": \"disease=ALL\", \"marker\": {\"color\": \"#636efa\"}, \"name\": \"disease=ALL\", \"offsetgroup\": \"disease=ALL\", \"orientation\": \"v\", \"scalegroup\": \"True\", \"showlegend\": true, \"type\": \"violin\", \"x\": [0, 1, 1, 0, 0, 0, 1, 0, 1, 1, 0, 0, 1, 0, 1, 1, 0, 0, 0, 0, 0, 1, 0, 1, 0, 0, 0, 1, 0, 1, 1, 0, 1, 0, 0, 1, 0, 0, 1, 0, 1, 1, 0, 0, 1, 1, 1, 1, 0, 0, 1, 1, 0, 1, 1, 0, 0, 0, 1, 0, 1, 0, 1, 0, 0, 0, 0, 1], \"x0\": \" \", \"xaxis\": \"x\", \"y\": [\"10/10\", \"10/10\", \"10/10\", \"10/10\", \"10/10\", \"10/10\", \"9/10\", \"10/10\", \"7/10\", \"10/10\", \"9/10\", \"10/10\", \"9/10\", \"9/10\", \"10/10\", \"10/10\", \"8/10\", \"10/10\", \"10/10\", \"8/10\", \"10/10\", \"9/10\", \"9/10\", \"9/10\", \"10/10\", \"10/10\", \"10/10\", \"10/10\", \"10/10\", \"9/10\", \"9/10\", \"10/10\", \"9/10\", \"9/10\", \"8/10\", \"9/10\", \"10/10\", \"10/10\", \"10/10\", \"9/10\", \"8/10\", \"10/10\", \"9/10\", \"9/10\", \"8/10\", \"10/10\", \"10/10\", \"10/10\", \"9/10\", \"9/10\", \"9/10\", \"10/10\", \"10/10\", \"9/10\", \"9/10\", \"10/10\", \"9/10\", \"7/10\", \"10/10\", \"10/10\", \"9/10\", \"9/10\", \"9/10\", \"9/10\", \"9/10\", \"9/10\", \"9/10\", \"8/10\"], \"y0\": \" \", \"yaxis\": \"y\"}, {\"alignmentgroup\": \"True\", \"box\": {\"visible\": true}, \"hoverlabel\": {\"namelength\": 0}, \"hovertemplate\": \"disease=AML<br>survival_status=%{x}<br>HLA_match=%{y}\", \"legendgroup\": \"disease=AML\", \"marker\": {\"color\": \"#EF553B\"}, \"name\": \"disease=AML\", \"offsetgroup\": \"disease=AML\", \"orientation\": \"v\", \"scalegroup\": \"True\", \"showlegend\": true, \"type\": \"violin\", \"x\": [1, 1, 0, 1, 0, 0, 0, 0, 1, 0, 1, 1, 0, 1, 0, 0, 1, 0, 0, 0, 0, 0, 0, 1, 1, 0, 1, 0, 1, 1, 0, 1, 1], \"x0\": \" \", \"xaxis\": \"x\", \"y\": [\"10/10\", \"10/10\", \"10/10\", \"10/10\", \"10/10\", \"10/10\", \"10/10\", \"10/10\", \"10/10\", \"9/10\", \"9/10\", \"9/10\", \"8/10\", \"10/10\", \"10/10\", \"10/10\", \"8/10\", \"8/10\", \"10/10\", \"8/10\", \"8/10\", \"10/10\", \"8/10\", \"9/10\", \"10/10\", \"10/10\", \"10/10\", \"8/10\", \"8/10\", \"10/10\", \"9/10\", \"10/10\", \"10/10\"], \"y0\": \" \", \"yaxis\": \"y\"}, {\"alignmentgroup\": \"True\", \"box\": {\"visible\": true}, \"hoverlabel\": {\"namelength\": 0}, \"hovertemplate\": \"disease=chronic<br>survival_status=%{x}<br>HLA_match=%{y}\", \"legendgroup\": \"disease=chronic\", \"marker\": {\"color\": \"#00cc96\"}, \"name\": \"disease=chronic\", \"offsetgroup\": \"disease=chronic\", \"orientation\": \"v\", \"scalegroup\": \"True\", \"showlegend\": true, \"type\": \"violin\", \"x\": [0, 0, 0, 0, 0, 1, 0, 0, 0, 0, 1, 0, 1, 0, 1, 1, 0, 1, 1, 1, 0, 0, 0, 1, 1, 1, 1, 0, 0, 0, 1, 1, 1, 0, 1, 0, 0, 1, 0, 0, 1, 0, 0, 0, 1], \"x0\": \" \", \"xaxis\": \"x\", \"y\": [\"9/10\", \"10/10\", \"9/10\", \"8/10\", \"9/10\", \"9/10\", \"10/10\", \"10/10\", \"10/10\", \"9/10\", \"9/10\", \"9/10\", \"9/10\", \"10/10\", \"10/10\", \"8/10\", \"10/10\", \"9/10\", \"7/10\", \"9/10\", \"10/10\", \"9/10\", \"10/10\", \"8/10\", \"10/10\", \"10/10\", \"8/10\", \"9/10\", \"9/10\", \"8/10\", \"8/10\", \"9/10\", \"9/10\", \"10/10\", \"10/10\", \"9/10\", \"9/10\", \"9/10\", \"9/10\", \"9/10\", \"10/10\", \"10/10\", \"9/10\", \"10/10\", \"9/10\"], \"y0\": \" \", \"yaxis\": \"y\"}, {\"alignmentgroup\": \"True\", \"box\": {\"visible\": true}, \"hoverlabel\": {\"namelength\": 0}, \"hovertemplate\": \"disease=nonmalignant<br>survival_status=%{x}<br>HLA_match=%{y}\", \"legendgroup\": \"disease=nonmalignant\", \"marker\": {\"color\": \"#ab63fa\"}, \"name\": \"disease=nonmalignant\", \"offsetgroup\": \"disease=nonmalignant\", \"orientation\": \"v\", \"scalegroup\": \"True\", \"showlegend\": true, \"type\": \"violin\", \"x\": [1, 0, 0, 1, 1, 0, 0, 0, 1, 1, 0, 0, 0, 0, 0, 0, 1, 1, 1, 0, 1, 0, 1, 0, 1, 0, 0, 1, 0, 0, 0, 0], \"x0\": \" \", \"xaxis\": \"x\", \"y\": [\"7/10\", \"10/10\", \"9/10\", \"9/10\", \"9/10\", \"10/10\", \"10/10\", \"10/10\", \"10/10\", \"10/10\", \"10/10\", \"9/10\", \"8/10\", \"10/10\", \"8/10\", \"7/10\", \"10/10\", \"10/10\", \"9/10\", \"10/10\", \"10/10\", \"9/10\", \"10/10\", \"10/10\", \"10/10\", \"9/10\", \"10/10\", \"10/10\", \"10/10\", \"10/10\", \"10/10\", \"10/10\"], \"y0\": \" \", \"yaxis\": \"y\"}, {\"alignmentgroup\": \"True\", \"box\": {\"visible\": true}, \"hoverlabel\": {\"namelength\": 0}, \"hovertemplate\": \"disease=lymphoma<br>survival_status=%{x}<br>HLA_match=%{y}\", \"legendgroup\": \"disease=lymphoma\", \"marker\": {\"color\": \"#FFA15A\"}, \"name\": \"disease=lymphoma\", \"offsetgroup\": \"disease=lymphoma\", \"orientation\": \"v\", \"scalegroup\": \"True\", \"showlegend\": true, \"type\": \"violin\", \"x\": [1, 1, 1, 1, 1, 1, 1, 1, 1], \"x0\": \" \", \"xaxis\": \"x\", \"y\": [\"10/10\", \"9/10\", \"10/10\", \"10/10\", \"9/10\", \"10/10\", \"9/10\", \"8/10\", \"10/10\"], \"y0\": \" \", \"yaxis\": \"y\"}],\n",
              "                        {\"legend\": {\"tracegroupgap\": 0}, \"margin\": {\"t\": 60}, \"template\": {\"data\": {\"bar\": [{\"error_x\": {\"color\": \"#2a3f5f\"}, \"error_y\": {\"color\": \"#2a3f5f\"}, \"marker\": {\"line\": {\"color\": \"#E5ECF6\", \"width\": 0.5}}, \"type\": \"bar\"}], \"barpolar\": [{\"marker\": {\"line\": {\"color\": \"#E5ECF6\", \"width\": 0.5}}, \"type\": \"barpolar\"}], \"carpet\": [{\"aaxis\": {\"endlinecolor\": \"#2a3f5f\", \"gridcolor\": \"white\", \"linecolor\": \"white\", \"minorgridcolor\": \"white\", \"startlinecolor\": \"#2a3f5f\"}, \"baxis\": {\"endlinecolor\": \"#2a3f5f\", \"gridcolor\": \"white\", \"linecolor\": \"white\", \"minorgridcolor\": \"white\", \"startlinecolor\": \"#2a3f5f\"}, \"type\": \"carpet\"}], \"choropleth\": [{\"colorbar\": {\"outlinewidth\": 0, \"ticks\": \"\"}, \"type\": \"choropleth\"}], \"contour\": [{\"colorbar\": {\"outlinewidth\": 0, \"ticks\": \"\"}, \"colorscale\": [[0.0, \"#0d0887\"], [0.1111111111111111, \"#46039f\"], [0.2222222222222222, \"#7201a8\"], [0.3333333333333333, \"#9c179e\"], [0.4444444444444444, \"#bd3786\"], [0.5555555555555556, \"#d8576b\"], [0.6666666666666666, \"#ed7953\"], [0.7777777777777778, \"#fb9f3a\"], [0.8888888888888888, \"#fdca26\"], [1.0, \"#f0f921\"]], \"type\": \"contour\"}], \"contourcarpet\": [{\"colorbar\": {\"outlinewidth\": 0, \"ticks\": \"\"}, \"type\": \"contourcarpet\"}], \"heatmap\": [{\"colorbar\": {\"outlinewidth\": 0, \"ticks\": \"\"}, \"colorscale\": [[0.0, \"#0d0887\"], [0.1111111111111111, \"#46039f\"], [0.2222222222222222, \"#7201a8\"], [0.3333333333333333, \"#9c179e\"], [0.4444444444444444, \"#bd3786\"], [0.5555555555555556, \"#d8576b\"], [0.6666666666666666, \"#ed7953\"], [0.7777777777777778, \"#fb9f3a\"], [0.8888888888888888, \"#fdca26\"], [1.0, \"#f0f921\"]], \"type\": \"heatmap\"}], \"heatmapgl\": [{\"colorbar\": {\"outlinewidth\": 0, \"ticks\": \"\"}, \"colorscale\": [[0.0, \"#0d0887\"], [0.1111111111111111, \"#46039f\"], [0.2222222222222222, \"#7201a8\"], [0.3333333333333333, \"#9c179e\"], [0.4444444444444444, \"#bd3786\"], [0.5555555555555556, \"#d8576b\"], [0.6666666666666666, \"#ed7953\"], [0.7777777777777778, \"#fb9f3a\"], [0.8888888888888888, \"#fdca26\"], [1.0, \"#f0f921\"]], \"type\": \"heatmapgl\"}], \"histogram\": [{\"marker\": {\"colorbar\": {\"outlinewidth\": 0, \"ticks\": \"\"}}, \"type\": \"histogram\"}], \"histogram2d\": [{\"colorbar\": {\"outlinewidth\": 0, \"ticks\": \"\"}, \"colorscale\": [[0.0, \"#0d0887\"], [0.1111111111111111, \"#46039f\"], [0.2222222222222222, \"#7201a8\"], [0.3333333333333333, \"#9c179e\"], [0.4444444444444444, \"#bd3786\"], [0.5555555555555556, \"#d8576b\"], [0.6666666666666666, \"#ed7953\"], [0.7777777777777778, \"#fb9f3a\"], [0.8888888888888888, \"#fdca26\"], [1.0, \"#f0f921\"]], \"type\": \"histogram2d\"}], \"histogram2dcontour\": [{\"colorbar\": {\"outlinewidth\": 0, \"ticks\": \"\"}, \"colorscale\": [[0.0, \"#0d0887\"], [0.1111111111111111, \"#46039f\"], [0.2222222222222222, \"#7201a8\"], [0.3333333333333333, \"#9c179e\"], [0.4444444444444444, \"#bd3786\"], [0.5555555555555556, \"#d8576b\"], [0.6666666666666666, \"#ed7953\"], [0.7777777777777778, \"#fb9f3a\"], [0.8888888888888888, \"#fdca26\"], [1.0, \"#f0f921\"]], \"type\": \"histogram2dcontour\"}], \"mesh3d\": [{\"colorbar\": {\"outlinewidth\": 0, \"ticks\": \"\"}, \"type\": \"mesh3d\"}], \"parcoords\": [{\"line\": {\"colorbar\": {\"outlinewidth\": 0, \"ticks\": \"\"}}, \"type\": \"parcoords\"}], \"pie\": [{\"automargin\": true, \"type\": \"pie\"}], \"scatter\": [{\"marker\": {\"colorbar\": {\"outlinewidth\": 0, \"ticks\": \"\"}}, \"type\": \"scatter\"}], \"scatter3d\": [{\"line\": {\"colorbar\": {\"outlinewidth\": 0, \"ticks\": \"\"}}, \"marker\": {\"colorbar\": {\"outlinewidth\": 0, \"ticks\": \"\"}}, \"type\": \"scatter3d\"}], \"scattercarpet\": [{\"marker\": {\"colorbar\": {\"outlinewidth\": 0, \"ticks\": \"\"}}, \"type\": \"scattercarpet\"}], \"scattergeo\": [{\"marker\": {\"colorbar\": {\"outlinewidth\": 0, \"ticks\": \"\"}}, \"type\": \"scattergeo\"}], \"scattergl\": [{\"marker\": {\"colorbar\": {\"outlinewidth\": 0, \"ticks\": \"\"}}, \"type\": \"scattergl\"}], \"scattermapbox\": [{\"marker\": {\"colorbar\": {\"outlinewidth\": 0, \"ticks\": \"\"}}, \"type\": \"scattermapbox\"}], \"scatterpolar\": [{\"marker\": {\"colorbar\": {\"outlinewidth\": 0, \"ticks\": \"\"}}, \"type\": \"scatterpolar\"}], \"scatterpolargl\": [{\"marker\": {\"colorbar\": {\"outlinewidth\": 0, \"ticks\": \"\"}}, \"type\": \"scatterpolargl\"}], \"scatterternary\": [{\"marker\": {\"colorbar\": {\"outlinewidth\": 0, \"ticks\": \"\"}}, \"type\": \"scatterternary\"}], \"surface\": [{\"colorbar\": {\"outlinewidth\": 0, \"ticks\": \"\"}, \"colorscale\": [[0.0, \"#0d0887\"], [0.1111111111111111, \"#46039f\"], [0.2222222222222222, \"#7201a8\"], [0.3333333333333333, \"#9c179e\"], [0.4444444444444444, \"#bd3786\"], [0.5555555555555556, \"#d8576b\"], [0.6666666666666666, \"#ed7953\"], [0.7777777777777778, \"#fb9f3a\"], [0.8888888888888888, \"#fdca26\"], [1.0, \"#f0f921\"]], \"type\": \"surface\"}], \"table\": [{\"cells\": {\"fill\": {\"color\": \"#EBF0F8\"}, \"line\": {\"color\": \"white\"}}, \"header\": {\"fill\": {\"color\": \"#C8D4E3\"}, \"line\": {\"color\": \"white\"}}, \"type\": \"table\"}]}, \"layout\": {\"annotationdefaults\": {\"arrowcolor\": \"#2a3f5f\", \"arrowhead\": 0, \"arrowwidth\": 1}, \"coloraxis\": {\"colorbar\": {\"outlinewidth\": 0, \"ticks\": \"\"}}, \"colorscale\": {\"diverging\": [[0, \"#8e0152\"], [0.1, \"#c51b7d\"], [0.2, \"#de77ae\"], [0.3, \"#f1b6da\"], [0.4, \"#fde0ef\"], [0.5, \"#f7f7f7\"], [0.6, \"#e6f5d0\"], [0.7, \"#b8e186\"], [0.8, \"#7fbc41\"], [0.9, \"#4d9221\"], [1, \"#276419\"]], \"sequential\": [[0.0, \"#0d0887\"], [0.1111111111111111, \"#46039f\"], [0.2222222222222222, \"#7201a8\"], [0.3333333333333333, \"#9c179e\"], [0.4444444444444444, \"#bd3786\"], [0.5555555555555556, \"#d8576b\"], [0.6666666666666666, \"#ed7953\"], [0.7777777777777778, \"#fb9f3a\"], [0.8888888888888888, \"#fdca26\"], [1.0, \"#f0f921\"]], \"sequentialminus\": [[0.0, \"#0d0887\"], [0.1111111111111111, \"#46039f\"], [0.2222222222222222, \"#7201a8\"], [0.3333333333333333, \"#9c179e\"], [0.4444444444444444, \"#bd3786\"], [0.5555555555555556, \"#d8576b\"], [0.6666666666666666, \"#ed7953\"], [0.7777777777777778, \"#fb9f3a\"], [0.8888888888888888, \"#fdca26\"], [1.0, \"#f0f921\"]]}, \"colorway\": [\"#636efa\", \"#EF553B\", \"#00cc96\", \"#ab63fa\", \"#FFA15A\", \"#19d3f3\", \"#FF6692\", \"#B6E880\", \"#FF97FF\", \"#FECB52\"], \"font\": {\"color\": \"#2a3f5f\"}, \"geo\": {\"bgcolor\": \"white\", \"lakecolor\": \"white\", \"landcolor\": \"#E5ECF6\", \"showlakes\": true, \"showland\": true, \"subunitcolor\": \"white\"}, \"hoverlabel\": {\"align\": \"left\"}, \"hovermode\": \"closest\", \"mapbox\": {\"style\": \"light\"}, \"paper_bgcolor\": \"white\", \"plot_bgcolor\": \"#E5ECF6\", \"polar\": {\"angularaxis\": {\"gridcolor\": \"white\", \"linecolor\": \"white\", \"ticks\": \"\"}, \"bgcolor\": \"#E5ECF6\", \"radialaxis\": {\"gridcolor\": \"white\", \"linecolor\": \"white\", \"ticks\": \"\"}}, \"scene\": {\"xaxis\": {\"backgroundcolor\": \"#E5ECF6\", \"gridcolor\": \"white\", \"gridwidth\": 2, \"linecolor\": \"white\", \"showbackground\": true, \"ticks\": \"\", \"zerolinecolor\": \"white\"}, \"yaxis\": {\"backgroundcolor\": \"#E5ECF6\", \"gridcolor\": \"white\", \"gridwidth\": 2, \"linecolor\": \"white\", \"showbackground\": true, \"ticks\": \"\", \"zerolinecolor\": \"white\"}, \"zaxis\": {\"backgroundcolor\": \"#E5ECF6\", \"gridcolor\": \"white\", \"gridwidth\": 2, \"linecolor\": \"white\", \"showbackground\": true, \"ticks\": \"\", \"zerolinecolor\": \"white\"}}, \"shapedefaults\": {\"line\": {\"color\": \"#2a3f5f\"}}, \"ternary\": {\"aaxis\": {\"gridcolor\": \"white\", \"linecolor\": \"white\", \"ticks\": \"\"}, \"baxis\": {\"gridcolor\": \"white\", \"linecolor\": \"white\", \"ticks\": \"\"}, \"bgcolor\": \"#E5ECF6\", \"caxis\": {\"gridcolor\": \"white\", \"linecolor\": \"white\", \"ticks\": \"\"}}, \"title\": {\"x\": 0.05}, \"xaxis\": {\"automargin\": true, \"gridcolor\": \"white\", \"linecolor\": \"white\", \"ticks\": \"\", \"title\": {\"standoff\": 15}, \"zerolinecolor\": \"white\", \"zerolinewidth\": 2}, \"yaxis\": {\"automargin\": true, \"gridcolor\": \"white\", \"linecolor\": \"white\", \"ticks\": \"\", \"title\": {\"standoff\": 15}, \"zerolinecolor\": \"white\", \"zerolinewidth\": 2}}}, \"violinmode\": \"group\", \"xaxis\": {\"anchor\": \"y\", \"domain\": [0.0, 1.0], \"title\": {\"text\": \"survival_status\"}}, \"yaxis\": {\"anchor\": \"x\", \"domain\": [0.0, 1.0], \"title\": {\"text\": \"HLA_match\"}}},\n",
              "                        {\"responsive\": true}\n",
              "                    ).then(function(){\n",
              "                            \n",
              "var gd = document.getElementById('2b593984-a107-49d2-b92f-59dbae26f93e');\n",
              "var x = new MutationObserver(function (mutations, observer) {{\n",
              "        var display = window.getComputedStyle(gd).display;\n",
              "        if (!display || display === 'none') {{\n",
              "            console.log([gd, 'removed!']);\n",
              "            Plotly.purge(gd);\n",
              "            observer.disconnect();\n",
              "        }}\n",
              "}});\n",
              "\n",
              "// Listen for the removal of the full notebook cells\n",
              "var notebookContainer = gd.closest('#notebook-container');\n",
              "if (notebookContainer) {{\n",
              "    x.observe(notebookContainer, {childList: true});\n",
              "}}\n",
              "\n",
              "// Listen for the clearing of the current output cell\n",
              "var outputEl = gd.closest('.output');\n",
              "if (outputEl) {{\n",
              "    x.observe(outputEl, {childList: true});\n",
              "}}\n",
              "\n",
              "                        })\n",
              "                };\n",
              "                \n",
              "            </script>\n",
              "        </div>\n",
              "</body>\n",
              "</html>"
            ]
          },
          "metadata": {}
        }
      ]
    },
    {
      "cell_type": "code",
      "metadata": {
        "id": "2huXK8pkawQy",
        "colab": {
          "base_uri": "https://localhost:8080/",
          "height": 542
        },
        "outputId": "e305c5b9-4e66-4934-8b3e-2c52bd794b86"
      },
      "source": [
        "violin('recipient_body_mass')"
      ],
      "execution_count": null,
      "outputs": [
        {
          "output_type": "display_data",
          "data": {
            "text/html": [
              "<html>\n",
              "<head><meta charset=\"utf-8\" /></head>\n",
              "<body>\n",
              "    <div>\n",
              "            <script src=\"https://cdnjs.cloudflare.com/ajax/libs/mathjax/2.7.5/MathJax.js?config=TeX-AMS-MML_SVG\"></script><script type=\"text/javascript\">if (window.MathJax) {MathJax.Hub.Config({SVG: {font: \"STIX-Web\"}});}</script>\n",
              "                <script type=\"text/javascript\">window.PlotlyConfig = {MathJaxConfig: 'local'};</script>\n",
              "        <script src=\"https://cdn.plot.ly/plotly-latest.min.js\"></script>    \n",
              "            <div id=\"e2aac694-4433-4597-a9b7-337ed0f37547\" class=\"plotly-graph-div\" style=\"height:525px; width:100%;\"></div>\n",
              "            <script type=\"text/javascript\">\n",
              "                \n",
              "                    window.PLOTLYENV=window.PLOTLYENV || {};\n",
              "                    \n",
              "                if (document.getElementById(\"e2aac694-4433-4597-a9b7-337ed0f37547\")) {\n",
              "                    Plotly.newPlot(\n",
              "                        'e2aac694-4433-4597-a9b7-337ed0f37547',\n",
              "                        [{\"alignmentgroup\": \"True\", \"box\": {\"visible\": true}, \"hoverlabel\": {\"namelength\": 0}, \"hovertemplate\": \"disease=ALL<br>survival_status=%{x}<br>recipient_body_mass=%{y}\", \"legendgroup\": \"disease=ALL\", \"marker\": {\"color\": \"#636efa\"}, \"name\": \"disease=ALL\", \"offsetgroup\": \"disease=ALL\", \"orientation\": \"v\", \"scalegroup\": \"True\", \"showlegend\": true, \"type\": \"violin\", \"x\": [0, 1, 1, 0, 0, 0, 1, 0, 1, 1, 0, 0, 1, 0, 1, 1, 0, 0, 0, 0, 0, 1, 0, 1, 0, 0, 0, 1, 0, 1, 1, 0, 1, 0, 0, 1, 0, 0, 1, 0, 1, 1, 0, 0, 1, 1, 1, 1, 0, 0, 1, 1, 0, 1, 1, 0, 0, 0, 1, 0, 1, 0, 1, 0, 0, 0, 0, 1], \"x0\": \" \", \"xaxis\": \"x\", \"y\": [35.0, 20.6, 23.4, 18.1, 6.0, 64.0, 62.0, 23.8, 17.0, 38.3, 20.0, 23.0, 15.0, 48.0, 15.0, 76.0, 30.0, 48.8, 38.5, 28.5, 13.0, 51.0, 68.0, 61.0, 30.8, 45.5, 26.5, 26.0, 11.2, 72.5, null, 54.1, null, 18.6, 19.5, 32.0, 17.6, 65.0, 54.5, 12.0, 33.0, 59.0, 20.8, 12.0, 33.0, 62.0, 70.0, 58.9, 20.9, 17.3, 23.0, 17.5, 58.0, 65.0, 44.1, 55.0, 24.0, 25.4, 38.4, 18.3, 18.0, 36.0, 17.0, 57.0, 24.0, 49.0, 28.0, 25.0], \"y0\": \" \", \"yaxis\": \"y\"}, {\"alignmentgroup\": \"True\", \"box\": {\"visible\": true}, \"hoverlabel\": {\"namelength\": 0}, \"hovertemplate\": \"disease=AML<br>survival_status=%{x}<br>recipient_body_mass=%{y}\", \"legendgroup\": \"disease=AML\", \"marker\": {\"color\": \"#EF553B\"}, \"name\": \"disease=AML\", \"offsetgroup\": \"disease=AML\", \"orientation\": \"v\", \"scalegroup\": \"True\", \"showlegend\": true, \"type\": \"violin\", \"x\": [1, 1, 0, 1, 0, 0, 0, 0, 1, 0, 1, 1, 0, 1, 0, 0, 1, 0, 0, 0, 0, 0, 0, 1, 1, 0, 1, 0, 1, 1, 0, 1, 1], \"x0\": \" \", \"xaxis\": \"x\", \"y\": [50.0, 51.0, 55.0, 11.25, 15.0, 43.5, 15.3, 41.4, 47.0, 49.0, 56.5, 61.3, 62.5, 70.0, 33.0, 15.3, 52.7, 51.3, 44.5, 13.0, 62.0, 54.6, 71.0, 40.3, 49.0, 35.9, 44.3, 30.5, 11.2, 50.8, 24.0, 33.0, 44.5], \"y0\": \" \", \"yaxis\": \"y\"}, {\"alignmentgroup\": \"True\", \"box\": {\"visible\": true}, \"hoverlabel\": {\"namelength\": 0}, \"hovertemplate\": \"disease=chronic<br>survival_status=%{x}<br>recipient_body_mass=%{y}\", \"legendgroup\": \"disease=chronic\", \"marker\": {\"color\": \"#00cc96\"}, \"name\": \"disease=chronic\", \"offsetgroup\": \"disease=chronic\", \"orientation\": \"v\", \"scalegroup\": \"True\", \"showlegend\": true, \"type\": \"violin\", \"x\": [0, 0, 0, 0, 0, 1, 0, 0, 0, 0, 1, 0, 1, 0, 1, 1, 0, 1, 1, 1, 0, 0, 0, 1, 1, 1, 1, 0, 0, 0, 1, 1, 1, 0, 1, 0, 0, 1, 0, 0, 1, 0, 0, 0, 1], \"x0\": \" \", \"xaxis\": \"x\", \"y\": [9.0, 40.0, 10.5, 47.0, 30.0, 97.8, 20.5, 31.0, 14.3, 10.0, 10.5, 34.1, 14.0, 52.0, 54.9, 30.0, 58.0, 16.5, 16.0, 28.0, 34.0, 22.6, 51.1, 23.0, 19.0, 73.0, 55.2, 25.2, 19.6, 25.0, 90.0, 37.0, 9.6, 10.5, 50.6, 60.0, 65.0, 71.0, 14.8, 35.5, 62.0, 43.0, 13.0, 36.0, 24.0], \"y0\": \" \", \"yaxis\": \"y\"}, {\"alignmentgroup\": \"True\", \"box\": {\"visible\": true}, \"hoverlabel\": {\"namelength\": 0}, \"hovertemplate\": \"disease=nonmalignant<br>survival_status=%{x}<br>recipient_body_mass=%{y}\", \"legendgroup\": \"disease=nonmalignant\", \"marker\": {\"color\": \"#ab63fa\"}, \"name\": \"disease=nonmalignant\", \"offsetgroup\": \"disease=nonmalignant\", \"orientation\": \"v\", \"scalegroup\": \"True\", \"showlegend\": true, \"type\": \"violin\", \"x\": [1, 0, 0, 1, 1, 0, 0, 0, 1, 1, 0, 0, 0, 0, 0, 0, 1, 1, 1, 0, 1, 0, 1, 0, 1, 0, 0, 1, 0, 0, 0, 0], \"x0\": \" \", \"xaxis\": \"x\", \"y\": [56.0, 20.5, 16.5, 43.2, 39.3, 26.8, 6.4, 49.6, 63.0, 29.0, 60.4, 7.5, 19.5, 23.0, 8.15, 10.0, 37.0, 15.0, 11.9, 46.7, 14.1, 24.5, 34.0, 17.2, 24.3, 26.9, 19.0, 42.4, 16.0, 14.0, 33.0, 37.0], \"y0\": \" \", \"yaxis\": \"y\"}, {\"alignmentgroup\": \"True\", \"box\": {\"visible\": true}, \"hoverlabel\": {\"namelength\": 0}, \"hovertemplate\": \"disease=lymphoma<br>survival_status=%{x}<br>recipient_body_mass=%{y}\", \"legendgroup\": \"disease=lymphoma\", \"marker\": {\"color\": \"#FFA15A\"}, \"name\": \"disease=lymphoma\", \"offsetgroup\": \"disease=lymphoma\", \"orientation\": \"v\", \"scalegroup\": \"True\", \"showlegend\": true, \"type\": \"violin\", \"x\": [1, 1, 1, 1, 1, 1, 1, 1, 1], \"x0\": \" \", \"xaxis\": \"x\", \"y\": [42.0, 47.0, 37.5, 44.3, 43.0, 24.3, 23.0, 103.4, 44.0], \"y0\": \" \", \"yaxis\": \"y\"}],\n",
              "                        {\"legend\": {\"tracegroupgap\": 0}, \"margin\": {\"t\": 60}, \"template\": {\"data\": {\"bar\": [{\"error_x\": {\"color\": \"#2a3f5f\"}, \"error_y\": {\"color\": \"#2a3f5f\"}, \"marker\": {\"line\": {\"color\": \"#E5ECF6\", \"width\": 0.5}}, \"type\": \"bar\"}], \"barpolar\": [{\"marker\": {\"line\": {\"color\": \"#E5ECF6\", \"width\": 0.5}}, \"type\": \"barpolar\"}], \"carpet\": [{\"aaxis\": {\"endlinecolor\": \"#2a3f5f\", \"gridcolor\": \"white\", \"linecolor\": \"white\", \"minorgridcolor\": \"white\", \"startlinecolor\": \"#2a3f5f\"}, \"baxis\": {\"endlinecolor\": \"#2a3f5f\", \"gridcolor\": \"white\", \"linecolor\": \"white\", \"minorgridcolor\": \"white\", \"startlinecolor\": \"#2a3f5f\"}, \"type\": \"carpet\"}], \"choropleth\": [{\"colorbar\": {\"outlinewidth\": 0, \"ticks\": \"\"}, \"type\": \"choropleth\"}], \"contour\": [{\"colorbar\": {\"outlinewidth\": 0, \"ticks\": \"\"}, \"colorscale\": [[0.0, \"#0d0887\"], [0.1111111111111111, \"#46039f\"], [0.2222222222222222, \"#7201a8\"], [0.3333333333333333, \"#9c179e\"], [0.4444444444444444, \"#bd3786\"], [0.5555555555555556, \"#d8576b\"], [0.6666666666666666, \"#ed7953\"], [0.7777777777777778, \"#fb9f3a\"], [0.8888888888888888, \"#fdca26\"], [1.0, \"#f0f921\"]], \"type\": \"contour\"}], \"contourcarpet\": [{\"colorbar\": {\"outlinewidth\": 0, \"ticks\": \"\"}, \"type\": \"contourcarpet\"}], \"heatmap\": [{\"colorbar\": {\"outlinewidth\": 0, \"ticks\": \"\"}, \"colorscale\": [[0.0, \"#0d0887\"], [0.1111111111111111, \"#46039f\"], [0.2222222222222222, \"#7201a8\"], [0.3333333333333333, \"#9c179e\"], [0.4444444444444444, \"#bd3786\"], [0.5555555555555556, \"#d8576b\"], [0.6666666666666666, \"#ed7953\"], [0.7777777777777778, \"#fb9f3a\"], [0.8888888888888888, \"#fdca26\"], [1.0, \"#f0f921\"]], \"type\": \"heatmap\"}], \"heatmapgl\": [{\"colorbar\": {\"outlinewidth\": 0, \"ticks\": \"\"}, \"colorscale\": [[0.0, \"#0d0887\"], [0.1111111111111111, \"#46039f\"], [0.2222222222222222, \"#7201a8\"], [0.3333333333333333, \"#9c179e\"], [0.4444444444444444, \"#bd3786\"], [0.5555555555555556, \"#d8576b\"], [0.6666666666666666, \"#ed7953\"], [0.7777777777777778, \"#fb9f3a\"], [0.8888888888888888, \"#fdca26\"], [1.0, \"#f0f921\"]], \"type\": \"heatmapgl\"}], \"histogram\": [{\"marker\": {\"colorbar\": {\"outlinewidth\": 0, \"ticks\": \"\"}}, \"type\": \"histogram\"}], \"histogram2d\": [{\"colorbar\": {\"outlinewidth\": 0, \"ticks\": \"\"}, \"colorscale\": [[0.0, \"#0d0887\"], [0.1111111111111111, \"#46039f\"], [0.2222222222222222, \"#7201a8\"], [0.3333333333333333, \"#9c179e\"], [0.4444444444444444, \"#bd3786\"], [0.5555555555555556, \"#d8576b\"], [0.6666666666666666, \"#ed7953\"], [0.7777777777777778, \"#fb9f3a\"], [0.8888888888888888, \"#fdca26\"], [1.0, \"#f0f921\"]], \"type\": \"histogram2d\"}], \"histogram2dcontour\": [{\"colorbar\": {\"outlinewidth\": 0, \"ticks\": \"\"}, \"colorscale\": [[0.0, \"#0d0887\"], [0.1111111111111111, \"#46039f\"], [0.2222222222222222, \"#7201a8\"], [0.3333333333333333, \"#9c179e\"], [0.4444444444444444, \"#bd3786\"], [0.5555555555555556, \"#d8576b\"], [0.6666666666666666, \"#ed7953\"], [0.7777777777777778, \"#fb9f3a\"], [0.8888888888888888, \"#fdca26\"], [1.0, \"#f0f921\"]], \"type\": \"histogram2dcontour\"}], \"mesh3d\": [{\"colorbar\": {\"outlinewidth\": 0, \"ticks\": \"\"}, \"type\": \"mesh3d\"}], \"parcoords\": [{\"line\": {\"colorbar\": {\"outlinewidth\": 0, \"ticks\": \"\"}}, \"type\": \"parcoords\"}], \"pie\": [{\"automargin\": true, \"type\": \"pie\"}], \"scatter\": [{\"marker\": {\"colorbar\": {\"outlinewidth\": 0, \"ticks\": \"\"}}, \"type\": \"scatter\"}], \"scatter3d\": [{\"line\": {\"colorbar\": {\"outlinewidth\": 0, \"ticks\": \"\"}}, \"marker\": {\"colorbar\": {\"outlinewidth\": 0, \"ticks\": \"\"}}, \"type\": \"scatter3d\"}], \"scattercarpet\": [{\"marker\": {\"colorbar\": {\"outlinewidth\": 0, \"ticks\": \"\"}}, \"type\": \"scattercarpet\"}], \"scattergeo\": [{\"marker\": {\"colorbar\": {\"outlinewidth\": 0, \"ticks\": \"\"}}, \"type\": \"scattergeo\"}], \"scattergl\": [{\"marker\": {\"colorbar\": {\"outlinewidth\": 0, \"ticks\": \"\"}}, \"type\": \"scattergl\"}], \"scattermapbox\": [{\"marker\": {\"colorbar\": {\"outlinewidth\": 0, \"ticks\": \"\"}}, \"type\": \"scattermapbox\"}], \"scatterpolar\": [{\"marker\": {\"colorbar\": {\"outlinewidth\": 0, \"ticks\": \"\"}}, \"type\": \"scatterpolar\"}], \"scatterpolargl\": [{\"marker\": {\"colorbar\": {\"outlinewidth\": 0, \"ticks\": \"\"}}, \"type\": \"scatterpolargl\"}], \"scatterternary\": [{\"marker\": {\"colorbar\": {\"outlinewidth\": 0, \"ticks\": \"\"}}, \"type\": \"scatterternary\"}], \"surface\": [{\"colorbar\": {\"outlinewidth\": 0, \"ticks\": \"\"}, \"colorscale\": [[0.0, \"#0d0887\"], [0.1111111111111111, \"#46039f\"], [0.2222222222222222, \"#7201a8\"], [0.3333333333333333, \"#9c179e\"], [0.4444444444444444, \"#bd3786\"], [0.5555555555555556, \"#d8576b\"], [0.6666666666666666, \"#ed7953\"], [0.7777777777777778, \"#fb9f3a\"], [0.8888888888888888, \"#fdca26\"], [1.0, \"#f0f921\"]], \"type\": \"surface\"}], \"table\": [{\"cells\": {\"fill\": {\"color\": \"#EBF0F8\"}, \"line\": {\"color\": \"white\"}}, \"header\": {\"fill\": {\"color\": \"#C8D4E3\"}, \"line\": {\"color\": \"white\"}}, \"type\": \"table\"}]}, \"layout\": {\"annotationdefaults\": {\"arrowcolor\": \"#2a3f5f\", \"arrowhead\": 0, \"arrowwidth\": 1}, \"coloraxis\": {\"colorbar\": {\"outlinewidth\": 0, \"ticks\": \"\"}}, \"colorscale\": {\"diverging\": [[0, \"#8e0152\"], [0.1, \"#c51b7d\"], [0.2, \"#de77ae\"], [0.3, \"#f1b6da\"], [0.4, \"#fde0ef\"], [0.5, \"#f7f7f7\"], [0.6, \"#e6f5d0\"], [0.7, \"#b8e186\"], [0.8, \"#7fbc41\"], [0.9, \"#4d9221\"], [1, \"#276419\"]], \"sequential\": [[0.0, \"#0d0887\"], [0.1111111111111111, \"#46039f\"], [0.2222222222222222, \"#7201a8\"], [0.3333333333333333, \"#9c179e\"], [0.4444444444444444, \"#bd3786\"], [0.5555555555555556, \"#d8576b\"], [0.6666666666666666, \"#ed7953\"], [0.7777777777777778, \"#fb9f3a\"], [0.8888888888888888, \"#fdca26\"], [1.0, \"#f0f921\"]], \"sequentialminus\": [[0.0, \"#0d0887\"], [0.1111111111111111, \"#46039f\"], [0.2222222222222222, \"#7201a8\"], [0.3333333333333333, \"#9c179e\"], [0.4444444444444444, \"#bd3786\"], [0.5555555555555556, \"#d8576b\"], [0.6666666666666666, \"#ed7953\"], [0.7777777777777778, \"#fb9f3a\"], [0.8888888888888888, \"#fdca26\"], [1.0, \"#f0f921\"]]}, \"colorway\": [\"#636efa\", \"#EF553B\", \"#00cc96\", \"#ab63fa\", \"#FFA15A\", \"#19d3f3\", \"#FF6692\", \"#B6E880\", \"#FF97FF\", \"#FECB52\"], \"font\": {\"color\": \"#2a3f5f\"}, \"geo\": {\"bgcolor\": \"white\", \"lakecolor\": \"white\", \"landcolor\": \"#E5ECF6\", \"showlakes\": true, \"showland\": true, \"subunitcolor\": \"white\"}, \"hoverlabel\": {\"align\": \"left\"}, \"hovermode\": \"closest\", \"mapbox\": {\"style\": \"light\"}, \"paper_bgcolor\": \"white\", \"plot_bgcolor\": \"#E5ECF6\", \"polar\": {\"angularaxis\": {\"gridcolor\": \"white\", \"linecolor\": \"white\", \"ticks\": \"\"}, \"bgcolor\": \"#E5ECF6\", \"radialaxis\": {\"gridcolor\": \"white\", \"linecolor\": \"white\", \"ticks\": \"\"}}, \"scene\": {\"xaxis\": {\"backgroundcolor\": \"#E5ECF6\", \"gridcolor\": \"white\", \"gridwidth\": 2, \"linecolor\": \"white\", \"showbackground\": true, \"ticks\": \"\", \"zerolinecolor\": \"white\"}, \"yaxis\": {\"backgroundcolor\": \"#E5ECF6\", \"gridcolor\": \"white\", \"gridwidth\": 2, \"linecolor\": \"white\", \"showbackground\": true, \"ticks\": \"\", \"zerolinecolor\": \"white\"}, \"zaxis\": {\"backgroundcolor\": \"#E5ECF6\", \"gridcolor\": \"white\", \"gridwidth\": 2, \"linecolor\": \"white\", \"showbackground\": true, \"ticks\": \"\", \"zerolinecolor\": \"white\"}}, \"shapedefaults\": {\"line\": {\"color\": \"#2a3f5f\"}}, \"ternary\": {\"aaxis\": {\"gridcolor\": \"white\", \"linecolor\": \"white\", \"ticks\": \"\"}, \"baxis\": {\"gridcolor\": \"white\", \"linecolor\": \"white\", \"ticks\": \"\"}, \"bgcolor\": \"#E5ECF6\", \"caxis\": {\"gridcolor\": \"white\", \"linecolor\": \"white\", \"ticks\": \"\"}}, \"title\": {\"x\": 0.05}, \"xaxis\": {\"automargin\": true, \"gridcolor\": \"white\", \"linecolor\": \"white\", \"ticks\": \"\", \"title\": {\"standoff\": 15}, \"zerolinecolor\": \"white\", \"zerolinewidth\": 2}, \"yaxis\": {\"automargin\": true, \"gridcolor\": \"white\", \"linecolor\": \"white\", \"ticks\": \"\", \"title\": {\"standoff\": 15}, \"zerolinecolor\": \"white\", \"zerolinewidth\": 2}}}, \"violinmode\": \"group\", \"xaxis\": {\"anchor\": \"y\", \"domain\": [0.0, 1.0], \"title\": {\"text\": \"survival_status\"}}, \"yaxis\": {\"anchor\": \"x\", \"domain\": [0.0, 1.0], \"title\": {\"text\": \"recipient_body_mass\"}}},\n",
              "                        {\"responsive\": true}\n",
              "                    ).then(function(){\n",
              "                            \n",
              "var gd = document.getElementById('e2aac694-4433-4597-a9b7-337ed0f37547');\n",
              "var x = new MutationObserver(function (mutations, observer) {{\n",
              "        var display = window.getComputedStyle(gd).display;\n",
              "        if (!display || display === 'none') {{\n",
              "            console.log([gd, 'removed!']);\n",
              "            Plotly.purge(gd);\n",
              "            observer.disconnect();\n",
              "        }}\n",
              "}});\n",
              "\n",
              "// Listen for the removal of the full notebook cells\n",
              "var notebookContainer = gd.closest('#notebook-container');\n",
              "if (notebookContainer) {{\n",
              "    x.observe(notebookContainer, {childList: true});\n",
              "}}\n",
              "\n",
              "// Listen for the clearing of the current output cell\n",
              "var outputEl = gd.closest('.output');\n",
              "if (outputEl) {{\n",
              "    x.observe(outputEl, {childList: true});\n",
              "}}\n",
              "\n",
              "                        })\n",
              "                };\n",
              "                \n",
              "            </script>\n",
              "        </div>\n",
              "</body>\n",
              "</html>"
            ]
          },
          "metadata": {}
        }
      ]
    },
    {
      "cell_type": "code",
      "metadata": {
        "colab": {
          "base_uri": "https://localhost:8080/",
          "height": 498
        },
        "id": "HQf8MWPqBbPw",
        "outputId": "1ba093ad-cbef-4a92-89a2-255f1534a9ab"
      },
      "source": [
        "# boxplot:\n",
        "plt.figure(figsize=(12, 8))\n",
        "sns.boxplot(x=\"recipient_age\",\n",
        "            y=\"disease\",\n",
        "            hue=\"survival_status\",\n",
        "            data=df)\n",
        "plt.legend(loc=\"upper right\")\n",
        "plt.show()"
      ],
      "execution_count": null,
      "outputs": [
        {
          "output_type": "display_data",
          "data": {
            "image/png": "[encoded data removed]",
            "text/plain": [
              "<Figure size 864x576 with 1 Axes>"
            ]
          },
          "metadata": {
            "needs_background": "light"
          }
        }
      ]
    },
    {
      "cell_type": "code",
      "metadata": {
        "colab": {
          "base_uri": "https://localhost:8080/"
        },
        "id": "Tq56bAuSUrrl",
        "outputId": "14dbd936-47af-428c-b0f6-93dc58de857c"
      },
      "source": [
        "df.info()"
      ],
      "execution_count": null,
      "outputs": [
        {
          "output_type": "stream",
          "name": "stdout",
          "text": [
            "<class 'pandas.core.frame.DataFrame'>\n",
            "RangeIndex: 187 entries, 0 to 186\n",
            "Data columns (total 30 columns):\n",
            " #   Column                     Non-Null Count  Dtype  \n",
            "---  ------                     --------------  -----  \n",
            " 0   donor_age                  187 non-null    float64\n",
            " 1   donor_age_below_35         187 non-null    object \n",
            " 2   donor_ABO                  187 non-null    object \n",
            " 3   donor_CMV                  187 non-null    object \n",
            " 4   recipient_age              187 non-null    float64\n",
            " 5   recipient_gender           187 non-null    object \n",
            " 6   recipient_body_mass        185 non-null    float64\n",
            " 7   recipient_ABO              187 non-null    object \n",
            " 8   recipient_rh               187 non-null    object \n",
            " 9   recipient_CMV              187 non-null    object \n",
            " 10  disease                    187 non-null    object \n",
            " 11  disease_group              187 non-null    object \n",
            " 12  ABO_match                  187 non-null    object \n",
            " 13  CMV_status                 187 non-null    object \n",
            " 14  HLA_match                  187 non-null    object \n",
            " 15  allel                      187 non-null    object \n",
            " 16  HLA_group_1                187 non-null    object \n",
            " 17  risk_group                 187 non-null    object \n",
            " 18  stem_cell_source           187 non-null    object \n",
            " 19  tx_post_relapse            187 non-null    object \n",
            " 20  CD34_x1e6_per_kg           187 non-null    float64\n",
            " 21  CD3_x1e8_per_kg            182 non-null    float64\n",
            " 22  CD3_to_CD34_ratio          182 non-null    float64\n",
            " 23  ANC_recovery               187 non-null    float64\n",
            " 24  PLT_recovery               187 non-null    float64\n",
            " 25  time_to_acute_GvHD_III_IV  187 non-null    float64\n",
            " 26  extensive_chronic_GvHD     187 non-null    object \n",
            " 27  relapse                    187 non-null    object \n",
            " 28  survival_time              187 non-null    float64\n",
            " 29  survival_status            187 non-null    int64  \n",
            "dtypes: float64(10), int64(1), object(19)\n",
            "memory usage: 44.0+ KB\n"
          ]
        }
      ]
    },
    {
      "cell_type": "code",
      "metadata": {
        "id": "l11LRDQyawXi"
      },
      "source": [
        ""
      ],
      "execution_count": null,
      "outputs": []
    },
    {
      "cell_type": "markdown",
      "metadata": {
        "id": "n6TinpgNbc-2"
      },
      "source": [
        "Previously we obserevd that we had some nan values.Data Cleaning for missing values"
      ]
    },
    {
      "cell_type": "code",
      "metadata": {
        "id": "rz5p7_1laweJ",
        "colab": {
          "base_uri": "https://localhost:8080/"
        },
        "outputId": "37a43fe6-4a24-4c06-d154-53dc891a8047"
      },
      "source": [
        "df.isnull().sum().sort_values(ascending = True)"
      ],
      "execution_count": null,
      "outputs": [
        {
          "output_type": "execute_result",
          "data": {
            "text/plain": [
              "donor_age                    0\n",
              "relapse                      0\n",
              "extensive_chronic_GvHD       0\n",
              "time_to_acute_GvHD_III_IV    0\n",
              "PLT_recovery                 0\n",
              "ANC_recovery                 0\n",
              "CD34_x1e6_per_kg             0\n",
              "tx_post_relapse              0\n",
              "stem_cell_source             0\n",
              "risk_group                   0\n",
              "HLA_group_1                  0\n",
              "allel                        0\n",
              "survival_time                0\n",
              "HLA_match                    0\n",
              "ABO_match                    0\n",
              "disease_group                0\n",
              "disease                      0\n",
              "recipient_CMV                0\n",
              "recipient_rh                 0\n",
              "recipient_ABO                0\n",
              "recipient_gender             0\n",
              "recipient_age                0\n",
              "donor_CMV                    0\n",
              "donor_ABO                    0\n",
              "donor_age_below_35           0\n",
              "CMV_status                   0\n",
              "survival_status              0\n",
              "recipient_body_mass          2\n",
              "CD3_x1e8_per_kg              5\n",
              "CD3_to_CD34_ratio            5\n",
              "dtype: int64"
            ]
          },
          "metadata": {},
          "execution_count": 1578
        }
      ]
    },
    {
      "cell_type": "code",
      "metadata": {
        "colab": {
          "base_uri": "https://localhost:8080/"
        },
        "id": "OS1SQ42HTpI7",
        "outputId": "3bf2fdec-afac-4f5e-f2fa-c3b81cb5e281"
      },
      "source": [
        "df['CD3_x1e8_per_kg'].isnull().sum()"
      ],
      "execution_count": null,
      "outputs": [
        {
          "output_type": "execute_result",
          "data": {
            "text/plain": [
              "5"
            ]
          },
          "metadata": {},
          "execution_count": 1579
        }
      ]
    },
    {
      "cell_type": "code",
      "metadata": {
        "id": "-i6b8ntpUBpY"
      },
      "source": [
        "df.dropna(inplace=True)"
      ],
      "execution_count": null,
      "outputs": []
    },
    {
      "cell_type": "code",
      "metadata": {
        "id": "v3-kmiQPb8IS",
        "colab": {
          "base_uri": "https://localhost:8080/"
        },
        "outputId": "063a7960-5375-4386-f81b-13c85a7bd9b2"
      },
      "source": [
        "df[num_col].isnull().sum()"
      ],
      "execution_count": null,
      "outputs": [
        {
          "output_type": "execute_result",
          "data": {
            "text/plain": [
              "donor_age                    0\n",
              "recipient_age                0\n",
              "recipient_body_mass          0\n",
              "CD34_x1e6_per_kg             0\n",
              "CD3_x1e8_per_kg              0\n",
              "CD3_to_CD34_ratio            0\n",
              "ANC_recovery                 0\n",
              "PLT_recovery                 0\n",
              "time_to_acute_GvHD_III_IV    0\n",
              "survival_time                0\n",
              "survival_status              0\n",
              "dtype: int64"
            ]
          },
          "metadata": {},
          "execution_count": 1581
        }
      ]
    },
    {
      "cell_type": "code",
      "metadata": {
        "id": "Wmw4CIDTb8Nt",
        "colab": {
          "base_uri": "https://localhost:8080/"
        },
        "outputId": "d7f83e31-ed22-4aea-e9af-57fa29a863c1"
      },
      "source": [
        "df[cat_col].isnull().sum()"
      ],
      "execution_count": null,
      "outputs": [
        {
          "output_type": "execute_result",
          "data": {
            "text/plain": [
              "donor_age_below_35        0\n",
              "donor_ABO                 0\n",
              "donor_CMV                 0\n",
              "recipient_gender          0\n",
              "recipient_ABO             0\n",
              "recipient_rh              0\n",
              "recipient_CMV             0\n",
              "disease                   0\n",
              "disease_group             0\n",
              "ABO_match                 0\n",
              "CMV_status                0\n",
              "HLA_match                 0\n",
              "allel                     0\n",
              "HLA_group_1               0\n",
              "risk_group                0\n",
              "stem_cell_source          0\n",
              "tx_post_relapse           0\n",
              "extensive_chronic_GvHD    0\n",
              "relapse                   0\n",
              "dtype: int64"
            ]
          },
          "metadata": {},
          "execution_count": 1582
        }
      ]
    },
    {
      "cell_type": "code",
      "metadata": {
        "id": "SdCPV2scb8TL"
      },
      "source": [
        "###############Data Is cleaned fully"
      ],
      "execution_count": null,
      "outputs": []
    },
    {
      "cell_type": "markdown",
      "metadata": {
        "id": "_gK7O0HIELJp"
      },
      "source": [
        "We have completed our EDA. Now we will look into feature importance & will \n",
        "\n",
        "*   List item\n",
        "*   List item\n",
        "\n",
        "selec the prediction model."
      ]
    },
    {
      "cell_type": "code",
      "metadata": {
        "id": "VcZ_UOF2eZz6"
      },
      "source": [
        ""
      ],
      "execution_count": null,
      "outputs": []
    },
    {
      "cell_type": "code",
      "metadata": {
        "id": "B6baiPYFeZ2r"
      },
      "source": [
        "from sklearn.preprocessing import LabelEncoder"
      ],
      "execution_count": null,
      "outputs": []
    },
    {
      "cell_type": "code",
      "metadata": {
        "id": "fMD_zyQAeZ5r"
      },
      "source": [
        "le = LabelEncoder()\n",
        "data = df"
      ],
      "execution_count": null,
      "outputs": []
    },
    {
      "cell_type": "code",
      "metadata": {
        "id": "DV-T5y_veZ8p"
      },
      "source": [
        "for col in cat_col:\n",
        "    data[col]=le.fit_transform(data[col])"
      ],
      "execution_count": null,
      "outputs": []
    },
    {
      "cell_type": "code",
      "metadata": {
        "id": "x6Dt7WEReZ_y",
        "colab": {
          "base_uri": "https://localhost:8080/",
          "height": 226
        },
        "outputId": "46cf1b57-61c1-4054-ea26-1be1a51b1901"
      },
      "source": [
        "data.head()"
      ],
      "execution_count": null,
      "outputs": [
        {
          "output_type": "execute_result",
          "data": {
            "text/html": [
              "<div>\n",
              "<style scoped>\n",
              "    .dataframe tbody tr th:only-of-type {\n",
              "        vertical-align: middle;\n",
              "    }\n",
              "\n",
              "    .dataframe tbody tr th {\n",
              "        vertical-align: top;\n",
              "    }\n",
              "\n",
              "    .dataframe thead th {\n",
              "        text-align: right;\n",
              "    }\n",
              "</style>\n",
              "<table border=\"1\" class=\"dataframe\">\n",
              "  <thead>\n",
              "    <tr style=\"text-align: right;\">\n",
              "      <th></th>\n",
              "      <th>donor_age</th>\n",
              "      <th>donor_age_below_35</th>\n",
              "      <th>donor_ABO</th>\n",
              "      <th>donor_CMV</th>\n",
              "      <th>recipient_age</th>\n",
              "      <th>recipient_gender</th>\n",
              "      <th>recipient_body_mass</th>\n",
              "      <th>recipient_ABO</th>\n",
              "      <th>recipient_rh</th>\n",
              "      <th>recipient_CMV</th>\n",
              "      <th>disease</th>\n",
              "      <th>disease_group</th>\n",
              "      <th>ABO_match</th>\n",
              "      <th>CMV_status</th>\n",
              "      <th>HLA_match</th>\n",
              "      <th>allel</th>\n",
              "      <th>HLA_group_1</th>\n",
              "      <th>risk_group</th>\n",
              "      <th>stem_cell_source</th>\n",
              "      <th>tx_post_relapse</th>\n",
              "      <th>CD34_x1e6_per_kg</th>\n",
              "      <th>CD3_x1e8_per_kg</th>\n",
              "      <th>CD3_to_CD34_ratio</th>\n",
              "      <th>ANC_recovery</th>\n",
              "      <th>PLT_recovery</th>\n",
              "      <th>time_to_acute_GvHD_III_IV</th>\n",
              "      <th>extensive_chronic_GvHD</th>\n",
              "      <th>relapse</th>\n",
              "      <th>survival_time</th>\n",
              "      <th>survival_status</th>\n",
              "    </tr>\n",
              "  </thead>\n",
              "  <tbody>\n",
              "    <tr>\n",
              "      <th>0</th>\n",
              "      <td>22.830137</td>\n",
              "      <td>1</td>\n",
              "      <td>1</td>\n",
              "      <td>2</td>\n",
              "      <td>9.6</td>\n",
              "      <td>1</td>\n",
              "      <td>35.0</td>\n",
              "      <td>2</td>\n",
              "      <td>2</td>\n",
              "      <td>2</td>\n",
              "      <td>0</td>\n",
              "      <td>0</td>\n",
              "      <td>1</td>\n",
              "      <td>3</td>\n",
              "      <td>0</td>\n",
              "      <td>0</td>\n",
              "      <td>1</td>\n",
              "      <td>0</td>\n",
              "      <td>1</td>\n",
              "      <td>0</td>\n",
              "      <td>7.20</td>\n",
              "      <td>5.38</td>\n",
              "      <td>1.338760</td>\n",
              "      <td>19.0</td>\n",
              "      <td>51.0</td>\n",
              "      <td>32.0</td>\n",
              "      <td>1</td>\n",
              "      <td>0</td>\n",
              "      <td>999.0</td>\n",
              "      <td>0</td>\n",
              "    </tr>\n",
              "    <tr>\n",
              "      <th>1</th>\n",
              "      <td>23.342466</td>\n",
              "      <td>1</td>\n",
              "      <td>3</td>\n",
              "      <td>1</td>\n",
              "      <td>4.0</td>\n",
              "      <td>1</td>\n",
              "      <td>20.6</td>\n",
              "      <td>4</td>\n",
              "      <td>2</td>\n",
              "      <td>1</td>\n",
              "      <td>0</td>\n",
              "      <td>0</td>\n",
              "      <td>1</td>\n",
              "      <td>0</td>\n",
              "      <td>0</td>\n",
              "      <td>0</td>\n",
              "      <td>1</td>\n",
              "      <td>1</td>\n",
              "      <td>0</td>\n",
              "      <td>0</td>\n",
              "      <td>4.50</td>\n",
              "      <td>0.41</td>\n",
              "      <td>11.078295</td>\n",
              "      <td>16.0</td>\n",
              "      <td>37.0</td>\n",
              "      <td>1000000.0</td>\n",
              "      <td>1</td>\n",
              "      <td>1</td>\n",
              "      <td>163.0</td>\n",
              "      <td>1</td>\n",
              "    </tr>\n",
              "    <tr>\n",
              "      <th>2</th>\n",
              "      <td>26.394521</td>\n",
              "      <td>1</td>\n",
              "      <td>3</td>\n",
              "      <td>1</td>\n",
              "      <td>6.6</td>\n",
              "      <td>1</td>\n",
              "      <td>23.4</td>\n",
              "      <td>4</td>\n",
              "      <td>2</td>\n",
              "      <td>2</td>\n",
              "      <td>0</td>\n",
              "      <td>0</td>\n",
              "      <td>1</td>\n",
              "      <td>2</td>\n",
              "      <td>0</td>\n",
              "      <td>0</td>\n",
              "      <td>1</td>\n",
              "      <td>1</td>\n",
              "      <td>0</td>\n",
              "      <td>0</td>\n",
              "      <td>7.94</td>\n",
              "      <td>0.42</td>\n",
              "      <td>19.013230</td>\n",
              "      <td>23.0</td>\n",
              "      <td>20.0</td>\n",
              "      <td>1000000.0</td>\n",
              "      <td>1</td>\n",
              "      <td>1</td>\n",
              "      <td>435.0</td>\n",
              "      <td>1</td>\n",
              "    </tr>\n",
              "    <tr>\n",
              "      <th>3</th>\n",
              "      <td>39.684932</td>\n",
              "      <td>0</td>\n",
              "      <td>1</td>\n",
              "      <td>2</td>\n",
              "      <td>18.1</td>\n",
              "      <td>0</td>\n",
              "      <td>50.0</td>\n",
              "      <td>3</td>\n",
              "      <td>2</td>\n",
              "      <td>1</td>\n",
              "      <td>1</td>\n",
              "      <td>0</td>\n",
              "      <td>2</td>\n",
              "      <td>1</td>\n",
              "      <td>0</td>\n",
              "      <td>0</td>\n",
              "      <td>1</td>\n",
              "      <td>1</td>\n",
              "      <td>0</td>\n",
              "      <td>0</td>\n",
              "      <td>4.25</td>\n",
              "      <td>0.14</td>\n",
              "      <td>29.481647</td>\n",
              "      <td>23.0</td>\n",
              "      <td>29.0</td>\n",
              "      <td>19.0</td>\n",
              "      <td>0</td>\n",
              "      <td>0</td>\n",
              "      <td>53.0</td>\n",
              "      <td>1</td>\n",
              "    </tr>\n",
              "    <tr>\n",
              "      <th>4</th>\n",
              "      <td>33.358904</td>\n",
              "      <td>1</td>\n",
              "      <td>1</td>\n",
              "      <td>1</td>\n",
              "      <td>1.3</td>\n",
              "      <td>0</td>\n",
              "      <td>9.0</td>\n",
              "      <td>3</td>\n",
              "      <td>1</td>\n",
              "      <td>2</td>\n",
              "      <td>2</td>\n",
              "      <td>0</td>\n",
              "      <td>2</td>\n",
              "      <td>0</td>\n",
              "      <td>3</td>\n",
              "      <td>1</td>\n",
              "      <td>4</td>\n",
              "      <td>0</td>\n",
              "      <td>1</td>\n",
              "      <td>0</td>\n",
              "      <td>51.85</td>\n",
              "      <td>13.05</td>\n",
              "      <td>3.972255</td>\n",
              "      <td>14.0</td>\n",
              "      <td>14.0</td>\n",
              "      <td>1000000.0</td>\n",
              "      <td>1</td>\n",
              "      <td>0</td>\n",
              "      <td>2043.0</td>\n",
              "      <td>0</td>\n",
              "    </tr>\n",
              "  </tbody>\n",
              "</table>\n",
              "</div>"
            ],
            "text/plain": [
              "   donor_age  donor_age_below_35  ...  survival_time  survival_status\n",
              "0  22.830137                   1  ...          999.0                0\n",
              "1  23.342466                   1  ...          163.0                1\n",
              "2  26.394521                   1  ...          435.0                1\n",
              "3  39.684932                   0  ...           53.0                1\n",
              "4  33.358904                   1  ...         2043.0                0\n",
              "\n",
              "[5 rows x 30 columns]"
            ]
          },
          "metadata": {},
          "execution_count": 1587
        }
      ]
    },
    {
      "cell_type": "code",
      "metadata": {
        "id": "lBpVtY4zeaDJ"
      },
      "source": [
        "from sklearn.feature_selection import SelectKBest\n",
        "from sklearn.feature_selection import chi2"
      ],
      "execution_count": null,
      "outputs": []
    },
    {
      "cell_type": "code",
      "metadata": {
        "id": "dWWgqQxcgCFD"
      },
      "source": [
        "ind_col =[col for col in data.columns if col!='survival_status']\n",
        "dep_col='survival_status'"
      ],
      "execution_count": null,
      "outputs": []
    },
    {
      "cell_type": "code",
      "metadata": {
        "id": "jt25dYqEgCLI"
      },
      "source": [
        "X= data[ind_col]\n",
        "y = data[dep_col]"
      ],
      "execution_count": null,
      "outputs": []
    },
    {
      "cell_type": "code",
      "metadata": {
        "id": "VD4SrguDgCOg",
        "colab": {
          "base_uri": "https://localhost:8080/",
          "height": 226
        },
        "outputId": "a798746e-28cd-4eca-f685-172df62c4abf"
      },
      "source": [
        "X.head()"
      ],
      "execution_count": null,
      "outputs": [
        {
          "output_type": "execute_result",
          "data": {
            "text/html": [
              "<div>\n",
              "<style scoped>\n",
              "    .dataframe tbody tr th:only-of-type {\n",
              "        vertical-align: middle;\n",
              "    }\n",
              "\n",
              "    .dataframe tbody tr th {\n",
              "        vertical-align: top;\n",
              "    }\n",
              "\n",
              "    .dataframe thead th {\n",
              "        text-align: right;\n",
              "    }\n",
              "</style>\n",
              "<table border=\"1\" class=\"dataframe\">\n",
              "  <thead>\n",
              "    <tr style=\"text-align: right;\">\n",
              "      <th></th>\n",
              "      <th>donor_age</th>\n",
              "      <th>donor_age_below_35</th>\n",
              "      <th>donor_ABO</th>\n",
              "      <th>donor_CMV</th>\n",
              "      <th>recipient_age</th>\n",
              "      <th>recipient_gender</th>\n",
              "      <th>recipient_body_mass</th>\n",
              "      <th>recipient_ABO</th>\n",
              "      <th>recipient_rh</th>\n",
              "      <th>recipient_CMV</th>\n",
              "      <th>disease</th>\n",
              "      <th>disease_group</th>\n",
              "      <th>ABO_match</th>\n",
              "      <th>CMV_status</th>\n",
              "      <th>HLA_match</th>\n",
              "      <th>allel</th>\n",
              "      <th>HLA_group_1</th>\n",
              "      <th>risk_group</th>\n",
              "      <th>stem_cell_source</th>\n",
              "      <th>tx_post_relapse</th>\n",
              "      <th>CD34_x1e6_per_kg</th>\n",
              "      <th>CD3_x1e8_per_kg</th>\n",
              "      <th>CD3_to_CD34_ratio</th>\n",
              "      <th>ANC_recovery</th>\n",
              "      <th>PLT_recovery</th>\n",
              "      <th>time_to_acute_GvHD_III_IV</th>\n",
              "      <th>extensive_chronic_GvHD</th>\n",
              "      <th>relapse</th>\n",
              "      <th>survival_time</th>\n",
              "    </tr>\n",
              "  </thead>\n",
              "  <tbody>\n",
              "    <tr>\n",
              "      <th>0</th>\n",
              "      <td>22.830137</td>\n",
              "      <td>1</td>\n",
              "      <td>1</td>\n",
              "      <td>2</td>\n",
              "      <td>9.6</td>\n",
              "      <td>1</td>\n",
              "      <td>35.0</td>\n",
              "      <td>2</td>\n",
              "      <td>2</td>\n",
              "      <td>2</td>\n",
              "      <td>0</td>\n",
              "      <td>0</td>\n",
              "      <td>1</td>\n",
              "      <td>3</td>\n",
              "      <td>0</td>\n",
              "      <td>0</td>\n",
              "      <td>1</td>\n",
              "      <td>0</td>\n",
              "      <td>1</td>\n",
              "      <td>0</td>\n",
              "      <td>7.20</td>\n",
              "      <td>5.38</td>\n",
              "      <td>1.338760</td>\n",
              "      <td>19.0</td>\n",
              "      <td>51.0</td>\n",
              "      <td>32.0</td>\n",
              "      <td>1</td>\n",
              "      <td>0</td>\n",
              "      <td>999.0</td>\n",
              "    </tr>\n",
              "    <tr>\n",
              "      <th>1</th>\n",
              "      <td>23.342466</td>\n",
              "      <td>1</td>\n",
              "      <td>3</td>\n",
              "      <td>1</td>\n",
              "      <td>4.0</td>\n",
              "      <td>1</td>\n",
              "      <td>20.6</td>\n",
              "      <td>4</td>\n",
              "      <td>2</td>\n",
              "      <td>1</td>\n",
              "      <td>0</td>\n",
              "      <td>0</td>\n",
              "      <td>1</td>\n",
              "      <td>0</td>\n",
              "      <td>0</td>\n",
              "      <td>0</td>\n",
              "      <td>1</td>\n",
              "      <td>1</td>\n",
              "      <td>0</td>\n",
              "      <td>0</td>\n",
              "      <td>4.50</td>\n",
              "      <td>0.41</td>\n",
              "      <td>11.078295</td>\n",
              "      <td>16.0</td>\n",
              "      <td>37.0</td>\n",
              "      <td>1000000.0</td>\n",
              "      <td>1</td>\n",
              "      <td>1</td>\n",
              "      <td>163.0</td>\n",
              "    </tr>\n",
              "    <tr>\n",
              "      <th>2</th>\n",
              "      <td>26.394521</td>\n",
              "      <td>1</td>\n",
              "      <td>3</td>\n",
              "      <td>1</td>\n",
              "      <td>6.6</td>\n",
              "      <td>1</td>\n",
              "      <td>23.4</td>\n",
              "      <td>4</td>\n",
              "      <td>2</td>\n",
              "      <td>2</td>\n",
              "      <td>0</td>\n",
              "      <td>0</td>\n",
              "      <td>1</td>\n",
              "      <td>2</td>\n",
              "      <td>0</td>\n",
              "      <td>0</td>\n",
              "      <td>1</td>\n",
              "      <td>1</td>\n",
              "      <td>0</td>\n",
              "      <td>0</td>\n",
              "      <td>7.94</td>\n",
              "      <td>0.42</td>\n",
              "      <td>19.013230</td>\n",
              "      <td>23.0</td>\n",
              "      <td>20.0</td>\n",
              "      <td>1000000.0</td>\n",
              "      <td>1</td>\n",
              "      <td>1</td>\n",
              "      <td>435.0</td>\n",
              "    </tr>\n",
              "    <tr>\n",
              "      <th>3</th>\n",
              "      <td>39.684932</td>\n",
              "      <td>0</td>\n",
              "      <td>1</td>\n",
              "      <td>2</td>\n",
              "      <td>18.1</td>\n",
              "      <td>0</td>\n",
              "      <td>50.0</td>\n",
              "      <td>3</td>\n",
              "      <td>2</td>\n",
              "      <td>1</td>\n",
              "      <td>1</td>\n",
              "      <td>0</td>\n",
              "      <td>2</td>\n",
              "      <td>1</td>\n",
              "      <td>0</td>\n",
              "      <td>0</td>\n",
              "      <td>1</td>\n",
              "      <td>1</td>\n",
              "      <td>0</td>\n",
              "      <td>0</td>\n",
              "      <td>4.25</td>\n",
              "      <td>0.14</td>\n",
              "      <td>29.481647</td>\n",
              "      <td>23.0</td>\n",
              "      <td>29.0</td>\n",
              "      <td>19.0</td>\n",
              "      <td>0</td>\n",
              "      <td>0</td>\n",
              "      <td>53.0</td>\n",
              "    </tr>\n",
              "    <tr>\n",
              "      <th>4</th>\n",
              "      <td>33.358904</td>\n",
              "      <td>1</td>\n",
              "      <td>1</td>\n",
              "      <td>1</td>\n",
              "      <td>1.3</td>\n",
              "      <td>0</td>\n",
              "      <td>9.0</td>\n",
              "      <td>3</td>\n",
              "      <td>1</td>\n",
              "      <td>2</td>\n",
              "      <td>2</td>\n",
              "      <td>0</td>\n",
              "      <td>2</td>\n",
              "      <td>0</td>\n",
              "      <td>3</td>\n",
              "      <td>1</td>\n",
              "      <td>4</td>\n",
              "      <td>0</td>\n",
              "      <td>1</td>\n",
              "      <td>0</td>\n",
              "      <td>51.85</td>\n",
              "      <td>13.05</td>\n",
              "      <td>3.972255</td>\n",
              "      <td>14.0</td>\n",
              "      <td>14.0</td>\n",
              "      <td>1000000.0</td>\n",
              "      <td>1</td>\n",
              "      <td>0</td>\n",
              "      <td>2043.0</td>\n",
              "    </tr>\n",
              "  </tbody>\n",
              "</table>\n",
              "</div>"
            ],
            "text/plain": [
              "   donor_age  donor_age_below_35  ...  relapse  survival_time\n",
              "0  22.830137                   1  ...        0          999.0\n",
              "1  23.342466                   1  ...        1          163.0\n",
              "2  26.394521                   1  ...        1          435.0\n",
              "3  39.684932                   0  ...        0           53.0\n",
              "4  33.358904                   1  ...        0         2043.0\n",
              "\n",
              "[5 rows x 29 columns]"
            ]
          },
          "metadata": {},
          "execution_count": 1591
        }
      ]
    },
    {
      "cell_type": "code",
      "metadata": {
        "id": "avkoY6argCRt",
        "colab": {
          "base_uri": "https://localhost:8080/"
        },
        "outputId": "cfd0056f-53d9-4a68-ab00-6f46695d0b57"
      },
      "source": [
        "y"
      ],
      "execution_count": null,
      "outputs": [
        {
          "output_type": "execute_result",
          "data": {
            "text/plain": [
              "0      0\n",
              "1      1\n",
              "2      1\n",
              "3      1\n",
              "4      0\n",
              "      ..\n",
              "182    1\n",
              "183    1\n",
              "184    0\n",
              "185    1\n",
              "186    0\n",
              "Name: survival_status, Length: 182, dtype: int64"
            ]
          },
          "metadata": {},
          "execution_count": 1592
        }
      ]
    },
    {
      "cell_type": "code",
      "metadata": {
        "id": "mH9nwWoCgCdO"
      },
      "source": [
        "ordered_rank_features = SelectKBest(score_func=chi2,k=20)\n",
        "ordered_feature = ordered_rank_features.fit(X,y)"
      ],
      "execution_count": null,
      "outputs": []
    },
    {
      "cell_type": "code",
      "metadata": {
        "id": "8koytnCBgoBT",
        "colab": {
          "base_uri": "https://localhost:8080/"
        },
        "outputId": "c0bed263-a293-456c-def1-e83ab3c98a11"
      },
      "source": [
        "ordered_feature"
      ],
      "execution_count": null,
      "outputs": [
        {
          "output_type": "execute_result",
          "data": {
            "text/plain": [
              "SelectKBest(k=20, score_func=<function chi2 at 0x7f007d8ef0e0>)"
            ]
          },
          "metadata": {},
          "execution_count": 1594
        }
      ]
    },
    {
      "cell_type": "code",
      "metadata": {
        "id": "rnrUR8vlgoEd",
        "colab": {
          "base_uri": "https://localhost:8080/"
        },
        "outputId": "583055fa-5902-40f8-f201-1744dc7f26c6"
      },
      "source": [
        "ordered_feature.scores_"
      ],
      "execution_count": null,
      "outputs": [
        {
          "output_type": "execute_result",
          "data": {
            "text/plain": [
              "array([2.17147479e+00, 1.22723872e+00, 5.40863786e-02, 1.18362390e-01,\n",
              "       1.90199712e+01, 8.23579810e-02, 1.08080071e+02, 1.27994184e-06,\n",
              "       6.70401039e-02, 2.92629263e-01, 2.46690923e-02, 1.02156847e+00,\n",
              "       1.93069307e-01, 1.01571387e+00, 1.17345579e-01, 2.73805158e-03,\n",
              "       1.01207878e-02, 1.61164615e+00, 7.70349022e-01, 2.49371556e+00,\n",
              "       3.95011765e+01, 3.06597762e+01, 2.50105869e+01, 4.98415927e+06,\n",
              "       1.99410709e+07, 4.04380397e+05, 2.98671359e+00, 1.60595282e+01,\n",
              "       7.76599042e+04])"
            ]
          },
          "metadata": {},
          "execution_count": 1595
        }
      ]
    },
    {
      "cell_type": "code",
      "metadata": {
        "id": "VgZmON_XgoIT"
      },
      "source": [
        "datascores = pd.DataFrame(ordered_feature.scores_,columns=['Score'])"
      ],
      "execution_count": null,
      "outputs": []
    },
    {
      "cell_type": "code",
      "metadata": {
        "id": "Ogh9urIngoM5",
        "colab": {
          "base_uri": "https://localhost:8080/",
          "height": 959
        },
        "outputId": "530796de-1a3d-421d-b9ab-063c16657e43"
      },
      "source": [
        "datascores"
      ],
      "execution_count": null,
      "outputs": [
        {
          "output_type": "execute_result",
          "data": {
            "text/html": [
              "<div>\n",
              "<style scoped>\n",
              "    .dataframe tbody tr th:only-of-type {\n",
              "        vertical-align: middle;\n",
              "    }\n",
              "\n",
              "    .dataframe tbody tr th {\n",
              "        vertical-align: top;\n",
              "    }\n",
              "\n",
              "    .dataframe thead th {\n",
              "        text-align: right;\n",
              "    }\n",
              "</style>\n",
              "<table border=\"1\" class=\"dataframe\">\n",
              "  <thead>\n",
              "    <tr style=\"text-align: right;\">\n",
              "      <th></th>\n",
              "      <th>Score</th>\n",
              "    </tr>\n",
              "  </thead>\n",
              "  <tbody>\n",
              "    <tr>\n",
              "      <th>0</th>\n",
              "      <td>2.171475e+00</td>\n",
              "    </tr>\n",
              "    <tr>\n",
              "      <th>1</th>\n",
              "      <td>1.227239e+00</td>\n",
              "    </tr>\n",
              "    <tr>\n",
              "      <th>2</th>\n",
              "      <td>5.408638e-02</td>\n",
              "    </tr>\n",
              "    <tr>\n",
              "      <th>3</th>\n",
              "      <td>1.183624e-01</td>\n",
              "    </tr>\n",
              "    <tr>\n",
              "      <th>4</th>\n",
              "      <td>1.901997e+01</td>\n",
              "    </tr>\n",
              "    <tr>\n",
              "      <th>5</th>\n",
              "      <td>8.235798e-02</td>\n",
              "    </tr>\n",
              "    <tr>\n",
              "      <th>6</th>\n",
              "      <td>1.080801e+02</td>\n",
              "    </tr>\n",
              "    <tr>\n",
              "      <th>7</th>\n",
              "      <td>1.279942e-06</td>\n",
              "    </tr>\n",
              "    <tr>\n",
              "      <th>8</th>\n",
              "      <td>6.704010e-02</td>\n",
              "    </tr>\n",
              "    <tr>\n",
              "      <th>9</th>\n",
              "      <td>2.926293e-01</td>\n",
              "    </tr>\n",
              "    <tr>\n",
              "      <th>10</th>\n",
              "      <td>2.466909e-02</td>\n",
              "    </tr>\n",
              "    <tr>\n",
              "      <th>11</th>\n",
              "      <td>1.021568e+00</td>\n",
              "    </tr>\n",
              "    <tr>\n",
              "      <th>12</th>\n",
              "      <td>1.930693e-01</td>\n",
              "    </tr>\n",
              "    <tr>\n",
              "      <th>13</th>\n",
              "      <td>1.015714e+00</td>\n",
              "    </tr>\n",
              "    <tr>\n",
              "      <th>14</th>\n",
              "      <td>1.173456e-01</td>\n",
              "    </tr>\n",
              "    <tr>\n",
              "      <th>15</th>\n",
              "      <td>2.738052e-03</td>\n",
              "    </tr>\n",
              "    <tr>\n",
              "      <th>16</th>\n",
              "      <td>1.012079e-02</td>\n",
              "    </tr>\n",
              "    <tr>\n",
              "      <th>17</th>\n",
              "      <td>1.611646e+00</td>\n",
              "    </tr>\n",
              "    <tr>\n",
              "      <th>18</th>\n",
              "      <td>7.703490e-01</td>\n",
              "    </tr>\n",
              "    <tr>\n",
              "      <th>19</th>\n",
              "      <td>2.493716e+00</td>\n",
              "    </tr>\n",
              "    <tr>\n",
              "      <th>20</th>\n",
              "      <td>3.950118e+01</td>\n",
              "    </tr>\n",
              "    <tr>\n",
              "      <th>21</th>\n",
              "      <td>3.065978e+01</td>\n",
              "    </tr>\n",
              "    <tr>\n",
              "      <th>22</th>\n",
              "      <td>2.501059e+01</td>\n",
              "    </tr>\n",
              "    <tr>\n",
              "      <th>23</th>\n",
              "      <td>4.984159e+06</td>\n",
              "    </tr>\n",
              "    <tr>\n",
              "      <th>24</th>\n",
              "      <td>1.994107e+07</td>\n",
              "    </tr>\n",
              "    <tr>\n",
              "      <th>25</th>\n",
              "      <td>4.043804e+05</td>\n",
              "    </tr>\n",
              "    <tr>\n",
              "      <th>26</th>\n",
              "      <td>2.986714e+00</td>\n",
              "    </tr>\n",
              "    <tr>\n",
              "      <th>27</th>\n",
              "      <td>1.605953e+01</td>\n",
              "    </tr>\n",
              "    <tr>\n",
              "      <th>28</th>\n",
              "      <td>7.765990e+04</td>\n",
              "    </tr>\n",
              "  </tbody>\n",
              "</table>\n",
              "</div>"
            ],
            "text/plain": [
              "           Score\n",
              "0   2.171475e+00\n",
              "1   1.227239e+00\n",
              "2   5.408638e-02\n",
              "3   1.183624e-01\n",
              "4   1.901997e+01\n",
              "5   8.235798e-02\n",
              "6   1.080801e+02\n",
              "7   1.279942e-06\n",
              "8   6.704010e-02\n",
              "9   2.926293e-01\n",
              "10  2.466909e-02\n",
              "11  1.021568e+00\n",
              "12  1.930693e-01\n",
              "13  1.015714e+00\n",
              "14  1.173456e-01\n",
              "15  2.738052e-03\n",
              "16  1.012079e-02\n",
              "17  1.611646e+00\n",
              "18  7.703490e-01\n",
              "19  2.493716e+00\n",
              "20  3.950118e+01\n",
              "21  3.065978e+01\n",
              "22  2.501059e+01\n",
              "23  4.984159e+06\n",
              "24  1.994107e+07\n",
              "25  4.043804e+05\n",
              "26  2.986714e+00\n",
              "27  1.605953e+01\n",
              "28  7.765990e+04"
            ]
          },
          "metadata": {},
          "execution_count": 1597
        }
      ]
    },
    {
      "cell_type": "code",
      "metadata": {
        "id": "yxn1CvOdgoQc",
        "colab": {
          "base_uri": "https://localhost:8080/",
          "height": 959
        },
        "outputId": "a057ca1c-3978-4495-8aac-e5c9c1423fff"
      },
      "source": [
        "dfcols = pd.DataFrame(X.columns)\n",
        "dfcols"
      ],
      "execution_count": null,
      "outputs": [
        {
          "output_type": "execute_result",
          "data": {
            "text/html": [
              "<div>\n",
              "<style scoped>\n",
              "    .dataframe tbody tr th:only-of-type {\n",
              "        vertical-align: middle;\n",
              "    }\n",
              "\n",
              "    .dataframe tbody tr th {\n",
              "        vertical-align: top;\n",
              "    }\n",
              "\n",
              "    .dataframe thead th {\n",
              "        text-align: right;\n",
              "    }\n",
              "</style>\n",
              "<table border=\"1\" class=\"dataframe\">\n",
              "  <thead>\n",
              "    <tr style=\"text-align: right;\">\n",
              "      <th></th>\n",
              "      <th>0</th>\n",
              "    </tr>\n",
              "  </thead>\n",
              "  <tbody>\n",
              "    <tr>\n",
              "      <th>0</th>\n",
              "      <td>donor_age</td>\n",
              "    </tr>\n",
              "    <tr>\n",
              "      <th>1</th>\n",
              "      <td>donor_age_below_35</td>\n",
              "    </tr>\n",
              "    <tr>\n",
              "      <th>2</th>\n",
              "      <td>donor_ABO</td>\n",
              "    </tr>\n",
              "    <tr>\n",
              "      <th>3</th>\n",
              "      <td>donor_CMV</td>\n",
              "    </tr>\n",
              "    <tr>\n",
              "      <th>4</th>\n",
              "      <td>recipient_age</td>\n",
              "    </tr>\n",
              "    <tr>\n",
              "      <th>5</th>\n",
              "      <td>recipient_gender</td>\n",
              "    </tr>\n",
              "    <tr>\n",
              "      <th>6</th>\n",
              "      <td>recipient_body_mass</td>\n",
              "    </tr>\n",
              "    <tr>\n",
              "      <th>7</th>\n",
              "      <td>recipient_ABO</td>\n",
              "    </tr>\n",
              "    <tr>\n",
              "      <th>8</th>\n",
              "      <td>recipient_rh</td>\n",
              "    </tr>\n",
              "    <tr>\n",
              "      <th>9</th>\n",
              "      <td>recipient_CMV</td>\n",
              "    </tr>\n",
              "    <tr>\n",
              "      <th>10</th>\n",
              "      <td>disease</td>\n",
              "    </tr>\n",
              "    <tr>\n",
              "      <th>11</th>\n",
              "      <td>disease_group</td>\n",
              "    </tr>\n",
              "    <tr>\n",
              "      <th>12</th>\n",
              "      <td>ABO_match</td>\n",
              "    </tr>\n",
              "    <tr>\n",
              "      <th>13</th>\n",
              "      <td>CMV_status</td>\n",
              "    </tr>\n",
              "    <tr>\n",
              "      <th>14</th>\n",
              "      <td>HLA_match</td>\n",
              "    </tr>\n",
              "    <tr>\n",
              "      <th>15</th>\n",
              "      <td>allel</td>\n",
              "    </tr>\n",
              "    <tr>\n",
              "      <th>16</th>\n",
              "      <td>HLA_group_1</td>\n",
              "    </tr>\n",
              "    <tr>\n",
              "      <th>17</th>\n",
              "      <td>risk_group</td>\n",
              "    </tr>\n",
              "    <tr>\n",
              "      <th>18</th>\n",
              "      <td>stem_cell_source</td>\n",
              "    </tr>\n",
              "    <tr>\n",
              "      <th>19</th>\n",
              "      <td>tx_post_relapse</td>\n",
              "    </tr>\n",
              "    <tr>\n",
              "      <th>20</th>\n",
              "      <td>CD34_x1e6_per_kg</td>\n",
              "    </tr>\n",
              "    <tr>\n",
              "      <th>21</th>\n",
              "      <td>CD3_x1e8_per_kg</td>\n",
              "    </tr>\n",
              "    <tr>\n",
              "      <th>22</th>\n",
              "      <td>CD3_to_CD34_ratio</td>\n",
              "    </tr>\n",
              "    <tr>\n",
              "      <th>23</th>\n",
              "      <td>ANC_recovery</td>\n",
              "    </tr>\n",
              "    <tr>\n",
              "      <th>24</th>\n",
              "      <td>PLT_recovery</td>\n",
              "    </tr>\n",
              "    <tr>\n",
              "      <th>25</th>\n",
              "      <td>time_to_acute_GvHD_III_IV</td>\n",
              "    </tr>\n",
              "    <tr>\n",
              "      <th>26</th>\n",
              "      <td>extensive_chronic_GvHD</td>\n",
              "    </tr>\n",
              "    <tr>\n",
              "      <th>27</th>\n",
              "      <td>relapse</td>\n",
              "    </tr>\n",
              "    <tr>\n",
              "      <th>28</th>\n",
              "      <td>survival_time</td>\n",
              "    </tr>\n",
              "  </tbody>\n",
              "</table>\n",
              "</div>"
            ],
            "text/plain": [
              "                            0\n",
              "0                   donor_age\n",
              "1          donor_age_below_35\n",
              "2                   donor_ABO\n",
              "3                   donor_CMV\n",
              "4               recipient_age\n",
              "5            recipient_gender\n",
              "6         recipient_body_mass\n",
              "7               recipient_ABO\n",
              "8                recipient_rh\n",
              "9               recipient_CMV\n",
              "10                    disease\n",
              "11              disease_group\n",
              "12                  ABO_match\n",
              "13                 CMV_status\n",
              "14                  HLA_match\n",
              "15                      allel\n",
              "16                HLA_group_1\n",
              "17                 risk_group\n",
              "18           stem_cell_source\n",
              "19            tx_post_relapse\n",
              "20           CD34_x1e6_per_kg\n",
              "21            CD3_x1e8_per_kg\n",
              "22          CD3_to_CD34_ratio\n",
              "23               ANC_recovery\n",
              "24               PLT_recovery\n",
              "25  time_to_acute_GvHD_III_IV\n",
              "26     extensive_chronic_GvHD\n",
              "27                    relapse\n",
              "28              survival_time"
            ]
          },
          "metadata": {},
          "execution_count": 1598
        }
      ]
    },
    {
      "cell_type": "code",
      "metadata": {
        "id": "U-4lSrgvg-hX",
        "colab": {
          "base_uri": "https://localhost:8080/",
          "height": 959
        },
        "outputId": "20c4297b-e3a3-453e-d605-87274d90c192"
      },
      "source": [
        "features_rank = pd.concat([dfcols,datascores],axis=1)\n",
        "features_rank"
      ],
      "execution_count": null,
      "outputs": [
        {
          "output_type": "execute_result",
          "data": {
            "text/html": [
              "<div>\n",
              "<style scoped>\n",
              "    .dataframe tbody tr th:only-of-type {\n",
              "        vertical-align: middle;\n",
              "    }\n",
              "\n",
              "    .dataframe tbody tr th {\n",
              "        vertical-align: top;\n",
              "    }\n",
              "\n",
              "    .dataframe thead th {\n",
              "        text-align: right;\n",
              "    }\n",
              "</style>\n",
              "<table border=\"1\" class=\"dataframe\">\n",
              "  <thead>\n",
              "    <tr style=\"text-align: right;\">\n",
              "      <th></th>\n",
              "      <th>0</th>\n",
              "      <th>Score</th>\n",
              "    </tr>\n",
              "  </thead>\n",
              "  <tbody>\n",
              "    <tr>\n",
              "      <th>0</th>\n",
              "      <td>donor_age</td>\n",
              "      <td>2.171475e+00</td>\n",
              "    </tr>\n",
              "    <tr>\n",
              "      <th>1</th>\n",
              "      <td>donor_age_below_35</td>\n",
              "      <td>1.227239e+00</td>\n",
              "    </tr>\n",
              "    <tr>\n",
              "      <th>2</th>\n",
              "      <td>donor_ABO</td>\n",
              "      <td>5.408638e-02</td>\n",
              "    </tr>\n",
              "    <tr>\n",
              "      <th>3</th>\n",
              "      <td>donor_CMV</td>\n",
              "      <td>1.183624e-01</td>\n",
              "    </tr>\n",
              "    <tr>\n",
              "      <th>4</th>\n",
              "      <td>recipient_age</td>\n",
              "      <td>1.901997e+01</td>\n",
              "    </tr>\n",
              "    <tr>\n",
              "      <th>5</th>\n",
              "      <td>recipient_gender</td>\n",
              "      <td>8.235798e-02</td>\n",
              "    </tr>\n",
              "    <tr>\n",
              "      <th>6</th>\n",
              "      <td>recipient_body_mass</td>\n",
              "      <td>1.080801e+02</td>\n",
              "    </tr>\n",
              "    <tr>\n",
              "      <th>7</th>\n",
              "      <td>recipient_ABO</td>\n",
              "      <td>1.279942e-06</td>\n",
              "    </tr>\n",
              "    <tr>\n",
              "      <th>8</th>\n",
              "      <td>recipient_rh</td>\n",
              "      <td>6.704010e-02</td>\n",
              "    </tr>\n",
              "    <tr>\n",
              "      <th>9</th>\n",
              "      <td>recipient_CMV</td>\n",
              "      <td>2.926293e-01</td>\n",
              "    </tr>\n",
              "    <tr>\n",
              "      <th>10</th>\n",
              "      <td>disease</td>\n",
              "      <td>2.466909e-02</td>\n",
              "    </tr>\n",
              "    <tr>\n",
              "      <th>11</th>\n",
              "      <td>disease_group</td>\n",
              "      <td>1.021568e+00</td>\n",
              "    </tr>\n",
              "    <tr>\n",
              "      <th>12</th>\n",
              "      <td>ABO_match</td>\n",
              "      <td>1.930693e-01</td>\n",
              "    </tr>\n",
              "    <tr>\n",
              "      <th>13</th>\n",
              "      <td>CMV_status</td>\n",
              "      <td>1.015714e+00</td>\n",
              "    </tr>\n",
              "    <tr>\n",
              "      <th>14</th>\n",
              "      <td>HLA_match</td>\n",
              "      <td>1.173456e-01</td>\n",
              "    </tr>\n",
              "    <tr>\n",
              "      <th>15</th>\n",
              "      <td>allel</td>\n",
              "      <td>2.738052e-03</td>\n",
              "    </tr>\n",
              "    <tr>\n",
              "      <th>16</th>\n",
              "      <td>HLA_group_1</td>\n",
              "      <td>1.012079e-02</td>\n",
              "    </tr>\n",
              "    <tr>\n",
              "      <th>17</th>\n",
              "      <td>risk_group</td>\n",
              "      <td>1.611646e+00</td>\n",
              "    </tr>\n",
              "    <tr>\n",
              "      <th>18</th>\n",
              "      <td>stem_cell_source</td>\n",
              "      <td>7.703490e-01</td>\n",
              "    </tr>\n",
              "    <tr>\n",
              "      <th>19</th>\n",
              "      <td>tx_post_relapse</td>\n",
              "      <td>2.493716e+00</td>\n",
              "    </tr>\n",
              "    <tr>\n",
              "      <th>20</th>\n",
              "      <td>CD34_x1e6_per_kg</td>\n",
              "      <td>3.950118e+01</td>\n",
              "    </tr>\n",
              "    <tr>\n",
              "      <th>21</th>\n",
              "      <td>CD3_x1e8_per_kg</td>\n",
              "      <td>3.065978e+01</td>\n",
              "    </tr>\n",
              "    <tr>\n",
              "      <th>22</th>\n",
              "      <td>CD3_to_CD34_ratio</td>\n",
              "      <td>2.501059e+01</td>\n",
              "    </tr>\n",
              "    <tr>\n",
              "      <th>23</th>\n",
              "      <td>ANC_recovery</td>\n",
              "      <td>4.984159e+06</td>\n",
              "    </tr>\n",
              "    <tr>\n",
              "      <th>24</th>\n",
              "      <td>PLT_recovery</td>\n",
              "      <td>1.994107e+07</td>\n",
              "    </tr>\n",
              "    <tr>\n",
              "      <th>25</th>\n",
              "      <td>time_to_acute_GvHD_III_IV</td>\n",
              "      <td>4.043804e+05</td>\n",
              "    </tr>\n",
              "    <tr>\n",
              "      <th>26</th>\n",
              "      <td>extensive_chronic_GvHD</td>\n",
              "      <td>2.986714e+00</td>\n",
              "    </tr>\n",
              "    <tr>\n",
              "      <th>27</th>\n",
              "      <td>relapse</td>\n",
              "      <td>1.605953e+01</td>\n",
              "    </tr>\n",
              "    <tr>\n",
              "      <th>28</th>\n",
              "      <td>survival_time</td>\n",
              "      <td>7.765990e+04</td>\n",
              "    </tr>\n",
              "  </tbody>\n",
              "</table>\n",
              "</div>"
            ],
            "text/plain": [
              "                            0         Score\n",
              "0                   donor_age  2.171475e+00\n",
              "1          donor_age_below_35  1.227239e+00\n",
              "2                   donor_ABO  5.408638e-02\n",
              "3                   donor_CMV  1.183624e-01\n",
              "4               recipient_age  1.901997e+01\n",
              "5            recipient_gender  8.235798e-02\n",
              "6         recipient_body_mass  1.080801e+02\n",
              "7               recipient_ABO  1.279942e-06\n",
              "8                recipient_rh  6.704010e-02\n",
              "9               recipient_CMV  2.926293e-01\n",
              "10                    disease  2.466909e-02\n",
              "11              disease_group  1.021568e+00\n",
              "12                  ABO_match  1.930693e-01\n",
              "13                 CMV_status  1.015714e+00\n",
              "14                  HLA_match  1.173456e-01\n",
              "15                      allel  2.738052e-03\n",
              "16                HLA_group_1  1.012079e-02\n",
              "17                 risk_group  1.611646e+00\n",
              "18           stem_cell_source  7.703490e-01\n",
              "19            tx_post_relapse  2.493716e+00\n",
              "20           CD34_x1e6_per_kg  3.950118e+01\n",
              "21            CD3_x1e8_per_kg  3.065978e+01\n",
              "22          CD3_to_CD34_ratio  2.501059e+01\n",
              "23               ANC_recovery  4.984159e+06\n",
              "24               PLT_recovery  1.994107e+07\n",
              "25  time_to_acute_GvHD_III_IV  4.043804e+05\n",
              "26     extensive_chronic_GvHD  2.986714e+00\n",
              "27                    relapse  1.605953e+01\n",
              "28              survival_time  7.765990e+04"
            ]
          },
          "metadata": {},
          "execution_count": 1599
        }
      ]
    },
    {
      "cell_type": "markdown",
      "metadata": {
        "id": "D8ylW9qA5_Ab"
      },
      "source": [
        ""
      ]
    },
    {
      "cell_type": "code",
      "metadata": {
        "id": "4uR4nt7QhI4h",
        "colab": {
          "base_uri": "https://localhost:8080/",
          "height": 363
        },
        "outputId": "e26cc21d-7cd5-4eae-df06-ae605535a195"
      },
      "source": [
        "features_rank.nlargest(10,'Score')"
      ],
      "execution_count": null,
      "outputs": [
        {
          "output_type": "execute_result",
          "data": {
            "text/html": [
              "<div>\n",
              "<style scoped>\n",
              "    .dataframe tbody tr th:only-of-type {\n",
              "        vertical-align: middle;\n",
              "    }\n",
              "\n",
              "    .dataframe tbody tr th {\n",
              "        vertical-align: top;\n",
              "    }\n",
              "\n",
              "    .dataframe thead th {\n",
              "        text-align: right;\n",
              "    }\n",
              "</style>\n",
              "<table border=\"1\" class=\"dataframe\">\n",
              "  <thead>\n",
              "    <tr style=\"text-align: right;\">\n",
              "      <th></th>\n",
              "      <th>0</th>\n",
              "      <th>Score</th>\n",
              "    </tr>\n",
              "  </thead>\n",
              "  <tbody>\n",
              "    <tr>\n",
              "      <th>24</th>\n",
              "      <td>PLT_recovery</td>\n",
              "      <td>1.994107e+07</td>\n",
              "    </tr>\n",
              "    <tr>\n",
              "      <th>23</th>\n",
              "      <td>ANC_recovery</td>\n",
              "      <td>4.984159e+06</td>\n",
              "    </tr>\n",
              "    <tr>\n",
              "      <th>25</th>\n",
              "      <td>time_to_acute_GvHD_III_IV</td>\n",
              "      <td>4.043804e+05</td>\n",
              "    </tr>\n",
              "    <tr>\n",
              "      <th>28</th>\n",
              "      <td>survival_time</td>\n",
              "      <td>7.765990e+04</td>\n",
              "    </tr>\n",
              "    <tr>\n",
              "      <th>6</th>\n",
              "      <td>recipient_body_mass</td>\n",
              "      <td>1.080801e+02</td>\n",
              "    </tr>\n",
              "    <tr>\n",
              "      <th>20</th>\n",
              "      <td>CD34_x1e6_per_kg</td>\n",
              "      <td>3.950118e+01</td>\n",
              "    </tr>\n",
              "    <tr>\n",
              "      <th>21</th>\n",
              "      <td>CD3_x1e8_per_kg</td>\n",
              "      <td>3.065978e+01</td>\n",
              "    </tr>\n",
              "    <tr>\n",
              "      <th>22</th>\n",
              "      <td>CD3_to_CD34_ratio</td>\n",
              "      <td>2.501059e+01</td>\n",
              "    </tr>\n",
              "    <tr>\n",
              "      <th>4</th>\n",
              "      <td>recipient_age</td>\n",
              "      <td>1.901997e+01</td>\n",
              "    </tr>\n",
              "    <tr>\n",
              "      <th>27</th>\n",
              "      <td>relapse</td>\n",
              "      <td>1.605953e+01</td>\n",
              "    </tr>\n",
              "  </tbody>\n",
              "</table>\n",
              "</div>"
            ],
            "text/plain": [
              "                            0         Score\n",
              "24               PLT_recovery  1.994107e+07\n",
              "23               ANC_recovery  4.984159e+06\n",
              "25  time_to_acute_GvHD_III_IV  4.043804e+05\n",
              "28              survival_time  7.765990e+04\n",
              "6         recipient_body_mass  1.080801e+02\n",
              "20           CD34_x1e6_per_kg  3.950118e+01\n",
              "21            CD3_x1e8_per_kg  3.065978e+01\n",
              "22          CD3_to_CD34_ratio  2.501059e+01\n",
              "4               recipient_age  1.901997e+01\n",
              "27                    relapse  1.605953e+01"
            ]
          },
          "metadata": {},
          "execution_count": 1600
        }
      ]
    },
    {
      "cell_type": "code",
      "metadata": {
        "id": "TXC50EgDhI7k"
      },
      "source": [
        "selected_columns = features_rank.nlargest(10,'Score')[0].values"
      ],
      "execution_count": null,
      "outputs": []
    },
    {
      "cell_type": "code",
      "metadata": {
        "id": "_MjnePMIhI-o",
        "colab": {
          "base_uri": "https://localhost:8080/"
        },
        "outputId": "3b56fecd-0640-459d-c104-0f2f92ec3658"
      },
      "source": [
        "selected_columns"
      ],
      "execution_count": null,
      "outputs": [
        {
          "output_type": "execute_result",
          "data": {
            "text/plain": [
              "array(['PLT_recovery', 'ANC_recovery', 'time_to_acute_GvHD_III_IV',\n",
              "       'survival_time', 'recipient_body_mass', 'CD34_x1e6_per_kg',\n",
              "       'CD3_x1e8_per_kg', 'CD3_to_CD34_ratio', 'recipient_age', 'relapse'],\n",
              "      dtype=object)"
            ]
          },
          "metadata": {},
          "execution_count": 1602
        }
      ]
    },
    {
      "cell_type": "code",
      "metadata": {
        "id": "jnj9s4_fg-kT",
        "colab": {
          "base_uri": "https://localhost:8080/",
          "height": 206
        },
        "outputId": "cf9e8e9b-4b21-48e5-8cd1-db250b04020e"
      },
      "source": [
        "X_new = data[selected_columns]\n",
        "X_new.head()"
      ],
      "execution_count": null,
      "outputs": [
        {
          "output_type": "execute_result",
          "data": {
            "text/html": [
              "<div>\n",
              "<style scoped>\n",
              "    .dataframe tbody tr th:only-of-type {\n",
              "        vertical-align: middle;\n",
              "    }\n",
              "\n",
              "    .dataframe tbody tr th {\n",
              "        vertical-align: top;\n",
              "    }\n",
              "\n",
              "    .dataframe thead th {\n",
              "        text-align: right;\n",
              "    }\n",
              "</style>\n",
              "<table border=\"1\" class=\"dataframe\">\n",
              "  <thead>\n",
              "    <tr style=\"text-align: right;\">\n",
              "      <th></th>\n",
              "      <th>PLT_recovery</th>\n",
              "      <th>ANC_recovery</th>\n",
              "      <th>time_to_acute_GvHD_III_IV</th>\n",
              "      <th>survival_time</th>\n",
              "      <th>recipient_body_mass</th>\n",
              "      <th>CD34_x1e6_per_kg</th>\n",
              "      <th>CD3_x1e8_per_kg</th>\n",
              "      <th>CD3_to_CD34_ratio</th>\n",
              "      <th>recipient_age</th>\n",
              "      <th>relapse</th>\n",
              "    </tr>\n",
              "  </thead>\n",
              "  <tbody>\n",
              "    <tr>\n",
              "      <th>0</th>\n",
              "      <td>51.0</td>\n",
              "      <td>19.0</td>\n",
              "      <td>32.0</td>\n",
              "      <td>999.0</td>\n",
              "      <td>35.0</td>\n",
              "      <td>7.20</td>\n",
              "      <td>5.38</td>\n",
              "      <td>1.338760</td>\n",
              "      <td>9.6</td>\n",
              "      <td>0</td>\n",
              "    </tr>\n",
              "    <tr>\n",
              "      <th>1</th>\n",
              "      <td>37.0</td>\n",
              "      <td>16.0</td>\n",
              "      <td>1000000.0</td>\n",
              "      <td>163.0</td>\n",
              "      <td>20.6</td>\n",
              "      <td>4.50</td>\n",
              "      <td>0.41</td>\n",
              "      <td>11.078295</td>\n",
              "      <td>4.0</td>\n",
              "      <td>1</td>\n",
              "    </tr>\n",
              "    <tr>\n",
              "      <th>2</th>\n",
              "      <td>20.0</td>\n",
              "      <td>23.0</td>\n",
              "      <td>1000000.0</td>\n",
              "      <td>435.0</td>\n",
              "      <td>23.4</td>\n",
              "      <td>7.94</td>\n",
              "      <td>0.42</td>\n",
              "      <td>19.013230</td>\n",
              "      <td>6.6</td>\n",
              "      <td>1</td>\n",
              "    </tr>\n",
              "    <tr>\n",
              "      <th>3</th>\n",
              "      <td>29.0</td>\n",
              "      <td>23.0</td>\n",
              "      <td>19.0</td>\n",
              "      <td>53.0</td>\n",
              "      <td>50.0</td>\n",
              "      <td>4.25</td>\n",
              "      <td>0.14</td>\n",
              "      <td>29.481647</td>\n",
              "      <td>18.1</td>\n",
              "      <td>0</td>\n",
              "    </tr>\n",
              "    <tr>\n",
              "      <th>4</th>\n",
              "      <td>14.0</td>\n",
              "      <td>14.0</td>\n",
              "      <td>1000000.0</td>\n",
              "      <td>2043.0</td>\n",
              "      <td>9.0</td>\n",
              "      <td>51.85</td>\n",
              "      <td>13.05</td>\n",
              "      <td>3.972255</td>\n",
              "      <td>1.3</td>\n",
              "      <td>0</td>\n",
              "    </tr>\n",
              "  </tbody>\n",
              "</table>\n",
              "</div>"
            ],
            "text/plain": [
              "   PLT_recovery  ANC_recovery  ...  recipient_age  relapse\n",
              "0          51.0          19.0  ...            9.6        0\n",
              "1          37.0          16.0  ...            4.0        1\n",
              "2          20.0          23.0  ...            6.6        1\n",
              "3          29.0          23.0  ...           18.1        0\n",
              "4          14.0          14.0  ...            1.3        0\n",
              "\n",
              "[5 rows x 10 columns]"
            ]
          },
          "metadata": {},
          "execution_count": 1603
        }
      ]
    },
    {
      "cell_type": "code",
      "metadata": {
        "id": "0SxFcSyJg-m5",
        "colab": {
          "base_uri": "https://localhost:8080/"
        },
        "outputId": "b87821c5-940e-47f7-bd3f-8ccb3a8bbbcd"
      },
      "source": [
        "len(X_new)"
      ],
      "execution_count": null,
      "outputs": [
        {
          "output_type": "execute_result",
          "data": {
            "text/plain": [
              "182"
            ]
          },
          "metadata": {},
          "execution_count": 1604
        }
      ]
    },
    {
      "cell_type": "code",
      "metadata": {
        "id": "63GxRCV7g-pg",
        "colab": {
          "base_uri": "https://localhost:8080/"
        },
        "outputId": "71149fc5-fd39-41b1-fb5f-a35e2e8f0bf6"
      },
      "source": [
        "X_new.shape"
      ],
      "execution_count": null,
      "outputs": [
        {
          "output_type": "execute_result",
          "data": {
            "text/plain": [
              "(182, 10)"
            ]
          },
          "metadata": {},
          "execution_count": 1605
        }
      ]
    },
    {
      "cell_type": "code",
      "metadata": {
        "id": "8_myv4AZgoTA"
      },
      "source": [
        "from sklearn.model_selection import train_test_split"
      ],
      "execution_count": null,
      "outputs": []
    },
    {
      "cell_type": "code",
      "metadata": {
        "id": "Bk68-KDViHcD"
      },
      "source": [
        "X_train,X_test, y_train,y_test =  train_test_split(X_new,y,random_state=109,test_size=0.25)"
      ],
      "execution_count": null,
      "outputs": []
    },
    {
      "cell_type": "code",
      "metadata": {
        "id": "lhbKUrg4iHfq"
      },
      "source": [
        ""
      ],
      "execution_count": null,
      "outputs": []
    },
    {
      "cell_type": "markdown",
      "metadata": {
        "id": "6RSHp9_9iOwy"
      },
      "source": [
        "Using XGboost classsifier"
      ]
    },
    {
      "cell_type": "code",
      "metadata": {
        "id": "DSKskMufiTAe"
      },
      "source": [
        "from sklearn.model_selection import train_test_split\n",
        "X_train, X_test, y_train, y_test = train_test_split(X_new,y,train_size=0.75)"
      ],
      "execution_count": null,
      "outputs": []
    },
    {
      "cell_type": "code",
      "metadata": {
        "colab": {
          "base_uri": "https://localhost:8080/"
        },
        "id": "-9PZn5kTiS7U",
        "outputId": "14c4415f-e063-4c49-cbd9-1e57cad2b4b1"
      },
      "source": [
        "print(X_train.shape)\n",
        "print(X_test.shape)"
      ],
      "execution_count": null,
      "outputs": [
        {
          "output_type": "stream",
          "name": "stdout",
          "text": [
            "(136, 10)\n",
            "(46, 10)\n"
          ]
        }
      ]
    },
    {
      "cell_type": "code",
      "metadata": {
        "colab": {
          "base_uri": "https://localhost:8080/"
        },
        "id": "4mVIACQmiS1Z",
        "outputId": "5ad7ac1a-429b-4fe3-e3e4-cc57275b7258"
      },
      "source": [
        "y_train.value_counts()"
      ],
      "execution_count": null,
      "outputs": [
        {
          "output_type": "execute_result",
          "data": {
            "text/plain": [
              "0    77\n",
              "1    59\n",
              "Name: survival_status, dtype: int64"
            ]
          },
          "metadata": {},
          "execution_count": 1610
        }
      ]
    },
    {
      "cell_type": "code",
      "metadata": {
        "colab": {
          "base_uri": "https://localhost:8080/"
        },
        "id": "cduDD2bHiSw3",
        "outputId": "9eaeb671-ecbd-407e-f232-01ec027da672"
      },
      "source": [
        "from xgboost import XGBClassifier\n",
        "XGBClassifier()"
      ],
      "execution_count": null,
      "outputs": [
        {
          "output_type": "execute_result",
          "data": {
            "text/plain": [
              "XGBClassifier()"
            ]
          },
          "metadata": {},
          "execution_count": 1611
        }
      ]
    },
    {
      "cell_type": "code",
      "metadata": {
        "id": "ts_tQQexiSo1"
      },
      "source": [
        "params={\n",
        " \"learning_rate\"    : [0.05, 0.20, 0.25 ] ,\n",
        " \"max_depth\"        : [ 5, 8, 10, 12],\n",
        " \"min_child_weight\" : [ 1, 3, 5, 7 ],\n",
        " \"gamma\"            : [ 0.0, 0.1, 0.2 , 0.4 ],\n",
        " \"colsample_bytree\" : [ 0.3, 0.4, 0.7 ]\n",
        "    \n",
        "}"
      ],
      "execution_count": null,
      "outputs": []
    },
    {
      "cell_type": "code",
      "metadata": {
        "id": "fisrD5iwiSly"
      },
      "source": [
        "from sklearn.model_selection import RandomizedSearchCV"
      ],
      "execution_count": null,
      "outputs": []
    },
    {
      "cell_type": "code",
      "metadata": {
        "id": "fYgMZTpAiSiQ"
      },
      "source": [
        "from xgboost import XGBClassifier\n",
        "classifier=XGBClassifier()"
      ],
      "execution_count": null,
      "outputs": []
    },
    {
      "cell_type": "code",
      "metadata": {
        "id": "hPLjJ0UXiSfN"
      },
      "source": [
        "import warnings\n",
        "from warnings import filterwarnings\n",
        "filterwarnings('ignore')"
      ],
      "execution_count": null,
      "outputs": []
    },
    {
      "cell_type": "code",
      "metadata": {
        "id": "8kgGC6fliSbz"
      },
      "source": [
        "random_search=RandomizedSearchCV(classifier,param_distributions=params,n_iter=5,scoring='roc_auc',n_jobs=-1,cv=5,verbose=3)"
      ],
      "execution_count": null,
      "outputs": []
    },
    {
      "cell_type": "code",
      "metadata": {
        "colab": {
          "base_uri": "https://localhost:8080/"
        },
        "id": "YQO_D8atiSY4",
        "outputId": "1749f0fe-f63a-4200-f776-02f8c58e361f"
      },
      "source": [
        "random_search.fit(X_train, y_train)"
      ],
      "execution_count": null,
      "outputs": [
        {
          "output_type": "stream",
          "name": "stdout",
          "text": [
            "Fitting 5 folds for each of 5 candidates, totalling 25 fits\n"
          ]
        },
        {
          "output_type": "execute_result",
          "data": {
            "text/plain": [
              "RandomizedSearchCV(cv=5, estimator=XGBClassifier(), n_iter=5, n_jobs=-1,\n",
              "                   param_distributions={'colsample_bytree': [0.3, 0.4, 0.7],\n",
              "                                        'gamma': [0.0, 0.1, 0.2, 0.4],\n",
              "                                        'learning_rate': [0.05, 0.2, 0.25],\n",
              "                                        'max_depth': [5, 8, 10, 12],\n",
              "                                        'min_child_weight': [1, 3, 5, 7]},\n",
              "                   scoring='roc_auc', verbose=3)"
            ]
          },
          "metadata": {},
          "execution_count": 1617
        }
      ]
    },
    {
      "cell_type": "code",
      "metadata": {
        "id": "_ZGfp2F1pHo2",
        "colab": {
          "base_uri": "https://localhost:8080/"
        },
        "outputId": "ad3336b7-17c1-4c11-f05f-3dd16d676891"
      },
      "source": [
        "random_search.best_estimator_"
      ],
      "execution_count": null,
      "outputs": [
        {
          "output_type": "execute_result",
          "data": {
            "text/plain": [
              "XGBClassifier(colsample_bytree=0.3, gamma=0.1, learning_rate=0.2, max_depth=8)"
            ]
          },
          "metadata": {},
          "execution_count": 1618
        }
      ]
    },
    {
      "cell_type": "code",
      "metadata": {
        "colab": {
          "base_uri": "https://localhost:8080/"
        },
        "id": "WQJ9v0Bmi7Yy",
        "outputId": "45f709af-7271-49b0-9611-a05093c7ed00"
      },
      "source": [
        "random_search.best_params_"
      ],
      "execution_count": null,
      "outputs": [
        {
          "output_type": "execute_result",
          "data": {
            "text/plain": [
              "{'colsample_bytree': 0.3,\n",
              " 'gamma': 0.1,\n",
              " 'learning_rate': 0.2,\n",
              " 'max_depth': 8,\n",
              " 'min_child_weight': 1}"
            ]
          },
          "metadata": {},
          "execution_count": 1619
        }
      ]
    },
    {
      "cell_type": "code",
      "metadata": {
        "id": "NDAxEqJTi7U5"
      },
      "source": [
        "classifier = XGBClassifier(base_score=0.5, booster='gbtree', colsample_bylevel=1,\n",
        "              colsample_bynode=1, colsample_bytree=0.3, gama=0.0, gamma=0,\n",
        "              gpu_id=0, importance_type='gain', interaction_constraints='',\n",
        "              learning_rate=0.05, max_delta_step=0, max_depth=5,\n",
        "              min_child_weight=1, monotone_constraints='0',\n",
        "              n_estimators=100, n_jobs=8, num_parallel_tree=1,\n",
        "              objective='binary:logistic', random_state=0, reg_alpha=0,\n",
        "              reg_lambda=1, scale_pos_weight=1, subsample=1,\n",
        "              tree_method='exact', use_label_encoder=True,\n",
        "              validate_parameters=1, verbosity=0)\n",
        "\n",
        "## we have got this model on the basis of cross valudation & hyper-parameter optimization"
      ],
      "execution_count": null,
      "outputs": []
    },
    {
      "cell_type": "code",
      "metadata": {
        "colab": {
          "base_uri": "https://localhost:8080/"
        },
        "id": "DMPH9nJzi7O2",
        "outputId": "a863c7a3-fb37-484d-a85e-35e77c613647"
      },
      "source": [
        "classifier.fit(X_train,y_train)"
      ],
      "execution_count": null,
      "outputs": [
        {
          "output_type": "execute_result",
          "data": {
            "text/plain": [
              "XGBClassifier(colsample_bytree=0.3, gama=0.0, gpu_id=0,\n",
              "              interaction_constraints='', learning_rate=0.05, max_depth=5,\n",
              "              monotone_constraints='0', n_jobs=8, num_parallel_tree=1,\n",
              "              tree_method='exact', use_label_encoder=True,\n",
              "              validate_parameters=1, verbosity=0)"
            ]
          },
          "metadata": {},
          "execution_count": 1621
        }
      ]
    },
    {
      "cell_type": "code",
      "metadata": {
        "id": "cfGElPI7i7LM"
      },
      "source": [
        "y_pred=classifier.predict(X_test)"
      ],
      "execution_count": null,
      "outputs": []
    },
    {
      "cell_type": "code",
      "metadata": {
        "id": "bgpvH0AjjazC"
      },
      "source": [
        "from sklearn.metrics import confusion_matrix,accuracy_score"
      ],
      "execution_count": null,
      "outputs": []
    },
    {
      "cell_type": "code",
      "metadata": {
        "colab": {
          "base_uri": "https://localhost:8080/"
        },
        "id": "ylaJ1ZiajawA",
        "outputId": "d0c6bfe8-978f-41b3-9d85-39c4bb4f9615"
      },
      "source": [
        "confusion = confusion_matrix(y_test, y_pred)\n",
        "print('Confusion Matrix:')\n",
        "print(confusion)"
      ],
      "execution_count": null,
      "outputs": [
        {
          "output_type": "stream",
          "name": "stdout",
          "text": [
            "Confusion Matrix:\n",
            "[[24  0]\n",
            " [ 3 19]]\n"
          ]
        }
      ]
    },
    {
      "cell_type": "code",
      "metadata": {
        "colab": {
          "base_uri": "https://localhost:8080/",
          "height": 286
        },
        "id": "q8UvutLIjasT",
        "outputId": "73da0c12-2fef-4cea-990d-0bbded329edb"
      },
      "source": [
        "plt.imshow(confusion)"
      ],
      "execution_count": null,
      "outputs": [
        {
          "output_type": "execute_result",
          "data": {
            "text/plain": [
              "<matplotlib.image.AxesImage at 0x7f00606ef490>"
            ]
          },
          "metadata": {},
          "execution_count": 1625
        },
        {
          "output_type": "display_data",
          "data": {
            "image/png": "[encoded data removed]",
            "text/plain": [
              "<Figure size 432x288 with 1 Axes>"
            ]
          },
          "metadata": {
            "needs_background": "light"
          }
        }
      ]
    },
    {
      "cell_type": "code",
      "metadata": {
        "colab": {
          "base_uri": "https://localhost:8080/"
        },
        "id": "J96ftyyejaov",
        "outputId": "7b399ea6-0580-439c-99ea-27f5b00b27e3"
      },
      "source": [
        "#######From XGboost accuracy\n",
        "accuracy_score(y_test, y_pred)"
      ],
      "execution_count": null,
      "outputs": [
        {
          "output_type": "execute_result",
          "data": {
            "text/plain": [
              "0.9347826086956522"
            ]
          },
          "metadata": {},
          "execution_count": 1626
        }
      ]
    },
    {
      "cell_type": "code",
      "metadata": {
        "id": "GmMeTinZjag2"
      },
      "source": [
        ""
      ],
      "execution_count": null,
      "outputs": []
    },
    {
      "cell_type": "markdown",
      "metadata": {
        "id": "w3bOCsxZGwOP"
      },
      "source": [
        "Using LInear Regression"
      ]
    },
    {
      "cell_type": "code",
      "metadata": {
        "id": "eH6T_XszpHrr"
      },
      "source": [
        "\n",
        "from sklearn.linear_model import Lasso\n",
        "from sklearn.feature_selection import SelectFromModel\n"
      ],
      "execution_count": null,
      "outputs": []
    },
    {
      "cell_type": "code",
      "metadata": {
        "id": "evMKHc4mpH0x",
        "colab": {
          "base_uri": "https://localhost:8080/"
        },
        "outputId": "0e4e5730-fa75-4fd3-b1a6-985e141b4092"
      },
      "source": [
        "feature_sel_model = SelectFromModel(Lasso(alpha=0.005, random_state=0)) # remember to set the seed, the random state in this function\n",
        "feature_sel_model.fit(X,y)"
      ],
      "execution_count": null,
      "outputs": [
        {
          "output_type": "execute_result",
          "data": {
            "text/plain": [
              "SelectFromModel(estimator=Lasso(alpha=0.005, random_state=0))"
            ]
          },
          "metadata": {},
          "execution_count": 1628
        }
      ]
    },
    {
      "cell_type": "code",
      "metadata": {
        "id": "sv6raJZcpH4C",
        "colab": {
          "base_uri": "https://localhost:8080/"
        },
        "outputId": "b1ea6fcc-e62f-451e-8c5b-13a0ddefbd0a"
      },
      "source": [
        "feature_sel_model.get_support()"
      ],
      "execution_count": null,
      "outputs": [
        {
          "output_type": "execute_result",
          "data": {
            "text/plain": [
              "array([ True,  True,  True,  True,  True,  True,  True,  True,  True,\n",
              "        True,  True,  True,  True,  True,  True,  True,  True,  True,\n",
              "        True,  True,  True,  True,  True, False, False, False,  True,\n",
              "        True,  True])"
            ]
          },
          "metadata": {},
          "execution_count": 1629
        }
      ]
    },
    {
      "cell_type": "code",
      "metadata": {
        "id": "qMARYECIpH7M"
      },
      "source": [
        "cols=X.columns"
      ],
      "execution_count": null,
      "outputs": []
    },
    {
      "cell_type": "code",
      "metadata": {
        "id": "8EvgHiyepH-O"
      },
      "source": [
        "selected_feat = cols[(feature_sel_model.get_support())]"
      ],
      "execution_count": null,
      "outputs": []
    },
    {
      "cell_type": "code",
      "metadata": {
        "colab": {
          "base_uri": "https://localhost:8080/"
        },
        "id": "nJVGtL5zvaa9",
        "outputId": "f5bdf961-668b-4720-ab58-4b91bbea5432"
      },
      "source": [
        "selected_feat"
      ],
      "execution_count": null,
      "outputs": [
        {
          "output_type": "execute_result",
          "data": {
            "text/plain": [
              "Index(['donor_age', 'donor_age_below_35', 'donor_ABO', 'donor_CMV',\n",
              "       'recipient_age', 'recipient_gender', 'recipient_body_mass',\n",
              "       'recipient_ABO', 'recipient_rh', 'recipient_CMV', 'disease',\n",
              "       'disease_group', 'ABO_match', 'CMV_status', 'HLA_match', 'allel',\n",
              "       'HLA_group_1', 'risk_group', 'stem_cell_source', 'tx_post_relapse',\n",
              "       'CD34_x1e6_per_kg', 'CD3_x1e8_per_kg', 'CD3_to_CD34_ratio',\n",
              "       'extensive_chronic_GvHD', 'relapse', 'survival_time'],\n",
              "      dtype='object')"
            ]
          },
          "metadata": {},
          "execution_count": 1632
        }
      ]
    },
    {
      "cell_type": "code",
      "metadata": {
        "id": "x7rz0QAjpIBX",
        "colab": {
          "base_uri": "https://localhost:8080/"
        },
        "outputId": "66d0a026-8020-4e10-9aee-175f5e70e4b6"
      },
      "source": [
        "# let's print some stats\n",
        "print('total features: {}'.format((X.shape[1])))\n",
        "print('selected features: {}'.format(len(selected_feat)))"
      ],
      "execution_count": null,
      "outputs": [
        {
          "output_type": "stream",
          "name": "stdout",
          "text": [
            "total features: 29\n",
            "selected features: 26\n"
          ]
        }
      ]
    },
    {
      "cell_type": "code",
      "metadata": {
        "id": "8-Wc7PA2pIEI",
        "colab": {
          "base_uri": "https://localhost:8080/"
        },
        "outputId": "5f6de8ee-8180-450c-f20f-b9ba11032057"
      },
      "source": [
        "# let's print some stats\n",
        "print('total features: {}'.format((X.shape[1])))\n",
        "print('selected features: {}'.format(len(selected_feat)))"
      ],
      "execution_count": null,
      "outputs": [
        {
          "output_type": "stream",
          "name": "stdout",
          "text": [
            "total features: 29\n",
            "selected features: 26\n"
          ]
        }
      ]
    },
    {
      "cell_type": "code",
      "metadata": {
        "id": "waUevvAApIHz"
      },
      "source": [
        "X=X[selected_feat]"
      ],
      "execution_count": null,
      "outputs": []
    },
    {
      "cell_type": "code",
      "metadata": {
        "id": "Po7RAJq0g9pE"
      },
      "source": [
        "\n",
        "from sklearn.model_selection import train_test_split\n",
        "X_train,X_test,y_train,y_test=train_test_split(X,y,train_size=0.75,random_state=0)"
      ],
      "execution_count": null,
      "outputs": []
    },
    {
      "cell_type": "code",
      "metadata": {
        "colab": {
          "base_uri": "https://localhost:8080/"
        },
        "id": "ODP4Z-pXg9mS",
        "outputId": "4c8e9c31-7ce0-4cdd-c802-0386b6578670"
      },
      "source": [
        "from sklearn.linear_model import LogisticRegression\n",
        "logreg=LogisticRegression()\n",
        "logreg.fit(X_train,y_train)"
      ],
      "execution_count": null,
      "outputs": [
        {
          "output_type": "execute_result",
          "data": {
            "text/plain": [
              "LogisticRegression()"
            ]
          },
          "metadata": {},
          "execution_count": 1637
        }
      ]
    },
    {
      "cell_type": "code",
      "metadata": {
        "id": "iFTruSu9g9iy"
      },
      "source": [
        "y_pred=logreg.predict(X_test)"
      ],
      "execution_count": null,
      "outputs": []
    },
    {
      "cell_type": "code",
      "metadata": {
        "colab": {
          "base_uri": "https://localhost:8080/"
        },
        "id": "qvNzqyZMg9fo",
        "outputId": "2addd887-f981-4375-9cb6-2cb22069fed4"
      },
      "source": [
        "from sklearn.metrics import confusion_matrix\n",
        "cm=confusion_matrix(y_test,y_pred)\n",
        "cm"
      ],
      "execution_count": null,
      "outputs": [
        {
          "output_type": "execute_result",
          "data": {
            "text/plain": [
              "array([[27,  1],\n",
              "       [ 4, 14]])"
            ]
          },
          "metadata": {},
          "execution_count": 1639
        }
      ]
    },
    {
      "cell_type": "code",
      "metadata": {
        "colab": {
          "base_uri": "https://localhost:8080/"
        },
        "id": "VDP_HoVXg9cB",
        "outputId": "360275e6-50bb-490c-f582-bb0381fffb38"
      },
      "source": [
        "###########From Linear regression\n",
        "from sklearn.metrics import accuracy_score\n",
        "score=accuracy_score(y_test,y_pred)\n",
        "score"
      ],
      "execution_count": null,
      "outputs": [
        {
          "output_type": "execute_result",
          "data": {
            "text/plain": [
              "0.8913043478260869"
            ]
          },
          "metadata": {},
          "execution_count": 1640
        }
      ]
    },
    {
      "cell_type": "code",
      "metadata": {
        "id": "zgLKoVVXg9Yf"
      },
      "source": [
        ""
      ],
      "execution_count": null,
      "outputs": []
    },
    {
      "cell_type": "markdown",
      "metadata": {
        "id": "RdEVT-axkL7I"
      },
      "source": [
        "Cross Validation with other models \n"
      ]
    },
    {
      "cell_type": "code",
      "metadata": {
        "id": "l5noFCflg9Ux"
      },
      "source": [
        "from sklearn.model_selection import cross_val_score\n",
        "score=cross_val_score(logreg,X,y,cv=10)"
      ],
      "execution_count": null,
      "outputs": []
    },
    {
      "cell_type": "code",
      "metadata": {
        "colab": {
          "base_uri": "https://localhost:8080/"
        },
        "id": "NxEYbHjLkeFk",
        "outputId": "5838a0fe-a15d-482e-824b-56ea0cffb913"
      },
      "source": [
        "score"
      ],
      "execution_count": null,
      "outputs": [
        {
          "output_type": "execute_result",
          "data": {
            "text/plain": [
              "array([0.94736842, 1.        , 1.        , 1.        , 0.83333333,\n",
              "       0.83333333, 0.94444444, 0.88888889, 1.        , 0.88888889])"
            ]
          },
          "metadata": {},
          "execution_count": 1642
        }
      ]
    },
    {
      "cell_type": "code",
      "metadata": {
        "colab": {
          "base_uri": "https://localhost:8080/"
        },
        "id": "8m8jUXypkfz0",
        "outputId": "dc36a093-9e99-4132-89c1-54b0d97e1893"
      },
      "source": [
        "score.mean()"
      ],
      "execution_count": null,
      "outputs": [
        {
          "output_type": "execute_result",
          "data": {
            "text/plain": [
              "0.9336257309941521"
            ]
          },
          "metadata": {},
          "execution_count": 1643
        }
      ]
    },
    {
      "cell_type": "code",
      "metadata": {
        "id": "9IyFoH97khVM"
      },
      "source": [
        "#fit naive bayes\n",
        "from sklearn.naive_bayes import GaussianNB\n",
        "from sklearn.linear_model import LogisticRegression\n",
        "from sklearn.neighbors import KNeighborsClassifier\n",
        "from sklearn.ensemble import RandomForestClassifier\n",
        "from sklearn.tree import DecisionTreeClassifier"
      ],
      "execution_count": null,
      "outputs": []
    },
    {
      "cell_type": "code",
      "metadata": {
        "id": "KPGJKid8klVQ"
      },
      "source": [
        "### classifier models\n",
        "models = []\n",
        "models.append(('LogisticRegression', LogisticRegression()))\n",
        "models.append(('Naive Bayes',GaussianNB()))\n",
        "models.append(('RandomForest', RandomForestClassifier()))\n",
        "models.append(('Decision Tree', DecisionTreeClassifier()))\n",
        "models.append(('KNN', KNeighborsClassifier(n_neighbors = 5)))"
      ],
      "execution_count": null,
      "outputs": []
    },
    {
      "cell_type": "code",
      "metadata": {
        "colab": {
          "base_uri": "https://localhost:8080/"
        },
        "id": "wlCiaoA0kpxk",
        "outputId": "d2e0a7a4-4e1b-4dcc-9982-de64cb32234d"
      },
      "source": [
        "for name, model in models:\n",
        "    print(name)\n",
        "    model.fit(x_train, y_train)\n",
        "    \n",
        "    # Make predictions.\n",
        "    predictions = model.predict(x_test)\n",
        "\n",
        "    # Compute the error.\n",
        "    from sklearn.metrics import confusion_matrix\n",
        "    print(confusion_matrix(predictions, y_test))\n",
        "\n",
        "    from sklearn.metrics import accuracy_score\n",
        "    print(accuracy_score(predictions,y_test))\n",
        "    print('\\n')"
      ],
      "execution_count": null,
      "outputs": [
        {
          "output_type": "stream",
          "name": "stdout",
          "text": [
            "LogisticRegression\n",
            "[[27  4]\n",
            " [ 1 14]]\n",
            "0.8913043478260869\n",
            "\n",
            "\n",
            "Naive Bayes\n",
            "[[26  6]\n",
            " [ 2 12]]\n",
            "0.8260869565217391\n",
            "\n",
            "\n",
            "RandomForest\n",
            "[[27  4]\n",
            " [ 1 14]]\n",
            "0.8913043478260869\n",
            "\n",
            "\n",
            "Decision Tree\n",
            "[[24  3]\n",
            " [ 4 15]]\n",
            "0.8478260869565217\n",
            "\n",
            "\n",
            "KNN\n",
            "[[28  3]\n",
            " [ 0 15]]\n",
            "0.9347826086956522\n",
            "\n",
            "\n"
          ]
        }
      ]
    },
    {
      "cell_type": "code",
      "metadata": {
        "id": "NxTWc-8sEkaJ"
      },
      "source": [
        "##########Cross Validation#### of Accuracy########"
      ],
      "execution_count": null,
      "outputs": []
    },
    {
      "cell_type": "code",
      "metadata": {
        "id": "AvlIAR5nxMtR"
      },
      "source": [
        ""
      ],
      "execution_count": null,
      "outputs": []
    },
    {
      "cell_type": "markdown",
      "metadata": {
        "id": "bdgxMcU6F3UW"
      },
      "source": [
        "MOdel Accuracy: \n",
        "\n",
        "1.   XgbClasifier: 93%\n",
        "2.   Logistic Regression: 89%\n",
        "3.   Naive Bayes:85%\n",
        "4.   RandomForest: 89%\n",
        "5.   Decision Tree: 84%\n",
        "6.   KNN: 93%\n",
        "\n"
      ]
    },
    {
      "cell_type": "code",
      "metadata": {
        "id": "4o90uCp7F6Ic"
      },
      "source": [
        ""
      ],
      "execution_count": null,
      "outputs": []
    }
  ]
}